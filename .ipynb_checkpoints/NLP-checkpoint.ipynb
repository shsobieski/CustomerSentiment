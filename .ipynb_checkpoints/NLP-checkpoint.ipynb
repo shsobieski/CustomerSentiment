{
 "cells": [
  {
   "cell_type": "markdown",
   "metadata": {},
   "source": [
    "# Product Sentiment Classifier\n",
    "\n",
    "## Data Cleaning and EDA\n",
    "Import necessary libraries"
   ]
  },
  {
   "cell_type": "code",
   "execution_count": 1,
   "metadata": {
    "ExecuteTime": {
     "end_time": "2020-06-30T20:48:35.244383Z",
     "start_time": "2020-06-30T20:48:33.380775Z"
    }
   },
   "outputs": [
    {
     "name": "stderr",
     "output_type": "stream",
     "text": [
      "/Users/will4856/opt/anaconda3/envs/learn-env/lib/python3.6/site-packages/sklearn/externals/six.py:31: DeprecationWarning: The module is deprecated in version 0.21 and will be removed in version 0.23 since we've dropped support for Python 2.7. Please rely on the official version of six (https://pypi.org/project/six/).\n",
      "  \"(https://pypi.org/project/six/).\", DeprecationWarning)\n"
     ]
    }
   ],
   "source": [
    "import pandas as pd\n",
    "import re\n",
    "import numpy as np\n",
    "import nltk\n",
    "from nltk import word_tokenize\n",
    "from nltk.stem.wordnet import WordNetLemmatizer\n",
    "from nltk import FreqDist\n",
    "from nltk.corpus import stopwords\n",
    "from nltk.collocations import *\n",
    "from sklearn.model_selection import train_test_split, GridSearchCV\n",
    "from sklearn.linear_model import LogisticRegression\n",
    "from sklearn.svm import SVC\n",
    "from sklearn.metrics import accuracy_score, classification_report, confusion_matrix\n",
    "from xgboost import XGBClassifier\n",
    "from sklearn.metrics import (classification_report, confusion_matrix)\n",
    "from sklearn.feature_extraction.text import CountVectorizer, TfidfVectorizer\n",
    "from sklearn.ensemble import RandomForestClassifier\n",
    "import matplotlib.pyplot as plt\n",
    "import seaborn as sns\n",
    "import string\n",
    "from sklearn.pipeline import make_pipeline\n",
    "from imblearn.over_sampling import SMOTE\n",
    "%matplotlib inline\n",
    "\n",
    "%run -i \"clean_lemmatize_token.py\"\n",
    "%run -i \"report.py\""
   ]
  },
  {
   "cell_type": "markdown",
   "metadata": {},
   "source": [
    "Import data from data.world."
   ]
  },
  {
   "cell_type": "code",
   "execution_count": 2,
   "metadata": {
    "ExecuteTime": {
     "end_time": "2020-06-30T20:48:36.429975Z",
     "start_time": "2020-06-30T20:48:35.246878Z"
    },
    "scrolled": true
   },
   "outputs": [
    {
     "data": {
      "text/html": [
       "<div>\n",
       "<style scoped>\n",
       "    .dataframe tbody tr th:only-of-type {\n",
       "        vertical-align: middle;\n",
       "    }\n",
       "\n",
       "    .dataframe tbody tr th {\n",
       "        vertical-align: top;\n",
       "    }\n",
       "\n",
       "    .dataframe thead th {\n",
       "        text-align: right;\n",
       "    }\n",
       "</style>\n",
       "<table border=\"1\" class=\"dataframe\">\n",
       "  <thead>\n",
       "    <tr style=\"text-align: right;\">\n",
       "      <th></th>\n",
       "      <th>tweet_text</th>\n",
       "      <th>emotion_in_tweet_is_directed_at</th>\n",
       "      <th>is_there_an_emotion_directed_at_a_brand_or_product</th>\n",
       "    </tr>\n",
       "  </thead>\n",
       "  <tbody>\n",
       "    <tr>\n",
       "      <td>0</td>\n",
       "      <td>.@wesley83 I have a 3G iPhone. After 3 hrs twe...</td>\n",
       "      <td>iPhone</td>\n",
       "      <td>Negative emotion</td>\n",
       "    </tr>\n",
       "    <tr>\n",
       "      <td>1</td>\n",
       "      <td>@jessedee Know about @fludapp ? Awesome iPad/i...</td>\n",
       "      <td>iPad or iPhone App</td>\n",
       "      <td>Positive emotion</td>\n",
       "    </tr>\n",
       "    <tr>\n",
       "      <td>2</td>\n",
       "      <td>@swonderlin Can not wait for #iPad 2 also. The...</td>\n",
       "      <td>iPad</td>\n",
       "      <td>Positive emotion</td>\n",
       "    </tr>\n",
       "    <tr>\n",
       "      <td>3</td>\n",
       "      <td>@sxsw I hope this year's festival isn't as cra...</td>\n",
       "      <td>iPad or iPhone App</td>\n",
       "      <td>Negative emotion</td>\n",
       "    </tr>\n",
       "    <tr>\n",
       "      <td>4</td>\n",
       "      <td>@sxtxstate great stuff on Fri #SXSW: Marissa M...</td>\n",
       "      <td>Google</td>\n",
       "      <td>Positive emotion</td>\n",
       "    </tr>\n",
       "  </tbody>\n",
       "</table>\n",
       "</div>"
      ],
      "text/plain": [
       "                                          tweet_text  \\\n",
       "0  .@wesley83 I have a 3G iPhone. After 3 hrs twe...   \n",
       "1  @jessedee Know about @fludapp ? Awesome iPad/i...   \n",
       "2  @swonderlin Can not wait for #iPad 2 also. The...   \n",
       "3  @sxsw I hope this year's festival isn't as cra...   \n",
       "4  @sxtxstate great stuff on Fri #SXSW: Marissa M...   \n",
       "\n",
       "  emotion_in_tweet_is_directed_at  \\\n",
       "0                          iPhone   \n",
       "1              iPad or iPhone App   \n",
       "2                            iPad   \n",
       "3              iPad or iPhone App   \n",
       "4                          Google   \n",
       "\n",
       "  is_there_an_emotion_directed_at_a_brand_or_product  \n",
       "0                                   Negative emotion  \n",
       "1                                   Positive emotion  \n",
       "2                                   Positive emotion  \n",
       "3                                   Negative emotion  \n",
       "4                                   Positive emotion  "
      ]
     },
     "execution_count": 2,
     "metadata": {},
     "output_type": "execute_result"
    }
   ],
   "source": [
    "df = pd.read_csv('https://query.data.world/s/zbehvjkmiewbkln44rae6iphum4v3g', \n",
    "                 encoding = \"ISO-8859-1\")\n",
    "df.head()"
   ]
  },
  {
   "cell_type": "markdown",
   "metadata": {},
   "source": [
    "Rename columns"
   ]
  },
  {
   "cell_type": "code",
   "execution_count": 3,
   "metadata": {
    "ExecuteTime": {
     "end_time": "2020-06-30T20:48:36.445646Z",
     "start_time": "2020-06-30T20:48:36.432742Z"
    }
   },
   "outputs": [
    {
     "data": {
      "text/html": [
       "<div>\n",
       "<style scoped>\n",
       "    .dataframe tbody tr th:only-of-type {\n",
       "        vertical-align: middle;\n",
       "    }\n",
       "\n",
       "    .dataframe tbody tr th {\n",
       "        vertical-align: top;\n",
       "    }\n",
       "\n",
       "    .dataframe thead th {\n",
       "        text-align: right;\n",
       "    }\n",
       "</style>\n",
       "<table border=\"1\" class=\"dataframe\">\n",
       "  <thead>\n",
       "    <tr style=\"text-align: right;\">\n",
       "      <th></th>\n",
       "      <th>tweet_text</th>\n",
       "      <th>brand_product</th>\n",
       "      <th>sentiment</th>\n",
       "    </tr>\n",
       "  </thead>\n",
       "  <tbody>\n",
       "    <tr>\n",
       "      <td>0</td>\n",
       "      <td>.@wesley83 I have a 3G iPhone. After 3 hrs twe...</td>\n",
       "      <td>iPhone</td>\n",
       "      <td>Negative emotion</td>\n",
       "    </tr>\n",
       "    <tr>\n",
       "      <td>1</td>\n",
       "      <td>@jessedee Know about @fludapp ? Awesome iPad/i...</td>\n",
       "      <td>iPad or iPhone App</td>\n",
       "      <td>Positive emotion</td>\n",
       "    </tr>\n",
       "    <tr>\n",
       "      <td>2</td>\n",
       "      <td>@swonderlin Can not wait for #iPad 2 also. The...</td>\n",
       "      <td>iPad</td>\n",
       "      <td>Positive emotion</td>\n",
       "    </tr>\n",
       "    <tr>\n",
       "      <td>3</td>\n",
       "      <td>@sxsw I hope this year's festival isn't as cra...</td>\n",
       "      <td>iPad or iPhone App</td>\n",
       "      <td>Negative emotion</td>\n",
       "    </tr>\n",
       "    <tr>\n",
       "      <td>4</td>\n",
       "      <td>@sxtxstate great stuff on Fri #SXSW: Marissa M...</td>\n",
       "      <td>Google</td>\n",
       "      <td>Positive emotion</td>\n",
       "    </tr>\n",
       "  </tbody>\n",
       "</table>\n",
       "</div>"
      ],
      "text/plain": [
       "                                          tweet_text       brand_product  \\\n",
       "0  .@wesley83 I have a 3G iPhone. After 3 hrs twe...              iPhone   \n",
       "1  @jessedee Know about @fludapp ? Awesome iPad/i...  iPad or iPhone App   \n",
       "2  @swonderlin Can not wait for #iPad 2 also. The...                iPad   \n",
       "3  @sxsw I hope this year's festival isn't as cra...  iPad or iPhone App   \n",
       "4  @sxtxstate great stuff on Fri #SXSW: Marissa M...              Google   \n",
       "\n",
       "          sentiment  \n",
       "0  Negative emotion  \n",
       "1  Positive emotion  \n",
       "2  Positive emotion  \n",
       "3  Negative emotion  \n",
       "4  Positive emotion  "
      ]
     },
     "execution_count": 3,
     "metadata": {},
     "output_type": "execute_result"
    }
   ],
   "source": [
    "df=df.rename(columns = {'emotion_in_tweet_is_directed_at':\n",
    "                        'brand_product',\n",
    "                        'is_there_an_emotion_directed_at_a_brand_or_product':\n",
    "                        'sentiment'})\n",
    "df.head()"
   ]
  },
  {
   "cell_type": "markdown",
   "metadata": {},
   "source": [
    "Explored data set with info() method. 1 NaN value present in tweet_text column and ~6,000 in brand_product column. Will need to address prior to modeling"
   ]
  },
  {
   "cell_type": "code",
   "execution_count": 4,
   "metadata": {
    "ExecuteTime": {
     "end_time": "2020-06-30T20:48:36.455921Z",
     "start_time": "2020-06-30T20:48:36.448302Z"
    }
   },
   "outputs": [
    {
     "name": "stdout",
     "output_type": "stream",
     "text": [
      "<class 'pandas.core.frame.DataFrame'>\n",
      "RangeIndex: 9093 entries, 0 to 9092\n",
      "Data columns (total 3 columns):\n",
      "tweet_text       9092 non-null object\n",
      "brand_product    3291 non-null object\n",
      "sentiment        9093 non-null object\n",
      "dtypes: object(3)\n",
      "memory usage: 213.2+ KB\n"
     ]
    }
   ],
   "source": [
    "df.info()"
   ]
  },
  {
   "cell_type": "markdown",
   "metadata": {},
   "source": [
    "Remove NaN tweet_text from DataFrame"
   ]
  },
  {
   "cell_type": "code",
   "execution_count": 5,
   "metadata": {
    "ExecuteTime": {
     "end_time": "2020-06-30T20:48:36.469950Z",
     "start_time": "2020-06-30T20:48:36.458311Z"
    }
   },
   "outputs": [
    {
     "data": {
      "text/html": [
       "<div>\n",
       "<style scoped>\n",
       "    .dataframe tbody tr th:only-of-type {\n",
       "        vertical-align: middle;\n",
       "    }\n",
       "\n",
       "    .dataframe tbody tr th {\n",
       "        vertical-align: top;\n",
       "    }\n",
       "\n",
       "    .dataframe thead th {\n",
       "        text-align: right;\n",
       "    }\n",
       "</style>\n",
       "<table border=\"1\" class=\"dataframe\">\n",
       "  <thead>\n",
       "    <tr style=\"text-align: right;\">\n",
       "      <th></th>\n",
       "      <th>tweet_text</th>\n",
       "      <th>brand_product</th>\n",
       "      <th>sentiment</th>\n",
       "    </tr>\n",
       "  </thead>\n",
       "  <tbody>\n",
       "    <tr>\n",
       "      <td>6</td>\n",
       "      <td>NaN</td>\n",
       "      <td>NaN</td>\n",
       "      <td>No emotion toward brand or product</td>\n",
       "    </tr>\n",
       "  </tbody>\n",
       "</table>\n",
       "</div>"
      ],
      "text/plain": [
       "  tweet_text brand_product                           sentiment\n",
       "6        NaN           NaN  No emotion toward brand or product"
      ]
     },
     "execution_count": 5,
     "metadata": {},
     "output_type": "execute_result"
    }
   ],
   "source": [
    "df[df['tweet_text'].isna()]"
   ]
  },
  {
   "cell_type": "code",
   "execution_count": 6,
   "metadata": {
    "ExecuteTime": {
     "end_time": "2020-06-30T20:48:36.477891Z",
     "start_time": "2020-06-30T20:48:36.472570Z"
    }
   },
   "outputs": [],
   "source": [
    "df.drop(inplace= True, index=6)"
   ]
  },
  {
   "cell_type": "markdown",
   "metadata": {},
   "source": [
    "### Exploration\n",
    "Explored Sentiment category. Most tweets are marked as having No emotion which will not help initial binary classification model. Most data in data set will only be usuable when model is built to take into account neutral sentiment"
   ]
  },
  {
   "cell_type": "code",
   "execution_count": 7,
   "metadata": {
    "ExecuteTime": {
     "end_time": "2020-06-30T20:48:36.494747Z",
     "start_time": "2020-06-30T20:48:36.480139Z"
    }
   },
   "outputs": [
    {
     "data": {
      "text/html": [
       "<div>\n",
       "<style scoped>\n",
       "    .dataframe tbody tr th:only-of-type {\n",
       "        vertical-align: middle;\n",
       "    }\n",
       "\n",
       "    .dataframe tbody tr th {\n",
       "        vertical-align: top;\n",
       "    }\n",
       "\n",
       "    .dataframe thead th {\n",
       "        text-align: right;\n",
       "    }\n",
       "</style>\n",
       "<table border=\"1\" class=\"dataframe\">\n",
       "  <thead>\n",
       "    <tr style=\"text-align: right;\">\n",
       "      <th></th>\n",
       "      <th>tweet_text</th>\n",
       "      <th>brand_product</th>\n",
       "    </tr>\n",
       "    <tr>\n",
       "      <th>sentiment</th>\n",
       "      <th></th>\n",
       "      <th></th>\n",
       "    </tr>\n",
       "  </thead>\n",
       "  <tbody>\n",
       "    <tr>\n",
       "      <td>I can't tell</td>\n",
       "      <td>156</td>\n",
       "      <td>9</td>\n",
       "    </tr>\n",
       "    <tr>\n",
       "      <td>Negative emotion</td>\n",
       "      <td>570</td>\n",
       "      <td>519</td>\n",
       "    </tr>\n",
       "    <tr>\n",
       "      <td>No emotion toward brand or product</td>\n",
       "      <td>5388</td>\n",
       "      <td>91</td>\n",
       "    </tr>\n",
       "    <tr>\n",
       "      <td>Positive emotion</td>\n",
       "      <td>2978</td>\n",
       "      <td>2672</td>\n",
       "    </tr>\n",
       "  </tbody>\n",
       "</table>\n",
       "</div>"
      ],
      "text/plain": [
       "                                    tweet_text  brand_product\n",
       "sentiment                                                    \n",
       "I can't tell                               156              9\n",
       "Negative emotion                           570            519\n",
       "No emotion toward brand or product        5388             91\n",
       "Positive emotion                          2978           2672"
      ]
     },
     "execution_count": 7,
     "metadata": {},
     "output_type": "execute_result"
    }
   ],
   "source": [
    "df.groupby('sentiment').count()"
   ]
  },
  {
   "cell_type": "code",
   "execution_count": 8,
   "metadata": {
    "ExecuteTime": {
     "end_time": "2020-06-30T20:48:36.512715Z",
     "start_time": "2020-06-30T20:48:36.499641Z"
    }
   },
   "outputs": [
    {
     "data": {
      "text/html": [
       "<div>\n",
       "<style scoped>\n",
       "    .dataframe tbody tr th:only-of-type {\n",
       "        vertical-align: middle;\n",
       "    }\n",
       "\n",
       "    .dataframe tbody tr th {\n",
       "        vertical-align: top;\n",
       "    }\n",
       "\n",
       "    .dataframe thead th {\n",
       "        text-align: right;\n",
       "    }\n",
       "</style>\n",
       "<table border=\"1\" class=\"dataframe\">\n",
       "  <thead>\n",
       "    <tr style=\"text-align: right;\">\n",
       "      <th></th>\n",
       "      <th>tweet_text</th>\n",
       "      <th>brand_product</th>\n",
       "      <th>sentiment</th>\n",
       "    </tr>\n",
       "  </thead>\n",
       "  <tbody>\n",
       "    <tr>\n",
       "      <td>90</td>\n",
       "      <td>Thanks to @mention for publishing the news of ...</td>\n",
       "      <td>NaN</td>\n",
       "      <td>I can't tell</td>\n",
       "    </tr>\n",
       "    <tr>\n",
       "      <td>102</td>\n",
       "      <td>ÛÏ@mention &amp;quot;Apple has opened a pop-up st...</td>\n",
       "      <td>NaN</td>\n",
       "      <td>I can't tell</td>\n",
       "    </tr>\n",
       "    <tr>\n",
       "      <td>237</td>\n",
       "      <td>Just what America needs. RT @mention Google to...</td>\n",
       "      <td>NaN</td>\n",
       "      <td>I can't tell</td>\n",
       "    </tr>\n",
       "    <tr>\n",
       "      <td>341</td>\n",
       "      <td>The queue at the Apple Store in Austin is FOUR...</td>\n",
       "      <td>NaN</td>\n",
       "      <td>I can't tell</td>\n",
       "    </tr>\n",
       "    <tr>\n",
       "      <td>368</td>\n",
       "      <td>Hope it's better than wave RT @mention Buzz is...</td>\n",
       "      <td>NaN</td>\n",
       "      <td>I can't tell</td>\n",
       "    </tr>\n",
       "    <tr>\n",
       "      <td>...</td>\n",
       "      <td>...</td>\n",
       "      <td>...</td>\n",
       "      <td>...</td>\n",
       "    </tr>\n",
       "    <tr>\n",
       "      <td>9020</td>\n",
       "      <td>It's funny watching a room full of people hold...</td>\n",
       "      <td>NaN</td>\n",
       "      <td>I can't tell</td>\n",
       "    </tr>\n",
       "    <tr>\n",
       "      <td>9032</td>\n",
       "      <td>@mention yeah, we have @mention , Google has n...</td>\n",
       "      <td>NaN</td>\n",
       "      <td>I can't tell</td>\n",
       "    </tr>\n",
       "    <tr>\n",
       "      <td>9037</td>\n",
       "      <td>@mention Yes, the Google presentation was not ...</td>\n",
       "      <td>NaN</td>\n",
       "      <td>I can't tell</td>\n",
       "    </tr>\n",
       "    <tr>\n",
       "      <td>9058</td>\n",
       "      <td>&amp;quot;Do you know what Apple is really good at...</td>\n",
       "      <td>NaN</td>\n",
       "      <td>I can't tell</td>\n",
       "    </tr>\n",
       "    <tr>\n",
       "      <td>9066</td>\n",
       "      <td>How much you want to bet Apple is disproportio...</td>\n",
       "      <td>Apple</td>\n",
       "      <td>I can't tell</td>\n",
       "    </tr>\n",
       "  </tbody>\n",
       "</table>\n",
       "<p>156 rows × 3 columns</p>\n",
       "</div>"
      ],
      "text/plain": [
       "                                             tweet_text brand_product  \\\n",
       "90    Thanks to @mention for publishing the news of ...           NaN   \n",
       "102   ÛÏ@mention &quot;Apple has opened a pop-up st...           NaN   \n",
       "237   Just what America needs. RT @mention Google to...           NaN   \n",
       "341   The queue at the Apple Store in Austin is FOUR...           NaN   \n",
       "368   Hope it's better than wave RT @mention Buzz is...           NaN   \n",
       "...                                                 ...           ...   \n",
       "9020  It's funny watching a room full of people hold...           NaN   \n",
       "9032  @mention yeah, we have @mention , Google has n...           NaN   \n",
       "9037  @mention Yes, the Google presentation was not ...           NaN   \n",
       "9058  &quot;Do you know what Apple is really good at...           NaN   \n",
       "9066  How much you want to bet Apple is disproportio...         Apple   \n",
       "\n",
       "         sentiment  \n",
       "90    I can't tell  \n",
       "102   I can't tell  \n",
       "237   I can't tell  \n",
       "341   I can't tell  \n",
       "368   I can't tell  \n",
       "...            ...  \n",
       "9020  I can't tell  \n",
       "9032  I can't tell  \n",
       "9037  I can't tell  \n",
       "9058  I can't tell  \n",
       "9066  I can't tell  \n",
       "\n",
       "[156 rows x 3 columns]"
      ]
     },
     "execution_count": 8,
     "metadata": {},
     "output_type": "execute_result"
    }
   ],
   "source": [
    "df.loc[df['sentiment'] == \"I can't tell\"]"
   ]
  },
  {
   "cell_type": "code",
   "execution_count": 9,
   "metadata": {
    "ExecuteTime": {
     "end_time": "2020-06-30T20:48:36.530364Z",
     "start_time": "2020-06-30T20:48:36.520112Z"
    }
   },
   "outputs": [
    {
     "data": {
      "text/plain": [
       "No emotion toward brand or product    5388\n",
       "Positive emotion                      2978\n",
       "Negative emotion                       570\n",
       "I can't tell                           156\n",
       "Name: sentiment, dtype: int64"
      ]
     },
     "execution_count": 9,
     "metadata": {},
     "output_type": "execute_result"
    }
   ],
   "source": [
    "df['sentiment'].value_counts()"
   ]
  },
  {
   "cell_type": "markdown",
   "metadata": {},
   "source": [
    "Dummied Sentiment Column to help with visulizations to compare sentiment across brands"
   ]
  },
  {
   "cell_type": "code",
   "execution_count": 10,
   "metadata": {
    "ExecuteTime": {
     "end_time": "2020-06-30T20:48:36.560412Z",
     "start_time": "2020-06-30T20:48:36.533690Z"
    }
   },
   "outputs": [
    {
     "data": {
      "text/html": [
       "<div>\n",
       "<style scoped>\n",
       "    .dataframe tbody tr th:only-of-type {\n",
       "        vertical-align: middle;\n",
       "    }\n",
       "\n",
       "    .dataframe tbody tr th {\n",
       "        vertical-align: top;\n",
       "    }\n",
       "\n",
       "    .dataframe thead th {\n",
       "        text-align: right;\n",
       "    }\n",
       "</style>\n",
       "<table border=\"1\" class=\"dataframe\">\n",
       "  <thead>\n",
       "    <tr style=\"text-align: right;\">\n",
       "      <th></th>\n",
       "      <th>I can't tell</th>\n",
       "      <th>Negative emotion</th>\n",
       "      <th>No emotion toward brand or product</th>\n",
       "      <th>Positive emotion</th>\n",
       "    </tr>\n",
       "  </thead>\n",
       "  <tbody>\n",
       "    <tr>\n",
       "      <td>0</td>\n",
       "      <td>0</td>\n",
       "      <td>1</td>\n",
       "      <td>0</td>\n",
       "      <td>0</td>\n",
       "    </tr>\n",
       "    <tr>\n",
       "      <td>1</td>\n",
       "      <td>0</td>\n",
       "      <td>0</td>\n",
       "      <td>0</td>\n",
       "      <td>1</td>\n",
       "    </tr>\n",
       "    <tr>\n",
       "      <td>2</td>\n",
       "      <td>0</td>\n",
       "      <td>0</td>\n",
       "      <td>0</td>\n",
       "      <td>1</td>\n",
       "    </tr>\n",
       "    <tr>\n",
       "      <td>3</td>\n",
       "      <td>0</td>\n",
       "      <td>1</td>\n",
       "      <td>0</td>\n",
       "      <td>0</td>\n",
       "    </tr>\n",
       "    <tr>\n",
       "      <td>4</td>\n",
       "      <td>0</td>\n",
       "      <td>0</td>\n",
       "      <td>0</td>\n",
       "      <td>1</td>\n",
       "    </tr>\n",
       "  </tbody>\n",
       "</table>\n",
       "</div>"
      ],
      "text/plain": [
       "   I can't tell  Negative emotion  No emotion toward brand or product  \\\n",
       "0             0                 1                                   0   \n",
       "1             0                 0                                   0   \n",
       "2             0                 0                                   0   \n",
       "3             0                 1                                   0   \n",
       "4             0                 0                                   0   \n",
       "\n",
       "   Positive emotion  \n",
       "0                 0  \n",
       "1                 1  \n",
       "2                 1  \n",
       "3                 0  \n",
       "4                 1  "
      ]
     },
     "execution_count": 10,
     "metadata": {},
     "output_type": "execute_result"
    }
   ],
   "source": [
    "df1=pd.get_dummies(df['sentiment'])\n",
    "df1.head()"
   ]
  },
  {
   "cell_type": "code",
   "execution_count": 11,
   "metadata": {
    "ExecuteTime": {
     "end_time": "2020-06-30T20:48:36.588808Z",
     "start_time": "2020-06-30T20:48:36.562661Z"
    }
   },
   "outputs": [
    {
     "data": {
      "text/html": [
       "<div>\n",
       "<style scoped>\n",
       "    .dataframe tbody tr th:only-of-type {\n",
       "        vertical-align: middle;\n",
       "    }\n",
       "\n",
       "    .dataframe tbody tr th {\n",
       "        vertical-align: top;\n",
       "    }\n",
       "\n",
       "    .dataframe thead th {\n",
       "        text-align: right;\n",
       "    }\n",
       "</style>\n",
       "<table border=\"1\" class=\"dataframe\">\n",
       "  <thead>\n",
       "    <tr style=\"text-align: right;\">\n",
       "      <th></th>\n",
       "      <th>tweet_text</th>\n",
       "      <th>brand_product</th>\n",
       "      <th>I can't tell</th>\n",
       "      <th>Negative emotion</th>\n",
       "      <th>No emotion toward brand or product</th>\n",
       "      <th>Positive emotion</th>\n",
       "    </tr>\n",
       "  </thead>\n",
       "  <tbody>\n",
       "    <tr>\n",
       "      <td>0</td>\n",
       "      <td>.@wesley83 I have a 3G iPhone. After 3 hrs twe...</td>\n",
       "      <td>iPhone</td>\n",
       "      <td>0</td>\n",
       "      <td>1</td>\n",
       "      <td>0</td>\n",
       "      <td>0</td>\n",
       "    </tr>\n",
       "    <tr>\n",
       "      <td>1</td>\n",
       "      <td>@jessedee Know about @fludapp ? Awesome iPad/i...</td>\n",
       "      <td>iPad or iPhone App</td>\n",
       "      <td>0</td>\n",
       "      <td>0</td>\n",
       "      <td>0</td>\n",
       "      <td>1</td>\n",
       "    </tr>\n",
       "    <tr>\n",
       "      <td>2</td>\n",
       "      <td>@swonderlin Can not wait for #iPad 2 also. The...</td>\n",
       "      <td>iPad</td>\n",
       "      <td>0</td>\n",
       "      <td>0</td>\n",
       "      <td>0</td>\n",
       "      <td>1</td>\n",
       "    </tr>\n",
       "    <tr>\n",
       "      <td>3</td>\n",
       "      <td>@sxsw I hope this year's festival isn't as cra...</td>\n",
       "      <td>iPad or iPhone App</td>\n",
       "      <td>0</td>\n",
       "      <td>1</td>\n",
       "      <td>0</td>\n",
       "      <td>0</td>\n",
       "    </tr>\n",
       "    <tr>\n",
       "      <td>4</td>\n",
       "      <td>@sxtxstate great stuff on Fri #SXSW: Marissa M...</td>\n",
       "      <td>Google</td>\n",
       "      <td>0</td>\n",
       "      <td>0</td>\n",
       "      <td>0</td>\n",
       "      <td>1</td>\n",
       "    </tr>\n",
       "  </tbody>\n",
       "</table>\n",
       "</div>"
      ],
      "text/plain": [
       "                                          tweet_text       brand_product  \\\n",
       "0  .@wesley83 I have a 3G iPhone. After 3 hrs twe...              iPhone   \n",
       "1  @jessedee Know about @fludapp ? Awesome iPad/i...  iPad or iPhone App   \n",
       "2  @swonderlin Can not wait for #iPad 2 also. The...                iPad   \n",
       "3  @sxsw I hope this year's festival isn't as cra...  iPad or iPhone App   \n",
       "4  @sxtxstate great stuff on Fri #SXSW: Marissa M...              Google   \n",
       "\n",
       "   I can't tell  Negative emotion  No emotion toward brand or product  \\\n",
       "0             0                 1                                   0   \n",
       "1             0                 0                                   0   \n",
       "2             0                 0                                   0   \n",
       "3             0                 1                                   0   \n",
       "4             0                 0                                   0   \n",
       "\n",
       "   Positive emotion  \n",
       "0                 0  \n",
       "1                 1  \n",
       "2                 1  \n",
       "3                 0  \n",
       "4                 1  "
      ]
     },
     "execution_count": 11,
     "metadata": {},
     "output_type": "execute_result"
    }
   ],
   "source": [
    "df_dummied=df.join(df1).drop(columns='sentiment')\n",
    "df_dummied.head()"
   ]
  },
  {
   "cell_type": "markdown",
   "metadata": {},
   "source": [
    "Made visualization to explore distribution of sentiment across brand/product. Will combine Apple and Google products to further explore distribution. Sentiment is overwhelmingly positive across all products and most sentiment data is logged for Apple products"
   ]
  },
  {
   "cell_type": "code",
   "execution_count": 12,
   "metadata": {
    "ExecuteTime": {
     "end_time": "2020-06-30T20:48:37.003066Z",
     "start_time": "2020-06-30T20:48:36.591121Z"
    }
   },
   "outputs": [
    {
     "data": {
      "image/png": "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\n",
      "text/plain": [
       "<Figure size 720x504 with 1 Axes>"
      ]
     },
     "metadata": {
      "needs_background": "light"
     },
     "output_type": "display_data"
    }
   ],
   "source": [
    "df_dummied.groupby('brand_product').sum().plot(kind='barh', \n",
    "                                               figsize=(10,7))\n",
    "plt.title('Sentiment Analysis by Brand/Product', size=20)\n",
    "plt.ylabel('Brand/Product', size=15)\n",
    "plt.xlabel('# of Instances', size=15)\n",
    "plt.show()"
   ]
  },
  {
   "cell_type": "markdown",
   "metadata": {},
   "source": [
    "Made below visualization to explore the missing brand_product classifications for each sentiment"
   ]
  },
  {
   "cell_type": "code",
   "execution_count": 13,
   "metadata": {
    "ExecuteTime": {
     "end_time": "2020-06-30T20:48:37.217991Z",
     "start_time": "2020-06-30T20:48:37.005343Z"
    },
    "scrolled": true
   },
   "outputs": [
    {
     "data": {
      "image/png": "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\n",
      "text/plain": [
       "<Figure size 720x360 with 1 Axes>"
      ]
     },
     "metadata": {
      "needs_background": "light"
     },
     "output_type": "display_data"
    }
   ],
   "source": [
    "df.groupby('sentiment').count().plot(kind='barh',\n",
    "                                     figsize=(10,5))\n",
    "plt.title('Sentiment Distribution', size=20)\n",
    "plt.ylabel('Sentiment', size=15)\n",
    "plt.xlabel('# of Instances',size=15)\n",
    "plt.show()"
   ]
  },
  {
   "cell_type": "markdown",
   "metadata": {},
   "source": [
    "Usable data (Positive or Negative sentiment) for baseline first model is 39.02%. Will be necessary to eventually build a multiclass classifier with No Emotion classification"
   ]
  },
  {
   "cell_type": "code",
   "execution_count": 14,
   "metadata": {
    "ExecuteTime": {
     "end_time": "2020-06-30T20:48:37.228528Z",
     "start_time": "2020-06-30T20:48:37.220471Z"
    },
    "scrolled": true
   },
   "outputs": [
    {
     "name": "stdout",
     "output_type": "stream",
     "text": [
      "Percentage of Data with either Positive or Negative Sentiment: 39.02%\n"
     ]
    }
   ],
   "source": [
    "usable_data=round(len(df.loc[(df['sentiment'] == 'Positive emotion') | \n",
    "                             (df['sentiment'] == 'Negative emotion')])/len(df) * 100,2)\n",
    "print('Percentage of Data with either Positive or Negative Sentiment: {}%'.format(usable_data))"
   ]
  },
  {
   "cell_type": "markdown",
   "metadata": {},
   "source": [
    "Combined Apple and Google product names together to explore further visualizations"
   ]
  },
  {
   "cell_type": "code",
   "execution_count": 15,
   "metadata": {
    "ExecuteTime": {
     "end_time": "2020-06-30T20:48:37.248692Z",
     "start_time": "2020-06-30T20:48:37.230458Z"
    },
    "scrolled": true
   },
   "outputs": [
    {
     "data": {
      "text/plain": [
       "apple_product      2409\n",
       "android_product     882\n",
       "Name: brand_product, dtype: int64"
      ]
     },
     "execution_count": 15,
     "metadata": {},
     "output_type": "execute_result"
    }
   ],
   "source": [
    "df_dummied['brand_product']=df_dummied['brand_product'].replace(to_replace = ['iPad','Apple',\n",
    "                                                                                    'iPad or iPhone App','iPhone',\n",
    "                                                                                    'Other Apple product or service'],value='apple_product')\n",
    "df_dummied['brand_product'] = df_dummied['brand_product'].replace(['Google',\n",
    "                                                                        'Other Google product or service',\n",
    "                                                                        'Android App', 'Android'],'android_product')\n",
    "df_dummied['brand_product'].value_counts()"
   ]
  },
  {
   "cell_type": "markdown",
   "metadata": {},
   "source": [
    "Combined Brand_product columns to show difference in amount of information for each product"
   ]
  },
  {
   "cell_type": "code",
   "execution_count": 16,
   "metadata": {
    "ExecuteTime": {
     "end_time": "2020-06-30T20:48:37.493395Z",
     "start_time": "2020-06-30T20:48:37.250786Z"
    }
   },
   "outputs": [
    {
     "data": {
      "image/png": "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\n",
      "text/plain": [
       "<Figure size 720x288 with 1 Axes>"
      ]
     },
     "metadata": {
      "needs_background": "light"
     },
     "output_type": "display_data"
    }
   ],
   "source": [
    "df_dummied.groupby('brand_product').sum().plot(kind='barh', figsize=(10,4))\n",
    "plt.title('Sentiment Analysis by Brand/Product Combined', size=20)\n",
    "plt.ylabel('Brand/Product', size=15)\n",
    "plt.xlabel('# of Instances', size=15)\n",
    "plt.yticks(np.arange(2),['Google Product','Apple Product'])\n",
    "plt.show()"
   ]
  },
  {
   "cell_type": "markdown",
   "metadata": {},
   "source": [
    "Made a copy of the data frame to further explore EDA options"
   ]
  },
  {
   "cell_type": "code",
   "execution_count": 17,
   "metadata": {
    "ExecuteTime": {
     "end_time": "2020-06-30T20:48:37.503559Z",
     "start_time": "2020-06-30T20:48:37.495464Z"
    }
   },
   "outputs": [
    {
     "data": {
      "text/html": [
       "<div>\n",
       "<style scoped>\n",
       "    .dataframe tbody tr th:only-of-type {\n",
       "        vertical-align: middle;\n",
       "    }\n",
       "\n",
       "    .dataframe tbody tr th {\n",
       "        vertical-align: top;\n",
       "    }\n",
       "\n",
       "    .dataframe thead th {\n",
       "        text-align: right;\n",
       "    }\n",
       "</style>\n",
       "<table border=\"1\" class=\"dataframe\">\n",
       "  <thead>\n",
       "    <tr style=\"text-align: right;\">\n",
       "      <th></th>\n",
       "      <th>tweet_text</th>\n",
       "      <th>brand_product</th>\n",
       "      <th>sentiment</th>\n",
       "    </tr>\n",
       "  </thead>\n",
       "  <tbody>\n",
       "    <tr>\n",
       "      <td>0</td>\n",
       "      <td>.@wesley83 I have a 3G iPhone. After 3 hrs twe...</td>\n",
       "      <td>iPhone</td>\n",
       "      <td>Negative emotion</td>\n",
       "    </tr>\n",
       "    <tr>\n",
       "      <td>1</td>\n",
       "      <td>@jessedee Know about @fludapp ? Awesome iPad/i...</td>\n",
       "      <td>iPad or iPhone App</td>\n",
       "      <td>Positive emotion</td>\n",
       "    </tr>\n",
       "    <tr>\n",
       "      <td>2</td>\n",
       "      <td>@swonderlin Can not wait for #iPad 2 also. The...</td>\n",
       "      <td>iPad</td>\n",
       "      <td>Positive emotion</td>\n",
       "    </tr>\n",
       "    <tr>\n",
       "      <td>3</td>\n",
       "      <td>@sxsw I hope this year's festival isn't as cra...</td>\n",
       "      <td>iPad or iPhone App</td>\n",
       "      <td>Negative emotion</td>\n",
       "    </tr>\n",
       "    <tr>\n",
       "      <td>4</td>\n",
       "      <td>@sxtxstate great stuff on Fri #SXSW: Marissa M...</td>\n",
       "      <td>Google</td>\n",
       "      <td>Positive emotion</td>\n",
       "    </tr>\n",
       "  </tbody>\n",
       "</table>\n",
       "</div>"
      ],
      "text/plain": [
       "                                          tweet_text       brand_product  \\\n",
       "0  .@wesley83 I have a 3G iPhone. After 3 hrs twe...              iPhone   \n",
       "1  @jessedee Know about @fludapp ? Awesome iPad/i...  iPad or iPhone App   \n",
       "2  @swonderlin Can not wait for #iPad 2 also. The...                iPad   \n",
       "3  @sxsw I hope this year's festival isn't as cra...  iPad or iPhone App   \n",
       "4  @sxtxstate great stuff on Fri #SXSW: Marissa M...              Google   \n",
       "\n",
       "          sentiment  \n",
       "0  Negative emotion  \n",
       "1  Positive emotion  \n",
       "2  Positive emotion  \n",
       "3  Negative emotion  \n",
       "4  Positive emotion  "
      ]
     },
     "execution_count": 17,
     "metadata": {},
     "output_type": "execute_result"
    }
   ],
   "source": [
    "df_eda = df\n",
    "df_eda.head()"
   ]
  },
  {
   "cell_type": "markdown",
   "metadata": {},
   "source": [
    "Used an alternative version of our clean_lemmatize_token function to preprocess data for additional EDA"
   ]
  },
  {
   "cell_type": "code",
   "execution_count": 18,
   "metadata": {
    "ExecuteTime": {
     "end_time": "2020-06-30T20:48:37.511832Z",
     "start_time": "2020-06-30T20:48:37.505676Z"
    }
   },
   "outputs": [],
   "source": [
    "def clean_lemmatize_token_alt(tweet):\n",
    "    stop_words = set(stopwords.words('english'))\n",
    "    cleaned = tweet.translate(str.maketrans('', '', string.punctuation)).lower()\n",
    "    tokenized = word_tokenize(cleaned)\n",
    "    filtered = [w for w in tokenized if not w in stop_words]\n",
    "    lemmatizer = WordNetLemmatizer()\n",
    "    lemmatized = []\n",
    "    for word in filtered:\n",
    "        lemmatized.append(lemmatizer.lemmatize(word))\n",
    "    to_remove = ['rt','mention','sxsw','link']\n",
    "    lemmatized = [w for w in lemmatized if w not in to_remove]\n",
    "    #lemmatized = ' '.join(lemmatized)\n",
    "    return lemmatized"
   ]
  },
  {
   "cell_type": "code",
   "execution_count": 19,
   "metadata": {
    "ExecuteTime": {
     "end_time": "2020-06-30T20:48:43.507273Z",
     "start_time": "2020-06-30T20:48:37.514168Z"
    }
   },
   "outputs": [
    {
     "data": {
      "text/html": [
       "<div>\n",
       "<style scoped>\n",
       "    .dataframe tbody tr th:only-of-type {\n",
       "        vertical-align: middle;\n",
       "    }\n",
       "\n",
       "    .dataframe tbody tr th {\n",
       "        vertical-align: top;\n",
       "    }\n",
       "\n",
       "    .dataframe thead th {\n",
       "        text-align: right;\n",
       "    }\n",
       "</style>\n",
       "<table border=\"1\" class=\"dataframe\">\n",
       "  <thead>\n",
       "    <tr style=\"text-align: right;\">\n",
       "      <th></th>\n",
       "      <th>tweet_text</th>\n",
       "      <th>brand_product</th>\n",
       "      <th>sentiment</th>\n",
       "    </tr>\n",
       "  </thead>\n",
       "  <tbody>\n",
       "    <tr>\n",
       "      <td>0</td>\n",
       "      <td>[wesley83, 3g, iphone, 3, hr, tweeting, riseau...</td>\n",
       "      <td>iPhone</td>\n",
       "      <td>Negative emotion</td>\n",
       "    </tr>\n",
       "    <tr>\n",
       "      <td>1</td>\n",
       "      <td>[jessedee, know, fludapp, awesome, ipadiphone,...</td>\n",
       "      <td>iPad or iPhone App</td>\n",
       "      <td>Positive emotion</td>\n",
       "    </tr>\n",
       "    <tr>\n",
       "      <td>2</td>\n",
       "      <td>[swonderlin, wait, ipad, 2, also, sale]</td>\n",
       "      <td>iPad</td>\n",
       "      <td>Positive emotion</td>\n",
       "    </tr>\n",
       "    <tr>\n",
       "      <td>3</td>\n",
       "      <td>[hope, year, festival, isnt, crashy, year, iph...</td>\n",
       "      <td>iPad or iPhone App</td>\n",
       "      <td>Negative emotion</td>\n",
       "    </tr>\n",
       "    <tr>\n",
       "      <td>4</td>\n",
       "      <td>[sxtxstate, great, stuff, fri, marissa, mayer,...</td>\n",
       "      <td>Google</td>\n",
       "      <td>Positive emotion</td>\n",
       "    </tr>\n",
       "  </tbody>\n",
       "</table>\n",
       "</div>"
      ],
      "text/plain": [
       "                                          tweet_text       brand_product  \\\n",
       "0  [wesley83, 3g, iphone, 3, hr, tweeting, riseau...              iPhone   \n",
       "1  [jessedee, know, fludapp, awesome, ipadiphone,...  iPad or iPhone App   \n",
       "2            [swonderlin, wait, ipad, 2, also, sale]                iPad   \n",
       "3  [hope, year, festival, isnt, crashy, year, iph...  iPad or iPhone App   \n",
       "4  [sxtxstate, great, stuff, fri, marissa, mayer,...              Google   \n",
       "\n",
       "          sentiment  \n",
       "0  Negative emotion  \n",
       "1  Positive emotion  \n",
       "2  Positive emotion  \n",
       "3  Negative emotion  \n",
       "4  Positive emotion  "
      ]
     },
     "execution_count": 19,
     "metadata": {},
     "output_type": "execute_result"
    }
   ],
   "source": [
    "df_eda['tweet_text'] = df_eda['tweet_text'].map(lambda x: clean_lemmatize_token_alt(x))\n",
    "df_eda.head()"
   ]
  },
  {
   "cell_type": "code",
   "execution_count": 20,
   "metadata": {
    "ExecuteTime": {
     "end_time": "2020-06-30T20:48:43.517657Z",
     "start_time": "2020-06-30T20:48:43.509412Z"
    }
   },
   "outputs": [
    {
     "data": {
      "text/plain": [
       "iPad                               946\n",
       "Apple                              661\n",
       "iPad or iPhone App                 470\n",
       "Google                             430\n",
       "iPhone                             297\n",
       "Other Google product or service    293\n",
       "Android App                         81\n",
       "Android                             78\n",
       "Other Apple product or service      35\n",
       "Name: brand_product, dtype: int64"
      ]
     },
     "execution_count": 20,
     "metadata": {},
     "output_type": "execute_result"
    }
   ],
   "source": [
    "df_eda['brand_product'].value_counts()"
   ]
  },
  {
   "cell_type": "markdown",
   "metadata": {},
   "source": [
    "Split data set out into different divisions to visualize bigrams of Apple and Android Mobile product tweets"
   ]
  },
  {
   "cell_type": "code",
   "execution_count": 21,
   "metadata": {
    "ExecuteTime": {
     "end_time": "2020-06-30T20:48:43.556031Z",
     "start_time": "2020-06-30T20:48:43.519527Z"
    }
   },
   "outputs": [],
   "source": [
    "df_pos_apple_mobile = df_eda.loc[(df_eda['sentiment'] == 'Positive emotion') & (df_eda['brand_product'] == 'iPad') \n",
    "                                 | (df_eda['brand_product'] == 'iPhone') | (df_eda['brand_product'] == 'iPad or iPhone App')]\n",
    "df_neg_apple_mobile = df_eda.loc[(df_eda['sentiment'] == 'Negative emotion') & (df_eda['brand_product'] == 'iPad') \n",
    "                                 | (df_eda['brand_product'] == 'iPhone') | (df_eda['brand_product'] == 'iPad or iPhone App')]\n",
    "df_pos_android_mobile = df_eda.loc[(df_eda['sentiment'] == 'Positive emotion') & (df_eda['brand_product'] == 'Other Google Product or Service') \n",
    "                                 | (df_eda['brand_product'] == 'Android App') | (df_eda['brand_product'] == 'Android')]\n",
    "df_neg_android_mobile = df_eda.loc[(df_eda['sentiment'] == 'Negative emotion') & (df_eda['brand_product'] == 'Other Google Product or Service') \n",
    "                                 | (df_eda['brand_product'] == 'Android App') | (df_eda['brand_product'] == 'Android')]"
   ]
  },
  {
   "cell_type": "code",
   "execution_count": 22,
   "metadata": {
    "ExecuteTime": {
     "end_time": "2020-06-30T20:48:43.578114Z",
     "start_time": "2020-06-30T20:48:43.559088Z"
    }
   },
   "outputs": [],
   "source": [
    "pos_apple_mobile_tweet_list = df_pos_apple_mobile['tweet_text']\n",
    "neg_apple_mobile_tweet_list = df_neg_apple_mobile['tweet_text']\n",
    "pos_android_mobile_list = df_pos_android_mobile['tweet_text']\n",
    "neg_android_mobile_list = df_neg_android_mobile['tweet_text']"
   ]
  },
  {
   "cell_type": "code",
   "execution_count": 23,
   "metadata": {
    "ExecuteTime": {
     "end_time": "2020-06-30T20:48:43.592078Z",
     "start_time": "2020-06-30T20:48:43.586019Z"
    }
   },
   "outputs": [],
   "source": [
    "pos_apple_mobile_concat = []\n",
    "neg_apple_mobile_concat = []\n",
    "pos_android_mobile_concat = []\n",
    "neg_android_mobile_concat = []\n",
    "\n",
    "for tweet in pos_apple_mobile_tweet_list:\n",
    "    pos_apple_mobile_concat += tweet\n",
    "for tweet in neg_apple_mobile_tweet_list:\n",
    "    neg_apple_mobile_concat += tweet\n",
    "for tweet in pos_android_mobile_list:\n",
    "    pos_android_mobile_concat += tweet  \n",
    "for tweet in neg_android_mobile_list:\n",
    "    neg_android_mobile_concat += tweet"
   ]
  },
  {
   "cell_type": "code",
   "execution_count": 24,
   "metadata": {
    "ExecuteTime": {
     "end_time": "2020-06-30T20:48:43.602802Z",
     "start_time": "2020-06-30T20:48:43.598265Z"
    }
   },
   "outputs": [
    {
     "data": {
      "text/plain": [
       "15438"
      ]
     },
     "execution_count": 24,
     "metadata": {},
     "output_type": "execute_result"
    }
   ],
   "source": [
    "len(pos_apple_mobile_concat)"
   ]
  },
  {
   "cell_type": "code",
   "execution_count": 25,
   "metadata": {
    "ExecuteTime": {
     "end_time": "2020-06-30T20:48:43.609380Z",
     "start_time": "2020-06-30T20:48:43.605775Z"
    }
   },
   "outputs": [],
   "source": [
    "mobile_concat_list = [pos_apple_mobile_concat, neg_apple_mobile_concat, pos_android_mobile_concat,\n",
    "                      neg_android_mobile_concat]"
   ]
  },
  {
   "cell_type": "code",
   "execution_count": 26,
   "metadata": {
    "ExecuteTime": {
     "end_time": "2020-06-30T20:48:43.896081Z",
     "start_time": "2020-06-30T20:48:43.615744Z"
    }
   },
   "outputs": [],
   "source": [
    "mobile_tweets_scored_list = []\n",
    "for mobile_list in mobile_concat_list:\n",
    "    bigram_measures = nltk.collocations.BigramAssocMeasures()\n",
    "    tweet_finder = BigramCollocationFinder.from_words(mobile_list)\n",
    "    tweets_scored = tweet_finder.score_ngrams(bigram_measures.raw_freq)\n",
    "    mobile_tweets_scored_list.append(tweets_scored)"
   ]
  },
  {
   "cell_type": "code",
   "execution_count": 27,
   "metadata": {
    "ExecuteTime": {
     "end_time": "2020-06-30T20:48:45.010242Z",
     "start_time": "2020-06-30T20:48:43.898413Z"
    }
   },
   "outputs": [
    {
     "data": {
      "image/png": "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\n",
      "text/plain": [
       "<Figure size 1656x1224 with 4 Axes>"
      ]
     },
     "metadata": {
      "needs_background": "light"
     },
     "output_type": "display_data"
    }
   ],
   "source": [
    "df_mobile_graph1 = pd.DataFrame(mobile_tweets_scored_list[0][:10], columns = ['Bigram','Raw_Frequency_Score'])\n",
    "df_mobile_graph2 = pd.DataFrame(mobile_tweets_scored_list[1][:10], columns = ['Bigram','Raw_Frequency_Score'])\n",
    "df_mobile_graph3 = pd.DataFrame(mobile_tweets_scored_list[2][:10], columns = ['Bigram','Raw_Frequency_Score'])\n",
    "df_mobile_graph4 = pd.DataFrame(mobile_tweets_scored_list[3][:10], columns = ['Bigram','Raw_Frequency_Score'])\n",
    "fig, axs = plt.subplots(2,2)\n",
    "fig.set_figheight(17)\n",
    "fig.set_figwidth(23)\n",
    "axs[0,0].title.set_text('Positive Apple Mobile Tweets Bigrams')\n",
    "axs[0,1].title.set_text('Negative Apple Mobile Tweets Bigrams')\n",
    "axs[1,0].title.set_text('Positive Android Mobile Tweets Bigrams')\n",
    "axs[1,1].title.set_text('No Emotion Android Mobile Tweets Bigrams')\n",
    "sns.barplot(data=df_mobile_graph1, y='Bigram',x='Raw_Frequency_Score', orient='h', ax = axs[0,0])\n",
    "sns.barplot(data=df_mobile_graph2, y='Bigram',x='Raw_Frequency_Score', orient='h', ax = axs[0,1])\n",
    "sns.barplot(data=df_mobile_graph3, y='Bigram',x='Raw_Frequency_Score', orient='h', ax = axs[1,0])\n",
    "sns.barplot(data=df_mobile_graph4, y='Bigram',x='Raw_Frequency_Score', orient='h', ax = axs[1,1])\n",
    "plt.show()"
   ]
  },
  {
   "cell_type": "markdown",
   "metadata": {},
   "source": [
    "Combined all Apple products and all Google products together"
   ]
  },
  {
   "cell_type": "code",
   "execution_count": 28,
   "metadata": {
    "ExecuteTime": {
     "end_time": "2020-06-30T20:48:45.026506Z",
     "start_time": "2020-06-30T20:48:45.012699Z"
    }
   },
   "outputs": [
    {
     "data": {
      "text/plain": [
       "apple_product      2409\n",
       "android_product     882\n",
       "Name: brand_product, dtype: int64"
      ]
     },
     "execution_count": 28,
     "metadata": {},
     "output_type": "execute_result"
    }
   ],
   "source": [
    "df_eda['brand_product']=df_eda['brand_product'].replace(to_replace = ['iPad','Apple',\n",
    "                                                                                    'iPad or iPhone App','iPhone',\n",
    "                                                                                    'Other Apple product or service'],value='apple_product')\n",
    "df_eda['brand_product'] = df_eda['brand_product'].replace(['Google',\n",
    "                                                                        'Other Google product or service',\n",
    "                                                                        'Android App', 'Android'],'android_product')\n",
    "df_eda['brand_product'].value_counts(\n",
    ")"
   ]
  },
  {
   "cell_type": "markdown",
   "metadata": {},
   "source": [
    "Created new data frames based on different brands and sentiments to plot bigrams of most common word pairs"
   ]
  },
  {
   "cell_type": "code",
   "execution_count": 29,
   "metadata": {
    "ExecuteTime": {
     "end_time": "2020-06-30T20:48:45.059679Z",
     "start_time": "2020-06-30T20:48:45.028612Z"
    }
   },
   "outputs": [],
   "source": [
    "df_pos = df_eda.loc[df_eda['sentiment'] == 'Positive emotion']\n",
    "df_neg = df_eda.loc[df_eda['sentiment'] == 'Negative emotion']\n",
    "df_none = df_eda.loc[df_eda['sentiment'] == 'No emotion toward brand or product']\n",
    "df_apple = df_eda.loc[df_eda['brand_product'] == 'apple_product']\n",
    "df_google = df_eda.loc[df_eda['brand_product'] == 'android_product']\n",
    "df_pos_apple = df_eda.loc[(df_eda['brand_product'] == 'apple_product') & (df_eda['sentiment'] == 'Positive emotion')]\n",
    "df_neg_apple = df_eda.loc[(df_eda['brand_product'] == 'apple_product') & (df_eda['sentiment'] == 'Negative emotion')]\n",
    "df_none_apple = df_eda.loc[(df_eda['brand_product'] == 'apple_product') & (df_eda['sentiment'] == 'No emotion toward brand or product')]\n",
    "df_pos_google = df_eda.loc[(df_eda['brand_product'] == 'android_product') & (df_eda['sentiment'] == 'Positive emotion')]\n",
    "df_neg_google = df_eda.loc[(df_eda['brand_product'] == 'android_product') & (df_eda['sentiment'] == 'Negative emotion')]\n",
    "df_none_google = df_eda.loc[(df_eda['brand_product'] == 'android_product') & (df_eda['sentiment'] == 'No emotion toward brand or product')]"
   ]
  },
  {
   "cell_type": "code",
   "execution_count": 30,
   "metadata": {
    "ExecuteTime": {
     "end_time": "2020-06-30T20:48:45.066269Z",
     "start_time": "2020-06-30T20:48:45.061650Z"
    }
   },
   "outputs": [],
   "source": [
    "tweet_list = df_eda['tweet_text']\n",
    "pos_tweet_list = df_pos['tweet_text']\n",
    "neg_tweet_list = df_neg['tweet_text']\n",
    "none_tweet_list = df_none['tweet_text']\n",
    "apple_tweet_list = df_apple['tweet_text']\n",
    "apple_pos_tweet_list = df_pos_apple['tweet_text']\n",
    "apple_neg_tweet_list = df_neg_apple['tweet_text']\n",
    "apple_none_tweet_list = df_none_apple['tweet_text']\n",
    "google_tweet_list = df_google['tweet_text']\n",
    "google_pos_tweet_list = df_pos_google['tweet_text']\n",
    "google_neg_tweet_list = df_neg_google['tweet_text']\n",
    "google_none_tweet_list = df_none_google['tweet_text']"
   ]
  },
  {
   "cell_type": "code",
   "execution_count": 31,
   "metadata": {
    "ExecuteTime": {
     "end_time": "2020-06-30T20:48:45.084418Z",
     "start_time": "2020-06-30T20:48:45.068227Z"
    }
   },
   "outputs": [],
   "source": [
    "tweet_concat = []\n",
    "pos_tweet_concat = []\n",
    "neg_tweet_concat = []\n",
    "none_tweet_concat = []\n",
    "apple_tweet_concat = []\n",
    "apple_pos_tweet_concat = []\n",
    "apple_neg_tweet_concat = []\n",
    "apple_none_tweet_concat = []\n",
    "google_tweet_concat = []\n",
    "google_pos_tweet_concat = []\n",
    "google_neg_tweet_concat = []\n",
    "google_none_tweet_concat = []\n",
    "\n",
    "for tweet in tweet_list:\n",
    "    tweet_concat += tweet\n",
    "for tweet in pos_tweet_list:\n",
    "    pos_tweet_concat += tweet\n",
    "for tweet in neg_tweet_list:\n",
    "    neg_tweet_concat += tweet  \n",
    "for tweet in none_tweet_list:\n",
    "    none_tweet_concat += tweet\n",
    "\n",
    "for tweet in apple_tweet_list:\n",
    "    apple_tweet_concat += tweet\n",
    "for tweet in apple_pos_tweet_list:\n",
    "    apple_pos_tweet_concat += tweet\n",
    "for tweet in apple_neg_tweet_list:\n",
    "    apple_neg_tweet_concat += tweet  \n",
    "for tweet in apple_none_tweet_list:\n",
    "    apple_none_tweet_concat += tweet\n",
    "\n",
    "for tweet in google_tweet_list:\n",
    "    google_tweet_concat += tweet\n",
    "for tweet in google_pos_tweet_list:\n",
    "    google_pos_tweet_concat += tweet\n",
    "for tweet in google_neg_tweet_list:\n",
    "    google_neg_tweet_concat += tweet  \n",
    "for tweet in google_none_tweet_list:\n",
    "    google_none_tweet_concat += tweet"
   ]
  },
  {
   "cell_type": "code",
   "execution_count": 32,
   "metadata": {
    "ExecuteTime": {
     "end_time": "2020-06-30T20:48:45.089638Z",
     "start_time": "2020-06-30T20:48:45.086067Z"
    }
   },
   "outputs": [],
   "source": [
    "concat_list=[tweet_concat,\n",
    "pos_tweet_concat,\n",
    "neg_tweet_concat,\n",
    "none_tweet_concat,\n",
    "apple_tweet_concat,\n",
    "apple_pos_tweet_concat,\n",
    "apple_neg_tweet_concat,\n",
    "apple_none_tweet_concat,\n",
    "google_tweet_concat,\n",
    "google_pos_tweet_concat,\n",
    "google_neg_tweet_concat,\n",
    "google_none_tweet_concat]"
   ]
  },
  {
   "cell_type": "markdown",
   "metadata": {},
   "source": [
    "Used a for loop to collect Raw Frequency Scores for each subset of the data"
   ]
  },
  {
   "cell_type": "code",
   "execution_count": 33,
   "metadata": {
    "ExecuteTime": {
     "end_time": "2020-06-30T20:48:46.402440Z",
     "start_time": "2020-06-30T20:48:45.092277Z"
    }
   },
   "outputs": [],
   "source": [
    "tweets_scored_list = []\n",
    "for list in concat_list:\n",
    "    bigram_measures = nltk.collocations.BigramAssocMeasures()\n",
    "    tweet_finder = BigramCollocationFinder.from_words(list)\n",
    "    tweets_scored = tweet_finder.score_ngrams(bigram_measures.raw_freq)\n",
    "    tweets_scored_list.append(tweets_scored)"
   ]
  },
  {
   "cell_type": "markdown",
   "metadata": {},
   "source": [
    "Plotted the All Tweets Bigrams"
   ]
  },
  {
   "cell_type": "code",
   "execution_count": 34,
   "metadata": {
    "ExecuteTime": {
     "end_time": "2020-06-30T20:48:47.463990Z",
     "start_time": "2020-06-30T20:48:46.404613Z"
    }
   },
   "outputs": [
    {
     "data": {
      "image/png": "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\n",
      "text/plain": [
       "<Figure size 1656x1224 with 4 Axes>"
      ]
     },
     "metadata": {
      "needs_background": "light"
     },
     "output_type": "display_data"
    }
   ],
   "source": [
    "df_graph1 = pd.DataFrame(tweets_scored_list[0][:10], columns = ['Bigram','Raw_Frequency_Score'])\n",
    "df_graph2 = pd.DataFrame(tweets_scored_list[1][:10], columns = ['Bigram','Raw_Frequency_Score'])\n",
    "df_graph3 = pd.DataFrame(tweets_scored_list[2][:10], columns = ['Bigram','Raw_Frequency_Score'])\n",
    "df_graph4 = pd.DataFrame(tweets_scored_list[3][:10], columns = ['Bigram','Raw_Frequency_Score'])\n",
    "fig, axs = plt.subplots(2,2)\n",
    "fig.set_figheight(17)\n",
    "fig.set_figwidth(23)\n",
    "axs[0,0].title.set_text('All Tweets Bigrams')\n",
    "axs[0,1].title.set_text('All Positive Tweets Bigrams')\n",
    "axs[1,0].title.set_text('All Negative Tweets Bigrams')\n",
    "axs[1,1].title.set_text('All No Emotion Tweets Bigrams')\n",
    "sns.barplot(data=df_graph1, y='Bigram',x='Raw_Frequency_Score', orient='h', ax = axs[0,0])\n",
    "sns.barplot(data=df_graph2, y='Bigram',x='Raw_Frequency_Score', orient='h', ax = axs[0,1])\n",
    "sns.barplot(data=df_graph3, y='Bigram',x='Raw_Frequency_Score', orient='h', ax = axs[1,0])\n",
    "sns.barplot(data=df_graph4, y='Bigram',x='Raw_Frequency_Score', orient='h', ax = axs[1,1])\n",
    "plt.show()"
   ]
  },
  {
   "cell_type": "markdown",
   "metadata": {},
   "source": [
    "Plotted the Apple Tweets Bigrams"
   ]
  },
  {
   "cell_type": "code",
   "execution_count": 35,
   "metadata": {
    "ExecuteTime": {
     "end_time": "2020-06-30T20:48:48.517290Z",
     "start_time": "2020-06-30T20:48:47.466210Z"
    }
   },
   "outputs": [
    {
     "data": {
      "image/png": "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\n",
      "text/plain": [
       "<Figure size 1656x1224 with 4 Axes>"
      ]
     },
     "metadata": {
      "needs_background": "light"
     },
     "output_type": "display_data"
    }
   ],
   "source": [
    "df_graph5 = pd.DataFrame(tweets_scored_list[4][:10], columns = ['Bigram','Raw_Frequency_Score'])\n",
    "df_graph6 = pd.DataFrame(tweets_scored_list[5][:10], columns = ['Bigram','Raw_Frequency_Score'])\n",
    "df_graph7 = pd.DataFrame(tweets_scored_list[6][:10], columns = ['Bigram','Raw_Frequency_Score'])\n",
    "df_graph8 = pd.DataFrame(tweets_scored_list[7][:10], columns = ['Bigram','Raw_Frequency_Score'])\n",
    "fig, axs = plt.subplots(2,2)\n",
    "fig.set_figheight(17)\n",
    "fig.set_figwidth(23)\n",
    "axs[0,0].title.set_text('All Apple Tweets Bigrams')\n",
    "axs[0,1].title.set_text('All Positive Apple Tweets Bigrams')\n",
    "axs[1,0].title.set_text('All Negative Apple Tweets Bigrams')\n",
    "axs[1,1].title.set_text('All No Emotion Apple Tweets Bigrams')\n",
    "sns.barplot(data=df_graph5, y='Bigram',x='Raw_Frequency_Score', orient='h', ax = axs[0,0])\n",
    "sns.barplot(data=df_graph6, y='Bigram',x='Raw_Frequency_Score', orient='h', ax = axs[0,1])\n",
    "sns.barplot(data=df_graph7, y='Bigram',x='Raw_Frequency_Score', orient='h', ax = axs[1,0])\n",
    "sns.barplot(data=df_graph8, y='Bigram',x='Raw_Frequency_Score', orient='h', ax = axs[1,1])\n",
    "plt.show()"
   ]
  },
  {
   "cell_type": "markdown",
   "metadata": {},
   "source": [
    "Plotted the Google Tweets Bigrams"
   ]
  },
  {
   "cell_type": "code",
   "execution_count": 36,
   "metadata": {
    "ExecuteTime": {
     "end_time": "2020-06-30T20:48:49.760996Z",
     "start_time": "2020-06-30T20:48:48.519242Z"
    }
   },
   "outputs": [
    {
     "data": {
      "image/png": "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\n",
      "text/plain": [
       "<Figure size 1656x1224 with 4 Axes>"
      ]
     },
     "metadata": {
      "needs_background": "light"
     },
     "output_type": "display_data"
    }
   ],
   "source": [
    "df_graph9 = pd.DataFrame(tweets_scored_list[8][:10], columns = ['Bigram','Raw_Frequency_Score'])\n",
    "df_graph10 = pd.DataFrame(tweets_scored_list[9][:10], columns = ['Bigram','Raw_Frequency_Score'])\n",
    "df_graph11 = pd.DataFrame(tweets_scored_list[10][:10], columns = ['Bigram','Raw_Frequency_Score'])\n",
    "df_graph12 = pd.DataFrame(tweets_scored_list[11][:10], columns = ['Bigram','Raw_Frequency_Score'])\n",
    "fig, axs = plt.subplots(2,2)\n",
    "fig.set_figheight(17)\n",
    "fig.set_figwidth(23)\n",
    "axs[0,0].title.set_text('All Google Tweets Bigrams')\n",
    "axs[0,1].title.set_text('All Positive Google Tweets Bigrams')\n",
    "axs[1,0].title.set_text('All Negative Google Tweets Bigrams')\n",
    "axs[1,1].title.set_text('All No Emotion Google Tweets Bigrams')\n",
    "sns.barplot(data=df_graph9, y='Bigram',x='Raw_Frequency_Score', orient='h', ax = axs[0,0])\n",
    "sns.barplot(data=df_graph10, y='Bigram',x='Raw_Frequency_Score', orient='h', ax = axs[0,1])\n",
    "sns.barplot(data=df_graph11, y='Bigram',x='Raw_Frequency_Score', orient='h', ax = axs[1,0])\n",
    "sns.barplot(data=df_graph12, y='Bigram',x='Raw_Frequency_Score', orient='h', ax = axs[1,1])\n",
    "plt.show()"
   ]
  },
  {
   "cell_type": "markdown",
   "metadata": {},
   "source": [
    "### Preprocessing Tweets\n",
    "Clean, lemmatize, and format data for vectorization and modeling"
   ]
  },
  {
   "cell_type": "code",
   "execution_count": 37,
   "metadata": {
    "ExecuteTime": {
     "end_time": "2020-06-30T20:48:49.776334Z",
     "start_time": "2020-06-30T20:48:49.763744Z"
    }
   },
   "outputs": [],
   "source": [
    "df['tweet_text'] = df_eda['tweet_text'].map(lambda x: ' '.join(x))"
   ]
  },
  {
   "cell_type": "markdown",
   "metadata": {},
   "source": [
    "### binary classification model\n",
    "Split the DataFrame to take only binary options "
   ]
  },
  {
   "cell_type": "code",
   "execution_count": 38,
   "metadata": {
    "ExecuteTime": {
     "end_time": "2020-06-30T20:48:49.791276Z",
     "start_time": "2020-06-30T20:48:49.779088Z"
    }
   },
   "outputs": [],
   "source": [
    "binary = df[(df['sentiment'] == 'Negative emotion')|\n",
    "            (df['sentiment'] == 'Positive emotion')]"
   ]
  },
  {
   "cell_type": "markdown",
   "metadata": {},
   "source": [
    "vectorize the data"
   ]
  },
  {
   "cell_type": "code",
   "execution_count": 39,
   "metadata": {
    "ExecuteTime": {
     "end_time": "2020-06-30T20:48:49.868197Z",
     "start_time": "2020-06-30T20:48:49.794396Z"
    }
   },
   "outputs": [],
   "source": [
    "vectorizer = CountVectorizer()\n",
    "X = vectorizer.fit_transform(binary['tweet_text'])\n",
    "Y = binary['sentiment']\n",
    "X_train, X_test, y_train, y_test = train_test_split(\n",
    "    X, Y, test_size=0.2)"
   ]
  },
  {
   "cell_type": "markdown",
   "metadata": {},
   "source": [
    "Created empty DataFrame to track results of the model"
   ]
  },
  {
   "cell_type": "code",
   "execution_count": 40,
   "metadata": {
    "ExecuteTime": {
     "end_time": "2020-06-30T20:48:49.877867Z",
     "start_time": "2020-06-30T20:48:49.870475Z"
    }
   },
   "outputs": [
    {
     "data": {
      "text/html": [
       "<div>\n",
       "<style scoped>\n",
       "    .dataframe tbody tr th:only-of-type {\n",
       "        vertical-align: middle;\n",
       "    }\n",
       "\n",
       "    .dataframe tbody tr th {\n",
       "        vertical-align: top;\n",
       "    }\n",
       "\n",
       "    .dataframe thead th {\n",
       "        text-align: right;\n",
       "    }\n",
       "</style>\n",
       "<table border=\"1\" class=\"dataframe\">\n",
       "  <thead>\n",
       "    <tr style=\"text-align: right;\">\n",
       "      <th></th>\n",
       "    </tr>\n",
       "  </thead>\n",
       "  <tbody>\n",
       "  </tbody>\n",
       "</table>\n",
       "</div>"
      ],
      "text/plain": [
       "Empty DataFrame\n",
       "Columns: []\n",
       "Index: []"
      ]
     },
     "execution_count": 40,
     "metadata": {},
     "output_type": "execute_result"
    }
   ],
   "source": [
    "model_results = pd.DataFrame()\n",
    "model_results.head()"
   ]
  },
  {
   "cell_type": "markdown",
   "metadata": {},
   "source": [
    "### Logistic Regression"
   ]
  },
  {
   "cell_type": "markdown",
   "metadata": {},
   "source": [
    "Ran vanilla Logistic Regression and Random Forest Classifier models with CountVectorizer and added results to DataFrame"
   ]
  },
  {
   "cell_type": "code",
   "execution_count": 41,
   "metadata": {
    "ExecuteTime": {
     "end_time": "2020-06-30T20:49:45.536560Z",
     "start_time": "2020-06-30T20:49:44.943233Z"
    },
    "scrolled": false
   },
   "outputs": [
    {
     "name": "stdout",
     "output_type": "stream",
     "text": [
      "                  precision    recall  f1-score   support\n",
      "\n",
      "Negative emotion       0.55      0.47      0.51       120\n",
      "Positive emotion       0.89      0.92      0.91       590\n",
      "\n",
      "        accuracy                           0.85       710\n",
      "       macro avg       0.72      0.70      0.71       710\n",
      "    weighted avg       0.84      0.85      0.84       710\n",
      "\n"
     ]
    },
    {
     "ename": "NameError",
     "evalue": "name 'plot_confusion_matrix' is not defined",
     "output_type": "error",
     "traceback": [
      "\u001b[0;31m---------------------------------------------------------------------------\u001b[0m",
      "\u001b[0;31mNameError\u001b[0m                                 Traceback (most recent call last)",
      "\u001b[0;32m~/RealMod4Project/CustomerSentiment/report.py\u001b[0m in \u001b[0;36m<module>\u001b[0;34m\u001b[0m\n\u001b[1;32m      3\u001b[0m                             \u001b[0mmax_iter\u001b[0m \u001b[0;34m=\u001b[0m \u001b[0;36m400\u001b[0m\u001b[0;34m,\u001b[0m\u001b[0;34m\u001b[0m\u001b[0;34m\u001b[0m\u001b[0m\n\u001b[1;32m      4\u001b[0m                             class_weight = 'balanced')\n\u001b[0;32m----> 5\u001b[0;31m \u001b[0mreport\u001b[0m\u001b[0;34m(\u001b[0m\u001b[0mlogreg\u001b[0m\u001b[0;34m)\u001b[0m\u001b[0;34m\u001b[0m\u001b[0;34m\u001b[0m\u001b[0m\n\u001b[0m",
      "\u001b[0;32m~/RealMod4Project/CustomerSentiment/report.py\u001b[0m in \u001b[0;36mreport\u001b[0;34m(clf)\u001b[0m\n\u001b[1;32m     11\u001b[0m \u001b[0;34m\u001b[0m\u001b[0m\n\u001b[1;32m     12\u001b[0m     \u001b[0mfig\u001b[0m\u001b[0;34m,\u001b[0m \u001b[0max\u001b[0m \u001b[0;34m=\u001b[0m \u001b[0mplt\u001b[0m\u001b[0;34m.\u001b[0m\u001b[0msubplots\u001b[0m\u001b[0;34m(\u001b[0m\u001b[0mfigsize\u001b[0m\u001b[0;34m=\u001b[0m \u001b[0;34m(\u001b[0m\u001b[0;36m8\u001b[0m\u001b[0;34m,\u001b[0m\u001b[0;36m8\u001b[0m\u001b[0;34m)\u001b[0m\u001b[0;34m)\u001b[0m\u001b[0;34m\u001b[0m\u001b[0;34m\u001b[0m\u001b[0m\n\u001b[0;32m---> 13\u001b[0;31m     \u001b[0mplot_confusion_matrix\u001b[0m\u001b[0;34m(\u001b[0m\u001b[0mclf\u001b[0m\u001b[0;34m,\u001b[0m \u001b[0mX_test\u001b[0m\u001b[0;34m,\u001b[0m \u001b[0my_test\u001b[0m\u001b[0;34m,\u001b[0m \u001b[0max\u001b[0m\u001b[0;34m=\u001b[0m\u001b[0max\u001b[0m\u001b[0;34m)\u001b[0m\u001b[0;34m\u001b[0m\u001b[0;34m\u001b[0m\u001b[0m\n\u001b[0m",
      "\u001b[0;31mNameError\u001b[0m: name 'plot_confusion_matrix' is not defined"
     ]
    },
    {
     "data": {
      "image/png": "iVBORw0KGgoAAAANSUhEUgAAAesAAAHWCAYAAABXF6HSAAAABHNCSVQICAgIfAhkiAAAAAlwSFlzAAALEgAACxIB0t1+/AAAADh0RVh0U29mdHdhcmUAbWF0cGxvdGxpYiB2ZXJzaW9uMy4xLjMsIGh0dHA6Ly9tYXRwbG90bGliLm9yZy+AADFEAAAR50lEQVR4nO3dX4jl91nH8c/TxFistRWzgmQTE3FrXYKQOsSKoJVWSXKxuaklgVIroQtqKmgpRJQq8cqKCEK0rliqgo3RC13Klgg1paU0JVuqoUkJrGltlhSS/jE3oU2jjxcz1el0due3mzO7z+55vWDg/M75zpmH7w7zzu/MmV+quwMAzPWyiz0AAHB2Yg0Aw4k1AAwn1gAwnFgDwHBiDQDD7Rnrqnp/VT1TVZ89w+NVVX9aVaeq6tGqet3qxwSA9bXkzPoDSW45y+O3Jjm09XE0yZ+/9LEAgG/ZM9bd/bEkXz3LktuT/E1vejjJq6vqh1Y1IACsu1X8zvqaJE9tOz69dR8AsAJXruA5apf7dr2GaVUdzeZL5XnFK17xk6997WtX8OUBYL5Pf/rTX+7uA+fzuauI9ekk1247Ppjk6d0WdvexJMeSZGNjo0+ePLmCLw8A81XVf57v567iZfDjSd629a7w1yd5rru/tILnBQCy4My6qj6Y5A1Jrq6q00l+L8l3JUl3vy/JiSS3JTmV5Pkkv7JfwwLAOtoz1t195x6Pd5JfX9lEAMC3cQUzABhOrAFgOLEGgOHEGgCGE2sAGE6sAWA4sQaA4cQaAIYTawAYTqwBYDixBoDhxBoAhhNrABhOrAFgOLEGgOHEGgCGE2sAGE6sAWA4sQaA4cQaAIYTawAYTqwBYDixBoDhxBoAhhNrABhOrAFgOLEGgOHEGgCGE2sAGE6sAWA4sQaA4cQaAIYTawAYTqwBYDixBoDhxBoAhhNrABhOrAFgOLEGgOHEGgCGE2sAGE6sAWA4sQaA4cQaAIYTawAYTqwBYDixBoDhxBoAhhNrABhOrAFgOLEGgOHEGgCGE2sAGE6sAWA4sQaA4cQaAIYTawAYTqwBYDixBoDhxBoAhhNrABhOrAFgOLEGgOHEGgCGE2sAGE6sAWA4sQaA4cQaAIYTawAYTqwBYDixBoDhxBoAhhNrABhOrAFgOLEGgOHEGgCGE2sAGE6sAWC4RbGuqluq6omqOlVV9+zy+HVV9VBVfaaqHq2q21Y/KgCspz1jXVVXJLkvya1JDie5s6oO71j2u0ke6O6bktyR5M9WPSgArKslZ9Y3JznV3U929wtJ7k9y+441neT7tm6/KsnTqxsRANbblQvWXJPkqW3Hp5P81I41v5/kX6rqnUlekeRNK5kOAFh0Zl273Nc7ju9M8oHuPpjktiR/W1Xf8dxVdbSqTlbVyWefffbcpwWANbQk1qeTXLvt+GC+82Xuu5I8kCTd/ckkL09y9c4n6u5j3b3R3RsHDhw4v4kBYM0sifUjSQ5V1Q1VdVU230B2fMeaLyZ5Y5JU1Y9nM9ZOnQFgBfaMdXe/mOTuJA8m+Vw23/X9WFXdW1VHtpa9K8k7qurfk3wwydu7e+dL5QDAeVjyBrN094kkJ3bc955ttx9P8jOrHQ0ASFzBDADGE2sAGE6sAWA4sQaA4cQaAIYTawAYTqwBYDixBoDhxBoAhhNrABhOrAFgOLEGgOHEGgCGE2sAGE6sAWA4sQaA4cQaAIYTawAYTqwBYDixBoDhxBoAhhNrABhOrAFgOLEGgOHEGgCGE2sAGE6sAWA4sQaA4cQaAIYTawAYTqwBYDixBoDhxBoAhhNrABhOrAFgOLEGgOHEGgCGE2sAGE6sAWA4sQaA4cQaAIYTawAYTqwBYDixBoDhxBoAhhNrABhOrAFgOLEGgOHEGgCGE2sAGE6sAWA4sQaA4cQaAIYTawAYTqwBYDixBoDhxBoAhhNrABhOrAFgOLEGgOHEGgCGE2sAGE6sAWA4sQaA4cQaAIYTawAYTqwBYDixBoDhxBoAhhNrABhOrAFgOLEGgOHEGgCGE2sAGE6sAWA4sQaA4cQaAIYTawAYblGsq+qWqnqiqk5V1T1nWPOWqnq8qh6rqr9b7ZgAsL6u3GtBVV2R5L4kv5DkdJJHqup4dz++bc2hJL+d5Ge6+2tV9YP7NTAArJslZ9Y3JznV3U929wtJ7k9y+44170hyX3d/LUm6+5nVjgkA62tJrK9J8tS249Nb9233miSvqapPVNXDVXXLqgYEgHW358vgSWqX+3qX5zmU5A1JDib5eFXd2N3/9W1PVHU0ydEkue666855WABYR0vOrE8nuXbb8cEkT++y5p+7+5vd/fkkT2Qz3t+mu49190Z3bxw4cOB8ZwaAtbIk1o8kOVRVN1TVVUnuSHJ8x5p/SvLzSVJVV2fzZfEnVzkoAKyrPWPd3S8muTvJg0k+l+SB7n6squ6tqiNbyx5M8pWqejzJQ0ne3d1f2a+hAWCdVPfOXz9fGBsbG33y5MmL8rUB4EKrqk9398b5fK4rmAHAcGINAMOJNQAMJ9YAMJxYA8BwYg0Aw4k1AAwn1gAwnFgDwHBiDQDDiTUADCfWADCcWAPAcGINAMOJNQAMJ9YAMJxYA8BwYg0Aw4k1AAwn1gAwnFgDwHBiDQDDiTUADCfWADCcWAPAcGINAMOJNQAMJ9YAMJxYA8BwYg0Aw4k1AAwn1gAwnFgDwHBiDQDDiTUADCfWADCcWAPAcGINAMOJNQAMJ9YAMJxYA8BwYg0Aw4k1AAwn1gAwnFgDwHBiDQDDiTUADCfWADCcWAPAcGINAMOJNQAMJ9YAMJxYA8BwYg0Aw4k1AAwn1gAwnFgDwHBiDQDDiTUADCfWADCcWAPAcGINAMOJNQAMJ9YAMJxYA8BwYg0Aw4k1AAwn1gAwnFgDwHBiDQDDiTUADCfWADCcWAPAcGINAMOJNQAMJ9YAMJxYA8BwYg0Awy2KdVXdUlVPVNWpqrrnLOveXFVdVRurGxEA1tuesa6qK5Lcl+TWJIeT3FlVh3dZ98okv5HkU6seEgDW2ZIz65uTnOruJ7v7hST3J7l9l3V/kOS9Sb6+wvkAYO0tifU1SZ7adnx6677/U1U3Jbm2uz+0wtkAgCyLde1yX//fg1UvS/InSd615xNVHa2qk1V18tlnn10+JQCssSWxPp3k2m3HB5M8ve34lUluTPLRqvpCktcnOb7bm8y6+1h3b3T3xoEDB85/agBYI0ti/UiSQ1V1Q1VdleSOJMe/9WB3P9fdV3f39d19fZKHkxzp7pP7MjEArJk9Y93dLya5O8mDST6X5IHufqyq7q2qI/s9IACsuyuXLOruE0lO7LjvPWdY+4aXPhYA8C2uYAYAw4k1AAwn1gAwnFgDwHBiDQDDiTUADCfWADCcWAPAcGINAMOJNQAMJ9YAMJxYA8BwYg0Aw4k1AAwn1gAwnFgDwHBiDQDDiTUADCfWADCcWAPAcGINAMOJNQAMJ9YAMJxYA8BwYg0Aw4k1AAwn1gAwnFgDwHBiDQDDiTUADCfWADCcWAPAcGINAMOJNQAMJ9YAMJxYA8BwYg0Aw4k1AAwn1gAwnFgDwHBiDQDDiTUADCfWADCcWAPAcGINAMOJNQAMJ9YAMJxYA8BwYg0Aw4k1AAwn1gAwnFgDwHBiDQDDiTUADCfWADCcWAPAcGINAMOJNQAMJ9YAMJxYA8BwYg0Aw4k1AAwn1gAwnFgDwHBiDQDDiTUADCfWADCcWAPAcGINAMOJNQAMJ9YAMJxYA8BwYg0Aw4k1AAwn1gAwnFgDwHBiDQDDiTUADLco1lV1S1U9UVWnquqeXR7/rap6vKoeraqPVNUPr35UAFhPe8a6qq5Icl+SW5McTnJnVR3esewzSTa6+yeS/GOS9656UABYV0vOrG9Ocqq7n+zuF5Lcn+T27Qu6+6Hufn7r8OEkB1c7JgCsryWxvibJU9uOT2/ddyZ3JfnwSxkKAPh/Vy5YU7vc17surHprko0kP3eGx48mOZok11133cIRAWC9LTmzPp3k2m3HB5M8vXNRVb0pye8kOdLd39jtibr7WHdvdPfGgQMHzmdeAFg7S2L9SJJDVXVDVV2V5I4kx7cvqKqbkvxFNkP9zOrHBID1tWesu/vFJHcneTDJ55I80N2PVdW9VXVka9kfJfneJP9QVf9WVcfP8HQAwDla8jvrdPeJJCd23PeebbfftOK5AIAtrmAGAMOJNQAMJ9YAMJxYA8BwYg0Aw4k1AAwn1gAwnFgDwHBiDQDDiTUADCfWADCcWAPAcGINAMOJNQAMJ9YAMJxYA8BwYg0Aw4k1AAwn1gAwnFgDwHBiDQDDiTUADCfWADCcWAPAcGINAMOJNQAMJ9YAMJxYA8BwYg0Aw4k1AAwn1gAwnFgDwHBiDQDDiTUADCfWADCcWAPAcGINAMOJNQAMJ9YAMJxYA8BwYg0Aw4k1AAwn1gAwnFgDwHBiDQDDiTUADCfWADCcWAPAcGINAMOJNQAMJ9YAMJxYA8BwYg0Aw4k1AAwn1gAwnFgDwHBiDQDDiTUADCfWADCcWAPAcGINAMOJNQAMJ9YAMJxYA8BwYg0Aw4k1AAwn1gAwnFgDwHBiDQDDiTUADCfWADCcWAPAcGINAMOJNQAMJ9YAMJxYA8BwYg0Aw4k1AAy3KNZVdUtVPVFVp6rqnl0e/+6q+vutxz9VVdevelAAWFd7xrqqrkhyX5JbkxxOcmdVHd6x7K4kX+vuH03yJ0n+cNWDAsC6WnJmfXOSU939ZHe/kOT+JLfvWHN7kr/euv2PSd5YVbW6MQFgfS2J9TVJntp2fHrrvl3XdPeLSZ5L8gOrGBAA1t2VC9bsdobc57EmVXU0ydGtw29U1WcXfH3O39VJvnyxh1gD9nn/2eP9Z4/334+d7ycuifXpJNduOz6Y5OkzrDldVVcmeVWSr+58ou4+luRYklTVye7eOJ+hWcYeXxj2ef/Z4/1nj/dfVZ08389d8jL4I0kOVdUNVXVVkjuSHN+x5niSX966/eYk/9rd33FmDQCcuz3PrLv7xaq6O8mDSa5I8v7ufqyq7k1ysruPJ/mrJH9bVaeyeUZ9x34ODQDrZMnL4OnuE0lO7LjvPdtufz3JL53j1z52jus5d/b4wrDP+88e7z97vP/Oe4/Lq9UAMJvLjQLAcPsea5cq3X8L9vi3qurxqnq0qj5SVT98Mea8lO21x9vWvbmquqq8q/Y8LNnnqnrL1vfzY1X1dxd6xkvdgp8X11XVQ1X1ma2fGbddjDkvZVX1/qp65kx/nlyb/nTr3+DRqnrdnk/a3fv2kc03pP1Hkh9JclWSf09yeMeaX0vyvq3bdyT5+/2c6XL7WLjHP5/ke7Zu/6o9Xv0eb617ZZKPJXk4ycbFnvtS+1j4vXwoyWeSfP/W8Q9e7LkvpY+Fe3wsya9u3T6c5AsXe+5L7SPJzyZ5XZLPnuHx25J8OJvXKHl9kk/t9Zz7fWbtUqX7b8897u6Huvv5rcOHs/m38iy35Ps4Sf4gyXuTfP1CDncZWbLP70hyX3d/LUm6+5kLPOOlbsked5Lv27r9qnzndTXYQ3d/LLtca2Sb25P8TW96OMmrq+qHzvac+x1rlyrdf0v2eLu7svlfdCy35x5X1U1Jru3uD13IwS4zS76XX5PkNVX1iap6uKpuuWDTXR6W7PHvJ3lrVZ3O5l8BvfPCjLZWzvXn9rI/3XoJVnapUs5o8f5V1VuTbCT5uX2d6PJz1j2uqpdl8/829/YLNdBlasn38pXZfCn8Ddl8hejjVXVjd//XPs92uViyx3cm+UB3/3FV/XQ2r6FxY3f/z/6PtzbOuXv7fWZ9LpcqzdkuVcoZLdnjVNWbkvxOkiPd/Y0LNNvlYq89fmWSG5N8tKq+kM3fQR33JrNztvTnxT939ze7+/NJnshmvFlmyR7fleSBJOnuTyZ5eTavG87qLPq5vd1+x9qlSvffnnu89RLtX2Qz1H7Hd+7Ousfd/Vx3X93d13f39dl8X8CR7j7v6wCvqSU/L/4pm2+YTFVdnc2XxZ+8oFNe2pbs8ReTvDFJqurHsxnrZy/olJe/40netvWu8Ncnea67v3S2T9jXl8HbpUr33cI9/qMk35vkH7beu/fF7j5y0Ya+xCzcY16ihfv8YJJfrKrHk/x3knd391cu3tSXloV7/K4kf1lVv5nNl2bf7gTq3FTVB7P5q5qrt373/3tJvitJuvt92XwvwG1JTiV5Psmv7Pmc/g0AYDZXMAOA4cQaAIYTawAYTqwBYDixBoDhxBoAhhNrABhOrAFguP8FP+e+/VegSywAAAAASUVORK5CYII=\n",
      "text/plain": [
       "<Figure size 576x576 with 1 Axes>"
      ]
     },
     "metadata": {
      "needs_background": "light"
     },
     "output_type": "display_data"
    }
   ],
   "source": [
    "logreg = LogisticRegression(solver= 'lbfgs', \n",
    "                            multi_class = 'auto', \n",
    "                            max_iter = 400, \n",
    "                            class_weight = 'balanced')\n",
    "report(logreg)"
   ]
  },
  {
   "cell_type": "code",
   "execution_count": 42,
   "metadata": {
    "ExecuteTime": {
     "end_time": "2020-06-30T20:49:50.356919Z",
     "start_time": "2020-06-30T20:49:50.353835Z"
    }
   },
   "outputs": [],
   "source": [
    "column_names = ['model_#', 'model_type', 'train_accuracy', 'test_accuracy', 'train_test_diff' ,'negative_recall', \n",
    "                'positive_recall', 'negative_f_1', 'positive_f-1', 'notes']"
   ]
  },
  {
   "cell_type": "code",
   "execution_count": 43,
   "metadata": {
    "ExecuteTime": {
     "end_time": "2020-06-30T20:49:52.038607Z",
     "start_time": "2020-06-30T20:49:52.030221Z"
    }
   },
   "outputs": [],
   "source": [
    "column_names = ['model_#', 'model_type', 'train_accuracy', 'test_accuracy', 'train_test_diff' ,'negative_recall', \n",
    "                'positive_recall', 'negative_f_1', 'positive_f-1', 'notes']\n",
    "results = [1, 'Vanilla Logistic Regression', 0.0,0.0,0.0,50.0,92.0,53.0,91.0, 'Vanilla model very basic, needs tuning']\n",
    "results_dict = dict(zip(column_names,results))\n",
    "model_results1=pd.DataFrame(results_dict, index = range(1))\n",
    "model_results=model_results.append(model_results1)"
   ]
  },
  {
   "cell_type": "code",
   "execution_count": 45,
   "metadata": {
    "ExecuteTime": {
     "end_time": "2020-06-30T20:50:00.568107Z",
     "start_time": "2020-06-30T20:50:00.553542Z"
    }
   },
   "outputs": [
    {
     "data": {
      "text/html": [
       "<div>\n",
       "<style scoped>\n",
       "    .dataframe tbody tr th:only-of-type {\n",
       "        vertical-align: middle;\n",
       "    }\n",
       "\n",
       "    .dataframe tbody tr th {\n",
       "        vertical-align: top;\n",
       "    }\n",
       "\n",
       "    .dataframe thead th {\n",
       "        text-align: right;\n",
       "    }\n",
       "</style>\n",
       "<table border=\"1\" class=\"dataframe\">\n",
       "  <thead>\n",
       "    <tr style=\"text-align: right;\">\n",
       "      <th></th>\n",
       "      <th>model_#</th>\n",
       "      <th>model_type</th>\n",
       "      <th>train_accuracy</th>\n",
       "      <th>test_accuracy</th>\n",
       "      <th>train_test_diff</th>\n",
       "      <th>negative_recall</th>\n",
       "      <th>positive_recall</th>\n",
       "      <th>negative_f_1</th>\n",
       "      <th>positive_f-1</th>\n",
       "      <th>notes</th>\n",
       "    </tr>\n",
       "  </thead>\n",
       "  <tbody>\n",
       "    <tr>\n",
       "      <td>0</td>\n",
       "      <td>1</td>\n",
       "      <td>Vanilla Logistic Regression</td>\n",
       "      <td>0.0</td>\n",
       "      <td>0.0</td>\n",
       "      <td>0.0</td>\n",
       "      <td>50.0</td>\n",
       "      <td>92.0</td>\n",
       "      <td>53.0</td>\n",
       "      <td>91.0</td>\n",
       "      <td>Vanilla model very basic, needs tuning</td>\n",
       "    </tr>\n",
       "  </tbody>\n",
       "</table>\n",
       "</div>"
      ],
      "text/plain": [
       "   model_#                   model_type  train_accuracy  test_accuracy  \\\n",
       "0        1  Vanilla Logistic Regression             0.0            0.0   \n",
       "\n",
       "   train_test_diff  negative_recall  positive_recall  negative_f_1  \\\n",
       "0              0.0             50.0             92.0          53.0   \n",
       "\n",
       "   positive_f-1                                   notes  \n",
       "0          91.0  Vanilla model very basic, needs tuning  "
      ]
     },
     "execution_count": 45,
     "metadata": {},
     "output_type": "execute_result"
    }
   ],
   "source": [
    "model_results"
   ]
  },
  {
   "cell_type": "code",
   "execution_count": 46,
   "metadata": {
    "ExecuteTime": {
     "end_time": "2020-06-30T20:50:01.292770Z",
     "start_time": "2020-06-30T20:50:00.571311Z"
    }
   },
   "outputs": [
    {
     "name": "stderr",
     "output_type": "stream",
     "text": [
      "/Users/will4856/opt/anaconda3/envs/learn-env/lib/python3.6/site-packages/sklearn/ensemble/forest.py:245: FutureWarning: The default value of n_estimators will change from 10 in version 0.20 to 100 in 0.22.\n",
      "  \"10 in version 0.20 to 100 in 0.22.\", FutureWarning)\n"
     ]
    },
    {
     "name": "stdout",
     "output_type": "stream",
     "text": [
      "                  precision    recall  f1-score   support\n",
      "\n",
      "Negative emotion       0.74      0.33      0.45       120\n",
      "Positive emotion       0.88      0.98      0.92       590\n",
      "\n",
      "        accuracy                           0.87       710\n",
      "       macro avg       0.81      0.65      0.69       710\n",
      "    weighted avg       0.85      0.87      0.84       710\n",
      "\n"
     ]
    },
    {
     "ename": "NameError",
     "evalue": "name 'plot_confusion_matrix' is not defined",
     "output_type": "error",
     "traceback": [
      "\u001b[0;31m---------------------------------------------------------------------------\u001b[0m",
      "\u001b[0;31mNameError\u001b[0m                                 Traceback (most recent call last)",
      "\u001b[0;32m~/RealMod4Project/CustomerSentiment/report.py\u001b[0m in \u001b[0;36m<module>\u001b[0;34m\u001b[0m\n\u001b[1;32m      1\u001b[0m \u001b[0mrand_tree\u001b[0m \u001b[0;34m=\u001b[0m \u001b[0mRandomForestClassifier\u001b[0m\u001b[0;34m(\u001b[0m\u001b[0;34m)\u001b[0m\u001b[0;34m\u001b[0m\u001b[0;34m\u001b[0m\u001b[0m\n\u001b[0;32m----> 2\u001b[0;31m \u001b[0mreport\u001b[0m\u001b[0;34m(\u001b[0m\u001b[0mrand_tree\u001b[0m\u001b[0;34m)\u001b[0m\u001b[0;34m\u001b[0m\u001b[0;34m\u001b[0m\u001b[0m\n\u001b[0m",
      "\u001b[0;32m~/RealMod4Project/CustomerSentiment/report.py\u001b[0m in \u001b[0;36mreport\u001b[0;34m(clf)\u001b[0m\n\u001b[1;32m     11\u001b[0m \u001b[0;34m\u001b[0m\u001b[0m\n\u001b[1;32m     12\u001b[0m     \u001b[0mfig\u001b[0m\u001b[0;34m,\u001b[0m \u001b[0max\u001b[0m \u001b[0;34m=\u001b[0m \u001b[0mplt\u001b[0m\u001b[0;34m.\u001b[0m\u001b[0msubplots\u001b[0m\u001b[0;34m(\u001b[0m\u001b[0mfigsize\u001b[0m\u001b[0;34m=\u001b[0m \u001b[0;34m(\u001b[0m\u001b[0;36m8\u001b[0m\u001b[0;34m,\u001b[0m\u001b[0;36m8\u001b[0m\u001b[0;34m)\u001b[0m\u001b[0;34m)\u001b[0m\u001b[0;34m\u001b[0m\u001b[0;34m\u001b[0m\u001b[0m\n\u001b[0;32m---> 13\u001b[0;31m     \u001b[0mplot_confusion_matrix\u001b[0m\u001b[0;34m(\u001b[0m\u001b[0mclf\u001b[0m\u001b[0;34m,\u001b[0m \u001b[0mX_test\u001b[0m\u001b[0;34m,\u001b[0m \u001b[0my_test\u001b[0m\u001b[0;34m,\u001b[0m \u001b[0max\u001b[0m\u001b[0;34m=\u001b[0m\u001b[0max\u001b[0m\u001b[0;34m)\u001b[0m\u001b[0;34m\u001b[0m\u001b[0;34m\u001b[0m\u001b[0m\n\u001b[0m",
      "\u001b[0;31mNameError\u001b[0m: name 'plot_confusion_matrix' is not defined"
     ]
    },
    {
     "data": {
      "image/png": "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\n",
      "text/plain": [
       "<Figure size 576x576 with 1 Axes>"
      ]
     },
     "metadata": {
      "needs_background": "light"
     },
     "output_type": "display_data"
    }
   ],
   "source": [
    "rand_tree = RandomForestClassifier()\n",
    "report(rand_tree)"
   ]
  },
  {
   "cell_type": "code",
   "execution_count": 47,
   "metadata": {
    "ExecuteTime": {
     "end_time": "2020-06-30T20:50:12.007648Z",
     "start_time": "2020-06-30T20:50:11.988615Z"
    }
   },
   "outputs": [
    {
     "data": {
      "text/html": [
       "<div>\n",
       "<style scoped>\n",
       "    .dataframe tbody tr th:only-of-type {\n",
       "        vertical-align: middle;\n",
       "    }\n",
       "\n",
       "    .dataframe tbody tr th {\n",
       "        vertical-align: top;\n",
       "    }\n",
       "\n",
       "    .dataframe thead th {\n",
       "        text-align: right;\n",
       "    }\n",
       "</style>\n",
       "<table border=\"1\" class=\"dataframe\">\n",
       "  <thead>\n",
       "    <tr style=\"text-align: right;\">\n",
       "      <th></th>\n",
       "      <th>model_#</th>\n",
       "      <th>model_type</th>\n",
       "      <th>train_accuracy</th>\n",
       "      <th>test_accuracy</th>\n",
       "      <th>train_test_diff</th>\n",
       "      <th>negative_recall</th>\n",
       "      <th>positive_recall</th>\n",
       "      <th>negative_f_1</th>\n",
       "      <th>positive_f-1</th>\n",
       "      <th>notes</th>\n",
       "    </tr>\n",
       "  </thead>\n",
       "  <tbody>\n",
       "    <tr>\n",
       "      <td>0</td>\n",
       "      <td>1</td>\n",
       "      <td>Vanilla Logistic Regression</td>\n",
       "      <td>0.0</td>\n",
       "      <td>0.0</td>\n",
       "      <td>0.0</td>\n",
       "      <td>50.0</td>\n",
       "      <td>92.0</td>\n",
       "      <td>53.0</td>\n",
       "      <td>91.0</td>\n",
       "      <td>Vanilla model very basic, needs tuning</td>\n",
       "    </tr>\n",
       "    <tr>\n",
       "      <td>0</td>\n",
       "      <td>2</td>\n",
       "      <td>Vanilla Random Forest Classifier</td>\n",
       "      <td>0.0</td>\n",
       "      <td>0.0</td>\n",
       "      <td>0.0</td>\n",
       "      <td>38.0</td>\n",
       "      <td>97.0</td>\n",
       "      <td>51.0</td>\n",
       "      <td>93.0</td>\n",
       "      <td>Vanilla model very basic, needs tuning</td>\n",
       "    </tr>\n",
       "  </tbody>\n",
       "</table>\n",
       "</div>"
      ],
      "text/plain": [
       "   model_#                        model_type  train_accuracy  test_accuracy  \\\n",
       "0        1       Vanilla Logistic Regression             0.0            0.0   \n",
       "0        2  Vanilla Random Forest Classifier             0.0            0.0   \n",
       "\n",
       "   train_test_diff  negative_recall  positive_recall  negative_f_1  \\\n",
       "0              0.0             50.0             92.0          53.0   \n",
       "0              0.0             38.0             97.0          51.0   \n",
       "\n",
       "   positive_f-1                                   notes  \n",
       "0          91.0  Vanilla model very basic, needs tuning  \n",
       "0          93.0  Vanilla model very basic, needs tuning  "
      ]
     },
     "execution_count": 47,
     "metadata": {},
     "output_type": "execute_result"
    }
   ],
   "source": [
    "column_names = ['model_#', 'model_type', 'train_accuracy', 'test_accuracy', 'train_test_diff' ,'negative_recall', \n",
    "                'positive_recall', 'negative_f_1', 'positive_f-1', 'notes']\n",
    "results = [2, 'Vanilla Random Forest Classifier', 0.0,0.0,0.0,38.0,97.0,51.0,93.0, 'Vanilla model very basic, needs tuning']\n",
    "results_dict = dict(zip(column_names,results))\n",
    "model_results2=pd.DataFrame(results_dict, index = range(1))\n",
    "model_results=model_results.append(model_results2)\n",
    "model_results"
   ]
  },
  {
   "cell_type": "markdown",
   "metadata": {},
   "source": [
    "# SMOTE"
   ]
  },
  {
   "cell_type": "markdown",
   "metadata": {},
   "source": [
    "Created SMOTE train/test data split to explore answers to class imbalance"
   ]
  },
  {
   "cell_type": "code",
   "execution_count": 48,
   "metadata": {
    "ExecuteTime": {
     "end_time": "2020-06-30T20:50:18.476977Z",
     "start_time": "2020-06-30T20:50:16.646696Z"
    }
   },
   "outputs": [],
   "source": [
    "smote = SMOTE()\n",
    "X_res, y_res = smote.fit_resample(X,Y)"
   ]
  },
  {
   "cell_type": "code",
   "execution_count": 49,
   "metadata": {
    "ExecuteTime": {
     "end_time": "2020-06-30T20:50:18.484167Z",
     "start_time": "2020-06-30T20:50:18.479355Z"
    }
   },
   "outputs": [],
   "source": [
    "X_train_SMOTE, X_test_SMOTE, y_train_SMOTE, y_test_SMOTE = train_test_split(X_res, y_res, test_size = 0.25, \n",
    "                                                                            random_state=42)"
   ]
  },
  {
   "cell_type": "markdown",
   "metadata": {},
   "source": [
    "# Binary Support Vector Machine Modeling"
   ]
  },
  {
   "cell_type": "markdown",
   "metadata": {},
   "source": [
    "Created binary modeling data set and assigned Sentiment Values either 0 (Negative) or 1 (Positive)"
   ]
  },
  {
   "cell_type": "code",
   "execution_count": 50,
   "metadata": {
    "ExecuteTime": {
     "end_time": "2020-06-30T20:50:18.498791Z",
     "start_time": "2020-06-30T20:50:18.487055Z"
    }
   },
   "outputs": [
    {
     "name": "stderr",
     "output_type": "stream",
     "text": [
      "report.py:3: SettingWithCopyWarning: \n",
      "A value is trying to be set on a copy of a slice from a DataFrame.\n",
      "Try using .loc[row_indexer,col_indexer] = value instead\n",
      "\n",
      "See the caveats in the documentation: http://pandas.pydata.org/pandas-docs/stable/user_guide/indexing.html#returning-a-view-versus-a-copy\n",
      "  clf.fit(X_train, y_train)\n"
     ]
    }
   ],
   "source": [
    "df_modeling = df_eda.loc[(df_eda['sentiment'] == 'Positive emotion') | \n",
    "                         (df_eda['sentiment'] == 'Negative emotion')]\n",
    "df_modeling['sentiment'] = df_modeling['sentiment'].replace({'Positive emotion':1,'Negative emotion':0})"
   ]
  },
  {
   "cell_type": "code",
   "execution_count": 51,
   "metadata": {
    "ExecuteTime": {
     "end_time": "2020-06-30T20:50:18.512146Z",
     "start_time": "2020-06-30T20:50:18.502050Z"
    }
   },
   "outputs": [
    {
     "name": "stderr",
     "output_type": "stream",
     "text": [
      "report.py:1: SettingWithCopyWarning: \n",
      "A value is trying to be set on a copy of a slice from a DataFrame.\n",
      "Try using .loc[row_indexer,col_indexer] = value instead\n",
      "\n",
      "See the caveats in the documentation: http://pandas.pydata.org/pandas-docs/stable/user_guide/indexing.html#returning-a-view-versus-a-copy\n",
      "  def report(clf):\n"
     ]
    },
    {
     "data": {
      "text/html": [
       "<div>\n",
       "<style scoped>\n",
       "    .dataframe tbody tr th:only-of-type {\n",
       "        vertical-align: middle;\n",
       "    }\n",
       "\n",
       "    .dataframe tbody tr th {\n",
       "        vertical-align: top;\n",
       "    }\n",
       "\n",
       "    .dataframe thead th {\n",
       "        text-align: right;\n",
       "    }\n",
       "</style>\n",
       "<table border=\"1\" class=\"dataframe\">\n",
       "  <thead>\n",
       "    <tr style=\"text-align: right;\">\n",
       "      <th></th>\n",
       "      <th>tweet_text</th>\n",
       "      <th>brand_product</th>\n",
       "      <th>sentiment</th>\n",
       "    </tr>\n",
       "  </thead>\n",
       "  <tbody>\n",
       "    <tr>\n",
       "      <td>0</td>\n",
       "      <td>wesley83 3g iphone 3 hr tweeting riseaustin de...</td>\n",
       "      <td>apple_product</td>\n",
       "      <td>0</td>\n",
       "    </tr>\n",
       "    <tr>\n",
       "      <td>1</td>\n",
       "      <td>jessedee know fludapp awesome ipadiphone app y...</td>\n",
       "      <td>apple_product</td>\n",
       "      <td>1</td>\n",
       "    </tr>\n",
       "    <tr>\n",
       "      <td>2</td>\n",
       "      <td>swonderlin wait ipad 2 also sale</td>\n",
       "      <td>apple_product</td>\n",
       "      <td>1</td>\n",
       "    </tr>\n",
       "    <tr>\n",
       "      <td>3</td>\n",
       "      <td>hope year festival isnt crashy year iphone app</td>\n",
       "      <td>apple_product</td>\n",
       "      <td>0</td>\n",
       "    </tr>\n",
       "    <tr>\n",
       "      <td>4</td>\n",
       "      <td>sxtxstate great stuff fri marissa mayer google...</td>\n",
       "      <td>android_product</td>\n",
       "      <td>1</td>\n",
       "    </tr>\n",
       "  </tbody>\n",
       "</table>\n",
       "</div>"
      ],
      "text/plain": [
       "                                          tweet_text    brand_product  \\\n",
       "0  wesley83 3g iphone 3 hr tweeting riseaustin de...    apple_product   \n",
       "1  jessedee know fludapp awesome ipadiphone app y...    apple_product   \n",
       "2                   swonderlin wait ipad 2 also sale    apple_product   \n",
       "3     hope year festival isnt crashy year iphone app    apple_product   \n",
       "4  sxtxstate great stuff fri marissa mayer google...  android_product   \n",
       "\n",
       "   sentiment  \n",
       "0          0  \n",
       "1          1  \n",
       "2          1  \n",
       "3          0  \n",
       "4          1  "
      ]
     },
     "execution_count": 51,
     "metadata": {},
     "output_type": "execute_result"
    }
   ],
   "source": [
    "df_modeling['tweet_text'] = df_modeling['tweet_text']\n",
    "df_modeling.head()"
   ]
  },
  {
   "cell_type": "markdown",
   "metadata": {},
   "source": [
    "Vectorized tweet_text data and split data set into train and test sets"
   ]
  },
  {
   "cell_type": "code",
   "execution_count": 52,
   "metadata": {
    "ExecuteTime": {
     "end_time": "2020-06-30T20:50:18.518487Z",
     "start_time": "2020-06-30T20:50:18.515309Z"
    }
   },
   "outputs": [],
   "source": [
    "tf_idfvectorizer = TfidfVectorizer(max_features = 400)"
   ]
  },
  {
   "cell_type": "code",
   "execution_count": 53,
   "metadata": {
    "ExecuteTime": {
     "end_time": "2020-06-30T20:50:18.524467Z",
     "start_time": "2020-06-30T20:50:18.521209Z"
    }
   },
   "outputs": [],
   "source": [
    "X = df_modeling['tweet_text']\n",
    "y = df_modeling['sentiment']"
   ]
  },
  {
   "cell_type": "code",
   "execution_count": 54,
   "metadata": {
    "ExecuteTime": {
     "end_time": "2020-06-30T20:50:18.531530Z",
     "start_time": "2020-06-30T20:50:18.526484Z"
    }
   },
   "outputs": [],
   "source": [
    "X_train, X_test, y_train, y_test = train_test_split(X,y,test_size = 0.25, random_state=42)"
   ]
  },
  {
   "cell_type": "code",
   "execution_count": 55,
   "metadata": {
    "ExecuteTime": {
     "end_time": "2020-06-30T20:50:18.661421Z",
     "start_time": "2020-06-30T20:50:18.535246Z"
    }
   },
   "outputs": [],
   "source": [
    "tf_idfvectorizer.fit(X)\n",
    "X_train_tfidf = tf_idfvectorizer.transform(X_train)\n",
    "X_test_tfidf = tf_idfvectorizer.transform(X_test)"
   ]
  },
  {
   "cell_type": "markdown",
   "metadata": {},
   "source": [
    "Fit Vectorizer to tweet data and transformed using TfIDF Vectorizer. Ran first Support Vector Machine Model using Linear kernel and balanced data set"
   ]
  },
  {
   "cell_type": "code",
   "execution_count": 56,
   "metadata": {
    "ExecuteTime": {
     "end_time": "2020-06-30T20:50:19.290367Z",
     "start_time": "2020-06-30T20:50:18.665409Z"
    }
   },
   "outputs": [
    {
     "name": "stdout",
     "output_type": "stream",
     "text": [
      "              precision    recall  f1-score   support\n",
      "\n",
      "           0       0.36      0.67      0.47       137\n",
      "           1       0.93      0.78      0.85       750\n",
      "\n",
      "    accuracy                           0.76       887\n",
      "   macro avg       0.64      0.73      0.66       887\n",
      "weighted avg       0.84      0.76      0.79       887\n",
      "\n",
      "[[ 92  45]\n",
      " [164 586]]\n",
      "Test SVM Accuracy Score ->  76.43742953776776\n",
      "Training SVM Accuracy Score ->  81.3228109733183\n"
     ]
    }
   ],
   "source": [
    "svm_clf = SVC(kernel='linear', class_weight='balanced')\n",
    "svm_clf.fit(X_train_tfidf,y_train)\n",
    "y_test_preds = svm_clf.predict(X_test_tfidf)\n",
    "y_train_preds = svm_clf.predict(X_train_tfidf)\n",
    "print(classification_report(y_test, y_test_preds))\n",
    "print(confusion_matrix(y_test, y_test_preds))\n",
    "print(\"Test SVM Accuracy Score -> \",accuracy_score(y_test, y_test_preds)*100)\n",
    "print(\"Training SVM Accuracy Score -> \",accuracy_score(y_train, y_train_preds)*100)"
   ]
  },
  {
   "cell_type": "code",
   "execution_count": 57,
   "metadata": {
    "ExecuteTime": {
     "end_time": "2020-06-30T20:50:19.314979Z",
     "start_time": "2020-06-30T20:50:19.293824Z"
    }
   },
   "outputs": [
    {
     "data": {
      "text/html": [
       "<div>\n",
       "<style scoped>\n",
       "    .dataframe tbody tr th:only-of-type {\n",
       "        vertical-align: middle;\n",
       "    }\n",
       "\n",
       "    .dataframe tbody tr th {\n",
       "        vertical-align: top;\n",
       "    }\n",
       "\n",
       "    .dataframe thead th {\n",
       "        text-align: right;\n",
       "    }\n",
       "</style>\n",
       "<table border=\"1\" class=\"dataframe\">\n",
       "  <thead>\n",
       "    <tr style=\"text-align: right;\">\n",
       "      <th></th>\n",
       "      <th>model_#</th>\n",
       "      <th>model_type</th>\n",
       "      <th>train_accuracy</th>\n",
       "      <th>test_accuracy</th>\n",
       "      <th>train_test_diff</th>\n",
       "      <th>negative_recall</th>\n",
       "      <th>positive_recall</th>\n",
       "      <th>negative_f_1</th>\n",
       "      <th>positive_f-1</th>\n",
       "      <th>notes</th>\n",
       "    </tr>\n",
       "  </thead>\n",
       "  <tbody>\n",
       "    <tr>\n",
       "      <td>0</td>\n",
       "      <td>1</td>\n",
       "      <td>Vanilla Logistic Regression</td>\n",
       "      <td>0.0</td>\n",
       "      <td>0.0</td>\n",
       "      <td>0.0</td>\n",
       "      <td>50.0</td>\n",
       "      <td>92.0</td>\n",
       "      <td>53.0</td>\n",
       "      <td>91.0</td>\n",
       "      <td>Vanilla model very basic, needs tuning</td>\n",
       "    </tr>\n",
       "    <tr>\n",
       "      <td>0</td>\n",
       "      <td>2</td>\n",
       "      <td>Vanilla Random Forest Classifier</td>\n",
       "      <td>0.0</td>\n",
       "      <td>0.0</td>\n",
       "      <td>0.0</td>\n",
       "      <td>38.0</td>\n",
       "      <td>97.0</td>\n",
       "      <td>51.0</td>\n",
       "      <td>93.0</td>\n",
       "      <td>Vanilla model very basic, needs tuning</td>\n",
       "    </tr>\n",
       "    <tr>\n",
       "      <td>0</td>\n",
       "      <td>3</td>\n",
       "      <td>SVM: Balanced Class Weights, Linear Kernel</td>\n",
       "      <td>81.3</td>\n",
       "      <td>76.4</td>\n",
       "      <td>4.9</td>\n",
       "      <td>67.0</td>\n",
       "      <td>78.0</td>\n",
       "      <td>47.0</td>\n",
       "      <td>85.0</td>\n",
       "      <td>Model overfits and class imbalance still causi...</td>\n",
       "    </tr>\n",
       "  </tbody>\n",
       "</table>\n",
       "</div>"
      ],
      "text/plain": [
       "   model_#                                  model_type  train_accuracy  \\\n",
       "0        1                 Vanilla Logistic Regression             0.0   \n",
       "0        2            Vanilla Random Forest Classifier             0.0   \n",
       "0        3  SVM: Balanced Class Weights, Linear Kernel            81.3   \n",
       "\n",
       "   test_accuracy  train_test_diff  negative_recall  positive_recall  \\\n",
       "0            0.0              0.0             50.0             92.0   \n",
       "0            0.0              0.0             38.0             97.0   \n",
       "0           76.4              4.9             67.0             78.0   \n",
       "\n",
       "   negative_f_1  positive_f-1  \\\n",
       "0          53.0          91.0   \n",
       "0          51.0          93.0   \n",
       "0          47.0          85.0   \n",
       "\n",
       "                                               notes  \n",
       "0             Vanilla model very basic, needs tuning  \n",
       "0             Vanilla model very basic, needs tuning  \n",
       "0  Model overfits and class imbalance still causi...  "
      ]
     },
     "execution_count": 57,
     "metadata": {},
     "output_type": "execute_result"
    }
   ],
   "source": [
    "column_names = ['model_#', 'model_type', 'train_accuracy', 'test_accuracy', 'train_test_diff' ,'negative_recall', \n",
    "                'positive_recall', 'negative_f_1', 'positive_f-1', 'notes']\n",
    "results = [3, 'SVM: Balanced Class Weights, Linear Kernel', 81.3,76.4,4.9,67.0,78.0,47.0,85.0, 'Model overfits and class imbalance still causing issues with model']\n",
    "results_dict = dict(zip(column_names,results))\n",
    "model_results3=pd.DataFrame(results_dict, index = range(1))\n",
    "model_results=model_results.append(model_results3)\n",
    "model_results"
   ]
  },
  {
   "cell_type": "markdown",
   "metadata": {},
   "source": [
    "Model overfit. Performed GridSearch to find optimal parameters for model"
   ]
  },
  {
   "cell_type": "code",
   "execution_count": 58,
   "metadata": {
    "ExecuteTime": {
     "end_time": "2020-06-30T20:50:19.328486Z",
     "start_time": "2020-06-30T20:50:19.322454Z"
    }
   },
   "outputs": [],
   "source": [
    "params_svc = {'C': [0.1, 1, 10, 100], 'gamma':[1,0.1,0.01,0.001]}\n",
    "estimator_svc = SVC(kernel='linear',\n",
    "                    class_weight='balanced')\n",
    "grid_search_svc = GridSearchCV(estimator=estimator_svc, \n",
    "                              param_grid=params_svc,\n",
    "                              scoring = 'accuracy',\n",
    "                              n_jobs = -1,\n",
    "                              cv = 10,\n",
    "                              verbose = True)"
   ]
  },
  {
   "cell_type": "code",
   "execution_count": 59,
   "metadata": {
    "ExecuteTime": {
     "end_time": "2020-06-30T20:50:19.335388Z",
     "start_time": "2020-06-30T20:50:19.330935Z"
    }
   },
   "outputs": [],
   "source": [
    "#grid_search_svc.fit(X_train_tfidf, y_train)"
   ]
  },
  {
   "cell_type": "code",
   "execution_count": 60,
   "metadata": {
    "ExecuteTime": {
     "end_time": "2020-06-30T20:50:19.341824Z",
     "start_time": "2020-06-30T20:50:19.338444Z"
    }
   },
   "outputs": [],
   "source": [
    "#grid_search_svc.best_params_"
   ]
  },
  {
   "cell_type": "code",
   "execution_count": 61,
   "metadata": {
    "ExecuteTime": {
     "end_time": "2020-06-30T20:50:20.067326Z",
     "start_time": "2020-06-30T20:50:19.345130Z"
    }
   },
   "outputs": [
    {
     "name": "stdout",
     "output_type": "stream",
     "text": [
      "              precision    recall  f1-score   support\n",
      "\n",
      "           0       0.35      0.64      0.45       137\n",
      "           1       0.92      0.78      0.84       750\n",
      "\n",
      "    accuracy                           0.76       887\n",
      "   macro avg       0.63      0.71      0.65       887\n",
      "weighted avg       0.83      0.76      0.78       887\n",
      "\n",
      "[[ 88  49]\n",
      " [167 583]]\n",
      "Test SVM Accuracy Score ->  75.64825253664036\n",
      "Training SVM Accuracy Score ->  84.51709883502443\n"
     ]
    }
   ],
   "source": [
    "svm_clf = SVC(kernel='linear', class_weight='balanced', C = 10, gamma= 1)\n",
    "svm_clf.fit(X_train_tfidf,y_train)\n",
    "y_test_preds = svm_clf.predict(X_test_tfidf)\n",
    "y_train_preds = svm_clf.predict(X_train_tfidf)\n",
    "print(classification_report(y_test, y_test_preds))\n",
    "print(confusion_matrix(y_test, y_test_preds))\n",
    "print(\"Test SVM Accuracy Score -> \",accuracy_score(y_test, y_test_preds)*100)\n",
    "print(\"Training SVM Accuracy Score -> \",accuracy_score(y_train, y_train_preds)*100)"
   ]
  },
  {
   "cell_type": "code",
   "execution_count": 62,
   "metadata": {
    "ExecuteTime": {
     "end_time": "2020-06-30T20:50:20.098051Z",
     "start_time": "2020-06-30T20:50:20.069623Z"
    }
   },
   "outputs": [
    {
     "data": {
      "text/html": [
       "<div>\n",
       "<style scoped>\n",
       "    .dataframe tbody tr th:only-of-type {\n",
       "        vertical-align: middle;\n",
       "    }\n",
       "\n",
       "    .dataframe tbody tr th {\n",
       "        vertical-align: top;\n",
       "    }\n",
       "\n",
       "    .dataframe thead th {\n",
       "        text-align: right;\n",
       "    }\n",
       "</style>\n",
       "<table border=\"1\" class=\"dataframe\">\n",
       "  <thead>\n",
       "    <tr style=\"text-align: right;\">\n",
       "      <th></th>\n",
       "      <th>model_#</th>\n",
       "      <th>model_type</th>\n",
       "      <th>train_accuracy</th>\n",
       "      <th>test_accuracy</th>\n",
       "      <th>train_test_diff</th>\n",
       "      <th>negative_recall</th>\n",
       "      <th>positive_recall</th>\n",
       "      <th>negative_f_1</th>\n",
       "      <th>positive_f-1</th>\n",
       "      <th>notes</th>\n",
       "    </tr>\n",
       "  </thead>\n",
       "  <tbody>\n",
       "    <tr>\n",
       "      <td>0</td>\n",
       "      <td>1</td>\n",
       "      <td>Vanilla Logistic Regression</td>\n",
       "      <td>0.0</td>\n",
       "      <td>0.0</td>\n",
       "      <td>0.0</td>\n",
       "      <td>50.0</td>\n",
       "      <td>92.0</td>\n",
       "      <td>53.0</td>\n",
       "      <td>91.0</td>\n",
       "      <td>Vanilla model very basic, needs tuning</td>\n",
       "    </tr>\n",
       "    <tr>\n",
       "      <td>0</td>\n",
       "      <td>2</td>\n",
       "      <td>Vanilla Random Forest Classifier</td>\n",
       "      <td>0.0</td>\n",
       "      <td>0.0</td>\n",
       "      <td>0.0</td>\n",
       "      <td>38.0</td>\n",
       "      <td>97.0</td>\n",
       "      <td>51.0</td>\n",
       "      <td>93.0</td>\n",
       "      <td>Vanilla model very basic, needs tuning</td>\n",
       "    </tr>\n",
       "    <tr>\n",
       "      <td>0</td>\n",
       "      <td>3</td>\n",
       "      <td>SVM: Balanced Class Weights, Linear Kernel</td>\n",
       "      <td>81.3</td>\n",
       "      <td>76.4</td>\n",
       "      <td>4.9</td>\n",
       "      <td>67.0</td>\n",
       "      <td>78.0</td>\n",
       "      <td>47.0</td>\n",
       "      <td>85.0</td>\n",
       "      <td>Model overfits and class imbalance still causi...</td>\n",
       "    </tr>\n",
       "    <tr>\n",
       "      <td>0</td>\n",
       "      <td>4</td>\n",
       "      <td>SVM: Balanced Class Weights, Linear Kernel, Gr...</td>\n",
       "      <td>84.5</td>\n",
       "      <td>75.6</td>\n",
       "      <td>8.9</td>\n",
       "      <td>64.0</td>\n",
       "      <td>78.0</td>\n",
       "      <td>45.0</td>\n",
       "      <td>84.0</td>\n",
       "      <td>Model still overfits and less predictive for b...</td>\n",
       "    </tr>\n",
       "  </tbody>\n",
       "</table>\n",
       "</div>"
      ],
      "text/plain": [
       "   model_#                                         model_type  train_accuracy  \\\n",
       "0        1                        Vanilla Logistic Regression             0.0   \n",
       "0        2                   Vanilla Random Forest Classifier             0.0   \n",
       "0        3         SVM: Balanced Class Weights, Linear Kernel            81.3   \n",
       "0        4  SVM: Balanced Class Weights, Linear Kernel, Gr...            84.5   \n",
       "\n",
       "   test_accuracy  train_test_diff  negative_recall  positive_recall  \\\n",
       "0            0.0              0.0             50.0             92.0   \n",
       "0            0.0              0.0             38.0             97.0   \n",
       "0           76.4              4.9             67.0             78.0   \n",
       "0           75.6              8.9             64.0             78.0   \n",
       "\n",
       "   negative_f_1  positive_f-1  \\\n",
       "0          53.0          91.0   \n",
       "0          51.0          93.0   \n",
       "0          47.0          85.0   \n",
       "0          45.0          84.0   \n",
       "\n",
       "                                               notes  \n",
       "0             Vanilla model very basic, needs tuning  \n",
       "0             Vanilla model very basic, needs tuning  \n",
       "0  Model overfits and class imbalance still causi...  \n",
       "0  Model still overfits and less predictive for b...  "
      ]
     },
     "execution_count": 62,
     "metadata": {},
     "output_type": "execute_result"
    }
   ],
   "source": [
    "column_names = ['model_#', 'model_type', 'train_accuracy', 'test_accuracy', 'train_test_diff' ,'negative_recall', \n",
    "                'positive_recall', 'negative_f_1', 'positive_f-1', 'notes']\n",
    "results = [4, 'SVM: Balanced Class Weights, Linear Kernel, GridSearch Params', \n",
    "           84.5,75.6,8.9,64.0,78.0,45.0,84.0, 'Model still overfits and less predictive for both classes']\n",
    "results_dict = dict(zip(column_names,results))\n",
    "model_results4=pd.DataFrame(results_dict, index = range(1))\n",
    "model_results=model_results.append(model_results4)\n",
    "model_results"
   ]
  },
  {
   "cell_type": "markdown",
   "metadata": {},
   "source": [
    "Tried best performing SVC model with the SMOTE data to see the effect"
   ]
  },
  {
   "cell_type": "code",
   "execution_count": 63,
   "metadata": {
    "ExecuteTime": {
     "end_time": "2020-06-30T20:50:21.845953Z",
     "start_time": "2020-06-30T20:50:20.100095Z"
    }
   },
   "outputs": [
    {
     "name": "stdout",
     "output_type": "stream",
     "text": [
      "                  precision    recall  f1-score   support\n",
      "\n",
      "Negative emotion       0.86      0.95      0.90       728\n",
      "Positive emotion       0.94      0.85      0.89       761\n",
      "\n",
      "        accuracy                           0.90      1489\n",
      "       macro avg       0.90      0.90      0.90      1489\n",
      "    weighted avg       0.90      0.90      0.90      1489\n",
      "\n",
      "[[688  40]\n",
      " [113 648]]\n",
      "Test SVM Accuracy Score ->  89.72464741437206\n",
      "Training SVM Accuracy Score ->  99.28363554958585\n"
     ]
    }
   ],
   "source": [
    "svm_clf = SVC(kernel='linear')\n",
    "svm_clf.fit(X_train_SMOTE,y_train_SMOTE)\n",
    "y_test_preds = svm_clf.predict(X_test_SMOTE)\n",
    "y_train_preds = svm_clf.predict(X_train_SMOTE)\n",
    "print(classification_report(y_test_SMOTE, y_test_preds))\n",
    "print(confusion_matrix(y_test_SMOTE, y_test_preds))\n",
    "print(\"Test SVM Accuracy Score -> \",accuracy_score(y_test_SMOTE, y_test_preds)*100)\n",
    "print(\"Training SVM Accuracy Score -> \",accuracy_score(y_train_SMOTE, y_train_preds)*100)"
   ]
  },
  {
   "cell_type": "code",
   "execution_count": 64,
   "metadata": {
    "ExecuteTime": {
     "end_time": "2020-06-30T20:50:21.875665Z",
     "start_time": "2020-06-30T20:50:21.848023Z"
    }
   },
   "outputs": [
    {
     "data": {
      "text/html": [
       "<div>\n",
       "<style scoped>\n",
       "    .dataframe tbody tr th:only-of-type {\n",
       "        vertical-align: middle;\n",
       "    }\n",
       "\n",
       "    .dataframe tbody tr th {\n",
       "        vertical-align: top;\n",
       "    }\n",
       "\n",
       "    .dataframe thead th {\n",
       "        text-align: right;\n",
       "    }\n",
       "</style>\n",
       "<table border=\"1\" class=\"dataframe\">\n",
       "  <thead>\n",
       "    <tr style=\"text-align: right;\">\n",
       "      <th></th>\n",
       "      <th>model_#</th>\n",
       "      <th>model_type</th>\n",
       "      <th>train_accuracy</th>\n",
       "      <th>test_accuracy</th>\n",
       "      <th>train_test_diff</th>\n",
       "      <th>negative_recall</th>\n",
       "      <th>positive_recall</th>\n",
       "      <th>negative_f_1</th>\n",
       "      <th>positive_f-1</th>\n",
       "      <th>notes</th>\n",
       "    </tr>\n",
       "  </thead>\n",
       "  <tbody>\n",
       "    <tr>\n",
       "      <td>0</td>\n",
       "      <td>1</td>\n",
       "      <td>Vanilla Logistic Regression</td>\n",
       "      <td>0.0</td>\n",
       "      <td>0.0</td>\n",
       "      <td>0.0</td>\n",
       "      <td>50.0</td>\n",
       "      <td>92.0</td>\n",
       "      <td>53.0</td>\n",
       "      <td>91.0</td>\n",
       "      <td>Vanilla model very basic, needs tuning</td>\n",
       "    </tr>\n",
       "    <tr>\n",
       "      <td>0</td>\n",
       "      <td>2</td>\n",
       "      <td>Vanilla Random Forest Classifier</td>\n",
       "      <td>0.0</td>\n",
       "      <td>0.0</td>\n",
       "      <td>0.0</td>\n",
       "      <td>38.0</td>\n",
       "      <td>97.0</td>\n",
       "      <td>51.0</td>\n",
       "      <td>93.0</td>\n",
       "      <td>Vanilla model very basic, needs tuning</td>\n",
       "    </tr>\n",
       "    <tr>\n",
       "      <td>0</td>\n",
       "      <td>3</td>\n",
       "      <td>SVM: Balanced Class Weights, Linear Kernel</td>\n",
       "      <td>81.3</td>\n",
       "      <td>76.4</td>\n",
       "      <td>4.9</td>\n",
       "      <td>67.0</td>\n",
       "      <td>78.0</td>\n",
       "      <td>47.0</td>\n",
       "      <td>85.0</td>\n",
       "      <td>Model overfits and class imbalance still causi...</td>\n",
       "    </tr>\n",
       "    <tr>\n",
       "      <td>0</td>\n",
       "      <td>4</td>\n",
       "      <td>SVM: Balanced Class Weights, Linear Kernel, Gr...</td>\n",
       "      <td>84.5</td>\n",
       "      <td>75.6</td>\n",
       "      <td>8.9</td>\n",
       "      <td>64.0</td>\n",
       "      <td>78.0</td>\n",
       "      <td>45.0</td>\n",
       "      <td>84.0</td>\n",
       "      <td>Model still overfits and less predictive for b...</td>\n",
       "    </tr>\n",
       "    <tr>\n",
       "      <td>0</td>\n",
       "      <td>5</td>\n",
       "      <td>SVM: SMOTE</td>\n",
       "      <td>99.2</td>\n",
       "      <td>88.9</td>\n",
       "      <td>10.3</td>\n",
       "      <td>93.0</td>\n",
       "      <td>85.0</td>\n",
       "      <td>89.0</td>\n",
       "      <td>89.0</td>\n",
       "      <td>Model overfits but SMOTE has solved class imba...</td>\n",
       "    </tr>\n",
       "  </tbody>\n",
       "</table>\n",
       "</div>"
      ],
      "text/plain": [
       "   model_#                                         model_type  train_accuracy  \\\n",
       "0        1                        Vanilla Logistic Regression             0.0   \n",
       "0        2                   Vanilla Random Forest Classifier             0.0   \n",
       "0        3         SVM: Balanced Class Weights, Linear Kernel            81.3   \n",
       "0        4  SVM: Balanced Class Weights, Linear Kernel, Gr...            84.5   \n",
       "0        5                                         SVM: SMOTE            99.2   \n",
       "\n",
       "   test_accuracy  train_test_diff  negative_recall  positive_recall  \\\n",
       "0            0.0              0.0             50.0             92.0   \n",
       "0            0.0              0.0             38.0             97.0   \n",
       "0           76.4              4.9             67.0             78.0   \n",
       "0           75.6              8.9             64.0             78.0   \n",
       "0           88.9             10.3             93.0             85.0   \n",
       "\n",
       "   negative_f_1  positive_f-1  \\\n",
       "0          53.0          91.0   \n",
       "0          51.0          93.0   \n",
       "0          47.0          85.0   \n",
       "0          45.0          84.0   \n",
       "0          89.0          89.0   \n",
       "\n",
       "                                               notes  \n",
       "0             Vanilla model very basic, needs tuning  \n",
       "0             Vanilla model very basic, needs tuning  \n",
       "0  Model overfits and class imbalance still causi...  \n",
       "0  Model still overfits and less predictive for b...  \n",
       "0  Model overfits but SMOTE has solved class imba...  "
      ]
     },
     "execution_count": 64,
     "metadata": {},
     "output_type": "execute_result"
    }
   ],
   "source": [
    "column_names = ['model_#', 'model_type', 'train_accuracy', 'test_accuracy', 'train_test_diff' ,'negative_recall', \n",
    "                'positive_recall', 'negative_f_1', 'positive_f-1', 'notes']\n",
    "results = [5, 'SVM: SMOTE', 99.2,88.9,10.3,93.0,85.0,89.0,89.0, 'Model overfits but SMOTE has solved class imbalance issues']\n",
    "results_dict = dict(zip(column_names,results))\n",
    "model_results5=pd.DataFrame(results_dict, index = range(1))\n",
    "model_results=model_results.append(model_results5)\n",
    "model_results"
   ]
  },
  {
   "cell_type": "markdown",
   "metadata": {},
   "source": [
    "Model continues to overfit. Moving to XGBoosted Model to see if that works better"
   ]
  },
  {
   "cell_type": "markdown",
   "metadata": {},
   "source": [
    "# Binary XGBoost Model"
   ]
  },
  {
   "cell_type": "markdown",
   "metadata": {},
   "source": [
    "Fit vanilla XGBoosted RFC on TfIdf Vectorized Data"
   ]
  },
  {
   "cell_type": "code",
   "execution_count": 65,
   "metadata": {
    "ExecuteTime": {
     "end_time": "2020-06-30T20:50:22.376612Z",
     "start_time": "2020-06-30T20:50:21.878968Z"
    }
   },
   "outputs": [
    {
     "name": "stdout",
     "output_type": "stream",
     "text": [
      "              precision    recall  f1-score   support\n",
      "\n",
      "           0       0.63      0.09      0.15       137\n",
      "           1       0.86      0.99      0.92       750\n",
      "\n",
      "    accuracy                           0.85       887\n",
      "   macro avg       0.74      0.54      0.54       887\n",
      "weighted avg       0.82      0.85      0.80       887\n",
      "\n",
      "[[ 12 125]\n",
      " [  7 743]]\n",
      "Test XGBoosted Accuracy Score ->  85.1183765501691\n",
      "Training XGBoosted Accuracy Score ->  85.86997369409997\n"
     ]
    }
   ],
   "source": [
    "xgbc_clf = XGBClassifier()\n",
    "xgbc_clf.fit(X_train_tfidf, y_train)\n",
    "y_test_preds = xgbc_clf.predict(X_test_tfidf)\n",
    "y_train_preds = xgbc_clf.predict(X_train_tfidf)\n",
    "print(classification_report(y_test, y_test_preds))\n",
    "print(confusion_matrix(y_test, y_test_preds))\n",
    "print(\"Test XGBoosted Accuracy Score -> \",accuracy_score(y_test, y_test_preds)*100)\n",
    "print(\"Training XGBoosted Accuracy Score -> \",accuracy_score(y_train, y_train_preds)*100)"
   ]
  },
  {
   "cell_type": "markdown",
   "metadata": {},
   "source": [
    "Model performed much better than Support Vector Machine. Pos_scale_weight is a parameter that can weight the data set towards the minority class. Used a for loop to test 100 different models with a pos_scale_weight from 0.01 to 1.0 to see which combo has smallest difference in train/test accuracy scores and highest test accuracy score. "
   ]
  },
  {
   "cell_type": "code",
   "execution_count": 66,
   "metadata": {
    "ExecuteTime": {
     "end_time": "2020-06-30T20:50:22.399073Z",
     "start_time": "2020-06-30T20:50:22.378645Z"
    }
   },
   "outputs": [
    {
     "data": {
      "text/html": [
       "<div>\n",
       "<style scoped>\n",
       "    .dataframe tbody tr th:only-of-type {\n",
       "        vertical-align: middle;\n",
       "    }\n",
       "\n",
       "    .dataframe tbody tr th {\n",
       "        vertical-align: top;\n",
       "    }\n",
       "\n",
       "    .dataframe thead th {\n",
       "        text-align: right;\n",
       "    }\n",
       "</style>\n",
       "<table border=\"1\" class=\"dataframe\">\n",
       "  <thead>\n",
       "    <tr style=\"text-align: right;\">\n",
       "      <th></th>\n",
       "      <th>model_#</th>\n",
       "      <th>model_type</th>\n",
       "      <th>train_accuracy</th>\n",
       "      <th>test_accuracy</th>\n",
       "      <th>train_test_diff</th>\n",
       "      <th>negative_recall</th>\n",
       "      <th>positive_recall</th>\n",
       "      <th>negative_f_1</th>\n",
       "      <th>positive_f-1</th>\n",
       "      <th>notes</th>\n",
       "    </tr>\n",
       "  </thead>\n",
       "  <tbody>\n",
       "    <tr>\n",
       "      <td>0</td>\n",
       "      <td>1</td>\n",
       "      <td>Vanilla Logistic Regression</td>\n",
       "      <td>0.0</td>\n",
       "      <td>0.0</td>\n",
       "      <td>0.0</td>\n",
       "      <td>50.0</td>\n",
       "      <td>92.0</td>\n",
       "      <td>53.0</td>\n",
       "      <td>91.0</td>\n",
       "      <td>Vanilla model very basic, needs tuning</td>\n",
       "    </tr>\n",
       "    <tr>\n",
       "      <td>0</td>\n",
       "      <td>2</td>\n",
       "      <td>Vanilla Random Forest Classifier</td>\n",
       "      <td>0.0</td>\n",
       "      <td>0.0</td>\n",
       "      <td>0.0</td>\n",
       "      <td>38.0</td>\n",
       "      <td>97.0</td>\n",
       "      <td>51.0</td>\n",
       "      <td>93.0</td>\n",
       "      <td>Vanilla model very basic, needs tuning</td>\n",
       "    </tr>\n",
       "    <tr>\n",
       "      <td>0</td>\n",
       "      <td>3</td>\n",
       "      <td>SVM: Balanced Class Weights, Linear Kernel</td>\n",
       "      <td>81.3</td>\n",
       "      <td>76.4</td>\n",
       "      <td>4.9</td>\n",
       "      <td>67.0</td>\n",
       "      <td>78.0</td>\n",
       "      <td>47.0</td>\n",
       "      <td>85.0</td>\n",
       "      <td>Model overfits and class imbalance still causi...</td>\n",
       "    </tr>\n",
       "    <tr>\n",
       "      <td>0</td>\n",
       "      <td>4</td>\n",
       "      <td>SVM: Balanced Class Weights, Linear Kernel, Gr...</td>\n",
       "      <td>84.5</td>\n",
       "      <td>75.6</td>\n",
       "      <td>8.9</td>\n",
       "      <td>64.0</td>\n",
       "      <td>78.0</td>\n",
       "      <td>45.0</td>\n",
       "      <td>84.0</td>\n",
       "      <td>Model still overfits and less predictive for b...</td>\n",
       "    </tr>\n",
       "    <tr>\n",
       "      <td>0</td>\n",
       "      <td>5</td>\n",
       "      <td>SVM: SMOTE</td>\n",
       "      <td>99.2</td>\n",
       "      <td>88.9</td>\n",
       "      <td>10.3</td>\n",
       "      <td>93.0</td>\n",
       "      <td>85.0</td>\n",
       "      <td>89.0</td>\n",
       "      <td>89.0</td>\n",
       "      <td>Model overfits but SMOTE has solved class imba...</td>\n",
       "    </tr>\n",
       "    <tr>\n",
       "      <td>0</td>\n",
       "      <td>6</td>\n",
       "      <td>XGBoost RFC Vanilla</td>\n",
       "      <td>85.8</td>\n",
       "      <td>85.1</td>\n",
       "      <td>0.7</td>\n",
       "      <td>9.0</td>\n",
       "      <td>99.0</td>\n",
       "      <td>15.0</td>\n",
       "      <td>92.0</td>\n",
       "      <td>Model is basically guessing 1 every time</td>\n",
       "    </tr>\n",
       "  </tbody>\n",
       "</table>\n",
       "</div>"
      ],
      "text/plain": [
       "   model_#                                         model_type  train_accuracy  \\\n",
       "0        1                        Vanilla Logistic Regression             0.0   \n",
       "0        2                   Vanilla Random Forest Classifier             0.0   \n",
       "0        3         SVM: Balanced Class Weights, Linear Kernel            81.3   \n",
       "0        4  SVM: Balanced Class Weights, Linear Kernel, Gr...            84.5   \n",
       "0        5                                         SVM: SMOTE            99.2   \n",
       "0        6                                XGBoost RFC Vanilla            85.8   \n",
       "\n",
       "   test_accuracy  train_test_diff  negative_recall  positive_recall  \\\n",
       "0            0.0              0.0             50.0             92.0   \n",
       "0            0.0              0.0             38.0             97.0   \n",
       "0           76.4              4.9             67.0             78.0   \n",
       "0           75.6              8.9             64.0             78.0   \n",
       "0           88.9             10.3             93.0             85.0   \n",
       "0           85.1              0.7              9.0             99.0   \n",
       "\n",
       "   negative_f_1  positive_f-1  \\\n",
       "0          53.0          91.0   \n",
       "0          51.0          93.0   \n",
       "0          47.0          85.0   \n",
       "0          45.0          84.0   \n",
       "0          89.0          89.0   \n",
       "0          15.0          92.0   \n",
       "\n",
       "                                               notes  \n",
       "0             Vanilla model very basic, needs tuning  \n",
       "0             Vanilla model very basic, needs tuning  \n",
       "0  Model overfits and class imbalance still causi...  \n",
       "0  Model still overfits and less predictive for b...  \n",
       "0  Model overfits but SMOTE has solved class imba...  \n",
       "0           Model is basically guessing 1 every time  "
      ]
     },
     "execution_count": 66,
     "metadata": {},
     "output_type": "execute_result"
    }
   ],
   "source": [
    "column_names = ['model_#', 'model_type', 'train_accuracy', 'test_accuracy', 'train_test_diff' ,'negative_recall', \n",
    "                'positive_recall', 'negative_f_1', 'positive_f-1', 'notes']\n",
    "results = [6, 'XGBoost RFC Vanilla', 85.8,85.1,0.7,9.0,99.0,15.0,92.0, 'Model is basically guessing 1 every time']\n",
    "results_dict = dict(zip(column_names,results))\n",
    "model_results6=pd.DataFrame(results_dict, index = range(1))\n",
    "model_results=model_results.append(model_results6)\n",
    "model_results"
   ]
  },
  {
   "cell_type": "code",
   "execution_count": 67,
   "metadata": {
    "ExecuteTime": {
     "end_time": "2020-06-30T20:51:04.191943Z",
     "start_time": "2020-06-30T20:50:22.403537Z"
    }
   },
   "outputs": [],
   "source": [
    "train_test_difference = []\n",
    "train_score = []\n",
    "test_score = []\n",
    "for i in np.arange(0.01, 1.01, 0.01):\n",
    "    xgbc_clf = XGBClassifier(scale_pos_weight=i)\n",
    "    xgbc_clf.fit(X_train_tfidf, y_train)\n",
    "    y_test_preds = xgbc_clf.predict(X_test_tfidf)\n",
    "    y_train_preds = xgbc_clf.predict(X_train_tfidf)\n",
    "    train_test_difference.append((accuracy_score(y_train, y_train_preds) * 100) - \n",
    "                                 (accuracy_score(y_test, y_test_preds)*100))\n",
    "    train_score.append(accuracy_score(y_train, y_train_preds) * 100)\n",
    "    test_score.append(accuracy_score(y_test, y_test_preds)*100)"
   ]
  },
  {
   "cell_type": "code",
   "execution_count": 68,
   "metadata": {
    "ExecuteTime": {
     "end_time": "2020-06-30T20:51:04.218364Z",
     "start_time": "2020-06-30T20:51:04.194403Z"
    }
   },
   "outputs": [
    {
     "data": {
      "text/html": [
       "<div>\n",
       "<style scoped>\n",
       "    .dataframe tbody tr th:only-of-type {\n",
       "        vertical-align: middle;\n",
       "    }\n",
       "\n",
       "    .dataframe tbody tr th {\n",
       "        vertical-align: top;\n",
       "    }\n",
       "\n",
       "    .dataframe thead th {\n",
       "        text-align: right;\n",
       "    }\n",
       "</style>\n",
       "<table border=\"1\" class=\"dataframe\">\n",
       "  <thead>\n",
       "    <tr style=\"text-align: right;\">\n",
       "      <th></th>\n",
       "      <th>pos_scale_weight</th>\n",
       "      <th>train_test_difference</th>\n",
       "      <th>train_score</th>\n",
       "      <th>test_score</th>\n",
       "    </tr>\n",
       "  </thead>\n",
       "  <tbody>\n",
       "    <tr>\n",
       "      <td>95</td>\n",
       "      <td>0.96</td>\n",
       "      <td>0.676437</td>\n",
       "      <td>86.133033</td>\n",
       "      <td>85.456595</td>\n",
       "    </tr>\n",
       "    <tr>\n",
       "      <td>96</td>\n",
       "      <td>0.97</td>\n",
       "      <td>0.751597</td>\n",
       "      <td>85.869974</td>\n",
       "      <td>85.118377</td>\n",
       "    </tr>\n",
       "    <tr>\n",
       "      <td>99</td>\n",
       "      <td>1.00</td>\n",
       "      <td>0.751597</td>\n",
       "      <td>85.869974</td>\n",
       "      <td>85.118377</td>\n",
       "    </tr>\n",
       "    <tr>\n",
       "      <td>98</td>\n",
       "      <td>0.99</td>\n",
       "      <td>0.789177</td>\n",
       "      <td>86.020293</td>\n",
       "      <td>85.231116</td>\n",
       "    </tr>\n",
       "    <tr>\n",
       "      <td>91</td>\n",
       "      <td>0.92</td>\n",
       "      <td>0.864337</td>\n",
       "      <td>86.095453</td>\n",
       "      <td>85.231116</td>\n",
       "    </tr>\n",
       "    <tr>\n",
       "      <td>...</td>\n",
       "      <td>...</td>\n",
       "      <td>...</td>\n",
       "      <td>...</td>\n",
       "      <td>...</td>\n",
       "    </tr>\n",
       "    <tr>\n",
       "      <td>29</td>\n",
       "      <td>0.30</td>\n",
       "      <td>4.359263</td>\n",
       "      <td>88.575723</td>\n",
       "      <td>84.216460</td>\n",
       "    </tr>\n",
       "    <tr>\n",
       "      <td>27</td>\n",
       "      <td>0.28</td>\n",
       "      <td>4.735062</td>\n",
       "      <td>88.500564</td>\n",
       "      <td>83.765502</td>\n",
       "    </tr>\n",
       "    <tr>\n",
       "      <td>25</td>\n",
       "      <td>0.26</td>\n",
       "      <td>4.772642</td>\n",
       "      <td>88.087185</td>\n",
       "      <td>83.314543</td>\n",
       "    </tr>\n",
       "    <tr>\n",
       "      <td>28</td>\n",
       "      <td>0.29</td>\n",
       "      <td>4.960541</td>\n",
       "      <td>88.387824</td>\n",
       "      <td>83.427283</td>\n",
       "    </tr>\n",
       "    <tr>\n",
       "      <td>26</td>\n",
       "      <td>0.27</td>\n",
       "      <td>5.373920</td>\n",
       "      <td>88.124765</td>\n",
       "      <td>82.750846</td>\n",
       "    </tr>\n",
       "  </tbody>\n",
       "</table>\n",
       "<p>100 rows × 4 columns</p>\n",
       "</div>"
      ],
      "text/plain": [
       "    pos_scale_weight  train_test_difference  train_score  test_score\n",
       "95              0.96               0.676437    86.133033   85.456595\n",
       "96              0.97               0.751597    85.869974   85.118377\n",
       "99              1.00               0.751597    85.869974   85.118377\n",
       "98              0.99               0.789177    86.020293   85.231116\n",
       "91              0.92               0.864337    86.095453   85.231116\n",
       "..               ...                    ...          ...         ...\n",
       "29              0.30               4.359263    88.575723   84.216460\n",
       "27              0.28               4.735062    88.500564   83.765502\n",
       "25              0.26               4.772642    88.087185   83.314543\n",
       "28              0.29               4.960541    88.387824   83.427283\n",
       "26              0.27               5.373920    88.124765   82.750846\n",
       "\n",
       "[100 rows x 4 columns]"
      ]
     },
     "execution_count": 68,
     "metadata": {},
     "output_type": "execute_result"
    }
   ],
   "source": [
    "df_results=pd.DataFrame([np.arange(0.01, 1.01, 0.01), train_test_difference, train_score, test_score]).T\n",
    "df_results=df_results.rename(columns = {0:'pos_scale_weight',1:'train_test_difference', 2:'train_score', 3:'test_score'})\n",
    "df_results.sort_values(['train_test_difference','test_score'])"
   ]
  },
  {
   "cell_type": "markdown",
   "metadata": {},
   "source": [
    "Re ran model with optimal pos_scale_weight value"
   ]
  },
  {
   "cell_type": "code",
   "execution_count": 69,
   "metadata": {
    "ExecuteTime": {
     "end_time": "2020-06-30T20:51:04.676888Z",
     "start_time": "2020-06-30T20:51:04.220149Z"
    }
   },
   "outputs": [
    {
     "name": "stdout",
     "output_type": "stream",
     "text": [
      "              precision    recall  f1-score   support\n",
      "\n",
      "           0       0.68      0.11      0.19       137\n",
      "           1       0.86      0.99      0.92       750\n",
      "\n",
      "    accuracy                           0.85       887\n",
      "   macro avg       0.77      0.55      0.55       887\n",
      "weighted avg       0.83      0.85      0.81       887\n",
      "\n",
      "[[ 15 122]\n",
      " [  7 743]]\n",
      "Test SVM Accuracy Score ->  85.456595264938\n",
      "Training SVM Accuracy Score ->  86.13303269447576\n"
     ]
    }
   ],
   "source": [
    "xgbc_clf = XGBClassifier(scale_pos_weight=.96)\n",
    "xgbc_clf.fit(X_train_tfidf, y_train)\n",
    "y_test_preds = xgbc_clf.predict(X_test_tfidf)\n",
    "y_train_preds = xgbc_clf.predict(X_train_tfidf)\n",
    "print(classification_report(y_test, y_test_preds))\n",
    "print(confusion_matrix(y_test, y_test_preds))\n",
    "print(\"Test SVM Accuracy Score -> \",accuracy_score(y_test, y_test_preds)*100)\n",
    "print(\"Training SVM Accuracy Score -> \",accuracy_score(y_train, y_train_preds)*100)"
   ]
  },
  {
   "cell_type": "code",
   "execution_count": 70,
   "metadata": {
    "ExecuteTime": {
     "end_time": "2020-06-30T20:51:04.704932Z",
     "start_time": "2020-06-30T20:51:04.684479Z"
    }
   },
   "outputs": [
    {
     "data": {
      "text/html": [
       "<div>\n",
       "<style scoped>\n",
       "    .dataframe tbody tr th:only-of-type {\n",
       "        vertical-align: middle;\n",
       "    }\n",
       "\n",
       "    .dataframe tbody tr th {\n",
       "        vertical-align: top;\n",
       "    }\n",
       "\n",
       "    .dataframe thead th {\n",
       "        text-align: right;\n",
       "    }\n",
       "</style>\n",
       "<table border=\"1\" class=\"dataframe\">\n",
       "  <thead>\n",
       "    <tr style=\"text-align: right;\">\n",
       "      <th></th>\n",
       "      <th>model_#</th>\n",
       "      <th>model_type</th>\n",
       "      <th>train_accuracy</th>\n",
       "      <th>test_accuracy</th>\n",
       "      <th>train_test_diff</th>\n",
       "      <th>negative_recall</th>\n",
       "      <th>positive_recall</th>\n",
       "      <th>negative_f_1</th>\n",
       "      <th>positive_f-1</th>\n",
       "      <th>notes</th>\n",
       "    </tr>\n",
       "  </thead>\n",
       "  <tbody>\n",
       "    <tr>\n",
       "      <td>0</td>\n",
       "      <td>1</td>\n",
       "      <td>Vanilla Logistic Regression</td>\n",
       "      <td>0.0</td>\n",
       "      <td>0.0</td>\n",
       "      <td>0.0</td>\n",
       "      <td>50.0</td>\n",
       "      <td>92.0</td>\n",
       "      <td>53.0</td>\n",
       "      <td>91.0</td>\n",
       "      <td>Vanilla model very basic, needs tuning</td>\n",
       "    </tr>\n",
       "    <tr>\n",
       "      <td>0</td>\n",
       "      <td>2</td>\n",
       "      <td>Vanilla Random Forest Classifier</td>\n",
       "      <td>0.0</td>\n",
       "      <td>0.0</td>\n",
       "      <td>0.0</td>\n",
       "      <td>38.0</td>\n",
       "      <td>97.0</td>\n",
       "      <td>51.0</td>\n",
       "      <td>93.0</td>\n",
       "      <td>Vanilla model very basic, needs tuning</td>\n",
       "    </tr>\n",
       "    <tr>\n",
       "      <td>0</td>\n",
       "      <td>3</td>\n",
       "      <td>SVM: Balanced Class Weights, Linear Kernel</td>\n",
       "      <td>81.3</td>\n",
       "      <td>76.4</td>\n",
       "      <td>4.9</td>\n",
       "      <td>67.0</td>\n",
       "      <td>78.0</td>\n",
       "      <td>47.0</td>\n",
       "      <td>85.0</td>\n",
       "      <td>Model overfits and class imbalance still causi...</td>\n",
       "    </tr>\n",
       "    <tr>\n",
       "      <td>0</td>\n",
       "      <td>4</td>\n",
       "      <td>SVM: Balanced Class Weights, Linear Kernel, Gr...</td>\n",
       "      <td>84.5</td>\n",
       "      <td>75.6</td>\n",
       "      <td>8.9</td>\n",
       "      <td>64.0</td>\n",
       "      <td>78.0</td>\n",
       "      <td>45.0</td>\n",
       "      <td>84.0</td>\n",
       "      <td>Model still overfits and less predictive for b...</td>\n",
       "    </tr>\n",
       "    <tr>\n",
       "      <td>0</td>\n",
       "      <td>5</td>\n",
       "      <td>SVM: SMOTE</td>\n",
       "      <td>99.2</td>\n",
       "      <td>88.9</td>\n",
       "      <td>10.3</td>\n",
       "      <td>93.0</td>\n",
       "      <td>85.0</td>\n",
       "      <td>89.0</td>\n",
       "      <td>89.0</td>\n",
       "      <td>Model overfits but SMOTE has solved class imba...</td>\n",
       "    </tr>\n",
       "    <tr>\n",
       "      <td>0</td>\n",
       "      <td>6</td>\n",
       "      <td>XGBoost RFC Vanilla</td>\n",
       "      <td>85.8</td>\n",
       "      <td>85.1</td>\n",
       "      <td>0.7</td>\n",
       "      <td>9.0</td>\n",
       "      <td>99.0</td>\n",
       "      <td>15.0</td>\n",
       "      <td>92.0</td>\n",
       "      <td>Model is basically guessing 1 every time</td>\n",
       "    </tr>\n",
       "    <tr>\n",
       "      <td>0</td>\n",
       "      <td>7</td>\n",
       "      <td>XGBoost, pos_scale_weight</td>\n",
       "      <td>86.1</td>\n",
       "      <td>85.4</td>\n",
       "      <td>0.7</td>\n",
       "      <td>11.0</td>\n",
       "      <td>99.0</td>\n",
       "      <td>47.0</td>\n",
       "      <td>92.0</td>\n",
       "      <td>Class imbalance still causing issues with model</td>\n",
       "    </tr>\n",
       "  </tbody>\n",
       "</table>\n",
       "</div>"
      ],
      "text/plain": [
       "   model_#                                         model_type  train_accuracy  \\\n",
       "0        1                        Vanilla Logistic Regression             0.0   \n",
       "0        2                   Vanilla Random Forest Classifier             0.0   \n",
       "0        3         SVM: Balanced Class Weights, Linear Kernel            81.3   \n",
       "0        4  SVM: Balanced Class Weights, Linear Kernel, Gr...            84.5   \n",
       "0        5                                         SVM: SMOTE            99.2   \n",
       "0        6                                XGBoost RFC Vanilla            85.8   \n",
       "0        7                          XGBoost, pos_scale_weight            86.1   \n",
       "\n",
       "   test_accuracy  train_test_diff  negative_recall  positive_recall  \\\n",
       "0            0.0              0.0             50.0             92.0   \n",
       "0            0.0              0.0             38.0             97.0   \n",
       "0           76.4              4.9             67.0             78.0   \n",
       "0           75.6              8.9             64.0             78.0   \n",
       "0           88.9             10.3             93.0             85.0   \n",
       "0           85.1              0.7              9.0             99.0   \n",
       "0           85.4              0.7             11.0             99.0   \n",
       "\n",
       "   negative_f_1  positive_f-1  \\\n",
       "0          53.0          91.0   \n",
       "0          51.0          93.0   \n",
       "0          47.0          85.0   \n",
       "0          45.0          84.0   \n",
       "0          89.0          89.0   \n",
       "0          15.0          92.0   \n",
       "0          47.0          92.0   \n",
       "\n",
       "                                               notes  \n",
       "0             Vanilla model very basic, needs tuning  \n",
       "0             Vanilla model very basic, needs tuning  \n",
       "0  Model overfits and class imbalance still causi...  \n",
       "0  Model still overfits and less predictive for b...  \n",
       "0  Model overfits but SMOTE has solved class imba...  \n",
       "0           Model is basically guessing 1 every time  \n",
       "0    Class imbalance still causing issues with model  "
      ]
     },
     "execution_count": 70,
     "metadata": {},
     "output_type": "execute_result"
    }
   ],
   "source": [
    "column_names = ['model_#', 'model_type', 'train_accuracy', 'test_accuracy', 'train_test_diff' ,'negative_recall', \n",
    "                'positive_recall', 'negative_f_1', 'positive_f-1', 'notes']\n",
    "results = [7, 'XGBoost, pos_scale_weight', 86.1,85.4,0.7,11.0,99.0,47.0,92.0, 'Class imbalance still causing issues with model']\n",
    "results_dict = dict(zip(column_names,results))\n",
    "model_results7=pd.DataFrame(results_dict, index = range(1))\n",
    "model_results=model_results.append(model_results7)\n",
    "model_results"
   ]
  },
  {
   "cell_type": "markdown",
   "metadata": {},
   "source": [
    "Slightly increased overfit. Running GridSearch to see if I can optimize model further"
   ]
  },
  {
   "cell_type": "code",
   "execution_count": 71,
   "metadata": {
    "ExecuteTime": {
     "end_time": "2020-06-30T20:51:04.714487Z",
     "start_time": "2020-06-30T20:51:04.710365Z"
    }
   },
   "outputs": [],
   "source": [
    "params_xgboost = {'max_depth': range(2,10,1),\n",
    "         'n_estimators': range(60,220,40),\n",
    "         'learning_rate': [0.1, 0.01, 0.05]}\n",
    "estimator_xgboost = XGBClassifier(\n",
    "    objective= 'binary:logistic',\n",
    "    n_jobs=-1,\n",
    "    seed=42, \n",
    "    pos_scale_weight = .96\n",
    ")\n",
    "grid_search_xgboost = GridSearchCV(\n",
    "    estimator=estimator_xgboost,\n",
    "    param_grid=params_xgboost,\n",
    "    scoring = 'roc_auc',\n",
    "    n_jobs = -1,\n",
    "    cv = 10,\n",
    "    verbose=True)"
   ]
  },
  {
   "cell_type": "code",
   "execution_count": 72,
   "metadata": {
    "ExecuteTime": {
     "end_time": "2020-06-30T20:51:04.718996Z",
     "start_time": "2020-06-30T20:51:04.716468Z"
    }
   },
   "outputs": [],
   "source": [
    "#grid_search_xgboost.fit(X_train_tfidf, y_train)"
   ]
  },
  {
   "cell_type": "code",
   "execution_count": 73,
   "metadata": {
    "ExecuteTime": {
     "end_time": "2020-06-30T20:51:04.728229Z",
     "start_time": "2020-06-30T20:51:04.724826Z"
    }
   },
   "outputs": [],
   "source": [
    "#grid_search_xgboost.best_params_"
   ]
  },
  {
   "cell_type": "markdown",
   "metadata": {},
   "source": [
    "Ran new model with optimal parameters. Reduced max_depth manually to avoid overfitting"
   ]
  },
  {
   "cell_type": "code",
   "execution_count": 74,
   "metadata": {
    "ExecuteTime": {
     "end_time": "2020-06-30T20:51:05.517866Z",
     "start_time": "2020-06-30T20:51:04.730717Z"
    }
   },
   "outputs": [
    {
     "name": "stdout",
     "output_type": "stream",
     "text": [
      "              precision    recall  f1-score   support\n",
      "\n",
      "           0       0.59      0.12      0.20       137\n",
      "           1       0.86      0.99      0.92       750\n",
      "\n",
      "    accuracy                           0.85       887\n",
      "   macro avg       0.73      0.55      0.56       887\n",
      "weighted avg       0.82      0.85      0.81       887\n",
      "\n",
      "[[ 16 121]\n",
      " [ 11 739]]\n",
      "Test SVM Accuracy Score ->  85.1183765501691\n",
      "Training SVM Accuracy Score ->  87.7489665539271\n"
     ]
    }
   ],
   "source": [
    "xgbc_clf = XGBClassifier(scale_pos_weight=.96, learning_rate = 0.1, max_depth = 3, n_estimators = 180)\n",
    "xgbc_clf.fit(X_train_tfidf, y_train)\n",
    "y_test_preds = xgbc_clf.predict(X_test_tfidf)\n",
    "y_train_preds = xgbc_clf.predict(X_train_tfidf)\n",
    "print(classification_report(y_test, y_test_preds))\n",
    "print(confusion_matrix(y_test, y_test_preds))\n",
    "print(\"Test SVM Accuracy Score -> \",accuracy_score(y_test, y_test_preds)*100)\n",
    "print(\"Training SVM Accuracy Score -> \",accuracy_score(y_train, y_train_preds)*100)"
   ]
  },
  {
<<<<<<< HEAD
<<<<<<< HEAD
   "cell_type": "code",
   "execution_count": null,
   "metadata": {},
   "outputs": [],
   "source": []
=======
   "cell_type": "markdown",
   "metadata": {},
   "source": [
    "Ran best fit model with SMOTE data to help with poor recall and precision scores for the 0 class"
   ]
  },
  {
=======
>>>>>>> 7855f233f51a65000abfd912edbdf2d9c26224c0
   "cell_type": "code",
   "execution_count": 75,
   "metadata": {
    "ExecuteTime": {
     "end_time": "2020-06-30T20:51:05.543824Z",
     "start_time": "2020-06-30T20:51:05.519863Z"
    }
   },
   "outputs": [
    {
     "data": {
      "text/html": [
       "<div>\n",
       "<style scoped>\n",
       "    .dataframe tbody tr th:only-of-type {\n",
       "        vertical-align: middle;\n",
       "    }\n",
       "\n",
       "    .dataframe tbody tr th {\n",
       "        vertical-align: top;\n",
       "    }\n",
       "\n",
       "    .dataframe thead th {\n",
       "        text-align: right;\n",
       "    }\n",
       "</style>\n",
       "<table border=\"1\" class=\"dataframe\">\n",
       "  <thead>\n",
       "    <tr style=\"text-align: right;\">\n",
       "      <th></th>\n",
       "      <th>model_#</th>\n",
       "      <th>model_type</th>\n",
       "      <th>train_accuracy</th>\n",
       "      <th>test_accuracy</th>\n",
       "      <th>train_test_diff</th>\n",
       "      <th>negative_recall</th>\n",
       "      <th>positive_recall</th>\n",
       "      <th>negative_f_1</th>\n",
       "      <th>positive_f-1</th>\n",
       "      <th>notes</th>\n",
       "    </tr>\n",
       "  </thead>\n",
       "  <tbody>\n",
       "    <tr>\n",
       "      <td>0</td>\n",
       "      <td>1</td>\n",
       "      <td>Vanilla Logistic Regression</td>\n",
       "      <td>0.0</td>\n",
       "      <td>0.0</td>\n",
       "      <td>0.0</td>\n",
       "      <td>50.0</td>\n",
       "      <td>92.0</td>\n",
       "      <td>53.0</td>\n",
       "      <td>91.0</td>\n",
       "      <td>Vanilla model very basic, needs tuning</td>\n",
       "    </tr>\n",
       "    <tr>\n",
       "      <td>0</td>\n",
       "      <td>2</td>\n",
       "      <td>Vanilla Random Forest Classifier</td>\n",
       "      <td>0.0</td>\n",
       "      <td>0.0</td>\n",
       "      <td>0.0</td>\n",
       "      <td>38.0</td>\n",
       "      <td>97.0</td>\n",
       "      <td>51.0</td>\n",
       "      <td>93.0</td>\n",
       "      <td>Vanilla model very basic, needs tuning</td>\n",
       "    </tr>\n",
       "    <tr>\n",
       "      <td>0</td>\n",
       "      <td>3</td>\n",
       "      <td>SVM: Balanced Class Weights, Linear Kernel</td>\n",
       "      <td>81.3</td>\n",
       "      <td>76.4</td>\n",
       "      <td>4.9</td>\n",
       "      <td>67.0</td>\n",
       "      <td>78.0</td>\n",
       "      <td>47.0</td>\n",
       "      <td>85.0</td>\n",
       "      <td>Model overfits and class imbalance still causi...</td>\n",
       "    </tr>\n",
       "    <tr>\n",
       "      <td>0</td>\n",
       "      <td>4</td>\n",
       "      <td>SVM: Balanced Class Weights, Linear Kernel, Gr...</td>\n",
       "      <td>84.5</td>\n",
       "      <td>75.6</td>\n",
       "      <td>8.9</td>\n",
       "      <td>64.0</td>\n",
       "      <td>78.0</td>\n",
       "      <td>45.0</td>\n",
       "      <td>84.0</td>\n",
       "      <td>Model still overfits and less predictive for b...</td>\n",
       "    </tr>\n",
       "    <tr>\n",
       "      <td>0</td>\n",
       "      <td>5</td>\n",
       "      <td>SVM: SMOTE</td>\n",
       "      <td>99.2</td>\n",
       "      <td>88.9</td>\n",
       "      <td>10.3</td>\n",
       "      <td>93.0</td>\n",
       "      <td>85.0</td>\n",
       "      <td>89.0</td>\n",
       "      <td>89.0</td>\n",
       "      <td>Model overfits but SMOTE has solved class imba...</td>\n",
       "    </tr>\n",
       "    <tr>\n",
       "      <td>0</td>\n",
       "      <td>6</td>\n",
       "      <td>XGBoost RFC Vanilla</td>\n",
       "      <td>85.8</td>\n",
       "      <td>85.1</td>\n",
       "      <td>0.7</td>\n",
       "      <td>9.0</td>\n",
       "      <td>99.0</td>\n",
       "      <td>15.0</td>\n",
       "      <td>92.0</td>\n",
       "      <td>Model is basically guessing 1 every time</td>\n",
       "    </tr>\n",
       "    <tr>\n",
       "      <td>0</td>\n",
       "      <td>7</td>\n",
       "      <td>XGBoost, pos_scale_weight</td>\n",
       "      <td>86.1</td>\n",
       "      <td>85.4</td>\n",
       "      <td>0.7</td>\n",
       "      <td>11.0</td>\n",
       "      <td>99.0</td>\n",
       "      <td>47.0</td>\n",
       "      <td>92.0</td>\n",
       "      <td>Class imbalance still causing issues with model</td>\n",
       "    </tr>\n",
       "    <tr>\n",
       "      <td>0</td>\n",
       "      <td>8</td>\n",
       "      <td>XGBoost GridSearch</td>\n",
       "      <td>87.7</td>\n",
       "      <td>85.1</td>\n",
       "      <td>2.6</td>\n",
       "      <td>12.0</td>\n",
       "      <td>99.0</td>\n",
       "      <td>20.0</td>\n",
       "      <td>92.0</td>\n",
       "      <td>Class imbalance still causing issues with model</td>\n",
       "    </tr>\n",
       "  </tbody>\n",
       "</table>\n",
       "</div>"
      ],
      "text/plain": [
       "   model_#                                         model_type  train_accuracy  \\\n",
       "0        1                        Vanilla Logistic Regression             0.0   \n",
       "0        2                   Vanilla Random Forest Classifier             0.0   \n",
       "0        3         SVM: Balanced Class Weights, Linear Kernel            81.3   \n",
       "0        4  SVM: Balanced Class Weights, Linear Kernel, Gr...            84.5   \n",
       "0        5                                         SVM: SMOTE            99.2   \n",
       "0        6                                XGBoost RFC Vanilla            85.8   \n",
       "0        7                          XGBoost, pos_scale_weight            86.1   \n",
       "0        8                                 XGBoost GridSearch            87.7   \n",
       "\n",
       "   test_accuracy  train_test_diff  negative_recall  positive_recall  \\\n",
       "0            0.0              0.0             50.0             92.0   \n",
       "0            0.0              0.0             38.0             97.0   \n",
       "0           76.4              4.9             67.0             78.0   \n",
       "0           75.6              8.9             64.0             78.0   \n",
       "0           88.9             10.3             93.0             85.0   \n",
       "0           85.1              0.7              9.0             99.0   \n",
       "0           85.4              0.7             11.0             99.0   \n",
       "0           85.1              2.6             12.0             99.0   \n",
       "\n",
       "   negative_f_1  positive_f-1  \\\n",
       "0          53.0          91.0   \n",
       "0          51.0          93.0   \n",
       "0          47.0          85.0   \n",
       "0          45.0          84.0   \n",
       "0          89.0          89.0   \n",
       "0          15.0          92.0   \n",
       "0          47.0          92.0   \n",
       "0          20.0          92.0   \n",
       "\n",
       "                                               notes  \n",
       "0             Vanilla model very basic, needs tuning  \n",
       "0             Vanilla model very basic, needs tuning  \n",
       "0  Model overfits and class imbalance still causi...  \n",
       "0  Model still overfits and less predictive for b...  \n",
       "0  Model overfits but SMOTE has solved class imba...  \n",
       "0           Model is basically guessing 1 every time  \n",
       "0    Class imbalance still causing issues with model  \n",
       "0    Class imbalance still causing issues with model  "
      ]
     },
     "execution_count": 75,
     "metadata": {},
     "output_type": "execute_result"
    }
   ],
   "source": [
    "column_names = ['model_#', 'model_type', 'train_accuracy', 'test_accuracy', 'train_test_diff' ,'negative_recall', \n",
    "                'positive_recall', 'negative_f_1', 'positive_f-1', 'notes']\n",
    "results = [8, 'XGBoost GridSearch', 87.7,85.1,2.6,12.0,99.0,20.0,92.0, 'Class imbalance still causing issues with model']\n",
    "results_dict = dict(zip(column_names,results))\n",
    "model_results8=pd.DataFrame(results_dict, index = range(1))\n",
    "model_results=model_results.append(model_results8)\n",
    "model_results"
   ]
  },
  {
   "cell_type": "markdown",
   "metadata": {},
   "source": [
    "Ran best fit model with SMOTE data to help with poor recall and precision scores for the 0 class"
   ]
  },
  {
   "cell_type": "code",
   "execution_count": 76,
   "metadata": {
    "ExecuteTime": {
     "end_time": "2020-06-30T20:51:09.697307Z",
     "start_time": "2020-06-30T20:51:05.547230Z"
    }
   },
   "outputs": [
    {
     "name": "stdout",
     "output_type": "stream",
     "text": [
      "                  precision    recall  f1-score   support\n",
      "\n",
      "Negative emotion       0.97      0.75      0.85       728\n",
      "Positive emotion       0.81      0.98      0.88       761\n",
      "\n",
      "        accuracy                           0.87      1489\n",
      "       macro avg       0.89      0.87      0.87      1489\n",
      "    weighted avg       0.89      0.87      0.87      1489\n",
      "\n",
      "[[548 180]\n",
      " [ 15 746]]\n",
      "Test XGBoosted Accuracy Score ->  86.90396239086635\n",
      "Training XGBoosted Accuracy Score ->  89.74703380344751\n"
     ]
    }
   ],
   "source": [
    "xgbc_clf_final = XGBClassifier(scale_pos_weight=.96, learning_rate = 0.1, max_depth = 3, n_estimators = 180)\n",
    "xgbc_clf_final.fit(X_train_SMOTE, y_train_SMOTE)\n",
    "y_test_preds = xgbc_clf_final.predict(X_test_SMOTE)\n",
    "y_train_preds = xgbc_clf_final.predict(X_train_SMOTE)\n",
    "print(classification_report(y_test_SMOTE, y_test_preds))\n",
    "print(confusion_matrix(y_test_SMOTE, y_test_preds))\n",
    "print(\"Test XGBoosted Accuracy Score -> \",accuracy_score(y_test_SMOTE, y_test_preds)*100)\n",
    "print(\"Training XGBoosted Accuracy Score -> \",accuracy_score(y_train_SMOTE, y_train_preds)*100)"
   ]
  },
  {
   "cell_type": "code",
   "execution_count": 77,
   "metadata": {
    "ExecuteTime": {
     "end_time": "2020-06-30T20:51:09.722066Z",
     "start_time": "2020-06-30T20:51:09.699547Z"
    }
   },
   "outputs": [
    {
     "data": {
      "text/html": [
       "<div>\n",
       "<style scoped>\n",
       "    .dataframe tbody tr th:only-of-type {\n",
       "        vertical-align: middle;\n",
       "    }\n",
       "\n",
       "    .dataframe tbody tr th {\n",
       "        vertical-align: top;\n",
       "    }\n",
       "\n",
       "    .dataframe thead th {\n",
       "        text-align: right;\n",
       "    }\n",
       "</style>\n",
       "<table border=\"1\" class=\"dataframe\">\n",
       "  <thead>\n",
       "    <tr style=\"text-align: right;\">\n",
       "      <th></th>\n",
       "      <th>model_#</th>\n",
       "      <th>model_type</th>\n",
       "      <th>train_accuracy</th>\n",
       "      <th>test_accuracy</th>\n",
       "      <th>train_test_diff</th>\n",
       "      <th>negative_recall</th>\n",
       "      <th>positive_recall</th>\n",
       "      <th>negative_f_1</th>\n",
       "      <th>positive_f-1</th>\n",
       "      <th>notes</th>\n",
       "    </tr>\n",
       "  </thead>\n",
       "  <tbody>\n",
       "    <tr>\n",
       "      <td>0</td>\n",
       "      <td>1</td>\n",
       "      <td>Vanilla Logistic Regression</td>\n",
       "      <td>0.0</td>\n",
       "      <td>0.0</td>\n",
       "      <td>0.0</td>\n",
       "      <td>50.0</td>\n",
       "      <td>92.0</td>\n",
       "      <td>53.0</td>\n",
       "      <td>91.0</td>\n",
       "      <td>Vanilla model very basic, needs tuning</td>\n",
       "    </tr>\n",
       "    <tr>\n",
       "      <td>0</td>\n",
       "      <td>2</td>\n",
       "      <td>Vanilla Random Forest Classifier</td>\n",
       "      <td>0.0</td>\n",
       "      <td>0.0</td>\n",
       "      <td>0.0</td>\n",
       "      <td>38.0</td>\n",
       "      <td>97.0</td>\n",
       "      <td>51.0</td>\n",
       "      <td>93.0</td>\n",
       "      <td>Vanilla model very basic, needs tuning</td>\n",
       "    </tr>\n",
       "    <tr>\n",
       "      <td>0</td>\n",
       "      <td>3</td>\n",
       "      <td>SVM: Balanced Class Weights, Linear Kernel</td>\n",
       "      <td>81.3</td>\n",
       "      <td>76.4</td>\n",
       "      <td>4.9</td>\n",
       "      <td>67.0</td>\n",
       "      <td>78.0</td>\n",
       "      <td>47.0</td>\n",
       "      <td>85.0</td>\n",
       "      <td>Model overfits and class imbalance still causi...</td>\n",
       "    </tr>\n",
       "    <tr>\n",
       "      <td>0</td>\n",
       "      <td>4</td>\n",
       "      <td>SVM: Balanced Class Weights, Linear Kernel, Gr...</td>\n",
       "      <td>84.5</td>\n",
       "      <td>75.6</td>\n",
       "      <td>8.9</td>\n",
       "      <td>64.0</td>\n",
       "      <td>78.0</td>\n",
       "      <td>45.0</td>\n",
       "      <td>84.0</td>\n",
       "      <td>Model still overfits and less predictive for b...</td>\n",
       "    </tr>\n",
       "    <tr>\n",
       "      <td>0</td>\n",
       "      <td>5</td>\n",
       "      <td>SVM: SMOTE</td>\n",
       "      <td>99.2</td>\n",
       "      <td>88.9</td>\n",
       "      <td>10.3</td>\n",
       "      <td>93.0</td>\n",
       "      <td>85.0</td>\n",
       "      <td>89.0</td>\n",
       "      <td>89.0</td>\n",
       "      <td>Model overfits but SMOTE has solved class imba...</td>\n",
       "    </tr>\n",
       "    <tr>\n",
       "      <td>0</td>\n",
       "      <td>6</td>\n",
       "      <td>XGBoost RFC Vanilla</td>\n",
       "      <td>85.8</td>\n",
       "      <td>85.1</td>\n",
       "      <td>0.7</td>\n",
       "      <td>9.0</td>\n",
       "      <td>99.0</td>\n",
       "      <td>15.0</td>\n",
       "      <td>92.0</td>\n",
       "      <td>Model is basically guessing 1 every time</td>\n",
       "    </tr>\n",
       "    <tr>\n",
       "      <td>0</td>\n",
       "      <td>7</td>\n",
       "      <td>XGBoost, pos_scale_weight</td>\n",
       "      <td>86.1</td>\n",
       "      <td>85.4</td>\n",
       "      <td>0.7</td>\n",
       "      <td>11.0</td>\n",
       "      <td>99.0</td>\n",
       "      <td>47.0</td>\n",
       "      <td>92.0</td>\n",
       "      <td>Class imbalance still causing issues with model</td>\n",
       "    </tr>\n",
       "    <tr>\n",
       "      <td>0</td>\n",
       "      <td>8</td>\n",
       "      <td>XGBoost GridSearch</td>\n",
       "      <td>87.7</td>\n",
       "      <td>85.1</td>\n",
       "      <td>2.6</td>\n",
       "      <td>12.0</td>\n",
       "      <td>99.0</td>\n",
       "      <td>20.0</td>\n",
       "      <td>92.0</td>\n",
       "      <td>Class imbalance still causing issues with model</td>\n",
       "    </tr>\n",
       "    <tr>\n",
       "      <td>0</td>\n",
       "      <td>9</td>\n",
       "      <td>XGBoost SMOTE</td>\n",
       "      <td>89.8</td>\n",
       "      <td>89.2</td>\n",
       "      <td>0.6</td>\n",
       "      <td>80.0</td>\n",
       "      <td>98.0</td>\n",
       "      <td>88.0</td>\n",
       "      <td>90.0</td>\n",
       "      <td>SMOTE fixed class imbalance. Best performing b...</td>\n",
       "    </tr>\n",
       "  </tbody>\n",
       "</table>\n",
       "</div>"
      ],
      "text/plain": [
       "   model_#                                         model_type  train_accuracy  \\\n",
       "0        1                        Vanilla Logistic Regression             0.0   \n",
       "0        2                   Vanilla Random Forest Classifier             0.0   \n",
       "0        3         SVM: Balanced Class Weights, Linear Kernel            81.3   \n",
       "0        4  SVM: Balanced Class Weights, Linear Kernel, Gr...            84.5   \n",
       "0        5                                         SVM: SMOTE            99.2   \n",
       "0        6                                XGBoost RFC Vanilla            85.8   \n",
       "0        7                          XGBoost, pos_scale_weight            86.1   \n",
       "0        8                                 XGBoost GridSearch            87.7   \n",
       "0        9                                      XGBoost SMOTE            89.8   \n",
       "\n",
       "   test_accuracy  train_test_diff  negative_recall  positive_recall  \\\n",
       "0            0.0              0.0             50.0             92.0   \n",
       "0            0.0              0.0             38.0             97.0   \n",
       "0           76.4              4.9             67.0             78.0   \n",
       "0           75.6              8.9             64.0             78.0   \n",
       "0           88.9             10.3             93.0             85.0   \n",
       "0           85.1              0.7              9.0             99.0   \n",
       "0           85.4              0.7             11.0             99.0   \n",
       "0           85.1              2.6             12.0             99.0   \n",
       "0           89.2              0.6             80.0             98.0   \n",
       "\n",
       "   negative_f_1  positive_f-1  \\\n",
       "0          53.0          91.0   \n",
       "0          51.0          93.0   \n",
       "0          47.0          85.0   \n",
       "0          45.0          84.0   \n",
       "0          89.0          89.0   \n",
       "0          15.0          92.0   \n",
       "0          47.0          92.0   \n",
       "0          20.0          92.0   \n",
       "0          88.0          90.0   \n",
       "\n",
       "                                               notes  \n",
       "0             Vanilla model very basic, needs tuning  \n",
       "0             Vanilla model very basic, needs tuning  \n",
       "0  Model overfits and class imbalance still causi...  \n",
       "0  Model still overfits and less predictive for b...  \n",
       "0  Model overfits but SMOTE has solved class imba...  \n",
       "0           Model is basically guessing 1 every time  \n",
       "0    Class imbalance still causing issues with model  \n",
       "0    Class imbalance still causing issues with model  \n",
       "0  SMOTE fixed class imbalance. Best performing b...  "
      ]
     },
     "execution_count": 77,
     "metadata": {},
     "output_type": "execute_result"
    }
   ],
   "source": [
    "column_names = ['model_#', 'model_type', 'train_accuracy', 'test_accuracy', 'train_test_diff' ,'negative_recall', \n",
    "                'positive_recall', 'negative_f_1', 'positive_f-1', 'notes']\n",
    "results = [9, 'XGBoost SMOTE', 89.8,89.2,0.6,80.0,98.0,88.0,90.0, \n",
    "           'SMOTE fixed class imbalance. Best performing binary model']\n",
    "results_dict = dict(zip(column_names,results))\n",
    "model_results9=pd.DataFrame(results_dict, index = range(1))\n",
    "model_results=model_results.append(model_results9)\n",
    "model_results"
   ]
  },
  {
   "cell_type": "code",
   "execution_count": 78,
   "metadata": {
    "ExecuteTime": {
     "end_time": "2020-06-30T20:51:10.026744Z",
     "start_time": "2020-06-30T20:51:09.724579Z"
    }
   },
   "outputs": [
    {
     "data": {
      "text/html": [
       "<div>\n",
       "<style scoped>\n",
       "    .dataframe tbody tr th:only-of-type {\n",
       "        vertical-align: middle;\n",
       "    }\n",
       "\n",
       "    .dataframe tbody tr th {\n",
       "        vertical-align: top;\n",
       "    }\n",
       "\n",
       "    .dataframe thead th {\n",
       "        text-align: right;\n",
       "    }\n",
       "</style>\n",
       "<table border=\"1\" class=\"dataframe\">\n",
       "  <thead>\n",
       "    <tr style=\"text-align: right;\">\n",
       "      <th></th>\n",
       "      <th>score</th>\n",
       "    </tr>\n",
       "  </thead>\n",
       "  <tbody>\n",
       "    <tr>\n",
       "      <td>f174</td>\n",
       "      <td>48</td>\n",
       "    </tr>\n",
       "    <tr>\n",
       "      <td>f178</td>\n",
       "      <td>37</td>\n",
       "    </tr>\n",
       "    <tr>\n",
       "      <td>f386</td>\n",
       "      <td>18</td>\n",
       "    </tr>\n",
       "    <tr>\n",
       "      <td>f16</td>\n",
       "      <td>18</td>\n",
       "    </tr>\n",
       "    <tr>\n",
       "      <td>f62</td>\n",
       "      <td>17</td>\n",
       "    </tr>\n",
       "  </tbody>\n",
       "</table>\n",
       "</div>"
      ],
      "text/plain": [
       "      score\n",
       "f174     48\n",
       "f178     37\n",
       "f386     18\n",
       "f16      18\n",
       "f62      17"
      ]
     },
     "execution_count": 78,
     "metadata": {},
     "output_type": "execute_result"
    },
    {
     "data": {
      "image/png": "iVBORw0KGgoAAAANSUhEUgAAAX4AAAD4CAYAAADrRI2NAAAABHNCSVQICAgIfAhkiAAAAAlwSFlzAAALEgAACxIB0t1+/AAAADh0RVh0U29mdHdhcmUAbWF0cGxvdGxpYiB2ZXJzaW9uMy4xLjMsIGh0dHA6Ly9tYXRwbG90bGliLm9yZy+AADFEAAAfK0lEQVR4nO3dfbxVVb3v8c9XQBEVDZREIDAPiV4FsS2WFioeCR/SvOVJj5mpSWhZdKOjHrt5q9PNylfquZW9OGjWiXzIh/LkE9SxjHNA2ZtA1K1gvkg3mCg+8KAoyO/+MceW5XbtvZ7X2rC+79drv9hrrjHnHGu+2GPPPeYY36GIwMzMmscOja6AmZnVlxt+M7Mm44bfzKzJuOE3M2sybvjNzJpM30ZXIJ8999wzRo0a1ehqmJltU9ra2l6IiL0KleuVDf+oUaNobW1tdDXMzLYpkv5aTDl39ZiZNZmCd/ySvghcADwG7AMcClwWEVfmlNkDmAUcBARwbkTMlzQO+AmwK7ACODMi1hY659KVrzDqkrtK/zTbmRVXnNjoKpjZdqiYrp4LgeOBDcBI4GN5ylwD3BsRn5C0IzAgbZ8FzIiIP0o6F/gq8L8rr7aZmZWrx4Zf0k+A9wJ3AtdHxFWSTuxSZiAwEfgMQES8AbyR3t4feCB9Pxe4Dzf8ZlYlmzZtoqOjg40bNza6KnXVv39/hg8fTr9+/crav8eGPyKmSZoCHBMRL3RT7L3A88BPU9dOG/CliNgAPAKcDPwGOA0Y0d25JE0FpgL0GVjwobSZGR0dHey2226MGjUKSY2uTl1EBGvWrKGjo4N99923rGNU4+FuX7J+/2sjYjxZl9Al6b1zgc9LagN2Y+tfAu8QETMjoiUiWvoM2L0K1TKz7d3GjRsZPHhw0zT6AJIYPHhwRX/lVKPh7wA6IuLB9PpWsl8ERMTjETE5It4P3Aj8pQrnMzN7SzM1+p0q/cwVj+OPiL9JekbS/hHxBHAs2QggJA2JiNWSdgC+RjbCp6CDh+1Oq0e0mJnVRNENv6S9gVZgILBF0nTgwDQ88yJgdhrR8xRwTtrtDEmfT9/fDvy0ajU3M+ui2sPAt9ch1QUb/ogYlfNyeDdlFgMtebZfQzbU08zMerB582b69q1PmIJn7pqZlWnDhg2ceOKJjBs3joMOOoibb76ZhQsXcsQRRzBu3DgmTJjAunXr2LhxI+eccw4HH3ww48eP5/777wfghhtu4LTTTuOjH/0okydPBuD73/8+hx12GGPHjuXyyy+vSb17ZVaPmdm24N5772WfffbhrruyLqZXXnmF8ePHc/PNN3PYYYexdu1adt55Z665Juv4WLp0KY8//jiTJ09m2bJlAMyfP5+HH36YQYMGMWfOHJYvX85DDz1ERHDyySfzwAMPMHHixKrWu6KGPyfOYQywNG1eD1wQEUskjQB+DuwNbAFmpu6fHjmyobDtte/RbFty8MEHM2PGDC6++GJOOukk9thjD4YOHcphhx0GwMCBAwGYN28eF110EQBjxoxh5MiRbzX8xx13HIMGDQJgzpw5zJkzh/HjxwOwfv16li9f3rsafrbGOQwF2iPiJUnHAzOBw4HNwFciYpGk3YA2SXMj4rEKz2tm1nDve9/7aGtr4+677+bSSy9l8uTJeYdaRkS3x9hll13eVu7SSy/lc5/7XE3q26nsPv4ucQ6HR8RL6a0FpIfAEfFsRCxK368D2oFhFdXYzKyXWLVqFQMGDOBTn/oUM2bMYMGCBaxatYqFCxcCsG7dOjZv3szEiROZPXs2AMuWLePpp59m//33f8fxPvKRj3D99dezfv16AFauXMnq1aurXu+y7/h7iHM4D7ina3lJo4DxwINd30vvO7LBzCpS7y7QpUuX8tWvfpUddtiBfv36ce211xIRXHTRRbz22mvsvPPO/O53v+PCCy9k2rRpHHzwwfTt25cbbriBnXba6R3Hmzx5Mu3t7Xzwgx8EYNddd+UXv/gFQ4YMqWq91dOfIAV3llYALZ0Nv6RjgB8DH4qINTnldgX+CHw7Im4vdNydho6OoWdfXXa9moH7+M2gvb2dAw44oNHVaIh8n11SW0S8Y2h9V1Ub1SNpLFkM8/FdGv1+wG3A7GIaffDMXTOzWqrKOH5J7yGbmXtWRCzL2S7gOrIHvz+oxrnMzKwy1ZrA9XVgMPBjSYsldS6YeyRwFjApbV8s6YQqndPMrMcRM9urSj9zRV09OXEOn01fXd+fBzRfdJ6Z1UX//v1Zs2ZNU0Uzd+bx9+/fv+xjeOaumW2zhg8fTkdHB88//3yjq1JXnStwlauohr/QDN1UZgpZIFsfYFZEXJG2fwGYDuwH7NXDSl5mZiXp169f2atQNbNi7/h7nKErqQ/wI+A4soVZFkq6M83Q/S/gt8Afiq2UIxsK83BOMytXwYe7xczQBSYAT0bEU2mx9ZuAUwAi4s8RsaLaFTczs/IUk8dfzAzdYcAzOe91kGX1mJlZL1PWw900Q/c84EOdm/IUK2m8kSMbzMzqo+Rx/DkzdE/JmaHbAYzIKTYcWFXKcSNiZkS0RERLnwG7l1otMzMrUkl3/N3N0AUWAqMl7QusBE4H/rHcSjmywcysdkq94887QzciNgNfAO4ji16+JSIehWwoqKQOsr8CHpY0q2q1NzOzklWUzlkrLS0t0draWrigmZm9pdh0Ti+2bmbWZNzwm5k1mYoa/tR/3y5ppaRXchI4v55T5kuSHpH0qKTplVfZzMwqUa3F1kcCMyLipNw3JR0EnE82s/cN4F5Jd0XE8p4O6siGwhzZYGblqtZi6+O7KXYAsCAiXk0jf/4InFruOc3MrHJlN/wRMY1sktYxwJ+BD0paIukeSf8jFXsEmChpsKQBwAm8faLXWyRNldQqqfXNV18pt1pmZlZAtfL4FwEjI2J9WmHr18DoiGiX9F1gLlmM8xJgc74DRMRMsrRPdho6uveNMTUz205UZVRPRKyNiPXp+7uBfpL2TK+vi4hDI2Ii8CLQY/++mZnVVlXu+CXtDTwXESFpAtkvlDXpvSERsTrFPfxP4IOFjufIBjOz2qlWV88ngAskbQZeA06PrVOCb5M0GNgEfD4nz9/MzBqgWout/zB95Svz4UrOYWZm1eWZu2ZmTcYNv5lZkymq4c+JZrhN0nxJr0ua0aXMFElPSHpS0iU522en7Y9Iul5Sv2p/CDMzK16xffyd0QwbyOIZPpb7pqQ+wI+A48hW41oo6c6IeAyYDXwqFf0l8Fng2p5O5siGwhzZYGblKnjH3yWa4cyIWEg2QifXBODJiHgqIt4AbgJOgWxcfyTAQ2QLspiZWYMUbPhzoxki4qpuig0Dnsl53ZG2vSV18ZwF3JvvAI5sMDOrj2o93FWebV1jF34MPBARf8p3AC+2bmZWH9WawNXB28PXhpP9lQCApMuBvYDPVel8ZmZWpmo1/AuB0ZL2BVYCpwP/CCDps8BHgGMjYksxB3Nkg5lZ7ZTU8KdMnlZgILAlrah1YESslfQF4D6gD3B9RDyadvsJ8FdgviSA2yPim9X6AGZmVpqiGv6caAboZlROSuW8O8/2av1VYWZmVeCZu2ZmTcYNv5lZkymqG0bSF4ELgL3JxutvIVtJa3pEzJN0CNls3IHAm8C3I+LmtK+AfwFOS+9dGxH/2tP5PHO3Mp7Va2Y9KTWy4XlgQ1pwZSxwCzAGeBX4dEQsl7QP0Cbpvoh4GfgM2VDPMRGxRdKQqn8KMzMrWqmRDefnLLCyC2mSVkQsi4jl6ftVwGqycfuQ/aXwzc6hnBGxuqqfwMzMSlJyZIOkUyU9DtwFnNu1fFp6cUfgL2nTfsAnUxzDPZJG5zuPIxvMzOqj5Ie7EXFHRIwhS+j8Vu57koYC/w6ckzNZaydgY0S0AP8GXN/NcR3ZYGZWB2WP6omIB4D9JO0JIGkg2V8BX4uIBTlFO4Db0vd3AGPLPaeZmVWu1Jm7fwf8JT3cPZSsS2eNpB3JGvWfR8Svuuz2a2AS2Z3+UcCyQudxZIOZWe2UOqv248CnJW0CXgM+mX4J/AMwERgs6TOp7GciYjFwBTBb0peB9WQLsZiZWYNo6yCd3qOlpSVaW1sbXQ0zs22KpLb0PLVHnrlrZtZk3PCbmTWZipIzC0U5pDJnA19Lu/xLRPys0HEd2VAZRzaYWU8qjUzuMcpB0iDgcqCFbJZvm6Q7I+KlCs9rZmZlKrurp5goB7KVt+ZGxIupsZ8LTKmgvmZmVqGy7/gjYpqkKWRRDi9IOhX4DjAE6OxrGEbWBdSpI217B0lTgakAfQbula+ImZlVQdUe7nYT5aB8RbvZ35ENZmZ1UPVRPV2iHDrIIpk7DScLfDMzswapynq43UU5kC2+/n8lvSsVnQxcWuh4jmwwM6udai2EnjfKAXhR0reAhancNyPixSqd08zMyuDIBjOz7YQjG8zMLC83/GZmTaaoPv6caIbHgH2AQ4HLIuLKnDIrgHXAm8Dmzj830uzdm4FRwArgHwrN3HVkQ2Uc2WBmPSn24W5nNMMGYCTZWP18jomIF7psuwT4fURcIemS9PriciprZmaVK9jV0yWa4cyIWAhsKuEcpwCdwWw/o/tfGmZmVgcFG/6ImEY26eqYiLiqp6LAHEltKX6h07sj4tl0rGfJIh3eQdJUSa2SWt989ZXiP4GZmZWkWuP4AY6MiFWShgBzJT2eZvEWJSJmAjMBdho6uveNMTUz205UM6tnVfp3NdnC6xPSW89JGgqQ/l1drXOamVnpqhXZsAuwQ0SsS99PBr6Z3r4TOJts0fWzgd8UOp4jG8zMaqekhl/S3kArMBDYImk6cCCwJ3CHpM5j/jIi7k27XQHcIuk84GngtCrV3czMylBUwx8Ro3JeDs9TZC0wrpt91wDHllwzMzOrCc/cNTNrMm74zcyaTKmRDWOApWnzeuCCiFiSykwBrgH6ALMi4oq0fV/gJmAQsAg4KyLe6Ol8jmyojCMbzKwnxd7xXwicABwJHBURY8mWV5wJIKkP8COyWIcDgTMkHZj2/S5wVUSMBl4Czqte9c3MrFSlRjYcnhOwtoCtD3onAE9GxFPpbv4m4BRlw3wmAbemco5sMDNrsIJdPRExLXXjdA1gOw+4J30/DHgm570O4HBgMPByRGzO2T4s33lSzMNUgD4D9yrlM5iZWQnKmsAl6Riyhv9DnZvyFIsetr9zoyMbzMzqouSGX9JYYBZwfBqjD9md/IicYsPJgt1eAPaQ1Dfd9Xdu75Fn7pqZ1U5JwzklvQe4nWxkzrKctxYCoyXtK2lH4HTgzrTg+v3AJ1K5oiIbzMysdkodx/91sn77H0taLKkVIN3NfwG4D2gHbomIR9M+FwP/S9KTad/rqlJzMzMri7Kb8t6lpaUlWltbG10NM7NtiqS2zmVve+KZu2ZmTaaohl/SFyW1SwpJD6ev/5Y0LqfMCklLc7uAuhxjRtp/z2p+ADMzK02pi60PBdoj4iVJx5MNvzw8p1y+xdaRNAI4jiyWuSBHNtSGoxzMDKo3c7eQq4B/opsx/GZmVj+VLLaeO3MXullsXdLJwMrOMDczM2usas3chTyLrZOt1nUZ2VKMhY7pyAYzszooeVRPzszdU3Jm7na32Pp+wL7AEkkryLqGFqUlHN8mImZGREtEtPQZsHs5n8XMzIpQ6pq7eWfudrfYekQsBYbklFsBtOR7AJzLkQ1mZrVTaldP7sxdgM1pssC76X6xdTMz60VKXWz9s+mr6/tP0c1i690cx8zMGsQzd83MmowbfjOzJlOVyAZJ/SU9JGmJpEclfSNn3z+lGIfFklZJ+nWtPoyZmRVWrciG14FJEbFeUj9gnqR7ImJBRHy48yCSbqOIPH5HNtSGIxvMDKoU2RCZ9Wl7v/QVXY6zG9nC677jNzNroKpFNkjqI2kxsBqYGxEPdjnUqcDvI2Jt5dU2M7NylfVwNyey4eLObRHxZkQcQvZXwARJB3XZ7Qzgxh6OOVVSq6TWN199pZxqmZlZEaoW2dApIl4G/gBMydlnMFmEQ7cd945sMDOrj2pFNuwFbIqIlyXtDPw98N2cXU8DfhsRG4s5jyMbzMxqp1qRDUOBn0nqQ/ZXxC0R8duc/U4HrqhCfc3MrELVimx4GBjfw/5Hl1E3MzOrAc/cNTNrMm74zcyaTD0iG65L2x+WdKukXWv1YczMrDBFFF7/PC2jmC+y4f9ExOHKnvTukhvZAHwpIhZIGtg5aUvSD4DVEdHjg96dho6OoWdfXeFHs1I4zsFs2yepLQ246VHNIxtyGn0BO9MlysHMzOqrLpENkn4K/A0YA/y/fOfxzF0zs/qoS2RDRJwD7AO0A5/Md0zP3DUzq4+6RDak7W8CNwMfL6umZmZWFTWNbEj9+vtFxJPp+48Cjxc6jyMbzMxqp6aRDZJ2SNsHAgKWABdUrfZmZlaymkY2RMQW4MgK6mdmZlXmmbtmZk3GDb+ZWZMpNbLhNknzJb0uaUbO+z1FNvxJ0uL0tUqS19w1M2ugYh/uXkgW2bABGAl8rMv7rwOTciMbJN0TEQsi4sOdhSTdBvym0MmWrnyFUZd0u1iX1ZnjHMy2L6VGNpwZEQuBTblleopsyDnObsAkwHf8ZmYNVElkw9v0FNmQnAr8vjO7J8/+jmwwM6uDqj3c7SmyITkDuLGH/R3ZYGZWB1Uf1ZMvskHSYGAC4I57M7MGK3Xmbl7dRTbkFDkN+G1EbCzmeI5sMDOrnVKzevYGWoGBwBZJ04ED6SayIWfX04EeF18xM7P6KDWyAdLiK13kjWzI2f/okmplZmY145m7ZmZNxg2/mVmTKaqrR9IXyeKUxwBL0+b1wAURsUTSCODnwN7AFmBmRFyT9j0E+AnQH9gMXBgRD/V0Ps/c3TZ4Rq/ZtqnUyIahQHtEvCTpeGAmcDhZg/6ViFiUZui2SZobEY8B3wO+ERH3SDohvT662h/EzMyKU2pkw+ER8VJ6awHpQW9EPBsRi9L368jW1h2WygXZKCCA3clmAZuZWYMUvOOPiGmSppBFNryQ89Z5wD1dy0saRTbCpzOyYTpwn6QryX7RHJHvPJKmAlMB+gzcq/hPYGZmJSnr4a6kY8ga/ou7bN8VuA2YnpPJcwHw5YgYAXwZuC7fMR3ZYGZWHyU3/JLGArOAUyJiTc72fmSN/uyIuD1nl7PJFmgH+BVZdIOZmTVIqTN330PWiJ8VEctytovsTr49In7QZbdVwFFk+T2TgOWFzuPIBjOz2ik1q+frwGDgx1lbz+aIaCFbUP0sYGmKZgb454i4GzgfuEZSX2AjqR/fzMwao9TIhs+mr67vzwPUzb7zgPeXWT8zM6syz9w1M2sybvjNzJpMqZENjwH7AIcCl0XElTllrgdOAlZHxEE52x3Z0IQc52DWe5Ua2bABGAl8LE+ZG4AfkmX25HJkg5lZL1JqZMOZEbEQ2NS1XEQ8ALyY5xCObDAz60UqiWwoliMbzMx6kXo83HVkg5lZL1KPht+RDWZmvUipM3fL4cgGM7NepNSsnr2BVrKHtVskTQcOjIi1km4kG62zp6QO4PKIuA5HNpiZ9SqlRjZAWnwlT5kzutnuyAYzs17EM3fNzJqMG34zsyZT0cPdnCiHRcC/AVcD/YAXIuIoSSPIZvLuDWwBZkbENYWO68iGbZ8jG8x6r0pH9XRGObwE/DcwJSKeljQkvb8Z+EpELJK0G9AmaW5EPFbhec3MrExlN/xdohxuAm6PiKcBImJ1+vdZ4Nn0/TpJ7cAwsrA3MzNrgLL7+CNiGtkY/WOAvYB3SfqDpDZJn+5aXtIoYDzwYL7jSZoqqVVS65uvvlJutczMrIBqTeDqSzZk81hgZ2C+pAWd6/JK2pVsIfbpEbE23wEiYiYwE2CnoaOjSvUyM7MuqtXwd5A90N0AbJD0ADAOWCapH1mjPzsibu/pIGZmVnvVavh/A/wwzc7dETgcuErZiuzXAe0R8YNiD+bIBjOz2qnKOP6IaAfuBR4GHgJmRcQjwJHAWcAkSYvT1wnVOKeZmZWnojv+3CiHiPg+8P0u788DVMk5zMysujxz18ysybjhNzNrMtWKbHgM2Ac4FLgsIq7MKbMHMAs4iGz93XMjYn5Px3Vkw/bNcQ5mjVWtyIYNwEjgY3nKXAPcGxGfkLQjMKDCc5qZWQXK7urpEtlwZkQsBDZ1KTMQmEhaZzci3oiIl8uvrpmZVaoqkQ0RcVU3xd4LPA/8VNKfJc2StEu+go5sMDOrj1o/3O1L1u9/bUSMJ+sSuiRfwYiYGREtEdHSZ8DuNa6WmVnzqvVi6x1AR0R0BrPdSjcNfy7P3DUzq52a3vFHxN+AZyTtnzYdiyOZzcwaqip3/JL2BlqBgcAWSdOBA1MS50XA7DSi5yngnGqc08zMylO1yAZgeDdlFgMtlZzHzMyqxzN3zcyaTFENv6QvSmqX9JKkh1PKZqukD+WU+Z6kR1O5f02RzEjaUdJMScskPS7p47X6MGZmVlixXT2dM3SfBzZEREgaC9wCjJF0BFkE89hUfh5wFPAH4DJgdUS8T9IOwKBCJ3Nkw/bNkQ1mjVXwjr/LDN3zI6JzWcRdyLJ3SP/2J1uEZSegH/Bceu9c4DsAEbElIl6oWu3NzKxkBRv+rjN0JZ0q6XHgLrJGnRS6dj/wbPq6LyLaU0AbwLckLZL0K0nvrsknMTOzopT8cDci7oiIMWSBbN8CkPR3wAFkI3uGka24NZGsK2k48F8RcSgwH7gy33Ed2WBmVh+VZPU8AOwnaU/gVGBBRKyPiPXAPcAHgDXAq8AdabdfkUU45DueIxvMzOqgpHH86c7+L+nh7qFkffprgKeB8yV9h2ypxaOAq1O5/wCOBv6TImfuOrLBzKx2Sp3A9XHg05I2Aa8Bn0yN+63AJGAp2YPeeyPiP9I+FwP/LulqslFBnrlrZtZA2jpIp/doaWmJ1tbWRlfDzGybIqktIgomJXjmrplZk3HDb2bWZEqNbLhN0nxJr0uakfP+/inGofNrbUroRNIhkhbkxDxMqNWHMTOzwkqNbMi7qHpEPAEcAiCpD7CSrUM4vwd8IyLukXRCen10TydzZIPZ9sdRHb1HqZENeRdV7+JYsiGff02vgyynH2B3slnAZmbWIAXv+CNimqQpZJENxeTsnA7cmPN6OnCfpCvJftEckW8nSVOBqQB9Bu5VxGnMzKwcVX24m1bZOplshm6nC4AvR8QI4MvAdfn29cxdM7P6qPaonuOBRRHxXM62s4Hb0/e/Avxw18ysgaqy5m6OM3h7Nw9kffqd2fyTgOWFDuLIBjOz2ik1q6fbRdUlDQCOAz7XZbfzgWsk9QU2kvrxzcysMYpq+ItcVP1VYHCe7fOA95dTOTMzqz7P3DUzazJu+M3MmkzNIxtyysyQFGnhFjMza5B6RDYgaQTZg9+nizmZIxvMrBnVK9aiHpENAFcB/0QW32BmZg1U88gGSScDKyNiiaRud3Jkg5lZfdQ0siGN7b8M+HqhfR3ZYGZWH7WObNgP2BdYImkF2RyARWkimJmZNUBNIxsiYikwpPN1avxbCnUZObLBzKx26hHZYGZmvUjNIxt6OI6ZmTWAInrfCEtJ64AnGl2PXmBPoJiRVM3A1yLj67CVr0Um9zqMjIiCwyKr3cdfLU9EREujK9Foklp9HTK+Fhlfh618LTLlXAdn9ZiZNRk3/GZmTaa3NvwzG12BXsLXYStfi4yvw1a+FpmSr0OvfLhrZma101vv+M3MrEbc8JuZNZle1fBLmiLpCUlPSrqk0fWpJ0nXS1ot6ZGcbYMkzZW0PP37rkbWsR4kjZB0f1r451FJX0rbm/Fa9Jf0kKQl6Vp8I23fV9KD6VrcnMIRt3uS+kj6s6TfptfNeh1WSFqaFr1qTdtK+vnoNQ1/WsDlR2RBbwcCZ0g6sLG1qqsbgCldtl0C/D4iRgO/T6+3d5uBr0TEAcAHgM+n/wfNeC1eByZFxDiyhY6mSPoA8F3gqnQtXgLOa2Ad6+lLQHvO62a9DpDF5B+SM36/pJ+PXtPwAxOAJyPiqYh4A7gJOKXBdaqbiHgAeLHL5lOAn6Xvf0aXlc+2RxHxbEQsSt+vI/tBH0ZzXouIiPXpZb/0FcAk4Na0vSmuhaThwInArPRaNOF16EFJPx+9qeEfBjyT87ojbWtm746IZyFrEMlJOm0GkkYB44EHadJrkbo3FgOrgbnAX4CXI2JzKtIsPydXk63ityW9HkxzXgfIfvnPkdSWFrCCEn8+elNkQ77luTzWtElJ2hW4DZie0l8bXaWGiIg3gUMk7UG2jvUB+YrVt1b1JekkYHVEtEk6unNznqLb9XXIcWRErJI0BJgr6fFSD9Cb7vg7gBE5r4cDqxpUl97iOUlDAdK/qxtcn7qQ1I+s0Z8dEbenzU15LTpFxMvAH8iee+whqfOmrRl+To4ETk7redxE1sVzNc13HQCIiFXp39VkNwMTKPHnozc1/AuB0elJ/Y5ka/fe2eA6NdqdwNnp+7OB3zSwLnWR+m6vA9oj4gc5bzXjtdgr3ekjaWfg78meedwPfCIV2+6vRURcGhHDU6z76cB/RsSZNNl1AJC0i6TdOr8HJgOPUOLPR6+auSvpBLLf5H2A6yPi2w2uUt1IuhE4mixi9TngcuDXwC3Ae4CngdMiousD4O2KpA8BfwKWsrU/95/J+vmb7VqMJXtQ14fsJu2WiPimpPeS3fkOAv4MfCoiXm9cTesndfXMiIiTmvE6pM98R3rZF/hlRHxb0mBK+PnoVQ2/mZnVXm/q6jEzszpww29m1mTc8JuZNRk3/GZmTcYNv5lZk3HDb2bWZNzwm5k1mf8P1r/fPcNDHAkAAAAASUVORK5CYII=\n",
      "text/plain": [
       "<Figure size 432x288 with 1 Axes>"
      ]
     },
     "metadata": {
      "needs_background": "light"
     },
     "output_type": "display_data"
    }
   ],
   "source": [
    "feature_important = xgbc_clf.get_booster().get_score(importance_type='weight')\n",
    "keys = feature_important.keys()\n",
    "values = feature_important.values()\n",
    "data = pd.DataFrame(data=values, index=keys, columns=[\"score\"]).sort_values(by = \"score\", ascending=False)\n",
    "data20=data.head(20)\n",
    "data20.plot(kind='barh')\n",
    "data20.head()"
   ]
  },
  {
   "cell_type": "code",
   "execution_count": 79,
   "metadata": {
    "ExecuteTime": {
     "end_time": "2020-06-30T20:51:10.034594Z",
     "start_time": "2020-06-30T20:51:10.029177Z"
    }
   },
   "outputs": [],
   "source": [
    "def predict_sentiment(model):\n",
    "    data = input(str('Enter a test tweet...'))\n",
    "    cleaned_data = clean_lemmatize_token(data)\n",
    "    next_step = [cleaned_data, '']\n",
    "    vect_data = tf_idfvectorizer.transform(next_step)\n",
    "    model = XGBClassifier(scale_pos_weight=.96, learning_rate = 0.1, \n",
    "                          max_depth = 3, n_estimators = 180)\n",
    "    model.fit(X_train_SMOTE, y_train_SMOTE)\n",
    "    pred = model.predict(vect_data)\n",
    "    return pred"
   ]
  },
  {
   "cell_type": "markdown",
   "metadata": {},
   "source": [
    "# Non-Binary Models"
   ]
  },
  {
   "cell_type": "markdown",
   "metadata": {},
   "source": [
    "XGBoosted Random Forest Classifier showed that it was the best model for binary classification. So now we can move on to Non-Binary Classifications"
   ]
  },
  {
   "cell_type": "code",
   "execution_count": 80,
   "metadata": {
    "ExecuteTime": {
     "end_time": "2020-06-30T20:51:10.043187Z",
     "start_time": "2020-06-30T20:51:10.036800Z"
    }
   },
   "outputs": [],
   "source": [
    "df_modeling3 = df_eda.loc[df_eda['sentiment'] != \"I can't tell\"]"
   ]
  },
  {
   "cell_type": "code",
   "execution_count": 81,
   "metadata": {
    "ExecuteTime": {
     "end_time": "2020-06-30T20:51:10.054012Z",
     "start_time": "2020-06-30T20:51:10.050666Z"
    }
   },
   "outputs": [],
   "source": [
    "X = df_modeling3['tweet_text']\n",
    "y = df_modeling3['sentiment']"
   ]
  },
  {
   "cell_type": "code",
   "execution_count": 82,
   "metadata": {
    "ExecuteTime": {
     "end_time": "2020-06-30T20:51:10.068596Z",
     "start_time": "2020-06-30T20:51:10.056130Z"
    }
   },
   "outputs": [],
   "source": [
    "X_train, X_test, y_train, y_test = train_test_split(X, y, test_size=0.25, random_state=42)"
   ]
  },
  {
   "cell_type": "code",
   "execution_count": 83,
   "metadata": {
    "ExecuteTime": {
     "end_time": "2020-06-30T20:51:10.306878Z",
     "start_time": "2020-06-30T20:51:10.077213Z"
    }
   },
   "outputs": [],
   "source": [
    "tfidf_vectorizer = TfidfVectorizer()\n",
    "X = tfidf_vectorizer.fit_transform(X)\n",
    "X_train_tfidf=tfidf_vectorizer.transform(X_train)\n",
    "X_test_tfidf = tfidf_vectorizer.transform(X_test)"
   ]
  },
  {
   "cell_type": "markdown",
   "metadata": {},
   "source": [
    "Created empty data frame to track non-binary results"
   ]
  },
  {
   "cell_type": "code",
   "execution_count": 84,
   "metadata": {
    "ExecuteTime": {
     "end_time": "2020-06-30T20:51:10.315730Z",
     "start_time": "2020-06-30T20:51:10.309132Z"
    }
   },
   "outputs": [
    {
     "data": {
      "text/html": [
       "<div>\n",
       "<style scoped>\n",
       "    .dataframe tbody tr th:only-of-type {\n",
       "        vertical-align: middle;\n",
       "    }\n",
       "\n",
       "    .dataframe tbody tr th {\n",
       "        vertical-align: top;\n",
       "    }\n",
       "\n",
       "    .dataframe thead th {\n",
       "        text-align: right;\n",
       "    }\n",
       "</style>\n",
       "<table border=\"1\" class=\"dataframe\">\n",
       "  <thead>\n",
       "    <tr style=\"text-align: right;\">\n",
       "      <th></th>\n",
       "    </tr>\n",
       "  </thead>\n",
       "  <tbody>\n",
       "  </tbody>\n",
       "</table>\n",
       "</div>"
      ],
      "text/plain": [
       "Empty DataFrame\n",
       "Columns: []\n",
       "Index: []"
      ]
     },
     "execution_count": 84,
     "metadata": {},
     "output_type": "execute_result"
    }
   ],
   "source": [
    "model_results_nonbinary = pd.DataFrame()\n",
    "model_results_nonbinary"
   ]
  },
  {
   "cell_type": "markdown",
   "metadata": {},
   "source": [
    "Created SMOTE sample to test for class imbalance"
   ]
  },
  {
   "cell_type": "code",
   "execution_count": 85,
   "metadata": {
    "ExecuteTime": {
     "end_time": "2020-06-30T20:51:15.497149Z",
     "start_time": "2020-06-30T20:51:10.318772Z"
    }
   },
   "outputs": [],
   "source": [
    "smote = SMOTE()\n",
    "X_res, y_res = smote.fit_resample(X,y)\n",
    "X_train_SMOTE, X_test_SMOTE, y_train_SMOTE, y_test_SMOTE = train_test_split(X_res, y_res, test_size=0.25,\n",
    "                                                                           random_state=42)"
   ]
  },
  {
   "cell_type": "markdown",
   "metadata": {},
   "source": [
    "# Support Vector Machines"
   ]
  },
  {
   "cell_type": "markdown",
   "metadata": {},
   "source": [
    "Explored SVM with Linear kernel and balanced class weights first. Used params from best performing binary SVM model"
   ]
  },
  {
   "cell_type": "code",
   "execution_count": 86,
   "metadata": {
    "ExecuteTime": {
     "end_time": "2020-06-30T20:51:23.288933Z",
     "start_time": "2020-06-30T20:51:15.499679Z"
    }
   },
   "outputs": [
    {
     "name": "stdout",
     "output_type": "stream",
     "text": [
      "                                    precision    recall  f1-score   support\n",
      "\n",
      "                  Negative emotion       0.43      0.34      0.38       159\n",
      "No emotion toward brand or product       0.74      0.75      0.75      1356\n",
      "                  Positive emotion       0.56      0.58      0.57       719\n",
      "\n",
      "                          accuracy                           0.67      2234\n",
      "                         macro avg       0.58      0.56      0.57      2234\n",
      "                      weighted avg       0.66      0.67      0.66      2234\n",
      "\n",
      "[[  54   77   28]\n",
      " [  43 1021  292]\n",
      " [  28  276  415]]\n",
      "Test SVM Accuracy Score ->  66.6965085049239\n",
      "Training SVM Accuracy Score ->  93.06177260519249\n"
     ]
    }
   ],
   "source": [
    "svm_clf = SVC(kernel='linear', class_weight='balanced', C = 10, gamma=1)\n",
    "svm_clf.fit(X_train_tfidf, y_train)\n",
    "y_test_preds = svm_clf.predict(X_test_tfidf)\n",
    "y_train_preds = svm_clf.predict(X_train_tfidf)\n",
    "print(classification_report(y_test, y_test_preds))\n",
    "print(confusion_matrix(y_test, y_test_preds))\n",
    "print(\"Test SVM Accuracy Score -> \",accuracy_score(y_test, y_test_preds)*100)\n",
    "print(\"Training SVM Accuracy Score -> \",accuracy_score(y_train, y_train_preds)*100)"
   ]
  },
  {
   "cell_type": "code",
   "execution_count": 87,
   "metadata": {
    "ExecuteTime": {
     "end_time": "2020-06-30T20:51:23.310935Z",
     "start_time": "2020-06-30T20:51:23.291388Z"
    }
   },
   "outputs": [
    {
     "data": {
      "text/html": [
       "<div>\n",
       "<style scoped>\n",
       "    .dataframe tbody tr th:only-of-type {\n",
       "        vertical-align: middle;\n",
       "    }\n",
       "\n",
       "    .dataframe tbody tr th {\n",
       "        vertical-align: top;\n",
       "    }\n",
       "\n",
       "    .dataframe thead th {\n",
       "        text-align: right;\n",
       "    }\n",
       "</style>\n",
       "<table border=\"1\" class=\"dataframe\">\n",
       "  <thead>\n",
       "    <tr style=\"text-align: right;\">\n",
       "      <th></th>\n",
       "      <th>model_#</th>\n",
       "      <th>model_type</th>\n",
       "      <th>train_accuracy</th>\n",
       "      <th>test_accuracy</th>\n",
       "      <th>train_test_diff</th>\n",
       "      <th>negative_recall</th>\n",
       "      <th>positive_recall</th>\n",
       "      <th>no_emotion_recall</th>\n",
       "      <th>negative_f_1</th>\n",
       "      <th>positive_f-1</th>\n",
       "      <th>no_emotion_f-1</th>\n",
       "      <th>notes</th>\n",
       "    </tr>\n",
       "  </thead>\n",
       "  <tbody>\n",
       "    <tr>\n",
       "      <td>0</td>\n",
       "      <td>1</td>\n",
       "      <td>SVM: Vanilla Linear Kernel Class Weight Balanced</td>\n",
       "      <td>93.0</td>\n",
       "      <td>66.6</td>\n",
       "      <td>26.4</td>\n",
       "      <td>34.0</td>\n",
       "      <td>58.0</td>\n",
       "      <td>75.0</td>\n",
       "      <td>38.0</td>\n",
       "      <td>57.0</td>\n",
       "      <td>75.0</td>\n",
       "      <td>Model overfits, and class imbalance is an issue</td>\n",
       "    </tr>\n",
       "  </tbody>\n",
       "</table>\n",
       "</div>"
      ],
      "text/plain": [
       "   model_#                                        model_type  train_accuracy  \\\n",
       "0        1  SVM: Vanilla Linear Kernel Class Weight Balanced            93.0   \n",
       "\n",
       "   test_accuracy  train_test_diff  negative_recall  positive_recall  \\\n",
       "0           66.6             26.4             34.0             58.0   \n",
       "\n",
       "   no_emotion_recall  negative_f_1  positive_f-1  no_emotion_f-1  \\\n",
       "0               75.0          38.0          57.0            75.0   \n",
       "\n",
       "                                             notes  \n",
       "0  Model overfits, and class imbalance is an issue  "
      ]
     },
     "execution_count": 87,
     "metadata": {},
     "output_type": "execute_result"
    }
   ],
   "source": [
    "column_names = ['model_#', 'model_type', 'train_accuracy', 'test_accuracy', 'train_test_diff' ,'negative_recall', \n",
    "                'positive_recall', 'no_emotion_recall', 'negative_f_1', 'positive_f-1','no_emotion_f-1', 'notes']\n",
    "results = [1, 'SVM: Vanilla Linear Kernel Class Weight Balanced', 93.0,66.6,26.4,34.0,58.0,75.0,38.0, 57.0, 75.0, \n",
    "           'Model overfits, and class imbalance is an issue']\n",
    "results_dict = dict(zip(column_names,results))\n",
    "model_results1=pd.DataFrame(results_dict, index = range(1))\n",
    "model_results_nonbinary=model_results_nonbinary.append(model_results1)\n",
    "model_results_nonbinary"
   ]
  },
  {
   "cell_type": "markdown",
   "metadata": {},
   "source": [
    "Performed GridSearch on new non-binary model"
   ]
  },
  {
   "cell_type": "code",
   "execution_count": 88,
   "metadata": {
    "ExecuteTime": {
     "end_time": "2020-06-30T20:51:23.317541Z",
     "start_time": "2020-06-30T20:51:23.313147Z"
    }
   },
   "outputs": [],
   "source": [
    "params_svc = {'C': [0.1, 1, 10, 100], 'gamma':[1,0.1,0.01,0.001]}\n",
    "estimator_svc = SVC(kernel='linear',\n",
    "                    class_weight='balanced')\n",
    "grid_search_svc = GridSearchCV(estimator=estimator_svc, \n",
    "                              param_grid=params_svc,\n",
    "                              scoring = 'accuracy',\n",
    "                              n_jobs = -1,\n",
    "                              cv = 10,\n",
    "                              verbose = True)"
   ]
  },
  {
   "cell_type": "code",
   "execution_count": 89,
   "metadata": {
    "ExecuteTime": {
     "end_time": "2020-06-30T20:51:23.323439Z",
     "start_time": "2020-06-30T20:51:23.320591Z"
    }
   },
   "outputs": [],
   "source": [
    "#grid_search_svc.fit(X_train_tfidf, y_train)"
   ]
  },
  {
   "cell_type": "code",
   "execution_count": 90,
   "metadata": {
    "ExecuteTime": {
     "end_time": "2020-06-30T20:51:23.327773Z",
     "start_time": "2020-06-30T20:51:23.325391Z"
    }
   },
   "outputs": [],
   "source": [
    "#grid_search_svc.best_params_"
   ]
  },
  {
   "cell_type": "markdown",
   "metadata": {},
   "source": [
    "Fit new model with ideal params. Still overfit so we manually adjusted params "
   ]
  },
  {
   "cell_type": "code",
   "execution_count": 91,
   "metadata": {
    "ExecuteTime": {
     "end_time": "2020-06-30T20:51:32.776812Z",
     "start_time": "2020-06-30T20:51:23.329633Z"
    }
   },
   "outputs": [
    {
     "name": "stdout",
     "output_type": "stream",
     "text": [
      "                                    precision    recall  f1-score   support\n",
      "\n",
      "                  Negative emotion       0.31      0.49      0.38       159\n",
      "No emotion toward brand or product       0.74      0.67      0.71      1356\n",
      "                  Positive emotion       0.52      0.55      0.53       719\n",
      "\n",
      "                          accuracy                           0.62      2234\n",
      "                         macro avg       0.52      0.57      0.54      2234\n",
      "                      weighted avg       0.64      0.62      0.63      2234\n",
      "\n",
      "[[ 78  50  31]\n",
      " [108 911 337]\n",
      " [ 62 264 393]]\n",
      "Test SVM Accuracy Score ->  61.86213070725156\n",
      "Training SVM Accuracy Score ->  75.08206505520741\n"
     ]
    }
   ],
   "source": [
    "svm_clf = SVC(kernel='linear', class_weight='balanced', C = 0.25, gamma='auto')\n",
    "svm_clf.fit(X_train_tfidf, y_train)\n",
    "y_test_preds = svm_clf.predict(X_test_tfidf)\n",
    "y_train_preds = svm_clf.predict(X_train_tfidf)\n",
    "print(classification_report(y_test, y_test_preds))\n",
    "print(confusion_matrix(y_test, y_test_preds))\n",
    "print(\"Test SVM Accuracy Score -> \",accuracy_score(y_test, y_test_preds)*100)\n",
    "print(\"Training SVM Accuracy Score -> \",accuracy_score(y_train, y_train_preds)*100)"
   ]
  },
  {
   "cell_type": "code",
   "execution_count": 92,
   "metadata": {
    "ExecuteTime": {
     "end_time": "2020-06-30T20:51:32.800680Z",
     "start_time": "2020-06-30T20:51:32.779453Z"
    },
    "scrolled": true
   },
   "outputs": [
    {
     "data": {
      "text/html": [
       "<div>\n",
       "<style scoped>\n",
       "    .dataframe tbody tr th:only-of-type {\n",
       "        vertical-align: middle;\n",
       "    }\n",
       "\n",
       "    .dataframe tbody tr th {\n",
       "        vertical-align: top;\n",
       "    }\n",
       "\n",
       "    .dataframe thead th {\n",
       "        text-align: right;\n",
       "    }\n",
       "</style>\n",
       "<table border=\"1\" class=\"dataframe\">\n",
       "  <thead>\n",
       "    <tr style=\"text-align: right;\">\n",
       "      <th></th>\n",
       "      <th>model_#</th>\n",
       "      <th>model_type</th>\n",
       "      <th>train_accuracy</th>\n",
       "      <th>test_accuracy</th>\n",
       "      <th>train_test_diff</th>\n",
       "      <th>negative_recall</th>\n",
       "      <th>positive_recall</th>\n",
       "      <th>no_emotion_recall</th>\n",
       "      <th>negative_f_1</th>\n",
       "      <th>positive_f-1</th>\n",
       "      <th>no_emotion_f-1</th>\n",
       "      <th>notes</th>\n",
       "    </tr>\n",
       "  </thead>\n",
       "  <tbody>\n",
       "    <tr>\n",
       "      <td>0</td>\n",
       "      <td>1</td>\n",
       "      <td>SVM: Vanilla Linear Kernel Class Weight Balanced</td>\n",
       "      <td>93.0</td>\n",
       "      <td>66.6</td>\n",
       "      <td>26.4</td>\n",
       "      <td>34.0</td>\n",
       "      <td>58.0</td>\n",
       "      <td>75.0</td>\n",
       "      <td>38.0</td>\n",
       "      <td>57.0</td>\n",
       "      <td>75.0</td>\n",
       "      <td>Model overfits, and class imbalance is an issue</td>\n",
       "    </tr>\n",
       "    <tr>\n",
       "      <td>0</td>\n",
       "      <td>2</td>\n",
       "      <td>SVM: GridSearch Balanced Class Weights</td>\n",
       "      <td>75.0</td>\n",
       "      <td>61.8</td>\n",
       "      <td>13.2</td>\n",
       "      <td>49.0</td>\n",
       "      <td>55.0</td>\n",
       "      <td>67.0</td>\n",
       "      <td>38.0</td>\n",
       "      <td>53.0</td>\n",
       "      <td>71.0</td>\n",
       "      <td>Model still overfits, and class imbalance is s...</td>\n",
       "    </tr>\n",
       "  </tbody>\n",
       "</table>\n",
       "</div>"
      ],
      "text/plain": [
       "   model_#                                        model_type  train_accuracy  \\\n",
       "0        1  SVM: Vanilla Linear Kernel Class Weight Balanced            93.0   \n",
       "0        2            SVM: GridSearch Balanced Class Weights            75.0   \n",
       "\n",
       "   test_accuracy  train_test_diff  negative_recall  positive_recall  \\\n",
       "0           66.6             26.4             34.0             58.0   \n",
       "0           61.8             13.2             49.0             55.0   \n",
       "\n",
       "   no_emotion_recall  negative_f_1  positive_f-1  no_emotion_f-1  \\\n",
       "0               75.0          38.0          57.0            75.0   \n",
       "0               67.0          38.0          53.0            71.0   \n",
       "\n",
       "                                               notes  \n",
       "0    Model overfits, and class imbalance is an issue  \n",
       "0  Model still overfits, and class imbalance is s...  "
      ]
     },
     "execution_count": 92,
     "metadata": {},
     "output_type": "execute_result"
    }
   ],
   "source": [
    "column_names = ['model_#', 'model_type', 'train_accuracy', 'test_accuracy', 'train_test_diff' ,'negative_recall', \n",
    "                'positive_recall', 'no_emotion_recall', 'negative_f_1', 'positive_f-1','no_emotion_f-1', 'notes']\n",
    "results = [2, 'SVM: GridSearch Balanced Class Weights', 75.0,61.8,13.2,49.0,55.0,67.0,38.0, 53.0, 71.0, \n",
    "           'Model still overfits, and class imbalance is still an issue']\n",
    "results_dict = dict(zip(column_names,results))\n",
    "model_results2=pd.DataFrame(results_dict, index = range(1))\n",
    "model_results_nonbinary=model_results_nonbinary.append(model_results2)\n",
    "model_results_nonbinary"
   ]
  },
  {
   "cell_type": "code",
   "execution_count": 93,
   "metadata": {
    "ExecuteTime": {
     "end_time": "2020-06-30T20:51:51.258642Z",
     "start_time": "2020-06-30T20:51:32.802708Z"
    }
   },
   "outputs": [
    {
     "name": "stdout",
     "output_type": "stream",
     "text": [
      "                                    precision    recall  f1-score   support\n",
      "\n",
      "                  Negative emotion       0.93      0.99      0.96      1338\n",
      "No emotion toward brand or product       0.81      0.70      0.75      1367\n",
      "                  Positive emotion       0.76      0.82      0.79      1336\n",
      "\n",
      "                          accuracy                           0.84      4041\n",
      "                         macro avg       0.84      0.84      0.83      4041\n",
      "                      weighted avg       0.84      0.84      0.83      4041\n",
      "\n",
      "[[1331    6    1]\n",
      " [  74  957  336]\n",
      " [  23  219 1094]]\n",
      "Test SVM Accuracy Score ->  83.69215540707745\n",
      "Training SVM Accuracy Score ->  94.95999340097335\n"
     ]
    }
   ],
   "source": [
    "svm_clf = SVC(kernel='linear', C = 5, gamma=1)\n",
    "svm_clf.fit(X_train_SMOTE, y_train_SMOTE)\n",
    "y_test_preds = svm_clf.predict(X_test_SMOTE)\n",
    "y_train_preds = svm_clf.predict(X_train_SMOTE)\n",
    "print(classification_report(y_test_SMOTE, y_test_preds))\n",
    "print(confusion_matrix(y_test_SMOTE, y_test_preds))\n",
    "print(\"Test SVM Accuracy Score -> \",accuracy_score(y_test_SMOTE, y_test_preds)*100)\n",
    "print(\"Training SVM Accuracy Score -> \",accuracy_score(y_train_SMOTE, y_train_preds)*100)"
   ]
  },
  {
   "cell_type": "code",
   "execution_count": 94,
   "metadata": {
    "ExecuteTime": {
     "end_time": "2020-06-30T20:51:51.281564Z",
     "start_time": "2020-06-30T20:51:51.260996Z"
    }
   },
   "outputs": [
    {
     "data": {
      "text/html": [
       "<div>\n",
       "<style scoped>\n",
       "    .dataframe tbody tr th:only-of-type {\n",
       "        vertical-align: middle;\n",
       "    }\n",
       "\n",
       "    .dataframe tbody tr th {\n",
       "        vertical-align: top;\n",
       "    }\n",
       "\n",
       "    .dataframe thead th {\n",
       "        text-align: right;\n",
       "    }\n",
       "</style>\n",
       "<table border=\"1\" class=\"dataframe\">\n",
       "  <thead>\n",
       "    <tr style=\"text-align: right;\">\n",
       "      <th></th>\n",
       "      <th>model_#</th>\n",
       "      <th>model_type</th>\n",
       "      <th>train_accuracy</th>\n",
       "      <th>test_accuracy</th>\n",
       "      <th>train_test_diff</th>\n",
       "      <th>negative_recall</th>\n",
       "      <th>positive_recall</th>\n",
       "      <th>no_emotion_recall</th>\n",
       "      <th>negative_f_1</th>\n",
       "      <th>positive_f-1</th>\n",
       "      <th>no_emotion_f-1</th>\n",
       "      <th>notes</th>\n",
       "    </tr>\n",
       "  </thead>\n",
       "  <tbody>\n",
       "    <tr>\n",
       "      <td>0</td>\n",
       "      <td>1</td>\n",
       "      <td>SVM: Vanilla Linear Kernel Class Weight Balanced</td>\n",
       "      <td>93.0</td>\n",
       "      <td>66.6</td>\n",
       "      <td>26.4</td>\n",
       "      <td>34.0</td>\n",
       "      <td>58.0</td>\n",
       "      <td>75.0</td>\n",
       "      <td>38.0</td>\n",
       "      <td>57.0</td>\n",
       "      <td>75.0</td>\n",
       "      <td>Model overfits, and class imbalance is an issue</td>\n",
       "    </tr>\n",
       "    <tr>\n",
       "      <td>0</td>\n",
       "      <td>2</td>\n",
       "      <td>SVM: GridSearch Balanced Class Weights</td>\n",
       "      <td>75.0</td>\n",
       "      <td>61.8</td>\n",
       "      <td>13.2</td>\n",
       "      <td>49.0</td>\n",
       "      <td>55.0</td>\n",
       "      <td>67.0</td>\n",
       "      <td>38.0</td>\n",
       "      <td>53.0</td>\n",
       "      <td>71.0</td>\n",
       "      <td>Model still overfits, and class imbalance is s...</td>\n",
       "    </tr>\n",
       "    <tr>\n",
       "      <td>0</td>\n",
       "      <td>3</td>\n",
       "      <td>SVM: SMOTE</td>\n",
       "      <td>94.7</td>\n",
       "      <td>83.6</td>\n",
       "      <td>11.1</td>\n",
       "      <td>100.0</td>\n",
       "      <td>82.0</td>\n",
       "      <td>70.0</td>\n",
       "      <td>96.0</td>\n",
       "      <td>75.0</td>\n",
       "      <td>79.0</td>\n",
       "      <td>Model still overfits, and class imbalance less...</td>\n",
       "    </tr>\n",
       "  </tbody>\n",
       "</table>\n",
       "</div>"
      ],
      "text/plain": [
       "   model_#                                        model_type  train_accuracy  \\\n",
       "0        1  SVM: Vanilla Linear Kernel Class Weight Balanced            93.0   \n",
       "0        2            SVM: GridSearch Balanced Class Weights            75.0   \n",
       "0        3                                        SVM: SMOTE            94.7   \n",
       "\n",
       "   test_accuracy  train_test_diff  negative_recall  positive_recall  \\\n",
       "0           66.6             26.4             34.0             58.0   \n",
       "0           61.8             13.2             49.0             55.0   \n",
       "0           83.6             11.1            100.0             82.0   \n",
       "\n",
       "   no_emotion_recall  negative_f_1  positive_f-1  no_emotion_f-1  \\\n",
       "0               75.0          38.0          57.0            75.0   \n",
       "0               67.0          38.0          53.0            71.0   \n",
       "0               70.0          96.0          75.0            79.0   \n",
       "\n",
       "                                               notes  \n",
       "0    Model overfits, and class imbalance is an issue  \n",
       "0  Model still overfits, and class imbalance is s...  \n",
       "0  Model still overfits, and class imbalance less...  "
      ]
     },
     "execution_count": 94,
     "metadata": {},
     "output_type": "execute_result"
    }
   ],
   "source": [
    "column_names = ['model_#', 'model_type', 'train_accuracy', 'test_accuracy', 'train_test_diff' ,'negative_recall', \n",
    "                'positive_recall', 'no_emotion_recall', 'negative_f_1', 'positive_f-1','no_emotion_f-1', 'notes']\n",
    "results = [3, 'SVM: SMOTE', 94.7,83.6,11.1,100.0,82.0,70.0,96.0, 75.0, 79.0, \n",
    "           'Model still overfits, and class imbalance less an issue']\n",
    "results_dict = dict(zip(column_names,results))\n",
    "model_results3=pd.DataFrame(results_dict, index = range(1))\n",
    "model_results_nonbinary=model_results_nonbinary.append(model_results3)\n",
    "model_results_nonbinary"
   ]
  },
  {
   "cell_type": "markdown",
   "metadata": {},
   "source": [
    "Running additional GridSearch fit on SMOTE Data"
   ]
  },
  {
   "cell_type": "code",
   "execution_count": 95,
   "metadata": {
    "ExecuteTime": {
     "end_time": "2020-06-30T20:51:51.288615Z",
     "start_time": "2020-06-30T20:51:51.283818Z"
    }
   },
   "outputs": [],
   "source": [
    "params_svc = {'C': [0.1, 1, 10, 100], 'gamma':[1,0.1,0.01,0.001]}\n",
    "estimator_svc = SVC(kernel='linear')\n",
    "grid_search_svc = GridSearchCV(estimator=estimator_svc, \n",
    "                              param_grid=params_svc,\n",
    "                              scoring = 'accuracy',\n",
    "                              n_jobs = -1,\n",
    "                              cv = 15,\n",
    "                              verbose = True)"
   ]
  },
  {
   "cell_type": "code",
   "execution_count": 96,
   "metadata": {
    "ExecuteTime": {
     "end_time": "2020-06-30T20:51:51.294946Z",
     "start_time": "2020-06-30T20:51:51.291035Z"
    }
   },
   "outputs": [],
   "source": [
    "#grid_search_svc.fit(X_train_SMOTE, y_train_SMOTE)"
   ]
  },
  {
   "cell_type": "code",
   "execution_count": 97,
   "metadata": {
    "ExecuteTime": {
     "end_time": "2020-06-30T20:51:51.299150Z",
     "start_time": "2020-06-30T20:51:51.296797Z"
    }
   },
   "outputs": [],
   "source": [
    "#grid_search_svc.best_params_"
   ]
  },
  {
   "cell_type": "markdown",
   "metadata": {},
   "source": [
    "# XGBoosted Model"
   ]
  },
  {
   "cell_type": "markdown",
   "metadata": {},
   "source": [
    "Moving on to XGBoosted modeling. Change objective to multi:logistic to account for multi class target"
   ]
  },
  {
   "cell_type": "code",
   "execution_count": 98,
   "metadata": {
    "ExecuteTime": {
     "end_time": "2020-06-30T20:52:03.367281Z",
     "start_time": "2020-06-30T20:51:51.301082Z"
    }
   },
   "outputs": [
    {
     "name": "stdout",
     "output_type": "stream",
     "text": [
      "                                    precision    recall  f1-score   support\n",
      "\n",
      "                  Negative emotion       0.64      0.04      0.08       159\n",
      "No emotion toward brand or product       0.65      0.95      0.77      1356\n",
      "                  Positive emotion       0.66      0.22      0.33       719\n",
      "\n",
      "                          accuracy                           0.65      2234\n",
      "                         macro avg       0.65      0.41      0.40      2234\n",
      "                      weighted avg       0.65      0.65      0.58      2234\n",
      "\n",
      "[[   7  132   20]\n",
      " [   3 1290   63]\n",
      " [   1  557  161]]\n",
      "Test SVM Accuracy Score ->  65.26410026857654\n",
      "Training SVM Accuracy Score ->  69.44195762458968\n"
     ]
    }
   ],
   "source": [
    "xgbc_clf = XGBClassifier(objective='multi:logistic')\n",
    "xgbc_clf.fit(X_train_tfidf, y_train)\n",
    "y_test_preds = xgbc_clf.predict(X_test_tfidf)\n",
    "y_train_preds = xgbc_clf.predict(X_train_tfidf)\n",
    "print(classification_report(y_test, y_test_preds))\n",
    "print(confusion_matrix(y_test, y_test_preds))\n",
    "print(\"Test SVM Accuracy Score -> \",accuracy_score(y_test, y_test_preds)*100)\n",
    "print(\"Training SVM Accuracy Score -> \",accuracy_score(y_train, y_train_preds)*100)"
   ]
  },
  {
   "cell_type": "code",
   "execution_count": 99,
   "metadata": {
    "ExecuteTime": {
     "end_time": "2020-06-30T20:52:03.391395Z",
     "start_time": "2020-06-30T20:52:03.369493Z"
    }
   },
   "outputs": [
    {
     "data": {
      "text/html": [
       "<div>\n",
       "<style scoped>\n",
       "    .dataframe tbody tr th:only-of-type {\n",
       "        vertical-align: middle;\n",
       "    }\n",
       "\n",
       "    .dataframe tbody tr th {\n",
       "        vertical-align: top;\n",
       "    }\n",
       "\n",
       "    .dataframe thead th {\n",
       "        text-align: right;\n",
       "    }\n",
       "</style>\n",
       "<table border=\"1\" class=\"dataframe\">\n",
       "  <thead>\n",
       "    <tr style=\"text-align: right;\">\n",
       "      <th></th>\n",
       "      <th>model_#</th>\n",
       "      <th>model_type</th>\n",
       "      <th>train_accuracy</th>\n",
       "      <th>test_accuracy</th>\n",
       "      <th>train_test_diff</th>\n",
       "      <th>negative_recall</th>\n",
       "      <th>positive_recall</th>\n",
       "      <th>no_emotion_recall</th>\n",
       "      <th>negative_f_1</th>\n",
       "      <th>positive_f-1</th>\n",
       "      <th>no_emotion_f-1</th>\n",
       "      <th>notes</th>\n",
       "    </tr>\n",
       "  </thead>\n",
       "  <tbody>\n",
       "    <tr>\n",
       "      <td>0</td>\n",
       "      <td>1</td>\n",
       "      <td>SVM: Vanilla Linear Kernel Class Weight Balanced</td>\n",
       "      <td>93.0</td>\n",
       "      <td>66.6</td>\n",
       "      <td>26.4</td>\n",
       "      <td>34.0</td>\n",
       "      <td>58.0</td>\n",
       "      <td>75.0</td>\n",
       "      <td>38.0</td>\n",
       "      <td>57.0</td>\n",
       "      <td>75.0</td>\n",
       "      <td>Model overfits, and class imbalance is an issue</td>\n",
       "    </tr>\n",
       "    <tr>\n",
       "      <td>0</td>\n",
       "      <td>2</td>\n",
       "      <td>SVM: GridSearch Balanced Class Weights</td>\n",
       "      <td>75.0</td>\n",
       "      <td>61.8</td>\n",
       "      <td>13.2</td>\n",
       "      <td>49.0</td>\n",
       "      <td>55.0</td>\n",
       "      <td>67.0</td>\n",
       "      <td>38.0</td>\n",
       "      <td>53.0</td>\n",
       "      <td>71.0</td>\n",
       "      <td>Model still overfits, and class imbalance is s...</td>\n",
       "    </tr>\n",
       "    <tr>\n",
       "      <td>0</td>\n",
       "      <td>3</td>\n",
       "      <td>SVM: SMOTE</td>\n",
       "      <td>94.7</td>\n",
       "      <td>83.6</td>\n",
       "      <td>11.1</td>\n",
       "      <td>100.0</td>\n",
       "      <td>82.0</td>\n",
       "      <td>70.0</td>\n",
       "      <td>96.0</td>\n",
       "      <td>75.0</td>\n",
       "      <td>79.0</td>\n",
       "      <td>Model still overfits, and class imbalance less...</td>\n",
       "    </tr>\n",
       "    <tr>\n",
       "      <td>0</td>\n",
       "      <td>4</td>\n",
       "      <td>XGBoost multi:logistic</td>\n",
       "      <td>69.4</td>\n",
       "      <td>65.2</td>\n",
       "      <td>4.2</td>\n",
       "      <td>4.0</td>\n",
       "      <td>95.0</td>\n",
       "      <td>22.0</td>\n",
       "      <td>8.0</td>\n",
       "      <td>77.0</td>\n",
       "      <td>33.0</td>\n",
       "      <td>Model still overfits, and class imbalance less...</td>\n",
       "    </tr>\n",
       "  </tbody>\n",
       "</table>\n",
       "</div>"
      ],
      "text/plain": [
       "   model_#                                        model_type  train_accuracy  \\\n",
       "0        1  SVM: Vanilla Linear Kernel Class Weight Balanced            93.0   \n",
       "0        2            SVM: GridSearch Balanced Class Weights            75.0   \n",
       "0        3                                        SVM: SMOTE            94.7   \n",
       "0        4                            XGBoost multi:logistic            69.4   \n",
       "\n",
       "   test_accuracy  train_test_diff  negative_recall  positive_recall  \\\n",
       "0           66.6             26.4             34.0             58.0   \n",
       "0           61.8             13.2             49.0             55.0   \n",
       "0           83.6             11.1            100.0             82.0   \n",
       "0           65.2              4.2              4.0             95.0   \n",
       "\n",
       "   no_emotion_recall  negative_f_1  positive_f-1  no_emotion_f-1  \\\n",
       "0               75.0          38.0          57.0            75.0   \n",
       "0               67.0          38.0          53.0            71.0   \n",
       "0               70.0          96.0          75.0            79.0   \n",
       "0               22.0           8.0          77.0            33.0   \n",
       "\n",
       "                                               notes  \n",
       "0    Model overfits, and class imbalance is an issue  \n",
       "0  Model still overfits, and class imbalance is s...  \n",
       "0  Model still overfits, and class imbalance less...  \n",
       "0  Model still overfits, and class imbalance less...  "
      ]
     },
     "execution_count": 99,
     "metadata": {},
     "output_type": "execute_result"
    }
   ],
   "source": [
    "column_names = ['model_#', 'model_type', 'train_accuracy', 'test_accuracy', 'train_test_diff' ,'negative_recall', \n",
    "                'positive_recall', 'no_emotion_recall', 'negative_f_1', 'positive_f-1','no_emotion_f-1', 'notes']\n",
    "results = [4, 'XGBoost multi:logistic', 69.4,65.2,4.2,4.0,95.0,22.0,8.0, 77.0, 33.0, \n",
    "           'Model still overfits, and class imbalance less an issue']\n",
    "results_dict = dict(zip(column_names,results))\n",
    "model_results4=pd.DataFrame(results_dict, index = range(1))\n",
    "model_results_nonbinary=model_results_nonbinary.append(model_results4)\n",
    "model_results_nonbinary"
   ]
  },
  {
   "cell_type": "markdown",
   "metadata": {},
   "source": [
    "Model slightly overfit and class imbalance is still an issue. Moving on to GridSearch"
   ]
  },
  {
   "cell_type": "code",
   "execution_count": 100,
   "metadata": {
    "ExecuteTime": {
     "end_time": "2020-06-30T20:52:03.398813Z",
     "start_time": "2020-06-30T20:52:03.393409Z"
    }
   },
   "outputs": [],
   "source": [
    "params_xgboost = {'max_depth': range(2,10,1),\n",
    "         'n_estimators': range(60,220,40),\n",
    "         'learning_rate': [0.1, 0.01, 0.05]}\n",
    "\n",
    "estimator_xgboost = XGBClassifier(\n",
    "    objective= 'multi:logistic',\n",
    "    n_jobs=-1,\n",
    "    seed=42\n",
    ")\n",
    "grid_search_xgboost = GridSearchCV(\n",
    "    estimator=estimator_xgboost,\n",
    "    param_grid=params_xgboost,\n",
    "    scoring = 'accuracy',\n",
    "    n_jobs = -1,\n",
    "    cv = 10,\n",
    "    verbose=True)"
   ]
  },
  {
   "cell_type": "code",
   "execution_count": 101,
   "metadata": {
    "ExecuteTime": {
     "end_time": "2020-06-30T20:52:03.403596Z",
     "start_time": "2020-06-30T20:52:03.401076Z"
    }
   },
   "outputs": [],
   "source": [
    "#grid_search_xgboost.fit(X_train_tfidf, y_train)"
   ]
  },
  {
   "cell_type": "code",
   "execution_count": 102,
   "metadata": {
    "ExecuteTime": {
     "end_time": "2020-06-30T20:52:03.407921Z",
     "start_time": "2020-06-30T20:52:03.405406Z"
    }
   },
   "outputs": [],
   "source": [
    "#grid_search_xgboost.best_params_"
   ]
  },
  {
   "cell_type": "markdown",
   "metadata": {},
   "source": [
    "Fit model to best GridSearch params"
   ]
  },
  {
   "cell_type": "code",
   "execution_count": 103,
   "metadata": {
    "ExecuteTime": {
     "end_time": "2020-06-30T20:52:35.505142Z",
     "start_time": "2020-06-30T20:52:03.409915Z"
    }
   },
   "outputs": [
    {
     "name": "stdout",
     "output_type": "stream",
     "text": [
      "                                    precision    recall  f1-score   support\n",
      "\n",
      "                  Negative emotion       0.62      0.08      0.14       159\n",
      "No emotion toward brand or product       0.67      0.92      0.77      1356\n",
      "                  Positive emotion       0.63      0.29      0.40       719\n",
      "\n",
      "                          accuracy                           0.66      2234\n",
      "                         macro avg       0.64      0.43      0.44      2234\n",
      "                      weighted avg       0.65      0.66      0.61      2234\n",
      "\n",
      "[[  13  123   23]\n",
      " [   3 1250  103]\n",
      " [   5  503  211]]\n",
      "Test SVM Accuracy Score ->  65.98030438675022\n",
      "Training SVM Accuracy Score ->  71.18770516263801\n"
     ]
    }
   ],
   "source": [
    "xgbc_clf = XGBClassifier(objective='multi:logistic',learning_rate=0.1, max_depth=1, n_estimators=750)\n",
    "xgbc_clf.fit(X_train_tfidf, y_train)\n",
    "y_test_preds = xgbc_clf.predict(X_test_tfidf)\n",
    "y_train_preds = xgbc_clf.predict(X_train_tfidf)\n",
    "print(classification_report(y_test, y_test_preds))\n",
    "print(confusion_matrix(y_test, y_test_preds))\n",
    "print(\"Test SVM Accuracy Score -> \",accuracy_score(y_test, y_test_preds)*100)\n",
    "print(\"Training SVM Accuracy Score -> \",accuracy_score(y_train, y_train_preds)*100)"
   ]
<<<<<<< HEAD
>>>>>>> 4659365050dbb66da2accdc4dbb6c526832d8e57
=======
  },
  {
   "cell_type": "code",
   "execution_count": 104,
   "metadata": {
    "ExecuteTime": {
     "end_time": "2020-06-30T20:52:35.530080Z",
     "start_time": "2020-06-30T20:52:35.507622Z"
    }
   },
   "outputs": [
    {
     "data": {
      "text/html": [
       "<div>\n",
       "<style scoped>\n",
       "    .dataframe tbody tr th:only-of-type {\n",
       "        vertical-align: middle;\n",
       "    }\n",
       "\n",
       "    .dataframe tbody tr th {\n",
       "        vertical-align: top;\n",
       "    }\n",
       "\n",
       "    .dataframe thead th {\n",
       "        text-align: right;\n",
       "    }\n",
       "</style>\n",
       "<table border=\"1\" class=\"dataframe\">\n",
       "  <thead>\n",
       "    <tr style=\"text-align: right;\">\n",
       "      <th></th>\n",
       "      <th>model_#</th>\n",
       "      <th>model_type</th>\n",
       "      <th>train_accuracy</th>\n",
       "      <th>test_accuracy</th>\n",
       "      <th>train_test_diff</th>\n",
       "      <th>negative_recall</th>\n",
       "      <th>positive_recall</th>\n",
       "      <th>no_emotion_recall</th>\n",
       "      <th>negative_f_1</th>\n",
       "      <th>positive_f-1</th>\n",
       "      <th>no_emotion_f-1</th>\n",
       "      <th>notes</th>\n",
       "    </tr>\n",
       "  </thead>\n",
       "  <tbody>\n",
       "    <tr>\n",
       "      <td>0</td>\n",
       "      <td>1</td>\n",
       "      <td>SVM: Vanilla Linear Kernel Class Weight Balanced</td>\n",
       "      <td>93.0</td>\n",
       "      <td>66.6</td>\n",
       "      <td>26.4</td>\n",
       "      <td>34.0</td>\n",
       "      <td>58.0</td>\n",
       "      <td>75.0</td>\n",
       "      <td>38.0</td>\n",
       "      <td>57.0</td>\n",
       "      <td>75.0</td>\n",
       "      <td>Model overfits, and class imbalance is an issue</td>\n",
       "    </tr>\n",
       "    <tr>\n",
       "      <td>0</td>\n",
       "      <td>2</td>\n",
       "      <td>SVM: GridSearch Balanced Class Weights</td>\n",
       "      <td>75.0</td>\n",
       "      <td>61.8</td>\n",
       "      <td>13.2</td>\n",
       "      <td>49.0</td>\n",
       "      <td>55.0</td>\n",
       "      <td>67.0</td>\n",
       "      <td>38.0</td>\n",
       "      <td>53.0</td>\n",
       "      <td>71.0</td>\n",
       "      <td>Model still overfits, and class imbalance is s...</td>\n",
       "    </tr>\n",
       "    <tr>\n",
       "      <td>0</td>\n",
       "      <td>3</td>\n",
       "      <td>SVM: SMOTE</td>\n",
       "      <td>94.7</td>\n",
       "      <td>83.6</td>\n",
       "      <td>11.1</td>\n",
       "      <td>100.0</td>\n",
       "      <td>82.0</td>\n",
       "      <td>70.0</td>\n",
       "      <td>96.0</td>\n",
       "      <td>75.0</td>\n",
       "      <td>79.0</td>\n",
       "      <td>Model still overfits, and class imbalance less...</td>\n",
       "    </tr>\n",
       "    <tr>\n",
       "      <td>0</td>\n",
       "      <td>4</td>\n",
       "      <td>XGBoost multi:logistic</td>\n",
       "      <td>69.4</td>\n",
       "      <td>65.2</td>\n",
       "      <td>4.2</td>\n",
       "      <td>4.0</td>\n",
       "      <td>95.0</td>\n",
       "      <td>22.0</td>\n",
       "      <td>8.0</td>\n",
       "      <td>77.0</td>\n",
       "      <td>33.0</td>\n",
       "      <td>Model still overfits, and class imbalance less...</td>\n",
       "    </tr>\n",
       "    <tr>\n",
       "      <td>0</td>\n",
       "      <td>5</td>\n",
       "      <td>XGboost GridSearch</td>\n",
       "      <td>71.1</td>\n",
       "      <td>65.9</td>\n",
       "      <td>5.2</td>\n",
       "      <td>8.0</td>\n",
       "      <td>29.0</td>\n",
       "      <td>92.0</td>\n",
       "      <td>14.0</td>\n",
       "      <td>40.0</td>\n",
       "      <td>77.0</td>\n",
       "      <td>Model still overfits, and class imbalance less...</td>\n",
       "    </tr>\n",
       "  </tbody>\n",
       "</table>\n",
       "</div>"
      ],
      "text/plain": [
       "   model_#                                        model_type  train_accuracy  \\\n",
       "0        1  SVM: Vanilla Linear Kernel Class Weight Balanced            93.0   \n",
       "0        2            SVM: GridSearch Balanced Class Weights            75.0   \n",
       "0        3                                        SVM: SMOTE            94.7   \n",
       "0        4                            XGBoost multi:logistic            69.4   \n",
       "0        5                                XGboost GridSearch            71.1   \n",
       "\n",
       "   test_accuracy  train_test_diff  negative_recall  positive_recall  \\\n",
       "0           66.6             26.4             34.0             58.0   \n",
       "0           61.8             13.2             49.0             55.0   \n",
       "0           83.6             11.1            100.0             82.0   \n",
       "0           65.2              4.2              4.0             95.0   \n",
       "0           65.9              5.2              8.0             29.0   \n",
       "\n",
       "   no_emotion_recall  negative_f_1  positive_f-1  no_emotion_f-1  \\\n",
       "0               75.0          38.0          57.0            75.0   \n",
       "0               67.0          38.0          53.0            71.0   \n",
       "0               70.0          96.0          75.0            79.0   \n",
       "0               22.0           8.0          77.0            33.0   \n",
       "0               92.0          14.0          40.0            77.0   \n",
       "\n",
       "                                               notes  \n",
       "0    Model overfits, and class imbalance is an issue  \n",
       "0  Model still overfits, and class imbalance is s...  \n",
       "0  Model still overfits, and class imbalance less...  \n",
       "0  Model still overfits, and class imbalance less...  \n",
       "0  Model still overfits, and class imbalance less...  "
      ]
     },
     "execution_count": 104,
     "metadata": {},
     "output_type": "execute_result"
    }
   ],
   "source": [
    "column_names = ['model_#', 'model_type', 'train_accuracy', 'test_accuracy', 'train_test_diff' ,'negative_recall', \n",
    "                'positive_recall', 'no_emotion_recall', 'negative_f_1', 'positive_f-1','no_emotion_f-1', 'notes']\n",
    "results = [5, 'XGboost GridSearch', 71.1,65.9,5.2,8.0,29.0,92.0,14.0, 40.0, 77.0, \n",
    "           'Model still overfits, and class imbalance less an issue']\n",
    "results_dict = dict(zip(column_names,results))\n",
    "model_results5=pd.DataFrame(results_dict, index = range(1))\n",
    "model_results_nonbinary=model_results_nonbinary.append(model_results5)\n",
    "model_results_nonbinary"
   ]
  },
  {
   "cell_type": "code",
   "execution_count": 105,
   "metadata": {
    "ExecuteTime": {
     "end_time": "2020-06-30T20:53:06.795770Z",
     "start_time": "2020-06-30T20:52:35.532269Z"
    }
   },
   "outputs": [
    {
     "name": "stdout",
     "output_type": "stream",
     "text": [
      "                                    precision    recall  f1-score   support\n",
      "\n",
      "                  Negative emotion       0.86      0.78      0.82      1338\n",
      "No emotion toward brand or product       0.60      0.83      0.70      1367\n",
      "                  Positive emotion       0.69      0.50      0.58      1336\n",
      "\n",
      "                          accuracy                           0.70      4041\n",
      "                         macro avg       0.72      0.70      0.70      4041\n",
      "                      weighted avg       0.72      0.70      0.70      4041\n",
      "\n",
      "[[1041  188  109]\n",
      " [  43 1131  193]\n",
      " [ 120  553  663]]\n",
      "Test SVM Accuracy Score ->  70.15590200445433\n",
      "Training SVM Accuracy Score ->  73.38942505980368\n"
     ]
    }
   ],
   "source": [
    "xgbc_clf = XGBClassifier(objective='multi:logistic',learning_rate=0.1, max_depth=1, n_estimators=500)\n",
    "xgbc_clf.fit(X_train_SMOTE, y_train_SMOTE)\n",
    "y_test_preds = xgbc_clf.predict(X_test_SMOTE)\n",
    "y_train_preds = xgbc_clf.predict(X_train_SMOTE)\n",
    "print(classification_report(y_test_SMOTE, y_test_preds))\n",
    "print(confusion_matrix(y_test_SMOTE, y_test_preds))\n",
    "print(\"Test SVM Accuracy Score -> \",accuracy_score(y_test_SMOTE, y_test_preds)*100)\n",
    "print(\"Training SVM Accuracy Score -> \",accuracy_score(y_train_SMOTE, y_train_preds)*100)"
   ]
  },
  {
   "cell_type": "code",
   "execution_count": 106,
   "metadata": {
    "ExecuteTime": {
     "end_time": "2020-06-30T20:53:06.820923Z",
     "start_time": "2020-06-30T20:53:06.797947Z"
    }
   },
   "outputs": [
    {
     "data": {
      "text/html": [
       "<div>\n",
       "<style scoped>\n",
       "    .dataframe tbody tr th:only-of-type {\n",
       "        vertical-align: middle;\n",
       "    }\n",
       "\n",
       "    .dataframe tbody tr th {\n",
       "        vertical-align: top;\n",
       "    }\n",
       "\n",
       "    .dataframe thead th {\n",
       "        text-align: right;\n",
       "    }\n",
       "</style>\n",
       "<table border=\"1\" class=\"dataframe\">\n",
       "  <thead>\n",
       "    <tr style=\"text-align: right;\">\n",
       "      <th></th>\n",
       "      <th>model_#</th>\n",
       "      <th>model_type</th>\n",
       "      <th>train_accuracy</th>\n",
       "      <th>test_accuracy</th>\n",
       "      <th>train_test_diff</th>\n",
       "      <th>negative_recall</th>\n",
       "      <th>positive_recall</th>\n",
       "      <th>no_emotion_recall</th>\n",
       "      <th>negative_f_1</th>\n",
       "      <th>positive_f-1</th>\n",
       "      <th>no_emotion_f-1</th>\n",
       "      <th>notes</th>\n",
       "    </tr>\n",
       "  </thead>\n",
       "  <tbody>\n",
       "    <tr>\n",
       "      <td>0</td>\n",
       "      <td>1</td>\n",
       "      <td>SVM: Vanilla Linear Kernel Class Weight Balanced</td>\n",
       "      <td>93.0</td>\n",
       "      <td>66.6</td>\n",
       "      <td>26.4</td>\n",
       "      <td>34.0</td>\n",
       "      <td>58.0</td>\n",
       "      <td>75.0</td>\n",
       "      <td>38.0</td>\n",
       "      <td>57.0</td>\n",
       "      <td>75.0</td>\n",
       "      <td>Model overfits, and class imbalance is an issue</td>\n",
       "    </tr>\n",
       "    <tr>\n",
       "      <td>0</td>\n",
       "      <td>2</td>\n",
       "      <td>SVM: GridSearch Balanced Class Weights</td>\n",
       "      <td>75.0</td>\n",
       "      <td>61.8</td>\n",
       "      <td>13.2</td>\n",
       "      <td>49.0</td>\n",
       "      <td>55.0</td>\n",
       "      <td>67.0</td>\n",
       "      <td>38.0</td>\n",
       "      <td>53.0</td>\n",
       "      <td>71.0</td>\n",
       "      <td>Model still overfits, and class imbalance is s...</td>\n",
       "    </tr>\n",
       "    <tr>\n",
       "      <td>0</td>\n",
       "      <td>3</td>\n",
       "      <td>SVM: SMOTE</td>\n",
       "      <td>94.7</td>\n",
       "      <td>83.6</td>\n",
       "      <td>11.1</td>\n",
       "      <td>100.0</td>\n",
       "      <td>82.0</td>\n",
       "      <td>70.0</td>\n",
       "      <td>96.0</td>\n",
       "      <td>75.0</td>\n",
       "      <td>79.0</td>\n",
       "      <td>Model still overfits, and class imbalance less...</td>\n",
       "    </tr>\n",
       "    <tr>\n",
       "      <td>0</td>\n",
       "      <td>4</td>\n",
       "      <td>XGBoost multi:logistic</td>\n",
       "      <td>69.4</td>\n",
       "      <td>65.2</td>\n",
       "      <td>4.2</td>\n",
       "      <td>4.0</td>\n",
       "      <td>95.0</td>\n",
       "      <td>22.0</td>\n",
       "      <td>8.0</td>\n",
       "      <td>77.0</td>\n",
       "      <td>33.0</td>\n",
       "      <td>Model still overfits, and class imbalance less...</td>\n",
       "    </tr>\n",
       "    <tr>\n",
       "      <td>0</td>\n",
       "      <td>5</td>\n",
       "      <td>XGboost GridSearch</td>\n",
       "      <td>71.1</td>\n",
       "      <td>65.9</td>\n",
       "      <td>5.2</td>\n",
       "      <td>8.0</td>\n",
       "      <td>29.0</td>\n",
       "      <td>92.0</td>\n",
       "      <td>14.0</td>\n",
       "      <td>40.0</td>\n",
       "      <td>77.0</td>\n",
       "      <td>Model still overfits, and class imbalance less...</td>\n",
       "    </tr>\n",
       "    <tr>\n",
       "      <td>0</td>\n",
       "      <td>6</td>\n",
       "      <td>XGboost SMOTE</td>\n",
       "      <td>72.7</td>\n",
       "      <td>69.4</td>\n",
       "      <td>3.3</td>\n",
       "      <td>77.0</td>\n",
       "      <td>49.0</td>\n",
       "      <td>82.0</td>\n",
       "      <td>81.0</td>\n",
       "      <td>57.0</td>\n",
       "      <td>69.0</td>\n",
       "      <td>Model does not overfit and class imbalance no ...</td>\n",
       "    </tr>\n",
       "  </tbody>\n",
       "</table>\n",
       "</div>"
      ],
      "text/plain": [
       "   model_#                                        model_type  train_accuracy  \\\n",
       "0        1  SVM: Vanilla Linear Kernel Class Weight Balanced            93.0   \n",
       "0        2            SVM: GridSearch Balanced Class Weights            75.0   \n",
       "0        3                                        SVM: SMOTE            94.7   \n",
       "0        4                            XGBoost multi:logistic            69.4   \n",
       "0        5                                XGboost GridSearch            71.1   \n",
       "0        6                                     XGboost SMOTE            72.7   \n",
       "\n",
       "   test_accuracy  train_test_diff  negative_recall  positive_recall  \\\n",
       "0           66.6             26.4             34.0             58.0   \n",
       "0           61.8             13.2             49.0             55.0   \n",
       "0           83.6             11.1            100.0             82.0   \n",
       "0           65.2              4.2              4.0             95.0   \n",
       "0           65.9              5.2              8.0             29.0   \n",
       "0           69.4              3.3             77.0             49.0   \n",
       "\n",
       "   no_emotion_recall  negative_f_1  positive_f-1  no_emotion_f-1  \\\n",
       "0               75.0          38.0          57.0            75.0   \n",
       "0               67.0          38.0          53.0            71.0   \n",
       "0               70.0          96.0          75.0            79.0   \n",
       "0               22.0           8.0          77.0            33.0   \n",
       "0               92.0          14.0          40.0            77.0   \n",
       "0               82.0          81.0          57.0            69.0   \n",
       "\n",
       "                                               notes  \n",
       "0    Model overfits, and class imbalance is an issue  \n",
       "0  Model still overfits, and class imbalance is s...  \n",
       "0  Model still overfits, and class imbalance less...  \n",
       "0  Model still overfits, and class imbalance less...  \n",
       "0  Model still overfits, and class imbalance less...  \n",
       "0  Model does not overfit and class imbalance no ...  "
      ]
     },
     "execution_count": 106,
     "metadata": {},
     "output_type": "execute_result"
    }
   ],
   "source": [
    "column_names = ['model_#', 'model_type', 'train_accuracy', 'test_accuracy', 'train_test_diff' ,'negative_recall', \n",
    "                'positive_recall', 'no_emotion_recall', 'negative_f_1', 'positive_f-1','no_emotion_f-1', 'notes']\n",
    "results = [6, 'XGboost SMOTE', 72.7,69.4,3.3,77.0,49.0,82.0,81.0, 57.0, 69.0, \n",
    "           'Model does not overfit and class imbalance no longer an issue']\n",
    "results_dict = dict(zip(column_names,results))\n",
    "model_results6=pd.DataFrame(results_dict, index = range(1))\n",
    "model_results_nonbinary=model_results_nonbinary.append(model_results6)\n",
    "model_results_nonbinary"
   ]
  },
  {
   "cell_type": "markdown",
   "metadata": {},
   "source": [
    "# Naive Bayes Multiclass Model"
   ]
  },
  {
   "cell_type": "markdown",
   "metadata": {},
   "source": [
    "After researching text classification methods I learned that Multinomial Naive Bayes models "
   ]
  },
  {
   "cell_type": "code",
   "execution_count": 107,
   "metadata": {
    "ExecuteTime": {
     "end_time": "2020-06-30T20:53:06.828582Z",
     "start_time": "2020-06-30T20:53:06.822999Z"
    }
   },
   "outputs": [],
   "source": [
    "from sklearn.naive_bayes import MultinomialNB\n",
    "from sklearn import preprocessing\n",
    "from sklearn.pipeline import make_pipeline\n",
    "from imblearn.over_sampling import SMOTE\n",
    "from collections import Counter\n",
    "model = make_pipeline(TfidfVectorizer(ngram_range=(1,2), max_features=400), MultinomialNB(alpha = 0.001))"
   ]
  },
  {
   "cell_type": "code",
   "execution_count": 108,
   "metadata": {
    "ExecuteTime": {
     "end_time": "2020-06-30T20:53:06.833289Z",
     "start_time": "2020-06-30T20:53:06.830545Z"
    }
   },
   "outputs": [],
   "source": [
    "le = preprocessing.LabelEncoder()"
   ]
  },
  {
   "cell_type": "code",
   "execution_count": 109,
   "metadata": {
    "ExecuteTime": {
     "end_time": "2020-06-30T20:53:06.837917Z",
     "start_time": "2020-06-30T20:53:06.835235Z"
    }
   },
   "outputs": [],
   "source": [
    "X = df_modeling3['tweet_text']\n",
    "y = df_modeling3['sentiment']"
   ]
  },
  {
   "cell_type": "code",
   "execution_count": 110,
   "metadata": {
    "ExecuteTime": {
     "end_time": "2020-06-30T20:53:06.843945Z",
     "start_time": "2020-06-30T20:53:06.839841Z"
    }
   },
   "outputs": [],
   "source": [
    "sentiment_encoded = le.fit_transform(y)"
   ]
  },
  {
   "cell_type": "code",
   "execution_count": 111,
   "metadata": {
    "ExecuteTime": {
     "end_time": "2020-06-30T20:53:06.851599Z",
     "start_time": "2020-06-30T20:53:06.845842Z"
    }
   },
   "outputs": [],
   "source": [
    "X_train, X_test, y_train, y_test = train_test_split(X,sentiment_encoded, test_size=0.25, random_state=42)"
   ]
  },
  {
   "cell_type": "code",
   "execution_count": 112,
   "metadata": {
    "ExecuteTime": {
     "end_time": "2020-06-30T20:53:07.576307Z",
     "start_time": "2020-06-30T20:53:06.853596Z"
    }
   },
   "outputs": [],
   "source": [
    "tf_idfvectorizer = TfidfVectorizer(ngram_range=(1,3),max_features=400)\n",
    "tf_idfvectorizer.fit(X)\n",
    "X_train_tfidf = tf_idfvectorizer.transform(X_train)\n",
    "X_test_tfidf = tf_idfvectorizer.transform(X_test)"
   ]
  },
  {
   "cell_type": "code",
   "execution_count": 113,
   "metadata": {
    "ExecuteTime": {
     "end_time": "2020-06-30T20:53:07.985433Z",
     "start_time": "2020-06-30T20:53:07.578645Z"
    }
   },
   "outputs": [
    {
     "name": "stdout",
     "output_type": "stream",
     "text": [
      "              precision    recall  f1-score   support\n",
      "\n",
      "           0       0.44      0.04      0.08       159\n",
      "           1       0.66      0.87      0.75      1356\n",
      "           2       0.55      0.34      0.42       719\n",
      "\n",
      "    accuracy                           0.64      2234\n",
      "   macro avg       0.55      0.42      0.42      2234\n",
      "weighted avg       0.61      0.64      0.60      2234\n",
      "\n",
      "[[   7  121   31]\n",
      " [   8 1178  170]\n",
      " [   1  474  244]]\n",
      "Test SVM Accuracy Score ->  63.96598030438675\n",
      "Training SVM Accuracy Score ->  67.96478663085645\n"
     ]
    }
   ],
   "source": [
    "model.fit(X_train, y_train)\n",
    "y_test_preds = model.predict(X_test)\n",
    "y_train_preds = model.predict(X_train)\n",
    "print(classification_report(y_test, y_test_preds))\n",
    "print(confusion_matrix(y_test, y_test_preds))\n",
    "print(\"Test SVM Accuracy Score -> \",accuracy_score(y_test, y_test_preds)*100)\n",
    "print(\"Training SVM Accuracy Score -> \",accuracy_score(y_train, y_train_preds)*100)"
   ]
  },
  {
   "cell_type": "code",
   "execution_count": 114,
   "metadata": {
    "ExecuteTime": {
     "end_time": "2020-06-30T20:53:08.014061Z",
     "start_time": "2020-06-30T20:53:07.987429Z"
    }
   },
   "outputs": [
    {
     "data": {
      "text/html": [
       "<div>\n",
       "<style scoped>\n",
       "    .dataframe tbody tr th:only-of-type {\n",
       "        vertical-align: middle;\n",
       "    }\n",
       "\n",
       "    .dataframe tbody tr th {\n",
       "        vertical-align: top;\n",
       "    }\n",
       "\n",
       "    .dataframe thead th {\n",
       "        text-align: right;\n",
       "    }\n",
       "</style>\n",
       "<table border=\"1\" class=\"dataframe\">\n",
       "  <thead>\n",
       "    <tr style=\"text-align: right;\">\n",
       "      <th></th>\n",
       "      <th>model_#</th>\n",
       "      <th>model_type</th>\n",
       "      <th>train_accuracy</th>\n",
       "      <th>test_accuracy</th>\n",
       "      <th>train_test_diff</th>\n",
       "      <th>negative_recall</th>\n",
       "      <th>positive_recall</th>\n",
       "      <th>no_emotion_recall</th>\n",
       "      <th>negative_f_1</th>\n",
       "      <th>positive_f-1</th>\n",
       "      <th>no_emotion_f-1</th>\n",
       "      <th>notes</th>\n",
       "    </tr>\n",
       "  </thead>\n",
       "  <tbody>\n",
       "    <tr>\n",
       "      <td>0</td>\n",
       "      <td>1</td>\n",
       "      <td>SVM: Vanilla Linear Kernel Class Weight Balanced</td>\n",
       "      <td>93.0</td>\n",
       "      <td>66.6</td>\n",
       "      <td>26.4</td>\n",
       "      <td>34.0</td>\n",
       "      <td>58.0</td>\n",
       "      <td>75.0</td>\n",
       "      <td>38.0</td>\n",
       "      <td>57.0</td>\n",
       "      <td>75.0</td>\n",
       "      <td>Model overfits, and class imbalance is an issue</td>\n",
       "    </tr>\n",
       "    <tr>\n",
       "      <td>0</td>\n",
       "      <td>2</td>\n",
       "      <td>SVM: GridSearch Balanced Class Weights</td>\n",
       "      <td>75.0</td>\n",
       "      <td>61.8</td>\n",
       "      <td>13.2</td>\n",
       "      <td>49.0</td>\n",
       "      <td>55.0</td>\n",
       "      <td>67.0</td>\n",
       "      <td>38.0</td>\n",
       "      <td>53.0</td>\n",
       "      <td>71.0</td>\n",
       "      <td>Model still overfits, and class imbalance is s...</td>\n",
       "    </tr>\n",
       "    <tr>\n",
       "      <td>0</td>\n",
       "      <td>3</td>\n",
       "      <td>SVM: SMOTE</td>\n",
       "      <td>94.7</td>\n",
       "      <td>83.6</td>\n",
       "      <td>11.1</td>\n",
       "      <td>100.0</td>\n",
       "      <td>82.0</td>\n",
       "      <td>70.0</td>\n",
       "      <td>96.0</td>\n",
       "      <td>75.0</td>\n",
       "      <td>79.0</td>\n",
       "      <td>Model still overfits, and class imbalance less...</td>\n",
       "    </tr>\n",
       "    <tr>\n",
       "      <td>0</td>\n",
       "      <td>4</td>\n",
       "      <td>XGBoost multi:logistic</td>\n",
       "      <td>69.4</td>\n",
       "      <td>65.2</td>\n",
       "      <td>4.2</td>\n",
       "      <td>4.0</td>\n",
       "      <td>95.0</td>\n",
       "      <td>22.0</td>\n",
       "      <td>8.0</td>\n",
       "      <td>77.0</td>\n",
       "      <td>33.0</td>\n",
       "      <td>Model still overfits, and class imbalance less...</td>\n",
       "    </tr>\n",
       "    <tr>\n",
       "      <td>0</td>\n",
       "      <td>5</td>\n",
       "      <td>XGboost GridSearch</td>\n",
       "      <td>71.1</td>\n",
       "      <td>65.9</td>\n",
       "      <td>5.2</td>\n",
       "      <td>8.0</td>\n",
       "      <td>29.0</td>\n",
       "      <td>92.0</td>\n",
       "      <td>14.0</td>\n",
       "      <td>40.0</td>\n",
       "      <td>77.0</td>\n",
       "      <td>Model still overfits, and class imbalance less...</td>\n",
       "    </tr>\n",
       "    <tr>\n",
       "      <td>0</td>\n",
       "      <td>6</td>\n",
       "      <td>XGboost SMOTE</td>\n",
       "      <td>72.7</td>\n",
       "      <td>69.4</td>\n",
       "      <td>3.3</td>\n",
       "      <td>77.0</td>\n",
       "      <td>49.0</td>\n",
       "      <td>82.0</td>\n",
       "      <td>81.0</td>\n",
       "      <td>57.0</td>\n",
       "      <td>69.0</td>\n",
       "      <td>Model does not overfit and class imbalance no ...</td>\n",
       "    </tr>\n",
       "    <tr>\n",
       "      <td>0</td>\n",
       "      <td>7</td>\n",
       "      <td>Vanilla NB Model</td>\n",
       "      <td>67.9</td>\n",
       "      <td>63.9</td>\n",
       "      <td>4.0</td>\n",
       "      <td>4.0</td>\n",
       "      <td>34.0</td>\n",
       "      <td>87.0</td>\n",
       "      <td>8.0</td>\n",
       "      <td>42.0</td>\n",
       "      <td>75.0</td>\n",
       "      <td>Naive Bayes has a lot of class imbalance issues</td>\n",
       "    </tr>\n",
       "  </tbody>\n",
       "</table>\n",
       "</div>"
      ],
      "text/plain": [
       "   model_#                                        model_type  train_accuracy  \\\n",
       "0        1  SVM: Vanilla Linear Kernel Class Weight Balanced            93.0   \n",
       "0        2            SVM: GridSearch Balanced Class Weights            75.0   \n",
       "0        3                                        SVM: SMOTE            94.7   \n",
       "0        4                            XGBoost multi:logistic            69.4   \n",
       "0        5                                XGboost GridSearch            71.1   \n",
       "0        6                                     XGboost SMOTE            72.7   \n",
       "0        7                                  Vanilla NB Model            67.9   \n",
       "\n",
       "   test_accuracy  train_test_diff  negative_recall  positive_recall  \\\n",
       "0           66.6             26.4             34.0             58.0   \n",
       "0           61.8             13.2             49.0             55.0   \n",
       "0           83.6             11.1            100.0             82.0   \n",
       "0           65.2              4.2              4.0             95.0   \n",
       "0           65.9              5.2              8.0             29.0   \n",
       "0           69.4              3.3             77.0             49.0   \n",
       "0           63.9              4.0              4.0             34.0   \n",
       "\n",
       "   no_emotion_recall  negative_f_1  positive_f-1  no_emotion_f-1  \\\n",
       "0               75.0          38.0          57.0            75.0   \n",
       "0               67.0          38.0          53.0            71.0   \n",
       "0               70.0          96.0          75.0            79.0   \n",
       "0               22.0           8.0          77.0            33.0   \n",
       "0               92.0          14.0          40.0            77.0   \n",
       "0               82.0          81.0          57.0            69.0   \n",
       "0               87.0           8.0          42.0            75.0   \n",
       "\n",
       "                                               notes  \n",
       "0    Model overfits, and class imbalance is an issue  \n",
       "0  Model still overfits, and class imbalance is s...  \n",
       "0  Model still overfits, and class imbalance less...  \n",
       "0  Model still overfits, and class imbalance less...  \n",
       "0  Model still overfits, and class imbalance less...  \n",
       "0  Model does not overfit and class imbalance no ...  \n",
       "0    Naive Bayes has a lot of class imbalance issues  "
      ]
     },
     "execution_count": 114,
     "metadata": {},
     "output_type": "execute_result"
    }
   ],
   "source": [
    "column_names = ['model_#', 'model_type', 'train_accuracy', 'test_accuracy', 'train_test_diff' ,'negative_recall', \n",
    "                'positive_recall', 'no_emotion_recall', 'negative_f_1', 'positive_f-1','no_emotion_f-1', 'notes']\n",
    "results = [7, 'Vanilla NB Model', 67.9,63.9,4.0,4.0,34.0,87.0,8.0, 42.0, 75.0, \n",
    "           'Naive Bayes has a lot of class imbalance issues']\n",
    "results_dict = dict(zip(column_names,results))\n",
    "model_results7=pd.DataFrame(results_dict, index = range(1))\n",
    "model_results_nonbinary=model_results_nonbinary.append(model_results7)\n",
    "model_results_nonbinary"
   ]
  },
  {
   "cell_type": "code",
   "execution_count": 115,
   "metadata": {
    "ExecuteTime": {
     "end_time": "2020-06-30T20:53:08.190528Z",
     "start_time": "2020-06-30T20:53:08.033306Z"
    }
   },
   "outputs": [
    {
     "name": "stdout",
     "output_type": "stream",
     "text": [
      "                                    precision    recall  f1-score   support\n",
      "\n",
      "                  Negative emotion       0.92      0.99      0.95      1338\n",
      "No emotion toward brand or product       0.80      0.64      0.71      1367\n",
      "                  Positive emotion       0.73      0.82      0.77      1336\n",
      "\n",
      "                          accuracy                           0.81      4041\n",
      "                         macro avg       0.81      0.82      0.81      4041\n",
      "                      weighted avg       0.81      0.81      0.81      4041\n",
      "\n",
      "[[1321   14    3]\n",
      " [  90  870  407]\n",
      " [  32  205 1099]]\n",
      "Test Accuracy Score ->  81.41549121504578\n",
      "Training Accuracy Score ->  91.52025076301246\n"
     ]
    }
   ],
   "source": [
    "model = MultinomialNB(alpha = 1e-10, fit_prior=False)\n",
    "model.fit(X_train_SMOTE, y_train_SMOTE)\n",
    "y_test_preds = model.predict(X_test_SMOTE)\n",
    "y_train_preds = model.predict(X_train_SMOTE)\n",
    "print(classification_report(y_test_SMOTE, y_test_preds))\n",
    "print(confusion_matrix(y_test_SMOTE, y_test_preds))\n",
    "print(\"Test Accuracy Score -> \",accuracy_score(y_test_SMOTE, y_test_preds)*100)\n",
    "print(\"Training Accuracy Score -> \",accuracy_score(y_train_SMOTE, y_train_preds)*100)"
   ]
  },
  {
   "cell_type": "code",
   "execution_count": 116,
   "metadata": {
    "ExecuteTime": {
     "end_time": "2020-06-30T20:53:08.230280Z",
     "start_time": "2020-06-30T20:53:08.199508Z"
    }
   },
   "outputs": [
    {
     "data": {
      "text/html": [
       "<div>\n",
       "<style scoped>\n",
       "    .dataframe tbody tr th:only-of-type {\n",
       "        vertical-align: middle;\n",
       "    }\n",
       "\n",
       "    .dataframe tbody tr th {\n",
       "        vertical-align: top;\n",
       "    }\n",
       "\n",
       "    .dataframe thead th {\n",
       "        text-align: right;\n",
       "    }\n",
       "</style>\n",
       "<table border=\"1\" class=\"dataframe\">\n",
       "  <thead>\n",
       "    <tr style=\"text-align: right;\">\n",
       "      <th></th>\n",
       "      <th>model_#</th>\n",
       "      <th>model_type</th>\n",
       "      <th>train_accuracy</th>\n",
       "      <th>test_accuracy</th>\n",
       "      <th>train_test_diff</th>\n",
       "      <th>negative_recall</th>\n",
       "      <th>positive_recall</th>\n",
       "      <th>no_emotion_recall</th>\n",
       "      <th>negative_f_1</th>\n",
       "      <th>positive_f-1</th>\n",
       "      <th>no_emotion_f-1</th>\n",
       "      <th>notes</th>\n",
       "    </tr>\n",
       "  </thead>\n",
       "  <tbody>\n",
       "    <tr>\n",
       "      <td>0</td>\n",
       "      <td>1</td>\n",
       "      <td>SVM: Vanilla Linear Kernel Class Weight Balanced</td>\n",
       "      <td>93.0</td>\n",
       "      <td>66.6</td>\n",
       "      <td>26.4</td>\n",
       "      <td>34.0</td>\n",
       "      <td>58.0</td>\n",
       "      <td>75.0</td>\n",
       "      <td>38.0</td>\n",
       "      <td>57.0</td>\n",
       "      <td>75.0</td>\n",
       "      <td>Model overfits, and class imbalance is an issue</td>\n",
       "    </tr>\n",
       "    <tr>\n",
       "      <td>0</td>\n",
       "      <td>2</td>\n",
       "      <td>SVM: GridSearch Balanced Class Weights</td>\n",
       "      <td>75.0</td>\n",
       "      <td>61.8</td>\n",
       "      <td>13.2</td>\n",
       "      <td>49.0</td>\n",
       "      <td>55.0</td>\n",
       "      <td>67.0</td>\n",
       "      <td>38.0</td>\n",
       "      <td>53.0</td>\n",
       "      <td>71.0</td>\n",
       "      <td>Model still overfits, and class imbalance is s...</td>\n",
       "    </tr>\n",
       "    <tr>\n",
       "      <td>0</td>\n",
       "      <td>3</td>\n",
       "      <td>SVM: SMOTE</td>\n",
       "      <td>94.7</td>\n",
       "      <td>83.6</td>\n",
       "      <td>11.1</td>\n",
       "      <td>100.0</td>\n",
       "      <td>82.0</td>\n",
       "      <td>70.0</td>\n",
       "      <td>96.0</td>\n",
       "      <td>75.0</td>\n",
       "      <td>79.0</td>\n",
       "      <td>Model still overfits, and class imbalance less...</td>\n",
       "    </tr>\n",
       "    <tr>\n",
       "      <td>0</td>\n",
       "      <td>4</td>\n",
       "      <td>XGBoost multi:logistic</td>\n",
       "      <td>69.4</td>\n",
       "      <td>65.2</td>\n",
       "      <td>4.2</td>\n",
       "      <td>4.0</td>\n",
       "      <td>95.0</td>\n",
       "      <td>22.0</td>\n",
       "      <td>8.0</td>\n",
       "      <td>77.0</td>\n",
       "      <td>33.0</td>\n",
       "      <td>Model still overfits, and class imbalance less...</td>\n",
       "    </tr>\n",
       "    <tr>\n",
       "      <td>0</td>\n",
       "      <td>5</td>\n",
       "      <td>XGboost GridSearch</td>\n",
       "      <td>71.1</td>\n",
       "      <td>65.9</td>\n",
       "      <td>5.2</td>\n",
       "      <td>8.0</td>\n",
       "      <td>29.0</td>\n",
       "      <td>92.0</td>\n",
       "      <td>14.0</td>\n",
       "      <td>40.0</td>\n",
       "      <td>77.0</td>\n",
       "      <td>Model still overfits, and class imbalance less...</td>\n",
       "    </tr>\n",
       "    <tr>\n",
       "      <td>0</td>\n",
       "      <td>6</td>\n",
       "      <td>XGboost SMOTE</td>\n",
       "      <td>72.7</td>\n",
       "      <td>69.4</td>\n",
       "      <td>3.3</td>\n",
       "      <td>77.0</td>\n",
       "      <td>49.0</td>\n",
       "      <td>82.0</td>\n",
       "      <td>81.0</td>\n",
       "      <td>57.0</td>\n",
       "      <td>69.0</td>\n",
       "      <td>Model does not overfit and class imbalance no ...</td>\n",
       "    </tr>\n",
       "    <tr>\n",
       "      <td>0</td>\n",
       "      <td>7</td>\n",
       "      <td>Vanilla NB Model</td>\n",
       "      <td>67.9</td>\n",
       "      <td>63.9</td>\n",
       "      <td>4.0</td>\n",
       "      <td>4.0</td>\n",
       "      <td>34.0</td>\n",
       "      <td>87.0</td>\n",
       "      <td>8.0</td>\n",
       "      <td>42.0</td>\n",
       "      <td>75.0</td>\n",
       "      <td>Naive Bayes has a lot of class imbalance issues</td>\n",
       "    </tr>\n",
       "    <tr>\n",
       "      <td>0</td>\n",
       "      <td>8</td>\n",
       "      <td>SMOTE NB Model</td>\n",
       "      <td>91.1</td>\n",
       "      <td>81.3</td>\n",
       "      <td>9.8</td>\n",
       "      <td>99.0</td>\n",
       "      <td>82.0</td>\n",
       "      <td>82.0</td>\n",
       "      <td>95.0</td>\n",
       "      <td>70.0</td>\n",
       "      <td>77.0</td>\n",
       "      <td>Naive Bayes has a lot of class imbalance issues</td>\n",
       "    </tr>\n",
       "  </tbody>\n",
       "</table>\n",
       "</div>"
      ],
      "text/plain": [
       "   model_#                                        model_type  train_accuracy  \\\n",
       "0        1  SVM: Vanilla Linear Kernel Class Weight Balanced            93.0   \n",
       "0        2            SVM: GridSearch Balanced Class Weights            75.0   \n",
       "0        3                                        SVM: SMOTE            94.7   \n",
       "0        4                            XGBoost multi:logistic            69.4   \n",
       "0        5                                XGboost GridSearch            71.1   \n",
       "0        6                                     XGboost SMOTE            72.7   \n",
       "0        7                                  Vanilla NB Model            67.9   \n",
       "0        8                                    SMOTE NB Model            91.1   \n",
       "\n",
       "   test_accuracy  train_test_diff  negative_recall  positive_recall  \\\n",
       "0           66.6             26.4             34.0             58.0   \n",
       "0           61.8             13.2             49.0             55.0   \n",
       "0           83.6             11.1            100.0             82.0   \n",
       "0           65.2              4.2              4.0             95.0   \n",
       "0           65.9              5.2              8.0             29.0   \n",
       "0           69.4              3.3             77.0             49.0   \n",
       "0           63.9              4.0              4.0             34.0   \n",
       "0           81.3              9.8             99.0             82.0   \n",
       "\n",
       "   no_emotion_recall  negative_f_1  positive_f-1  no_emotion_f-1  \\\n",
       "0               75.0          38.0          57.0            75.0   \n",
       "0               67.0          38.0          53.0            71.0   \n",
       "0               70.0          96.0          75.0            79.0   \n",
       "0               22.0           8.0          77.0            33.0   \n",
       "0               92.0          14.0          40.0            77.0   \n",
       "0               82.0          81.0          57.0            69.0   \n",
       "0               87.0           8.0          42.0            75.0   \n",
       "0               82.0          95.0          70.0            77.0   \n",
       "\n",
       "                                               notes  \n",
       "0    Model overfits, and class imbalance is an issue  \n",
       "0  Model still overfits, and class imbalance is s...  \n",
       "0  Model still overfits, and class imbalance less...  \n",
       "0  Model still overfits, and class imbalance less...  \n",
       "0  Model still overfits, and class imbalance less...  \n",
       "0  Model does not overfit and class imbalance no ...  \n",
       "0    Naive Bayes has a lot of class imbalance issues  \n",
       "0    Naive Bayes has a lot of class imbalance issues  "
      ]
     },
     "execution_count": 116,
     "metadata": {},
     "output_type": "execute_result"
    }
   ],
   "source": [
    "column_names = ['model_#', 'model_type', 'train_accuracy', 'test_accuracy', 'train_test_diff' ,'negative_recall', \n",
    "                'positive_recall', 'no_emotion_recall', 'negative_f_1', 'positive_f-1','no_emotion_f-1', 'notes']\n",
    "results = [8, 'SMOTE NB Model', 91.1,81.3,9.8,99.0,82.0,82.0,95.0, 70.0, 77.0, \n",
    "           'Naive Bayes has a lot of class imbalance issues']\n",
    "results_dict = dict(zip(column_names,results))\n",
    "model_results8=pd.DataFrame(results_dict, index = range(1))\n",
    "model_results_nonbinary=model_results_nonbinary.append(model_results8)\n",
    "model_results_nonbinary"
   ]
  },
  {
   "cell_type": "code",
   "execution_count": 117,
   "metadata": {
    "ExecuteTime": {
     "end_time": "2020-06-30T20:53:08.254008Z",
     "start_time": "2020-06-30T20:53:08.233873Z"
    }
   },
   "outputs": [
    {
     "data": {
      "text/html": [
       "<div>\n",
       "<style scoped>\n",
       "    .dataframe tbody tr th:only-of-type {\n",
       "        vertical-align: middle;\n",
       "    }\n",
       "\n",
       "    .dataframe tbody tr th {\n",
       "        vertical-align: top;\n",
       "    }\n",
       "\n",
       "    .dataframe thead th {\n",
       "        text-align: right;\n",
       "    }\n",
       "</style>\n",
       "<table border=\"1\" class=\"dataframe\">\n",
       "  <thead>\n",
       "    <tr style=\"text-align: right;\">\n",
       "      <th></th>\n",
       "      <th>model_#</th>\n",
       "      <th>model_type</th>\n",
       "      <th>train_accuracy</th>\n",
       "      <th>test_accuracy</th>\n",
       "      <th>train_test_diff</th>\n",
       "      <th>negative_recall</th>\n",
       "      <th>positive_recall</th>\n",
       "      <th>negative_f_1</th>\n",
       "      <th>positive_f-1</th>\n",
       "      <th>notes</th>\n",
       "    </tr>\n",
       "  </thead>\n",
       "  <tbody>\n",
       "    <tr>\n",
       "      <td>0</td>\n",
       "      <td>1</td>\n",
       "      <td>Vanilla Logistic Regression</td>\n",
       "      <td>0.0</td>\n",
       "      <td>0.0</td>\n",
       "      <td>0.0</td>\n",
       "      <td>50.0</td>\n",
       "      <td>92.0</td>\n",
       "      <td>53.0</td>\n",
       "      <td>91.0</td>\n",
       "      <td>Vanilla model very basic, needs tuning</td>\n",
       "    </tr>\n",
       "    <tr>\n",
       "      <td>0</td>\n",
       "      <td>2</td>\n",
       "      <td>Vanilla Random Forest Classifier</td>\n",
       "      <td>0.0</td>\n",
       "      <td>0.0</td>\n",
       "      <td>0.0</td>\n",
       "      <td>38.0</td>\n",
       "      <td>97.0</td>\n",
       "      <td>51.0</td>\n",
       "      <td>93.0</td>\n",
       "      <td>Vanilla model very basic, needs tuning</td>\n",
       "    </tr>\n",
       "    <tr>\n",
       "      <td>0</td>\n",
       "      <td>3</td>\n",
       "      <td>SVM: Balanced Class Weights, Linear Kernel</td>\n",
       "      <td>81.3</td>\n",
       "      <td>76.4</td>\n",
       "      <td>4.9</td>\n",
       "      <td>67.0</td>\n",
       "      <td>78.0</td>\n",
       "      <td>47.0</td>\n",
       "      <td>85.0</td>\n",
       "      <td>Model overfits and class imbalance still causi...</td>\n",
       "    </tr>\n",
       "    <tr>\n",
       "      <td>0</td>\n",
       "      <td>4</td>\n",
       "      <td>SVM: Balanced Class Weights, Linear Kernel, Gr...</td>\n",
       "      <td>84.5</td>\n",
       "      <td>75.6</td>\n",
       "      <td>8.9</td>\n",
       "      <td>64.0</td>\n",
       "      <td>78.0</td>\n",
       "      <td>45.0</td>\n",
       "      <td>84.0</td>\n",
       "      <td>Model still overfits and less predictive for b...</td>\n",
       "    </tr>\n",
       "    <tr>\n",
       "      <td>0</td>\n",
       "      <td>5</td>\n",
       "      <td>SVM: SMOTE</td>\n",
       "      <td>99.2</td>\n",
       "      <td>88.9</td>\n",
       "      <td>10.3</td>\n",
       "      <td>93.0</td>\n",
       "      <td>85.0</td>\n",
       "      <td>89.0</td>\n",
       "      <td>89.0</td>\n",
       "      <td>Model overfits but SMOTE has solved class imba...</td>\n",
       "    </tr>\n",
       "    <tr>\n",
       "      <td>0</td>\n",
       "      <td>6</td>\n",
       "      <td>XGBoost RFC Vanilla</td>\n",
       "      <td>85.8</td>\n",
       "      <td>85.1</td>\n",
       "      <td>0.7</td>\n",
       "      <td>9.0</td>\n",
       "      <td>99.0</td>\n",
       "      <td>15.0</td>\n",
       "      <td>92.0</td>\n",
       "      <td>Model is basically guessing 1 every time</td>\n",
       "    </tr>\n",
       "    <tr>\n",
       "      <td>0</td>\n",
       "      <td>7</td>\n",
       "      <td>XGBoost, pos_scale_weight</td>\n",
       "      <td>86.1</td>\n",
       "      <td>85.4</td>\n",
       "      <td>0.7</td>\n",
       "      <td>11.0</td>\n",
       "      <td>99.0</td>\n",
       "      <td>47.0</td>\n",
       "      <td>92.0</td>\n",
       "      <td>Class imbalance still causing issues with model</td>\n",
       "    </tr>\n",
       "    <tr>\n",
       "      <td>0</td>\n",
       "      <td>8</td>\n",
       "      <td>XGBoost GridSearch</td>\n",
       "      <td>87.7</td>\n",
       "      <td>85.1</td>\n",
       "      <td>2.6</td>\n",
       "      <td>12.0</td>\n",
       "      <td>99.0</td>\n",
       "      <td>20.0</td>\n",
       "      <td>92.0</td>\n",
       "      <td>Class imbalance still causing issues with model</td>\n",
       "    </tr>\n",
       "    <tr>\n",
       "      <td>0</td>\n",
       "      <td>9</td>\n",
       "      <td>XGBoost SMOTE</td>\n",
       "      <td>89.8</td>\n",
       "      <td>89.2</td>\n",
       "      <td>0.6</td>\n",
       "      <td>80.0</td>\n",
       "      <td>98.0</td>\n",
       "      <td>88.0</td>\n",
       "      <td>90.0</td>\n",
       "      <td>SMOTE fixed class imbalance. Best performing b...</td>\n",
       "    </tr>\n",
       "  </tbody>\n",
       "</table>\n",
       "</div>"
      ],
      "text/plain": [
       "   model_#                                         model_type  train_accuracy  \\\n",
       "0        1                        Vanilla Logistic Regression             0.0   \n",
       "0        2                   Vanilla Random Forest Classifier             0.0   \n",
       "0        3         SVM: Balanced Class Weights, Linear Kernel            81.3   \n",
       "0        4  SVM: Balanced Class Weights, Linear Kernel, Gr...            84.5   \n",
       "0        5                                         SVM: SMOTE            99.2   \n",
       "0        6                                XGBoost RFC Vanilla            85.8   \n",
       "0        7                          XGBoost, pos_scale_weight            86.1   \n",
       "0        8                                 XGBoost GridSearch            87.7   \n",
       "0        9                                      XGBoost SMOTE            89.8   \n",
       "\n",
       "   test_accuracy  train_test_diff  negative_recall  positive_recall  \\\n",
       "0            0.0              0.0             50.0             92.0   \n",
       "0            0.0              0.0             38.0             97.0   \n",
       "0           76.4              4.9             67.0             78.0   \n",
       "0           75.6              8.9             64.0             78.0   \n",
       "0           88.9             10.3             93.0             85.0   \n",
       "0           85.1              0.7              9.0             99.0   \n",
       "0           85.4              0.7             11.0             99.0   \n",
       "0           85.1              2.6             12.0             99.0   \n",
       "0           89.2              0.6             80.0             98.0   \n",
       "\n",
       "   negative_f_1  positive_f-1  \\\n",
       "0          53.0          91.0   \n",
       "0          51.0          93.0   \n",
       "0          47.0          85.0   \n",
       "0          45.0          84.0   \n",
       "0          89.0          89.0   \n",
       "0          15.0          92.0   \n",
       "0          47.0          92.0   \n",
       "0          20.0          92.0   \n",
       "0          88.0          90.0   \n",
       "\n",
       "                                               notes  \n",
       "0             Vanilla model very basic, needs tuning  \n",
       "0             Vanilla model very basic, needs tuning  \n",
       "0  Model overfits and class imbalance still causi...  \n",
       "0  Model still overfits and less predictive for b...  \n",
       "0  Model overfits but SMOTE has solved class imba...  \n",
       "0           Model is basically guessing 1 every time  \n",
       "0    Class imbalance still causing issues with model  \n",
       "0    Class imbalance still causing issues with model  \n",
       "0  SMOTE fixed class imbalance. Best performing b...  "
      ]
     },
     "execution_count": 117,
     "metadata": {},
     "output_type": "execute_result"
    }
   ],
   "source": [
    "model_results"
   ]
  },
  {
   "cell_type": "code",
   "execution_count": 133,
   "metadata": {
    "ExecuteTime": {
     "end_time": "2020-06-30T21:19:48.529810Z",
     "start_time": "2020-06-30T21:19:48.512060Z"
    }
   },
   "outputs": [
    {
     "data": {
      "text/html": [
       "<div>\n",
       "<style scoped>\n",
       "    .dataframe tbody tr th:only-of-type {\n",
       "        vertical-align: middle;\n",
       "    }\n",
       "\n",
       "    .dataframe tbody tr th {\n",
       "        vertical-align: top;\n",
       "    }\n",
       "\n",
       "    .dataframe thead th {\n",
       "        text-align: right;\n",
       "    }\n",
       "</style>\n",
       "<table border=\"1\" class=\"dataframe\">\n",
       "  <thead>\n",
       "    <tr style=\"text-align: right;\">\n",
       "      <th></th>\n",
       "      <th>model_#</th>\n",
       "      <th>model_type</th>\n",
       "      <th>train_accuracy</th>\n",
       "      <th>test_accuracy</th>\n",
       "      <th>negative_recall</th>\n",
       "      <th>positive_recall</th>\n",
       "      <th>negative_f_1</th>\n",
       "      <th>positive_f-1</th>\n",
       "      <th>notes</th>\n",
       "    </tr>\n",
       "  </thead>\n",
       "  <tbody>\n",
       "    <tr>\n",
       "      <td>0</td>\n",
       "      <td>1</td>\n",
       "      <td>Vanilla Logistic Regression</td>\n",
       "      <td>0.0</td>\n",
       "      <td>0.0</td>\n",
       "      <td>50.0</td>\n",
       "      <td>92.0</td>\n",
       "      <td>53.0</td>\n",
       "      <td>91.0</td>\n",
       "      <td>Vanilla model very basic, needs tuning</td>\n",
       "    </tr>\n",
       "    <tr>\n",
       "      <td>0</td>\n",
       "      <td>2</td>\n",
       "      <td>Vanilla Random Forest Classifier</td>\n",
       "      <td>0.0</td>\n",
       "      <td>0.0</td>\n",
       "      <td>38.0</td>\n",
       "      <td>97.0</td>\n",
       "      <td>51.0</td>\n",
       "      <td>93.0</td>\n",
       "      <td>Vanilla model very basic, needs tuning</td>\n",
       "    </tr>\n",
       "    <tr>\n",
       "      <td>0</td>\n",
       "      <td>6</td>\n",
       "      <td>XGBoost RFC Vanilla</td>\n",
       "      <td>85.8</td>\n",
       "      <td>85.1</td>\n",
       "      <td>9.0</td>\n",
       "      <td>99.0</td>\n",
       "      <td>15.0</td>\n",
       "      <td>92.0</td>\n",
       "      <td>Model is basically guessing 1 every time</td>\n",
       "    </tr>\n",
       "    <tr>\n",
       "      <td>0</td>\n",
       "      <td>7</td>\n",
       "      <td>XGBoost, pos_scale_weight</td>\n",
       "      <td>86.1</td>\n",
       "      <td>85.4</td>\n",
       "      <td>11.0</td>\n",
       "      <td>99.0</td>\n",
       "      <td>47.0</td>\n",
       "      <td>92.0</td>\n",
       "      <td>Class imbalance still causing issues with model</td>\n",
       "    </tr>\n",
       "    <tr>\n",
       "      <td>0</td>\n",
       "      <td>8</td>\n",
       "      <td>XGBoost GridSearch</td>\n",
       "      <td>87.7</td>\n",
       "      <td>85.1</td>\n",
       "      <td>12.0</td>\n",
       "      <td>99.0</td>\n",
       "      <td>20.0</td>\n",
       "      <td>92.0</td>\n",
       "      <td>Class imbalance still causing issues with model</td>\n",
       "    </tr>\n",
       "    <tr>\n",
       "      <td>0</td>\n",
       "      <td>9</td>\n",
       "      <td>XGBoost SMOTE</td>\n",
       "      <td>89.8</td>\n",
       "      <td>89.2</td>\n",
       "      <td>80.0</td>\n",
       "      <td>98.0</td>\n",
       "      <td>88.0</td>\n",
       "      <td>90.0</td>\n",
       "      <td>SMOTE fixed class imbalance. Best performing b...</td>\n",
       "    </tr>\n",
       "  </tbody>\n",
       "</table>\n",
       "</div>"
      ],
      "text/plain": [
       "   model_#                        model_type  train_accuracy  test_accuracy  \\\n",
       "0        1       Vanilla Logistic Regression             0.0            0.0   \n",
       "0        2  Vanilla Random Forest Classifier             0.0            0.0   \n",
       "0        6               XGBoost RFC Vanilla            85.8           85.1   \n",
       "0        7         XGBoost, pos_scale_weight            86.1           85.4   \n",
       "0        8                XGBoost GridSearch            87.7           85.1   \n",
       "0        9                     XGBoost SMOTE            89.8           89.2   \n",
       "\n",
       "   negative_recall  positive_recall  negative_f_1  positive_f-1  \\\n",
       "0             50.0             92.0          53.0          91.0   \n",
       "0             38.0             97.0          51.0          93.0   \n",
       "0              9.0             99.0          15.0          92.0   \n",
       "0             11.0             99.0          47.0          92.0   \n",
       "0             12.0             99.0          20.0          92.0   \n",
       "0             80.0             98.0          88.0          90.0   \n",
       "\n",
       "                                               notes  \n",
       "0             Vanilla model very basic, needs tuning  \n",
       "0             Vanilla model very basic, needs tuning  \n",
       "0           Model is basically guessing 1 every time  \n",
       "0    Class imbalance still causing issues with model  \n",
       "0    Class imbalance still causing issues with model  \n",
       "0  SMOTE fixed class imbalance. Best performing b...  "
      ]
     },
     "execution_count": 133,
     "metadata": {},
     "output_type": "execute_result"
    }
   ],
   "source": [
    "model_results_fit=model_results.loc[model_results['train_test_diff'] < 3.0]\n",
    "model_results_fit=model_results_fit.drop(columns = 'train_test_diff')\n",
    "model_results_fit"
   ]
  },
  {
   "cell_type": "code",
   "execution_count": 159,
   "metadata": {
    "ExecuteTime": {
     "end_time": "2020-06-30T21:50:35.808250Z",
     "start_time": "2020-06-30T21:50:35.496553Z"
    }
   },
   "outputs": [
    {
     "data": {
      "image/png": "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\n",
      "text/plain": [
       "<Figure size 1296x360 with 1 Axes>"
      ]
     },
     "metadata": {
      "needs_background": "light"
     },
     "output_type": "display_data"
    }
   ],
   "source": [
    "cols_to_plot=model_results_fit.columns[2:8]\n",
    "plt.figure(figsize=(18,5))\n",
    "for col in cols_to_plot:\n",
    "    #used a for loop to plot evaluation metrics data from model_results data frame\n",
    "    sns.scatterplot(data=model_results_fit, y=col, x='model_type', label = col,s=200)\n",
    "plt.title('Evaluation Metrics by Binary Model Type',size=20)\n",
    "plt.xlabel('Model Type',size=15)\n",
    "plt.ylabel('Score',size = 15)\n",
    "plt.xticks(size=12)\n",
    "plt.yticks(size=12)\n",
    "plt.legend(loc = 'lower left', fontsize='x-large')\n",
    "plt.show()"
   ]
  },
  {
   "cell_type": "code",
   "execution_count": 154,
   "metadata": {
    "ExecuteTime": {
     "end_time": "2020-06-30T21:28:41.652008Z",
     "start_time": "2020-06-30T21:28:41.632065Z"
    }
   },
   "outputs": [
    {
     "data": {
      "text/html": [
       "<div>\n",
       "<style scoped>\n",
       "    .dataframe tbody tr th:only-of-type {\n",
       "        vertical-align: middle;\n",
       "    }\n",
       "\n",
       "    .dataframe tbody tr th {\n",
       "        vertical-align: top;\n",
       "    }\n",
       "\n",
       "    .dataframe thead th {\n",
       "        text-align: right;\n",
       "    }\n",
       "</style>\n",
       "<table border=\"1\" class=\"dataframe\">\n",
       "  <thead>\n",
       "    <tr style=\"text-align: right;\">\n",
       "      <th></th>\n",
       "      <th>model_#</th>\n",
       "      <th>model_type</th>\n",
       "      <th>train_accuracy</th>\n",
       "      <th>test_accuracy</th>\n",
       "      <th>negative_recall</th>\n",
       "      <th>positive_recall</th>\n",
       "      <th>no_emotion_recall</th>\n",
       "      <th>negative_f_1</th>\n",
       "      <th>positive_f-1</th>\n",
       "      <th>no_emotion_f-1</th>\n",
       "      <th>notes</th>\n",
       "    </tr>\n",
       "  </thead>\n",
       "  <tbody>\n",
       "    <tr>\n",
       "      <td>0</td>\n",
       "      <td>4</td>\n",
       "      <td>XGBoost multi:logistic</td>\n",
       "      <td>69.4</td>\n",
       "      <td>65.2</td>\n",
       "      <td>4.0</td>\n",
       "      <td>95.0</td>\n",
       "      <td>22.0</td>\n",
       "      <td>8.0</td>\n",
       "      <td>77.0</td>\n",
       "      <td>33.0</td>\n",
       "      <td>Model still overfits, and class imbalance less...</td>\n",
       "    </tr>\n",
       "    <tr>\n",
       "      <td>0</td>\n",
       "      <td>5</td>\n",
       "      <td>XGboost GridSearch</td>\n",
       "      <td>71.1</td>\n",
       "      <td>65.9</td>\n",
       "      <td>8.0</td>\n",
       "      <td>29.0</td>\n",
       "      <td>92.0</td>\n",
       "      <td>14.0</td>\n",
       "      <td>40.0</td>\n",
       "      <td>77.0</td>\n",
       "      <td>Model still overfits, and class imbalance less...</td>\n",
       "    </tr>\n",
       "    <tr>\n",
       "      <td>0</td>\n",
       "      <td>6</td>\n",
       "      <td>XGboost SMOTE</td>\n",
       "      <td>72.7</td>\n",
       "      <td>69.4</td>\n",
       "      <td>77.0</td>\n",
       "      <td>49.0</td>\n",
       "      <td>82.0</td>\n",
       "      <td>81.0</td>\n",
       "      <td>57.0</td>\n",
       "      <td>69.0</td>\n",
       "      <td>Model does not overfit and class imbalance no ...</td>\n",
       "    </tr>\n",
       "    <tr>\n",
       "      <td>0</td>\n",
       "      <td>7</td>\n",
       "      <td>Vanilla NB Model</td>\n",
       "      <td>67.9</td>\n",
       "      <td>63.9</td>\n",
       "      <td>4.0</td>\n",
       "      <td>34.0</td>\n",
       "      <td>87.0</td>\n",
       "      <td>8.0</td>\n",
       "      <td>42.0</td>\n",
       "      <td>75.0</td>\n",
       "      <td>Naive Bayes has a lot of class imbalance issues</td>\n",
       "    </tr>\n",
       "    <tr>\n",
       "      <td>0</td>\n",
       "      <td>8</td>\n",
       "      <td>SMOTE NB Model</td>\n",
       "      <td>91.1</td>\n",
       "      <td>81.3</td>\n",
       "      <td>99.0</td>\n",
       "      <td>82.0</td>\n",
       "      <td>82.0</td>\n",
       "      <td>95.0</td>\n",
       "      <td>70.0</td>\n",
       "      <td>77.0</td>\n",
       "      <td>Naive Bayes has a lot of class imbalance issues</td>\n",
       "    </tr>\n",
       "  </tbody>\n",
       "</table>\n",
       "</div>"
      ],
      "text/plain": [
       "   model_#              model_type  train_accuracy  test_accuracy  \\\n",
       "0        4  XGBoost multi:logistic            69.4           65.2   \n",
       "0        5      XGboost GridSearch            71.1           65.9   \n",
       "0        6           XGboost SMOTE            72.7           69.4   \n",
       "0        7        Vanilla NB Model            67.9           63.9   \n",
       "0        8          SMOTE NB Model            91.1           81.3   \n",
       "\n",
       "   negative_recall  positive_recall  no_emotion_recall  negative_f_1  \\\n",
       "0              4.0             95.0               22.0           8.0   \n",
       "0              8.0             29.0               92.0          14.0   \n",
       "0             77.0             49.0               82.0          81.0   \n",
       "0              4.0             34.0               87.0           8.0   \n",
       "0             99.0             82.0               82.0          95.0   \n",
       "\n",
       "   positive_f-1  no_emotion_f-1  \\\n",
       "0          77.0            33.0   \n",
       "0          40.0            77.0   \n",
       "0          57.0            69.0   \n",
       "0          42.0            75.0   \n",
       "0          70.0            77.0   \n",
       "\n",
       "                                               notes  \n",
       "0  Model still overfits, and class imbalance less...  \n",
       "0  Model still overfits, and class imbalance less...  \n",
       "0  Model does not overfit and class imbalance no ...  \n",
       "0    Naive Bayes has a lot of class imbalance issues  \n",
       "0    Naive Bayes has a lot of class imbalance issues  "
      ]
     },
     "execution_count": 154,
     "metadata": {},
     "output_type": "execute_result"
    }
   ],
   "source": [
    "model_results_nonbinary_fit = model_results_nonbinary.loc[model_results_nonbinary['train_test_diff']\n",
    "                                                         <= 10.0]\n",
    "model_results_nonbinary_fit=model_results_nonbinary_fit.drop(columns = 'train_test_diff')\n",
    "model_results_nonbinary_fit"
   ]
  },
  {
   "cell_type": "code",
   "execution_count": 161,
   "metadata": {
    "ExecuteTime": {
     "end_time": "2020-06-30T21:50:55.237474Z",
     "start_time": "2020-06-30T21:50:54.900865Z"
    }
   },
   "outputs": [
    {
     "data": {
      "image/png": "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\n",
      "text/plain": [
       "<Figure size 864x360 with 1 Axes>"
      ]
     },
     "metadata": {
      "needs_background": "light"
     },
     "output_type": "display_data"
    }
   ],
   "source": [
    "cols_to_plot=model_results_nonbinary_fit.columns[2:10]\n",
    "plt.figure(figsize=(12,5))\n",
    "for col in cols_to_plot:\n",
    "    #used a for loop to plot evaluation metrics data from model_results data frame\n",
    "    sns.scatterplot(data=model_results_nonbinary_fit, y=col, x='model_type', label = col,s=200)\n",
    "plt.title('Evaluation Metrics by Multi-Class Model Type',size=20)\n",
    "plt.xlabel('Model Type',size=15)\n",
    "plt.ylabel('Score',size = 15)\n",
    "plt.xticks(size=12)\n",
    "plt.yticks(size=12)\n",
    "plt.legend(loc = 'lower right', fontsize='small')\n",
    "plt.show()"
   ]
  },
  {
   "cell_type": "markdown",
   "metadata": {},
   "source": [
    "# Conclusion"
   ]
  },
  {
   "cell_type": "markdown",
   "metadata": {},
   "source": [
    "After running our Twitter data through our binary and multiclass models, by far the most predictive models were identified. \n",
    "\n",
    "For the binary model, the tuned XGBoosted Random Forest Classifier trained on the SMOTE data was the most predictive with an F-1 Score for the Positive and Negative classes of around 90%. The SMOTE data was instrumental in achieving a predictive model for both classes, something that was impossible for passing a balanced class weight.\n",
    "\n",
    "For the multi-class model, the XGBoost Model performed very well, but not as well as it did in the case of the Binary model. A Naive Bayes model trained on the SMOTE data was able to more accurately predict the 3 classes in this instance, however the model overfit to the training data so much that we would not recommend it for deployment. In this instance, I would also recommmend the XGBoost Model for the multiclass problem as it was able to accurately predict the negative and no emotion classes around 80% of the time, while only predicting the positive class around 50% of the time. \n"
   ]
  },
  {
   "cell_type": "code",
   "execution_count": null,
   "metadata": {},
   "outputs": [],
   "source": []
>>>>>>> 54c911d0042b44cb3b8dd7e0db990546f2694d35
  }
 ],
 "metadata": {
  "kernelspec": {
   "display_name": "learn-env",
   "language": "python",
   "name": "learn-env"
  },
  "language_info": {
   "codemirror_mode": {
    "name": "ipython",
    "version": 3
   },
   "file_extension": ".py",
   "mimetype": "text/x-python",
   "name": "python",
   "nbconvert_exporter": "python",
   "pygments_lexer": "ipython3",
<<<<<<< HEAD
   "version": "3.7.4"
=======
   "version": "3.6.9"
>>>>>>> 4659365050dbb66da2accdc4dbb6c526832d8e57
  },
  "varInspector": {
   "cols": {
    "lenName": 16,
    "lenType": 16,
    "lenVar": 40
   },
   "kernels_config": {
    "python": {
     "delete_cmd_postfix": "",
     "delete_cmd_prefix": "del ",
     "library": "var_list.py",
     "varRefreshCmd": "print(var_dic_list())"
    },
    "r": {
     "delete_cmd_postfix": ") ",
     "delete_cmd_prefix": "rm(",
     "library": "var_list.r",
     "varRefreshCmd": "cat(var_dic_list()) "
    }
   },
   "types_to_exclude": [
    "module",
    "function",
    "builtin_function_or_method",
    "instance",
    "_Feature"
   ],
   "window_display": false
  }
 },
 "nbformat": 4,
 "nbformat_minor": 2
}
