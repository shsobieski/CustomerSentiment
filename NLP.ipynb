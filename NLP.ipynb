{
 "cells": [
  {
   "cell_type": "markdown",
   "metadata": {},
   "source": [
    "# Product Sentiment Classifier\n",
    "\n",
    "## Data Cleaning and EDA\n",
    "Import necessary libraries"
   ]
  },
  {
   "cell_type": "code",
   "execution_count": 1,
   "metadata": {
    "ExecuteTime": {
     "end_time": "2020-06-30T20:48:35.244383Z",
     "start_time": "2020-06-30T20:48:33.380775Z"
    }
   },
   "outputs": [],
   "source": [
    "import pandas as pd\n",
    "import re\n",
    "import numpy as np\n",
    "import nltk\n",
    "from nltk import word_tokenize\n",
    "from nltk.stem.wordnet import WordNetLemmatizer\n",
    "from nltk import FreqDist\n",
    "from nltk.corpus import stopwords\n",
    "from nltk.collocations import *\n",
    "from sklearn.model_selection import train_test_split, GridSearchCV\n",
    "from sklearn.linear_model import LogisticRegression\n",
    "from sklearn.svm import SVC\n",
    "from sklearn.metrics import accuracy_score, classification_report, confusion_matrix\n",
    "#from xgboost import XGBClassifier\n",
    "from sklearn.metrics import (plot_confusion_matrix)\n",
    "from sklearn.feature_extraction.text import CountVectorizer, TfidfVectorizer\n",
    "from sklearn.ensemble import RandomForestClassifier\n",
    "import matplotlib.pyplot as plt\n",
    "import seaborn as sns\n",
    "import string\n",
    "from sklearn.pipeline import make_pipeline\n",
    "from imblearn.over_sampling import SMOTE\n",
    "from sklearn.naive_bayes import MultinomialNB\n",
    "from sklearn import preprocessing\n",
    "from collections import Counter\n",
    "%matplotlib inline\n",
    "\n",
    "%run -i \"functions/clean_lemmatize_token.py\"\n",
    "%run -i \"functions/clean_lemmatize_token_alt.py\"\n",
    "%run -i \"functions/predict_sentiment.py\"\n",
    "%run -i \"functions/report.py\""
   ]
  },
  {
   "cell_type": "markdown",
   "metadata": {},
   "source": [
    "Import data from data.world."
   ]
  },
  {
   "cell_type": "code",
   "execution_count": 2,
   "metadata": {
    "ExecuteTime": {
     "end_time": "2020-06-30T20:48:36.429975Z",
     "start_time": "2020-06-30T20:48:35.246878Z"
    },
    "scrolled": true
   },
   "outputs": [
    {
     "data": {
      "text/html": [
       "<div>\n",
       "<style scoped>\n",
       "    .dataframe tbody tr th:only-of-type {\n",
       "        vertical-align: middle;\n",
       "    }\n",
       "\n",
       "    .dataframe tbody tr th {\n",
       "        vertical-align: top;\n",
       "    }\n",
       "\n",
       "    .dataframe thead th {\n",
       "        text-align: right;\n",
       "    }\n",
       "</style>\n",
       "<table border=\"1\" class=\"dataframe\">\n",
       "  <thead>\n",
       "    <tr style=\"text-align: right;\">\n",
       "      <th></th>\n",
       "      <th>tweet_text</th>\n",
       "      <th>emotion_in_tweet_is_directed_at</th>\n",
       "      <th>is_there_an_emotion_directed_at_a_brand_or_product</th>\n",
       "    </tr>\n",
       "  </thead>\n",
       "  <tbody>\n",
       "    <tr>\n",
       "      <td>0</td>\n",
       "      <td>.@wesley83 I have a 3G iPhone. After 3 hrs twe...</td>\n",
       "      <td>iPhone</td>\n",
       "      <td>Negative emotion</td>\n",
       "    </tr>\n",
       "    <tr>\n",
       "      <td>1</td>\n",
       "      <td>@jessedee Know about @fludapp ? Awesome iPad/i...</td>\n",
       "      <td>iPad or iPhone App</td>\n",
       "      <td>Positive emotion</td>\n",
       "    </tr>\n",
       "    <tr>\n",
       "      <td>2</td>\n",
       "      <td>@swonderlin Can not wait for #iPad 2 also. The...</td>\n",
       "      <td>iPad</td>\n",
       "      <td>Positive emotion</td>\n",
       "    </tr>\n",
       "    <tr>\n",
       "      <td>3</td>\n",
       "      <td>@sxsw I hope this year's festival isn't as cra...</td>\n",
       "      <td>iPad or iPhone App</td>\n",
       "      <td>Negative emotion</td>\n",
       "    </tr>\n",
       "    <tr>\n",
       "      <td>4</td>\n",
       "      <td>@sxtxstate great stuff on Fri #SXSW: Marissa M...</td>\n",
       "      <td>Google</td>\n",
       "      <td>Positive emotion</td>\n",
       "    </tr>\n",
       "  </tbody>\n",
       "</table>\n",
       "</div>"
      ],
      "text/plain": [
       "                                          tweet_text  \\\n",
       "0  .@wesley83 I have a 3G iPhone. After 3 hrs twe...   \n",
       "1  @jessedee Know about @fludapp ? Awesome iPad/i...   \n",
       "2  @swonderlin Can not wait for #iPad 2 also. The...   \n",
       "3  @sxsw I hope this year's festival isn't as cra...   \n",
       "4  @sxtxstate great stuff on Fri #SXSW: Marissa M...   \n",
       "\n",
       "  emotion_in_tweet_is_directed_at  \\\n",
       "0                          iPhone   \n",
       "1              iPad or iPhone App   \n",
       "2                            iPad   \n",
       "3              iPad or iPhone App   \n",
       "4                          Google   \n",
       "\n",
       "  is_there_an_emotion_directed_at_a_brand_or_product  \n",
       "0                                   Negative emotion  \n",
       "1                                   Positive emotion  \n",
       "2                                   Positive emotion  \n",
       "3                                   Negative emotion  \n",
       "4                                   Positive emotion  "
      ]
     },
     "execution_count": 2,
     "metadata": {},
     "output_type": "execute_result"
    }
   ],
   "source": [
    "df = pd.read_csv('https://query.data.world/s/zbehvjkmiewbkln44rae6iphum4v3g', \n",
    "                 encoding = \"ISO-8859-1\")\n",
    "df.head()"
   ]
  },
  {
   "cell_type": "markdown",
   "metadata": {},
   "source": [
    "Rename columns"
   ]
  },
  {
   "cell_type": "code",
   "execution_count": 3,
   "metadata": {
    "ExecuteTime": {
     "end_time": "2020-06-30T20:48:36.445646Z",
     "start_time": "2020-06-30T20:48:36.432742Z"
    }
   },
   "outputs": [
    {
     "data": {
      "text/html": [
       "<div>\n",
       "<style scoped>\n",
       "    .dataframe tbody tr th:only-of-type {\n",
       "        vertical-align: middle;\n",
       "    }\n",
       "\n",
       "    .dataframe tbody tr th {\n",
       "        vertical-align: top;\n",
       "    }\n",
       "\n",
       "    .dataframe thead th {\n",
       "        text-align: right;\n",
       "    }\n",
       "</style>\n",
       "<table border=\"1\" class=\"dataframe\">\n",
       "  <thead>\n",
       "    <tr style=\"text-align: right;\">\n",
       "      <th></th>\n",
       "      <th>tweet_text</th>\n",
       "      <th>brand_product</th>\n",
       "      <th>sentiment</th>\n",
       "    </tr>\n",
       "  </thead>\n",
       "  <tbody>\n",
       "    <tr>\n",
       "      <td>0</td>\n",
       "      <td>.@wesley83 I have a 3G iPhone. After 3 hrs twe...</td>\n",
       "      <td>iPhone</td>\n",
       "      <td>Negative emotion</td>\n",
       "    </tr>\n",
       "    <tr>\n",
       "      <td>1</td>\n",
       "      <td>@jessedee Know about @fludapp ? Awesome iPad/i...</td>\n",
       "      <td>iPad or iPhone App</td>\n",
       "      <td>Positive emotion</td>\n",
       "    </tr>\n",
       "    <tr>\n",
       "      <td>2</td>\n",
       "      <td>@swonderlin Can not wait for #iPad 2 also. The...</td>\n",
       "      <td>iPad</td>\n",
       "      <td>Positive emotion</td>\n",
       "    </tr>\n",
       "    <tr>\n",
       "      <td>3</td>\n",
       "      <td>@sxsw I hope this year's festival isn't as cra...</td>\n",
       "      <td>iPad or iPhone App</td>\n",
       "      <td>Negative emotion</td>\n",
       "    </tr>\n",
       "    <tr>\n",
       "      <td>4</td>\n",
       "      <td>@sxtxstate great stuff on Fri #SXSW: Marissa M...</td>\n",
       "      <td>Google</td>\n",
       "      <td>Positive emotion</td>\n",
       "    </tr>\n",
       "  </tbody>\n",
       "</table>\n",
       "</div>"
      ],
      "text/plain": [
       "                                          tweet_text       brand_product  \\\n",
       "0  .@wesley83 I have a 3G iPhone. After 3 hrs twe...              iPhone   \n",
       "1  @jessedee Know about @fludapp ? Awesome iPad/i...  iPad or iPhone App   \n",
       "2  @swonderlin Can not wait for #iPad 2 also. The...                iPad   \n",
       "3  @sxsw I hope this year's festival isn't as cra...  iPad or iPhone App   \n",
       "4  @sxtxstate great stuff on Fri #SXSW: Marissa M...              Google   \n",
       "\n",
       "          sentiment  \n",
       "0  Negative emotion  \n",
       "1  Positive emotion  \n",
       "2  Positive emotion  \n",
       "3  Negative emotion  \n",
       "4  Positive emotion  "
      ]
     },
     "execution_count": 3,
     "metadata": {},
     "output_type": "execute_result"
    }
   ],
   "source": [
    "df=df.rename(columns = {'emotion_in_tweet_is_directed_at':\n",
    "                        'brand_product',\n",
    "                        'is_there_an_emotion_directed_at_a_brand_or_product':\n",
    "                        'sentiment'})\n",
    "df.head()"
   ]
  },
  {
   "cell_type": "markdown",
   "metadata": {},
   "source": [
    "Explored data set with info() method. 1 NaN value present in tweet_text column and ~6,000 in brand_product column. Will need to address prior to modeling"
   ]
  },
  {
   "cell_type": "code",
   "execution_count": 4,
   "metadata": {
    "ExecuteTime": {
     "end_time": "2020-06-30T20:48:36.455921Z",
     "start_time": "2020-06-30T20:48:36.448302Z"
    }
   },
   "outputs": [
    {
     "name": "stdout",
     "output_type": "stream",
     "text": [
      "<class 'pandas.core.frame.DataFrame'>\n",
      "RangeIndex: 9093 entries, 0 to 9092\n",
      "Data columns (total 3 columns):\n",
      "tweet_text       9092 non-null object\n",
      "brand_product    3291 non-null object\n",
      "sentiment        9093 non-null object\n",
      "dtypes: object(3)\n",
      "memory usage: 213.2+ KB\n"
     ]
    }
   ],
   "source": [
    "df.info()"
   ]
  },
  {
   "cell_type": "markdown",
   "metadata": {},
   "source": [
    "Remove NaN tweet_text from DataFrame"
   ]
  },
  {
   "cell_type": "code",
   "execution_count": 5,
   "metadata": {
    "ExecuteTime": {
     "end_time": "2020-06-30T20:48:36.469950Z",
     "start_time": "2020-06-30T20:48:36.458311Z"
    },
    "scrolled": true
   },
   "outputs": [
    {
     "data": {
      "text/html": [
       "<div>\n",
       "<style scoped>\n",
       "    .dataframe tbody tr th:only-of-type {\n",
       "        vertical-align: middle;\n",
       "    }\n",
       "\n",
       "    .dataframe tbody tr th {\n",
       "        vertical-align: top;\n",
       "    }\n",
       "\n",
       "    .dataframe thead th {\n",
       "        text-align: right;\n",
       "    }\n",
       "</style>\n",
       "<table border=\"1\" class=\"dataframe\">\n",
       "  <thead>\n",
       "    <tr style=\"text-align: right;\">\n",
       "      <th></th>\n",
       "      <th>tweet_text</th>\n",
       "      <th>brand_product</th>\n",
       "      <th>sentiment</th>\n",
       "    </tr>\n",
       "  </thead>\n",
       "  <tbody>\n",
       "    <tr>\n",
       "      <td>6</td>\n",
       "      <td>NaN</td>\n",
       "      <td>NaN</td>\n",
       "      <td>No emotion toward brand or product</td>\n",
       "    </tr>\n",
       "  </tbody>\n",
       "</table>\n",
       "</div>"
      ],
      "text/plain": [
       "  tweet_text brand_product                           sentiment\n",
       "6        NaN           NaN  No emotion toward brand or product"
      ]
     },
     "execution_count": 5,
     "metadata": {},
     "output_type": "execute_result"
    }
   ],
   "source": [
    "df[df['tweet_text'].isna()]"
   ]
  },
  {
   "cell_type": "code",
   "execution_count": 6,
   "metadata": {
    "ExecuteTime": {
     "end_time": "2020-06-30T20:48:36.477891Z",
     "start_time": "2020-06-30T20:48:36.472570Z"
    }
   },
   "outputs": [],
   "source": [
    "df.drop(inplace= True, index=6)"
   ]
  },
  {
   "cell_type": "markdown",
   "metadata": {},
   "source": [
    "### Exploration\n",
    "Explored Sentiment category. Most tweets are marked as having No emotion which will not help initial binary classification model. Most data in data set will only be usuable when model is built to take into account neutral sentiment"
   ]
  },
  {
   "cell_type": "code",
   "execution_count": 7,
   "metadata": {
    "ExecuteTime": {
     "end_time": "2020-06-30T20:48:36.494747Z",
     "start_time": "2020-06-30T20:48:36.480139Z"
    }
   },
   "outputs": [
    {
     "data": {
      "text/html": [
       "<div>\n",
       "<style scoped>\n",
       "    .dataframe tbody tr th:only-of-type {\n",
       "        vertical-align: middle;\n",
       "    }\n",
       "\n",
       "    .dataframe tbody tr th {\n",
       "        vertical-align: top;\n",
       "    }\n",
       "\n",
       "    .dataframe thead th {\n",
       "        text-align: right;\n",
       "    }\n",
       "</style>\n",
       "<table border=\"1\" class=\"dataframe\">\n",
       "  <thead>\n",
       "    <tr style=\"text-align: right;\">\n",
       "      <th></th>\n",
       "      <th>tweet_text</th>\n",
       "      <th>brand_product</th>\n",
       "    </tr>\n",
       "    <tr>\n",
       "      <th>sentiment</th>\n",
       "      <th></th>\n",
       "      <th></th>\n",
       "    </tr>\n",
       "  </thead>\n",
       "  <tbody>\n",
       "    <tr>\n",
       "      <td>I can't tell</td>\n",
       "      <td>156</td>\n",
       "      <td>9</td>\n",
       "    </tr>\n",
       "    <tr>\n",
       "      <td>Negative emotion</td>\n",
       "      <td>570</td>\n",
       "      <td>519</td>\n",
       "    </tr>\n",
       "    <tr>\n",
       "      <td>No emotion toward brand or product</td>\n",
       "      <td>5388</td>\n",
       "      <td>91</td>\n",
       "    </tr>\n",
       "    <tr>\n",
       "      <td>Positive emotion</td>\n",
       "      <td>2978</td>\n",
       "      <td>2672</td>\n",
       "    </tr>\n",
       "  </tbody>\n",
       "</table>\n",
       "</div>"
      ],
      "text/plain": [
       "                                    tweet_text  brand_product\n",
       "sentiment                                                    \n",
       "I can't tell                               156              9\n",
       "Negative emotion                           570            519\n",
       "No emotion toward brand or product        5388             91\n",
       "Positive emotion                          2978           2672"
      ]
     },
     "execution_count": 7,
     "metadata": {},
     "output_type": "execute_result"
    }
   ],
   "source": [
    "df.groupby('sentiment').count()"
   ]
  },
  {
   "cell_type": "code",
   "execution_count": 8,
   "metadata": {
    "ExecuteTime": {
     "end_time": "2020-06-30T20:48:36.512715Z",
     "start_time": "2020-06-30T20:48:36.499641Z"
    }
   },
   "outputs": [
    {
     "data": {
      "text/html": [
       "<div>\n",
       "<style scoped>\n",
       "    .dataframe tbody tr th:only-of-type {\n",
       "        vertical-align: middle;\n",
       "    }\n",
       "\n",
       "    .dataframe tbody tr th {\n",
       "        vertical-align: top;\n",
       "    }\n",
       "\n",
       "    .dataframe thead th {\n",
       "        text-align: right;\n",
       "    }\n",
       "</style>\n",
       "<table border=\"1\" class=\"dataframe\">\n",
       "  <thead>\n",
       "    <tr style=\"text-align: right;\">\n",
       "      <th></th>\n",
       "      <th>tweet_text</th>\n",
       "      <th>brand_product</th>\n",
       "      <th>sentiment</th>\n",
       "    </tr>\n",
       "  </thead>\n",
       "  <tbody>\n",
       "    <tr>\n",
       "      <td>90</td>\n",
       "      <td>Thanks to @mention for publishing the news of ...</td>\n",
       "      <td>NaN</td>\n",
       "      <td>I can't tell</td>\n",
       "    </tr>\n",
       "    <tr>\n",
       "      <td>102</td>\n",
       "      <td>ÛÏ@mention &amp;quot;Apple has opened a pop-up st...</td>\n",
       "      <td>NaN</td>\n",
       "      <td>I can't tell</td>\n",
       "    </tr>\n",
       "    <tr>\n",
       "      <td>237</td>\n",
       "      <td>Just what America needs. RT @mention Google to...</td>\n",
       "      <td>NaN</td>\n",
       "      <td>I can't tell</td>\n",
       "    </tr>\n",
       "    <tr>\n",
       "      <td>341</td>\n",
       "      <td>The queue at the Apple Store in Austin is FOUR...</td>\n",
       "      <td>NaN</td>\n",
       "      <td>I can't tell</td>\n",
       "    </tr>\n",
       "    <tr>\n",
       "      <td>368</td>\n",
       "      <td>Hope it's better than wave RT @mention Buzz is...</td>\n",
       "      <td>NaN</td>\n",
       "      <td>I can't tell</td>\n",
       "    </tr>\n",
       "    <tr>\n",
       "      <td>...</td>\n",
       "      <td>...</td>\n",
       "      <td>...</td>\n",
       "      <td>...</td>\n",
       "    </tr>\n",
       "    <tr>\n",
       "      <td>9020</td>\n",
       "      <td>It's funny watching a room full of people hold...</td>\n",
       "      <td>NaN</td>\n",
       "      <td>I can't tell</td>\n",
       "    </tr>\n",
       "    <tr>\n",
       "      <td>9032</td>\n",
       "      <td>@mention yeah, we have @mention , Google has n...</td>\n",
       "      <td>NaN</td>\n",
       "      <td>I can't tell</td>\n",
       "    </tr>\n",
       "    <tr>\n",
       "      <td>9037</td>\n",
       "      <td>@mention Yes, the Google presentation was not ...</td>\n",
       "      <td>NaN</td>\n",
       "      <td>I can't tell</td>\n",
       "    </tr>\n",
       "    <tr>\n",
       "      <td>9058</td>\n",
       "      <td>&amp;quot;Do you know what Apple is really good at...</td>\n",
       "      <td>NaN</td>\n",
       "      <td>I can't tell</td>\n",
       "    </tr>\n",
       "    <tr>\n",
       "      <td>9066</td>\n",
       "      <td>How much you want to bet Apple is disproportio...</td>\n",
       "      <td>Apple</td>\n",
       "      <td>I can't tell</td>\n",
       "    </tr>\n",
       "  </tbody>\n",
       "</table>\n",
       "<p>156 rows × 3 columns</p>\n",
       "</div>"
      ],
      "text/plain": [
       "                                             tweet_text brand_product  \\\n",
       "90    Thanks to @mention for publishing the news of ...           NaN   \n",
       "102   ÛÏ@mention &quot;Apple has opened a pop-up st...           NaN   \n",
       "237   Just what America needs. RT @mention Google to...           NaN   \n",
       "341   The queue at the Apple Store in Austin is FOUR...           NaN   \n",
       "368   Hope it's better than wave RT @mention Buzz is...           NaN   \n",
       "...                                                 ...           ...   \n",
       "9020  It's funny watching a room full of people hold...           NaN   \n",
       "9032  @mention yeah, we have @mention , Google has n...           NaN   \n",
       "9037  @mention Yes, the Google presentation was not ...           NaN   \n",
       "9058  &quot;Do you know what Apple is really good at...           NaN   \n",
       "9066  How much you want to bet Apple is disproportio...         Apple   \n",
       "\n",
       "         sentiment  \n",
       "90    I can't tell  \n",
       "102   I can't tell  \n",
       "237   I can't tell  \n",
       "341   I can't tell  \n",
       "368   I can't tell  \n",
       "...            ...  \n",
       "9020  I can't tell  \n",
       "9032  I can't tell  \n",
       "9037  I can't tell  \n",
       "9058  I can't tell  \n",
       "9066  I can't tell  \n",
       "\n",
       "[156 rows x 3 columns]"
      ]
     },
     "execution_count": 8,
     "metadata": {},
     "output_type": "execute_result"
    }
   ],
   "source": [
    "df.loc[df['sentiment'] == \"I can't tell\"]"
   ]
  },
  {
   "cell_type": "code",
   "execution_count": 9,
   "metadata": {
    "ExecuteTime": {
     "end_time": "2020-06-30T20:48:36.530364Z",
     "start_time": "2020-06-30T20:48:36.520112Z"
    },
    "scrolled": true
   },
   "outputs": [
    {
     "data": {
      "text/plain": [
       "No emotion toward brand or product    5388\n",
       "Positive emotion                      2978\n",
       "Negative emotion                       570\n",
       "I can't tell                           156\n",
       "Name: sentiment, dtype: int64"
      ]
     },
     "execution_count": 9,
     "metadata": {},
     "output_type": "execute_result"
    }
   ],
   "source": [
    "df['sentiment'].value_counts()"
   ]
  },
  {
   "cell_type": "markdown",
   "metadata": {},
   "source": [
    "Dummied Sentiment Column to help with visulizations to compare sentiment across brands"
   ]
  },
  {
   "cell_type": "code",
   "execution_count": 10,
   "metadata": {
    "ExecuteTime": {
     "end_time": "2020-06-30T20:48:36.560412Z",
     "start_time": "2020-06-30T20:48:36.533690Z"
    },
    "scrolled": true
   },
   "outputs": [
    {
     "data": {
      "text/html": [
       "<div>\n",
       "<style scoped>\n",
       "    .dataframe tbody tr th:only-of-type {\n",
       "        vertical-align: middle;\n",
       "    }\n",
       "\n",
       "    .dataframe tbody tr th {\n",
       "        vertical-align: top;\n",
       "    }\n",
       "\n",
       "    .dataframe thead th {\n",
       "        text-align: right;\n",
       "    }\n",
       "</style>\n",
       "<table border=\"1\" class=\"dataframe\">\n",
       "  <thead>\n",
       "    <tr style=\"text-align: right;\">\n",
       "      <th></th>\n",
       "      <th>I can't tell</th>\n",
       "      <th>Negative emotion</th>\n",
       "      <th>No emotion toward brand or product</th>\n",
       "      <th>Positive emotion</th>\n",
       "    </tr>\n",
       "  </thead>\n",
       "  <tbody>\n",
       "    <tr>\n",
       "      <td>0</td>\n",
       "      <td>0</td>\n",
       "      <td>1</td>\n",
       "      <td>0</td>\n",
       "      <td>0</td>\n",
       "    </tr>\n",
       "    <tr>\n",
       "      <td>1</td>\n",
       "      <td>0</td>\n",
       "      <td>0</td>\n",
       "      <td>0</td>\n",
       "      <td>1</td>\n",
       "    </tr>\n",
       "    <tr>\n",
       "      <td>2</td>\n",
       "      <td>0</td>\n",
       "      <td>0</td>\n",
       "      <td>0</td>\n",
       "      <td>1</td>\n",
       "    </tr>\n",
       "    <tr>\n",
       "      <td>3</td>\n",
       "      <td>0</td>\n",
       "      <td>1</td>\n",
       "      <td>0</td>\n",
       "      <td>0</td>\n",
       "    </tr>\n",
       "    <tr>\n",
       "      <td>4</td>\n",
       "      <td>0</td>\n",
       "      <td>0</td>\n",
       "      <td>0</td>\n",
       "      <td>1</td>\n",
       "    </tr>\n",
       "  </tbody>\n",
       "</table>\n",
       "</div>"
      ],
      "text/plain": [
       "   I can't tell  Negative emotion  No emotion toward brand or product  \\\n",
       "0             0                 1                                   0   \n",
       "1             0                 0                                   0   \n",
       "2             0                 0                                   0   \n",
       "3             0                 1                                   0   \n",
       "4             0                 0                                   0   \n",
       "\n",
       "   Positive emotion  \n",
       "0                 0  \n",
       "1                 1  \n",
       "2                 1  \n",
       "3                 0  \n",
       "4                 1  "
      ]
     },
     "execution_count": 10,
     "metadata": {},
     "output_type": "execute_result"
    }
   ],
   "source": [
    "df1=pd.get_dummies(df['sentiment'])\n",
    "df1.head()"
   ]
  },
  {
   "cell_type": "code",
   "execution_count": 11,
   "metadata": {
    "ExecuteTime": {
     "end_time": "2020-06-30T20:48:36.588808Z",
     "start_time": "2020-06-30T20:48:36.562661Z"
    }
   },
   "outputs": [
    {
     "data": {
      "text/html": [
       "<div>\n",
       "<style scoped>\n",
       "    .dataframe tbody tr th:only-of-type {\n",
       "        vertical-align: middle;\n",
       "    }\n",
       "\n",
       "    .dataframe tbody tr th {\n",
       "        vertical-align: top;\n",
       "    }\n",
       "\n",
       "    .dataframe thead th {\n",
       "        text-align: right;\n",
       "    }\n",
       "</style>\n",
       "<table border=\"1\" class=\"dataframe\">\n",
       "  <thead>\n",
       "    <tr style=\"text-align: right;\">\n",
       "      <th></th>\n",
       "      <th>tweet_text</th>\n",
       "      <th>brand_product</th>\n",
       "      <th>I can't tell</th>\n",
       "      <th>Negative emotion</th>\n",
       "      <th>No emotion toward brand or product</th>\n",
       "      <th>Positive emotion</th>\n",
       "    </tr>\n",
       "  </thead>\n",
       "  <tbody>\n",
       "    <tr>\n",
       "      <td>0</td>\n",
       "      <td>.@wesley83 I have a 3G iPhone. After 3 hrs twe...</td>\n",
       "      <td>iPhone</td>\n",
       "      <td>0</td>\n",
       "      <td>1</td>\n",
       "      <td>0</td>\n",
       "      <td>0</td>\n",
       "    </tr>\n",
       "    <tr>\n",
       "      <td>1</td>\n",
       "      <td>@jessedee Know about @fludapp ? Awesome iPad/i...</td>\n",
       "      <td>iPad or iPhone App</td>\n",
       "      <td>0</td>\n",
       "      <td>0</td>\n",
       "      <td>0</td>\n",
       "      <td>1</td>\n",
       "    </tr>\n",
       "    <tr>\n",
       "      <td>2</td>\n",
       "      <td>@swonderlin Can not wait for #iPad 2 also. The...</td>\n",
       "      <td>iPad</td>\n",
       "      <td>0</td>\n",
       "      <td>0</td>\n",
       "      <td>0</td>\n",
       "      <td>1</td>\n",
       "    </tr>\n",
       "    <tr>\n",
       "      <td>3</td>\n",
       "      <td>@sxsw I hope this year's festival isn't as cra...</td>\n",
       "      <td>iPad or iPhone App</td>\n",
       "      <td>0</td>\n",
       "      <td>1</td>\n",
       "      <td>0</td>\n",
       "      <td>0</td>\n",
       "    </tr>\n",
       "    <tr>\n",
       "      <td>4</td>\n",
       "      <td>@sxtxstate great stuff on Fri #SXSW: Marissa M...</td>\n",
       "      <td>Google</td>\n",
       "      <td>0</td>\n",
       "      <td>0</td>\n",
       "      <td>0</td>\n",
       "      <td>1</td>\n",
       "    </tr>\n",
       "  </tbody>\n",
       "</table>\n",
       "</div>"
      ],
      "text/plain": [
       "                                          tweet_text       brand_product  \\\n",
       "0  .@wesley83 I have a 3G iPhone. After 3 hrs twe...              iPhone   \n",
       "1  @jessedee Know about @fludapp ? Awesome iPad/i...  iPad or iPhone App   \n",
       "2  @swonderlin Can not wait for #iPad 2 also. The...                iPad   \n",
       "3  @sxsw I hope this year's festival isn't as cra...  iPad or iPhone App   \n",
       "4  @sxtxstate great stuff on Fri #SXSW: Marissa M...              Google   \n",
       "\n",
       "   I can't tell  Negative emotion  No emotion toward brand or product  \\\n",
       "0             0                 1                                   0   \n",
       "1             0                 0                                   0   \n",
       "2             0                 0                                   0   \n",
       "3             0                 1                                   0   \n",
       "4             0                 0                                   0   \n",
       "\n",
       "   Positive emotion  \n",
       "0                 0  \n",
       "1                 1  \n",
       "2                 1  \n",
       "3                 0  \n",
       "4                 1  "
      ]
     },
     "execution_count": 11,
     "metadata": {},
     "output_type": "execute_result"
    }
   ],
   "source": [
    "df_dummied=df.join(df1).drop(columns='sentiment')\n",
    "df_dummied.head()"
   ]
  },
  {
   "cell_type": "markdown",
   "metadata": {},
   "source": [
    "Made visualization to explore distribution of sentiment across brand/product. Will combine Apple and Google products to further explore distribution. Sentiment is overwhelmingly positive across all products and most sentiment data is logged for Apple products"
   ]
  },
  {
   "cell_type": "code",
   "execution_count": 12,
   "metadata": {
    "ExecuteTime": {
     "end_time": "2020-06-30T20:48:37.003066Z",
     "start_time": "2020-06-30T20:48:36.591121Z"
    }
   },
   "outputs": [
    {
     "data": {
      "image/png": "[encoded data removed]",
      "text/plain": [
       "<Figure size 720x504 with 1 Axes>"
      ]
     },
     "metadata": {
      "needs_background": "light"
     },
     "output_type": "display_data"
    }
   ],
   "source": [
    "df_dummied.groupby('brand_product').sum().plot(kind='barh', \n",
    "                                               figsize=(10,7))\n",
    "plt.title('Sentiment Analysis by Brand/Product', size=20)\n",
    "plt.ylabel('Brand/Product', size=15)\n",
    "plt.xlabel('# of Instances', size=15)\n",
    "plt.show()"
   ]
  },
  {
   "cell_type": "markdown",
   "metadata": {},
   "source": [
    "Made below visualization to explore the missing brand_product classifications for each sentiment"
   ]
  },
  {
   "cell_type": "code",
   "execution_count": 13,
   "metadata": {
    "ExecuteTime": {
     "end_time": "2020-06-30T20:48:37.217991Z",
     "start_time": "2020-06-30T20:48:37.005343Z"
    },
    "scrolled": true
   },
   "outputs": [
    {
     "data": {
      "image/png": "[encoded data removed]",
      "text/plain": [
       "<Figure size 720x360 with 1 Axes>"
      ]
     },
     "metadata": {
      "needs_background": "light"
     },
     "output_type": "display_data"
    }
   ],
   "source": [
    "df.groupby('sentiment').count().plot(kind='barh',\n",
    "                                     figsize=(10,5))\n",
    "plt.title('Sentiment Distribution', size=20)\n",
    "plt.ylabel('Sentiment', size=15)\n",
    "plt.xlabel('# of Instances',size=15)\n",
    "plt.show()"
   ]
  },
  {
   "cell_type": "markdown",
   "metadata": {},
   "source": [
    "Usable data (Positive or Negative sentiment) for baseline first model is 39.02%. Will be necessary to eventually build a multiclass classifier with No Emotion classification"
   ]
  },
  {
   "cell_type": "code",
   "execution_count": 14,
   "metadata": {
    "ExecuteTime": {
     "end_time": "2020-06-30T20:48:37.228528Z",
     "start_time": "2020-06-30T20:48:37.220471Z"
    },
    "scrolled": true
   },
   "outputs": [
    {
     "name": "stdout",
     "output_type": "stream",
     "text": [
      "Percentage of Data with either Positive or Negative Sentiment: 39.02%\n"
     ]
    }
   ],
   "source": [
    "usable_data=round(len(df.loc[(df['sentiment'] == 'Positive emotion') | \n",
    "                             (df['sentiment'] == 'Negative emotion')])/len(df) * 100,2)\n",
    "print('Percentage of Data with either Positive or Negative Sentiment: {}%'.format(usable_data))"
   ]
  },
  {
   "cell_type": "markdown",
   "metadata": {},
   "source": [
    "Combined Apple and Google product names together to explore further visualizations"
   ]
  },
  {
   "cell_type": "code",
   "execution_count": 15,
   "metadata": {
    "ExecuteTime": {
     "end_time": "2020-06-30T20:48:37.248692Z",
     "start_time": "2020-06-30T20:48:37.230458Z"
    },
    "scrolled": true
   },
   "outputs": [
    {
     "data": {
      "text/plain": [
       "apple_product      2409\n",
       "android_product     882\n",
       "Name: brand_product, dtype: int64"
      ]
     },
     "execution_count": 15,
     "metadata": {},
     "output_type": "execute_result"
    }
   ],
   "source": [
    "df_dummied['brand_product']=df_dummied['brand_product'].replace(to_replace = ['iPad','Apple',\n",
    "                                                                                    'iPad or iPhone App','iPhone',\n",
    "                                                                                    'Other Apple product or service'],value='apple_product')\n",
    "df_dummied['brand_product'] = df_dummied['brand_product'].replace(['Google',\n",
    "                                                                        'Other Google product or service',\n",
    "                                                                        'Android App', 'Android'],'android_product')\n",
    "df_dummied['brand_product'].value_counts()"
   ]
  },
  {
   "cell_type": "markdown",
   "metadata": {},
   "source": [
    "Combined Brand_product columns to show difference in amount of information for each product"
   ]
  },
  {
   "cell_type": "code",
   "execution_count": 16,
   "metadata": {
    "ExecuteTime": {
     "end_time": "2020-06-30T20:48:37.493395Z",
     "start_time": "2020-06-30T20:48:37.250786Z"
    }
   },
   "outputs": [
    {
     "data": {
      "image/png": "[encoded data removed]",
      "text/plain": [
       "<Figure size 720x288 with 1 Axes>"
      ]
     },
     "metadata": {
      "needs_background": "light"
     },
     "output_type": "display_data"
    }
   ],
   "source": [
    "df_dummied.groupby('brand_product').sum().plot(kind='barh', figsize=(10,4))\n",
    "plt.title('Sentiment Analysis by Brand/Product Combined', size=20)\n",
    "plt.ylabel('Brand/Product', size=15)\n",
    "plt.xlabel('# of Instances', size=15)\n",
    "plt.yticks(np.arange(2),['Google Product','Apple Product'])\n",
    "plt.show()"
   ]
  },
  {
   "cell_type": "markdown",
   "metadata": {},
   "source": [
    "Made a copy of the data frame to further explore EDA options"
   ]
  },
  {
   "cell_type": "code",
   "execution_count": 17,
   "metadata": {
    "ExecuteTime": {
     "end_time": "2020-06-30T20:48:37.503559Z",
     "start_time": "2020-06-30T20:48:37.495464Z"
    }
   },
   "outputs": [
    {
     "data": {
      "text/html": [
       "<div>\n",
       "<style scoped>\n",
       "    .dataframe tbody tr th:only-of-type {\n",
       "        vertical-align: middle;\n",
       "    }\n",
       "\n",
       "    .dataframe tbody tr th {\n",
       "        vertical-align: top;\n",
       "    }\n",
       "\n",
       "    .dataframe thead th {\n",
       "        text-align: right;\n",
       "    }\n",
       "</style>\n",
       "<table border=\"1\" class=\"dataframe\">\n",
       "  <thead>\n",
       "    <tr style=\"text-align: right;\">\n",
       "      <th></th>\n",
       "      <th>tweet_text</th>\n",
       "      <th>brand_product</th>\n",
       "      <th>sentiment</th>\n",
       "    </tr>\n",
       "  </thead>\n",
       "  <tbody>\n",
       "    <tr>\n",
       "      <td>0</td>\n",
       "      <td>.@wesley83 I have a 3G iPhone. After 3 hrs twe...</td>\n",
       "      <td>iPhone</td>\n",
       "      <td>Negative emotion</td>\n",
       "    </tr>\n",
       "    <tr>\n",
       "      <td>1</td>\n",
       "      <td>@jessedee Know about @fludapp ? Awesome iPad/i...</td>\n",
       "      <td>iPad or iPhone App</td>\n",
       "      <td>Positive emotion</td>\n",
       "    </tr>\n",
       "    <tr>\n",
       "      <td>2</td>\n",
       "      <td>@swonderlin Can not wait for #iPad 2 also. The...</td>\n",
       "      <td>iPad</td>\n",
       "      <td>Positive emotion</td>\n",
       "    </tr>\n",
       "    <tr>\n",
       "      <td>3</td>\n",
       "      <td>@sxsw I hope this year's festival isn't as cra...</td>\n",
       "      <td>iPad or iPhone App</td>\n",
       "      <td>Negative emotion</td>\n",
       "    </tr>\n",
       "    <tr>\n",
       "      <td>4</td>\n",
       "      <td>@sxtxstate great stuff on Fri #SXSW: Marissa M...</td>\n",
       "      <td>Google</td>\n",
       "      <td>Positive emotion</td>\n",
       "    </tr>\n",
       "  </tbody>\n",
       "</table>\n",
       "</div>"
      ],
      "text/plain": [
       "                                          tweet_text       brand_product  \\\n",
       "0  .@wesley83 I have a 3G iPhone. After 3 hrs twe...              iPhone   \n",
       "1  @jessedee Know about @fludapp ? Awesome iPad/i...  iPad or iPhone App   \n",
       "2  @swonderlin Can not wait for #iPad 2 also. The...                iPad   \n",
       "3  @sxsw I hope this year's festival isn't as cra...  iPad or iPhone App   \n",
       "4  @sxtxstate great stuff on Fri #SXSW: Marissa M...              Google   \n",
       "\n",
       "          sentiment  \n",
       "0  Negative emotion  \n",
       "1  Positive emotion  \n",
       "2  Positive emotion  \n",
       "3  Negative emotion  \n",
       "4  Positive emotion  "
      ]
     },
     "execution_count": 17,
     "metadata": {},
     "output_type": "execute_result"
    }
   ],
   "source": [
    "df_eda = df\n",
    "df_eda.head()"
   ]
  },
  {
   "cell_type": "markdown",
   "metadata": {},
   "source": [
    "Used an alternative version of our clean_lemmatize_token function to preprocess data for additional EDA"
   ]
  },
  {
   "cell_type": "code",
   "execution_count": 18,
   "metadata": {
    "ExecuteTime": {
     "end_time": "2020-06-30T20:48:37.511832Z",
     "start_time": "2020-06-30T20:48:37.505676Z"
    }
   },
   "outputs": [],
   "source": [
    "def clean_lemmatize_token_alt(tweet):\n",
    "    stop_words = set(stopwords.words('english'))\n",
    "    cleaned = tweet.translate(str.maketrans('', '', string.punctuation)).lower()\n",
    "    tokenized = word_tokenize(cleaned)\n",
    "    filtered = [w for w in tokenized if not w in stop_words]\n",
    "    lemmatizer = WordNetLemmatizer()\n",
    "    lemmatized = []\n",
    "    for word in filtered:\n",
    "        lemmatized.append(lemmatizer.lemmatize(word))\n",
    "    to_remove = ['rt','mention','sxsw','link']\n",
    "    lemmatized = [w for w in lemmatized if w not in to_remove]\n",
    "    #lemmatized = ' '.join(lemmatized)\n",
    "    return lemmatized"
   ]
  },
  {
   "cell_type": "code",
   "execution_count": 19,
   "metadata": {
    "ExecuteTime": {
     "end_time": "2020-06-30T20:48:43.507273Z",
     "start_time": "2020-06-30T20:48:37.514168Z"
    },
    "scrolled": true
   },
   "outputs": [
    {
     "data": {
      "text/html": [
       "<div>\n",
       "<style scoped>\n",
       "    .dataframe tbody tr th:only-of-type {\n",
       "        vertical-align: middle;\n",
       "    }\n",
       "\n",
       "    .dataframe tbody tr th {\n",
       "        vertical-align: top;\n",
       "    }\n",
       "\n",
       "    .dataframe thead th {\n",
       "        text-align: right;\n",
       "    }\n",
       "</style>\n",
       "<table border=\"1\" class=\"dataframe\">\n",
       "  <thead>\n",
       "    <tr style=\"text-align: right;\">\n",
       "      <th></th>\n",
       "      <th>tweet_text</th>\n",
       "      <th>brand_product</th>\n",
       "      <th>sentiment</th>\n",
       "    </tr>\n",
       "  </thead>\n",
       "  <tbody>\n",
       "    <tr>\n",
       "      <td>0</td>\n",
       "      <td>[wesley83, 3g, iphone, 3, hr, tweeting, riseau...</td>\n",
       "      <td>iPhone</td>\n",
       "      <td>Negative emotion</td>\n",
       "    </tr>\n",
       "    <tr>\n",
       "      <td>1</td>\n",
       "      <td>[jessedee, know, fludapp, awesome, ipadiphone,...</td>\n",
       "      <td>iPad or iPhone App</td>\n",
       "      <td>Positive emotion</td>\n",
       "    </tr>\n",
       "    <tr>\n",
       "      <td>2</td>\n",
       "      <td>[swonderlin, wait, ipad, 2, also, sale]</td>\n",
       "      <td>iPad</td>\n",
       "      <td>Positive emotion</td>\n",
       "    </tr>\n",
       "    <tr>\n",
       "      <td>3</td>\n",
       "      <td>[hope, year, festival, isnt, crashy, year, iph...</td>\n",
       "      <td>iPad or iPhone App</td>\n",
       "      <td>Negative emotion</td>\n",
       "    </tr>\n",
       "    <tr>\n",
       "      <td>4</td>\n",
       "      <td>[sxtxstate, great, stuff, fri, marissa, mayer,...</td>\n",
       "      <td>Google</td>\n",
       "      <td>Positive emotion</td>\n",
       "    </tr>\n",
       "  </tbody>\n",
       "</table>\n",
       "</div>"
      ],
      "text/plain": [
       "                                          tweet_text       brand_product  \\\n",
       "0  [wesley83, 3g, iphone, 3, hr, tweeting, riseau...              iPhone   \n",
       "1  [jessedee, know, fludapp, awesome, ipadiphone,...  iPad or iPhone App   \n",
       "2            [swonderlin, wait, ipad, 2, also, sale]                iPad   \n",
       "3  [hope, year, festival, isnt, crashy, year, iph...  iPad or iPhone App   \n",
       "4  [sxtxstate, great, stuff, fri, marissa, mayer,...              Google   \n",
       "\n",
       "          sentiment  \n",
       "0  Negative emotion  \n",
       "1  Positive emotion  \n",
       "2  Positive emotion  \n",
       "3  Negative emotion  \n",
       "4  Positive emotion  "
      ]
     },
     "execution_count": 19,
     "metadata": {},
     "output_type": "execute_result"
    }
   ],
   "source": [
    "df_eda['tweet_text'] = df_eda['tweet_text'].map(lambda x: clean_lemmatize_token_alt(x))\n",
    "df_eda.head()"
   ]
  },
  {
   "cell_type": "code",
   "execution_count": 20,
   "metadata": {
    "ExecuteTime": {
     "end_time": "2020-06-30T20:48:43.517657Z",
     "start_time": "2020-06-30T20:48:43.509412Z"
    }
   },
   "outputs": [
    {
     "data": {
      "text/plain": [
       "iPad                               946\n",
       "Apple                              661\n",
       "iPad or iPhone App                 470\n",
       "Google                             430\n",
       "iPhone                             297\n",
       "Other Google product or service    293\n",
       "Android App                         81\n",
       "Android                             78\n",
       "Other Apple product or service      35\n",
       "Name: brand_product, dtype: int64"
      ]
     },
     "execution_count": 20,
     "metadata": {},
     "output_type": "execute_result"
    }
   ],
   "source": [
    "df_eda['brand_product'].value_counts()"
   ]
  },
  {
   "cell_type": "markdown",
   "metadata": {},
   "source": [
    "Split data set out into different divisions to visualize bigrams of Apple and Android Mobile product tweets"
   ]
  },
  {
   "cell_type": "code",
   "execution_count": 21,
   "metadata": {
    "ExecuteTime": {
     "end_time": "2020-06-30T20:48:43.556031Z",
     "start_time": "2020-06-30T20:48:43.519527Z"
    }
   },
   "outputs": [],
   "source": [
    "df_pos_apple_mobile = df_eda.loc[(df_eda['sentiment'] == 'Positive emotion') & (df_eda['brand_product'] == 'iPad') \n",
    "                                 | (df_eda['brand_product'] == 'iPhone') | (df_eda['brand_product'] == 'iPad or iPhone App')]\n",
    "df_neg_apple_mobile = df_eda.loc[(df_eda['sentiment'] == 'Negative emotion') & (df_eda['brand_product'] == 'iPad') \n",
    "                                 | (df_eda['brand_product'] == 'iPhone') | (df_eda['brand_product'] == 'iPad or iPhone App')]\n",
    "df_pos_android_mobile = df_eda.loc[(df_eda['sentiment'] == 'Positive emotion') & (df_eda['brand_product'] == 'Other Google Product or Service') \n",
    "                                 | (df_eda['brand_product'] == 'Android App') | (df_eda['brand_product'] == 'Android')]\n",
    "df_neg_android_mobile = df_eda.loc[(df_eda['sentiment'] == 'Negative emotion') & (df_eda['brand_product'] == 'Other Google Product or Service') \n",
    "                                 | (df_eda['brand_product'] == 'Android App') | (df_eda['brand_product'] == 'Android')]"
   ]
  },
  {
   "cell_type": "code",
   "execution_count": 22,
   "metadata": {
    "ExecuteTime": {
     "end_time": "2020-06-30T20:48:43.578114Z",
     "start_time": "2020-06-30T20:48:43.559088Z"
    }
   },
   "outputs": [],
   "source": [
    "pos_apple_mobile_tweet_list = df_pos_apple_mobile['tweet_text']\n",
    "neg_apple_mobile_tweet_list = df_neg_apple_mobile['tweet_text']\n",
    "pos_android_mobile_list = df_pos_android_mobile['tweet_text']\n",
    "neg_android_mobile_list = df_neg_android_mobile['tweet_text']"
   ]
  },
  {
   "cell_type": "code",
   "execution_count": 23,
   "metadata": {
    "ExecuteTime": {
     "end_time": "2020-06-30T20:48:43.592078Z",
     "start_time": "2020-06-30T20:48:43.586019Z"
    }
   },
   "outputs": [],
   "source": [
    "pos_apple_mobile_concat = []\n",
    "neg_apple_mobile_concat = []\n",
    "pos_android_mobile_concat = []\n",
    "neg_android_mobile_concat = []\n",
    "\n",
    "for tweet in pos_apple_mobile_tweet_list:\n",
    "    pos_apple_mobile_concat += tweet\n",
    "for tweet in neg_apple_mobile_tweet_list:\n",
    "    neg_apple_mobile_concat += tweet\n",
    "for tweet in pos_android_mobile_list:\n",
    "    pos_android_mobile_concat += tweet  \n",
    "for tweet in neg_android_mobile_list:\n",
    "    neg_android_mobile_concat += tweet"
   ]
  },
  {
   "cell_type": "code",
   "execution_count": 24,
   "metadata": {
    "ExecuteTime": {
     "end_time": "2020-06-30T20:48:43.602802Z",
     "start_time": "2020-06-30T20:48:43.598265Z"
    }
   },
   "outputs": [
    {
     "data": {
      "text/plain": [
       "15438"
      ]
     },
     "execution_count": 24,
     "metadata": {},
     "output_type": "execute_result"
    }
   ],
   "source": [
    "len(pos_apple_mobile_concat)"
   ]
  },
  {
   "cell_type": "code",
   "execution_count": 25,
   "metadata": {
    "ExecuteTime": {
     "end_time": "2020-06-30T20:48:43.609380Z",
     "start_time": "2020-06-30T20:48:43.605775Z"
    }
   },
   "outputs": [],
   "source": [
    "mobile_concat_list = [pos_apple_mobile_concat, neg_apple_mobile_concat, pos_android_mobile_concat,\n",
    "                      neg_android_mobile_concat]"
   ]
  },
  {
   "cell_type": "markdown",
   "metadata": {},
   "source": [
    "## Bigrams by Raw Frequency"
   ]
  },
  {
   "cell_type": "code",
   "execution_count": 26,
   "metadata": {
    "ExecuteTime": {
     "end_time": "2020-06-30T20:48:43.896081Z",
     "start_time": "2020-06-30T20:48:43.615744Z"
    }
   },
   "outputs": [],
   "source": [
    "mobile_tweets_scored_list = []\n",
    "for mobile_list in mobile_concat_list:\n",
    "    bigram_measures = nltk.collocations.BigramAssocMeasures()\n",
    "    tweet_finder = BigramCollocationFinder.from_words(mobile_list)\n",
    "    tweets_scored = tweet_finder.score_ngrams(bigram_measures.raw_freq)\n",
    "    mobile_tweets_scored_list.append(tweets_scored)"
   ]
  },
  {
   "cell_type": "code",
   "execution_count": 27,
   "metadata": {
    "ExecuteTime": {
     "end_time": "2020-06-30T20:48:45.010242Z",
     "start_time": "2020-06-30T20:48:43.898413Z"
    }
   },
   "outputs": [
    {
     "data": {
      "image/png": "[encoded data removed]",
      "text/plain": [
       "<Figure size 1656x1224 with 4 Axes>"
      ]
     },
     "metadata": {
      "needs_background": "light"
     },
     "output_type": "display_data"
    }
   ],
   "source": [
    "df_mobile_graph1 = pd.DataFrame(mobile_tweets_scored_list[0][:10], columns = ['Bigram','Raw_Frequency_Score'])\n",
    "df_mobile_graph2 = pd.DataFrame(mobile_tweets_scored_list[1][:10], columns = ['Bigram','Raw_Frequency_Score'])\n",
    "df_mobile_graph3 = pd.DataFrame(mobile_tweets_scored_list[2][:10], columns = ['Bigram','Raw_Frequency_Score'])\n",
    "df_mobile_graph4 = pd.DataFrame(mobile_tweets_scored_list[3][:10], columns = ['Bigram','Raw_Frequency_Score'])\n",
    "fig, axs = plt.subplots(2,2)\n",
    "fig.set_figheight(17)\n",
    "fig.set_figwidth(23)\n",
    "axs[0,0].title.set_text('Positive Apple Mobile Tweets Bigrams')\n",
    "axs[0,1].title.set_text('Negative Apple Mobile Tweets Bigrams')\n",
    "axs[1,0].title.set_text('Positive Android Mobile Tweets Bigrams')\n",
    "axs[1,1].title.set_text('No Emotion Android Mobile Tweets Bigrams')\n",
    "sns.barplot(data=df_mobile_graph1, y='Bigram',x='Raw_Frequency_Score', orient='h', ax = axs[0,0])\n",
    "sns.barplot(data=df_mobile_graph2, y='Bigram',x='Raw_Frequency_Score', orient='h', ax = axs[0,1])\n",
    "sns.barplot(data=df_mobile_graph3, y='Bigram',x='Raw_Frequency_Score', orient='h', ax = axs[1,0])\n",
    "sns.barplot(data=df_mobile_graph4, y='Bigram',x='Raw_Frequency_Score', orient='h', ax = axs[1,1])\n",
    "plt.show()"
   ]
  },
  {
   "cell_type": "markdown",
   "metadata": {},
   "source": [
    "Combined all Apple products and all Google products together"
   ]
  },
  {
   "cell_type": "code",
   "execution_count": 28,
   "metadata": {
    "ExecuteTime": {
     "end_time": "2020-06-30T20:48:45.026506Z",
     "start_time": "2020-06-30T20:48:45.012699Z"
    }
   },
   "outputs": [
    {
     "data": {
      "text/plain": [
       "apple_product      2409\n",
       "android_product     882\n",
       "Name: brand_product, dtype: int64"
      ]
     },
     "execution_count": 28,
     "metadata": {},
     "output_type": "execute_result"
    }
   ],
   "source": [
    "df_eda['brand_product']=df_eda['brand_product'].replace(to_replace = ['iPad','Apple',\n",
    "                                                                                    'iPad or iPhone App','iPhone',\n",
    "                                                                                    'Other Apple product or service'],value='apple_product')\n",
    "df_eda['brand_product'] = df_eda['brand_product'].replace(['Google',\n",
    "                                                                        'Other Google product or service',\n",
    "                                                                        'Android App', 'Android'],'android_product')\n",
    "df_eda['brand_product'].value_counts(\n",
    ")"
   ]
  },
  {
   "cell_type": "markdown",
   "metadata": {},
   "source": [
    "Created new data frames based on different brands and sentiments to plot bigrams of most common word pairs"
   ]
  },
  {
   "cell_type": "code",
   "execution_count": 29,
   "metadata": {
    "ExecuteTime": {
     "end_time": "2020-06-30T20:48:45.059679Z",
     "start_time": "2020-06-30T20:48:45.028612Z"
    }
   },
   "outputs": [],
   "source": [
    "df_pos = df_eda.loc[df_eda['sentiment'] == 'Positive emotion']\n",
    "df_neg = df_eda.loc[df_eda['sentiment'] == 'Negative emotion']\n",
    "df_none = df_eda.loc[df_eda['sentiment'] == 'No emotion toward brand or product']\n",
    "df_apple = df_eda.loc[df_eda['brand_product'] == 'apple_product']\n",
    "df_google = df_eda.loc[df_eda['brand_product'] == 'android_product']\n",
    "df_pos_apple = df_eda.loc[(df_eda['brand_product'] == 'apple_product') & (df_eda['sentiment'] == 'Positive emotion')]\n",
    "df_neg_apple = df_eda.loc[(df_eda['brand_product'] == 'apple_product') & (df_eda['sentiment'] == 'Negative emotion')]\n",
    "df_none_apple = df_eda.loc[(df_eda['brand_product'] == 'apple_product') & (df_eda['sentiment'] == 'No emotion toward brand or product')]\n",
    "df_pos_google = df_eda.loc[(df_eda['brand_product'] == 'android_product') & (df_eda['sentiment'] == 'Positive emotion')]\n",
    "df_neg_google = df_eda.loc[(df_eda['brand_product'] == 'android_product') & (df_eda['sentiment'] == 'Negative emotion')]\n",
    "df_none_google = df_eda.loc[(df_eda['brand_product'] == 'android_product') & (df_eda['sentiment'] == 'No emotion toward brand or product')]"
   ]
  },
  {
   "cell_type": "code",
   "execution_count": 30,
   "metadata": {
    "ExecuteTime": {
     "end_time": "2020-06-30T20:48:45.066269Z",
     "start_time": "2020-06-30T20:48:45.061650Z"
    }
   },
   "outputs": [],
   "source": [
    "tweet_list = df_eda['tweet_text']\n",
    "pos_tweet_list = df_pos['tweet_text']\n",
    "neg_tweet_list = df_neg['tweet_text']\n",
    "none_tweet_list = df_none['tweet_text']\n",
    "apple_tweet_list = df_apple['tweet_text']\n",
    "apple_pos_tweet_list = df_pos_apple['tweet_text']\n",
    "apple_neg_tweet_list = df_neg_apple['tweet_text']\n",
    "apple_none_tweet_list = df_none_apple['tweet_text']\n",
    "google_tweet_list = df_google['tweet_text']\n",
    "google_pos_tweet_list = df_pos_google['tweet_text']\n",
    "google_neg_tweet_list = df_neg_google['tweet_text']\n",
    "google_none_tweet_list = df_none_google['tweet_text']"
   ]
  },
  {
   "cell_type": "code",
   "execution_count": 31,
   "metadata": {
    "ExecuteTime": {
     "end_time": "2020-06-30T20:48:45.084418Z",
     "start_time": "2020-06-30T20:48:45.068227Z"
    }
   },
   "outputs": [],
   "source": [
    "tweet_concat = []\n",
    "pos_tweet_concat = []\n",
    "neg_tweet_concat = []\n",
    "none_tweet_concat = []\n",
    "apple_tweet_concat = []\n",
    "apple_pos_tweet_concat = []\n",
    "apple_neg_tweet_concat = []\n",
    "apple_none_tweet_concat = []\n",
    "google_tweet_concat = []\n",
    "google_pos_tweet_concat = []\n",
    "google_neg_tweet_concat = []\n",
    "google_none_tweet_concat = []\n",
    "\n",
    "for tweet in tweet_list:\n",
    "    tweet_concat += tweet\n",
    "for tweet in pos_tweet_list:\n",
    "    pos_tweet_concat += tweet\n",
    "for tweet in neg_tweet_list:\n",
    "    neg_tweet_concat += tweet  \n",
    "for tweet in none_tweet_list:\n",
    "    none_tweet_concat += tweet\n",
    "\n",
    "for tweet in apple_tweet_list:\n",
    "    apple_tweet_concat += tweet\n",
    "for tweet in apple_pos_tweet_list:\n",
    "    apple_pos_tweet_concat += tweet\n",
    "for tweet in apple_neg_tweet_list:\n",
    "    apple_neg_tweet_concat += tweet  \n",
    "for tweet in apple_none_tweet_list:\n",
    "    apple_none_tweet_concat += tweet\n",
    "\n",
    "for tweet in google_tweet_list:\n",
    "    google_tweet_concat += tweet\n",
    "for tweet in google_pos_tweet_list:\n",
    "    google_pos_tweet_concat += tweet\n",
    "for tweet in google_neg_tweet_list:\n",
    "    google_neg_tweet_concat += tweet  \n",
    "for tweet in google_none_tweet_list:\n",
    "    google_none_tweet_concat += tweet"
   ]
  },
  {
   "cell_type": "code",
   "execution_count": 32,
   "metadata": {
    "ExecuteTime": {
     "end_time": "2020-06-30T20:48:45.089638Z",
     "start_time": "2020-06-30T20:48:45.086067Z"
    }
   },
   "outputs": [],
   "source": [
    "concat_list=[tweet_concat,\n",
    "pos_tweet_concat,\n",
    "neg_tweet_concat,\n",
    "none_tweet_concat,\n",
    "apple_tweet_concat,\n",
    "apple_pos_tweet_concat,\n",
    "apple_neg_tweet_concat,\n",
    "apple_none_tweet_concat,\n",
    "google_tweet_concat,\n",
    "google_pos_tweet_concat,\n",
    "google_neg_tweet_concat,\n",
    "google_none_tweet_concat]"
   ]
  },
  {
   "cell_type": "markdown",
   "metadata": {},
   "source": [
    "Used a for loop to collect Raw Frequency Scores for each subset of the data"
   ]
  },
  {
   "cell_type": "code",
   "execution_count": 33,
   "metadata": {
    "ExecuteTime": {
     "end_time": "2020-06-30T20:48:46.402440Z",
     "start_time": "2020-06-30T20:48:45.092277Z"
    }
   },
   "outputs": [],
   "source": [
    "tweets_scored_list = []\n",
    "for list in concat_list:\n",
    "    bigram_measures = nltk.collocations.BigramAssocMeasures()\n",
    "    tweet_finder = BigramCollocationFinder.from_words(list)\n",
    "    tweets_scored = tweet_finder.score_ngrams(bigram_measures.raw_freq)\n",
    "    tweets_scored_list.append(tweets_scored)"
   ]
  },
  {
   "cell_type": "markdown",
   "metadata": {},
   "source": [
    "Plotted the All Tweets Bigrams"
   ]
  },
  {
   "cell_type": "code",
   "execution_count": 34,
   "metadata": {
    "ExecuteTime": {
     "end_time": "2020-06-30T20:48:47.463990Z",
     "start_time": "2020-06-30T20:48:46.404613Z"
    }
   },
   "outputs": [
    {
     "data": {
      "image/png": "[encoded data removed]",
      "text/plain": [
       "<Figure size 1656x1224 with 4 Axes>"
      ]
     },
     "metadata": {
      "needs_background": "light"
     },
     "output_type": "display_data"
    }
   ],
   "source": [
    "df_graph1 = pd.DataFrame(tweets_scored_list[0][:10], columns = ['Bigram','Raw_Frequency_Score'])\n",
    "df_graph2 = pd.DataFrame(tweets_scored_list[1][:10], columns = ['Bigram','Raw_Frequency_Score'])\n",
    "df_graph3 = pd.DataFrame(tweets_scored_list[2][:10], columns = ['Bigram','Raw_Frequency_Score'])\n",
    "df_graph4 = pd.DataFrame(tweets_scored_list[3][:10], columns = ['Bigram','Raw_Frequency_Score'])\n",
    "fig, axs = plt.subplots(2,2)\n",
    "fig.set_figheight(17)\n",
    "fig.set_figwidth(23)\n",
    "axs[0,0].title.set_text('All Tweets Bigrams')\n",
    "axs[0,1].title.set_text('All Positive Tweets Bigrams')\n",
    "axs[1,0].title.set_text('All Negative Tweets Bigrams')\n",
    "axs[1,1].title.set_text('All No Emotion Tweets Bigrams')\n",
    "sns.barplot(data=df_graph1, y='Bigram',x='Raw_Frequency_Score', orient='h', ax = axs[0,0])\n",
    "sns.barplot(data=df_graph2, y='Bigram',x='Raw_Frequency_Score', orient='h', ax = axs[0,1])\n",
    "sns.barplot(data=df_graph3, y='Bigram',x='Raw_Frequency_Score', orient='h', ax = axs[1,0])\n",
    "sns.barplot(data=df_graph4, y='Bigram',x='Raw_Frequency_Score', orient='h', ax = axs[1,1])\n",
    "plt.show()"
   ]
  },
  {
   "cell_type": "markdown",
   "metadata": {},
   "source": [
    "Plotted the Apple Tweets Bigrams"
   ]
  },
  {
   "cell_type": "code",
   "execution_count": 35,
   "metadata": {
    "ExecuteTime": {
     "end_time": "2020-06-30T20:48:48.517290Z",
     "start_time": "2020-06-30T20:48:47.466210Z"
    }
   },
   "outputs": [
    {
     "data": {
      "image/png": "[encoded data removed]",
      "text/plain": [
       "<Figure size 1656x1224 with 4 Axes>"
      ]
     },
     "metadata": {
      "needs_background": "light"
     },
     "output_type": "display_data"
    }
   ],
   "source": [
    "df_graph5 = pd.DataFrame(tweets_scored_list[4][:10], columns = ['Bigram','Raw_Frequency_Score'])\n",
    "df_graph6 = pd.DataFrame(tweets_scored_list[5][:10], columns = ['Bigram','Raw_Frequency_Score'])\n",
    "df_graph7 = pd.DataFrame(tweets_scored_list[6][:10], columns = ['Bigram','Raw_Frequency_Score'])\n",
    "df_graph8 = pd.DataFrame(tweets_scored_list[7][:10], columns = ['Bigram','Raw_Frequency_Score'])\n",
    "fig, axs = plt.subplots(2,2)\n",
    "fig.set_figheight(17)\n",
    "fig.set_figwidth(23)\n",
    "axs[0,0].title.set_text('All Apple Tweets Bigrams')\n",
    "axs[0,1].title.set_text('All Positive Apple Tweets Bigrams')\n",
    "axs[1,0].title.set_text('All Negative Apple Tweets Bigrams')\n",
    "axs[1,1].title.set_text('All No Emotion Apple Tweets Bigrams')\n",
    "sns.barplot(data=df_graph5, y='Bigram',x='Raw_Frequency_Score', orient='h', ax = axs[0,0])\n",
    "sns.barplot(data=df_graph6, y='Bigram',x='Raw_Frequency_Score', orient='h', ax = axs[0,1])\n",
    "sns.barplot(data=df_graph7, y='Bigram',x='Raw_Frequency_Score', orient='h', ax = axs[1,0])\n",
    "sns.barplot(data=df_graph8, y='Bigram',x='Raw_Frequency_Score', orient='h', ax = axs[1,1])\n",
    "plt.show()"
   ]
  },
  {
   "cell_type": "markdown",
   "metadata": {},
   "source": [
    "Plotted the Google Tweets Bigrams"
   ]
  },
  {
   "cell_type": "code",
   "execution_count": 36,
   "metadata": {
    "ExecuteTime": {
     "end_time": "2020-06-30T20:48:49.760996Z",
     "start_time": "2020-06-30T20:48:48.519242Z"
    },
    "scrolled": true
   },
   "outputs": [
    {
     "data": {
      "image/png": "[encoded data removed]",
      "text/plain": [
       "<Figure size 1656x1224 with 4 Axes>"
      ]
     },
     "metadata": {
      "needs_background": "light"
     },
     "output_type": "display_data"
    }
   ],
   "source": [
    "df_graph9 = pd.DataFrame(tweets_scored_list[8][:10], columns = ['Bigram','Raw_Frequency_Score'])\n",
    "df_graph10 = pd.DataFrame(tweets_scored_list[9][:10], columns = ['Bigram','Raw_Frequency_Score'])\n",
    "df_graph11 = pd.DataFrame(tweets_scored_list[10][:10], columns = ['Bigram','Raw_Frequency_Score'])\n",
    "df_graph12 = pd.DataFrame(tweets_scored_list[11][:10], columns = ['Bigram','Raw_Frequency_Score'])\n",
    "fig, axs = plt.subplots(2,2)\n",
    "fig.set_figheight(17)\n",
    "fig.set_figwidth(23)\n",
    "axs[0,0].title.set_text('All Google Tweets Bigrams')\n",
    "axs[0,1].title.set_text('All Positive Google Tweets Bigrams')\n",
    "axs[1,0].title.set_text('All Negative Google Tweets Bigrams')\n",
    "axs[1,1].title.set_text('All No Emotion Google Tweets Bigrams')\n",
    "sns.barplot(data=df_graph9, y='Bigram',x='Raw_Frequency_Score', orient='h', ax = axs[0,0])\n",
    "sns.barplot(data=df_graph10, y='Bigram',x='Raw_Frequency_Score', orient='h', ax = axs[0,1])\n",
    "sns.barplot(data=df_graph11, y='Bigram',x='Raw_Frequency_Score', orient='h', ax = axs[1,0])\n",
    "sns.barplot(data=df_graph12, y='Bigram',x='Raw_Frequency_Score', orient='h', ax = axs[1,1])\n",
    "plt.show()"
   ]
  },
  {
   "cell_type": "markdown",
   "metadata": {},
   "source": [
    "## Bigrams by Mutual Information Score"
   ]
  },
  {
   "cell_type": "code",
   "execution_count": 37,
   "metadata": {
    "ExecuteTime": {
     "end_time": "2020-06-30T20:48:43.896081Z",
     "start_time": "2020-06-30T20:48:43.615744Z"
    }
   },
   "outputs": [],
   "source": [
    "mobile_tweets_scored_list = []\n",
    "for mobile_list in mobile_concat_list:\n",
    "    bigram_measures = nltk.collocations.BigramAssocMeasures()\n",
    "    tweet_finder = BigramCollocationFinder.from_words(mobile_list)\n",
    "    tweet_finder.apply_freq_filter(5)\n",
    "    tweets_scored = tweet_finder.score_ngrams(bigram_measures.pmi)\n",
    "    mobile_tweets_scored_list.append(tweets_scored)"
   ]
  },
  {
   "cell_type": "code",
   "execution_count": 38,
   "metadata": {
    "ExecuteTime": {
     "end_time": "2020-06-30T20:48:45.010242Z",
     "start_time": "2020-06-30T20:48:43.898413Z"
    }
   },
   "outputs": [
    {
     "data": {
      "image/png": "[encoded data removed]",
      "text/plain": [
       "<Figure size 1656x1224 with 4 Axes>"
      ]
     },
     "metadata": {
      "needs_background": "light"
     },
     "output_type": "display_data"
    }
   ],
   "source": [
    "df_mobile_graph1 = pd.DataFrame(mobile_tweets_scored_list[0][:10], columns = ['Bigram','Mutual Information Score'])\n",
    "df_mobile_graph2 = pd.DataFrame(mobile_tweets_scored_list[1][:10], columns = ['Bigram','Mutual Information Score'])\n",
    "df_mobile_graph3 = pd.DataFrame(mobile_tweets_scored_list[2][:10], columns = ['Bigram','Mutual Information Score'])\n",
    "df_mobile_graph4 = pd.DataFrame(mobile_tweets_scored_list[3][:10], columns = ['Bigram','Mutual Information Score'])\n",
    "fig, axs = plt.subplots(2,2)\n",
    "fig.set_figheight(17)\n",
    "fig.set_figwidth(23)\n",
    "axs[0,0].title.set_text('Positive Apple Mobile Tweets Bigrams')\n",
    "axs[0,1].title.set_text('Negative Apple Mobile Tweets Bigrams')\n",
    "axs[1,0].title.set_text('Positive Android Mobile Tweets Bigrams')\n",
    "axs[1,1].title.set_text('No Emotion Android Mobile Tweets Bigrams')\n",
    "sns.barplot(data=df_mobile_graph1, y='Bigram',x='Mutual Information Score', orient='h', ax = axs[0,0])\n",
    "sns.barplot(data=df_mobile_graph2, y='Bigram',x='Mutual Information Score', orient='h', ax = axs[0,1])\n",
    "sns.barplot(data=df_mobile_graph3, y='Bigram',x='Mutual Information Score', orient='h', ax = axs[1,0])\n",
    "sns.barplot(data=df_mobile_graph4, y='Bigram',x='Mutual Information Score', orient='h', ax = axs[1,1])\n",
    "plt.show()"
   ]
  },
  {
   "cell_type": "markdown",
   "metadata": {},
   "source": [
    "Combined all Apple products and all Google products together"
   ]
  },
  {
   "cell_type": "code",
   "execution_count": 39,
   "metadata": {
    "ExecuteTime": {
     "end_time": "2020-06-30T20:48:45.026506Z",
     "start_time": "2020-06-30T20:48:45.012699Z"
    }
   },
   "outputs": [
    {
     "data": {
      "text/plain": [
       "apple_product      2409\n",
       "android_product     882\n",
       "Name: brand_product, dtype: int64"
      ]
     },
     "execution_count": 39,
     "metadata": {},
     "output_type": "execute_result"
    }
   ],
   "source": [
    "df_eda['brand_product']=df_eda['brand_product'].replace(to_replace = ['iPad','Apple',\n",
    "                                                                                    'iPad or iPhone App','iPhone',\n",
    "                                                                                    'Other Apple product or service'],value='apple_product')\n",
    "df_eda['brand_product'] = df_eda['brand_product'].replace(['Google',\n",
    "                                                                        'Other Google product or service',\n",
    "                                                                        'Android App', 'Android'],'android_product')\n",
    "df_eda['brand_product'].value_counts(\n",
    ")"
   ]
  },
  {
   "cell_type": "markdown",
   "metadata": {},
   "source": [
    "Created new data frames based on different brands and sentiments to plot bigrams of most common word pairs"
   ]
  },
  {
   "cell_type": "code",
   "execution_count": 40,
   "metadata": {
    "ExecuteTime": {
     "end_time": "2020-06-30T20:48:45.059679Z",
     "start_time": "2020-06-30T20:48:45.028612Z"
    }
   },
   "outputs": [],
   "source": [
    "df_pos = df_eda.loc[df_eda['sentiment'] == 'Positive emotion']\n",
    "df_neg = df_eda.loc[df_eda['sentiment'] == 'Negative emotion']\n",
    "df_none = df_eda.loc[df_eda['sentiment'] == 'No emotion toward brand or product']\n",
    "df_apple = df_eda.loc[df_eda['brand_product'] == 'apple_product']\n",
    "df_google = df_eda.loc[df_eda['brand_product'] == 'android_product']\n",
    "df_pos_apple = df_eda.loc[(df_eda['brand_product'] == 'apple_product') & (df_eda['sentiment'] == 'Positive emotion')]\n",
    "df_neg_apple = df_eda.loc[(df_eda['brand_product'] == 'apple_product') & (df_eda['sentiment'] == 'Negative emotion')]\n",
    "df_none_apple = df_eda.loc[(df_eda['brand_product'] == 'apple_product') & (df_eda['sentiment'] == 'No emotion toward brand or product')]\n",
    "df_pos_google = df_eda.loc[(df_eda['brand_product'] == 'android_product') & (df_eda['sentiment'] == 'Positive emotion')]\n",
    "df_neg_google = df_eda.loc[(df_eda['brand_product'] == 'android_product') & (df_eda['sentiment'] == 'Negative emotion')]\n",
    "df_none_google = df_eda.loc[(df_eda['brand_product'] == 'android_product') & (df_eda['sentiment'] == 'No emotion toward brand or product')]"
   ]
  },
  {
   "cell_type": "code",
   "execution_count": 41,
   "metadata": {
    "ExecuteTime": {
     "end_time": "2020-06-30T20:48:45.066269Z",
     "start_time": "2020-06-30T20:48:45.061650Z"
    }
   },
   "outputs": [],
   "source": [
    "tweet_list = df_eda['tweet_text']\n",
    "pos_tweet_list = df_pos['tweet_text']\n",
    "neg_tweet_list = df_neg['tweet_text']\n",
    "none_tweet_list = df_none['tweet_text']\n",
    "apple_tweet_list = df_apple['tweet_text']\n",
    "apple_pos_tweet_list = df_pos_apple['tweet_text']\n",
    "apple_neg_tweet_list = df_neg_apple['tweet_text']\n",
    "apple_none_tweet_list = df_none_apple['tweet_text']\n",
    "google_tweet_list = df_google['tweet_text']\n",
    "google_pos_tweet_list = df_pos_google['tweet_text']\n",
    "google_neg_tweet_list = df_neg_google['tweet_text']\n",
    "google_none_tweet_list = df_none_google['tweet_text']"
   ]
  },
  {
   "cell_type": "code",
   "execution_count": 42,
   "metadata": {
    "ExecuteTime": {
     "end_time": "2020-06-30T20:48:45.084418Z",
     "start_time": "2020-06-30T20:48:45.068227Z"
    }
   },
   "outputs": [],
   "source": [
    "tweet_concat = []\n",
    "pos_tweet_concat = []\n",
    "neg_tweet_concat = []\n",
    "none_tweet_concat = []\n",
    "apple_tweet_concat = []\n",
    "apple_pos_tweet_concat = []\n",
    "apple_neg_tweet_concat = []\n",
    "apple_none_tweet_concat = []\n",
    "google_tweet_concat = []\n",
    "google_pos_tweet_concat = []\n",
    "google_neg_tweet_concat = []\n",
    "google_none_tweet_concat = []\n",
    "\n",
    "for tweet in tweet_list:\n",
    "    tweet_concat += tweet\n",
    "for tweet in pos_tweet_list:\n",
    "    pos_tweet_concat += tweet\n",
    "for tweet in neg_tweet_list:\n",
    "    neg_tweet_concat += tweet  \n",
    "for tweet in none_tweet_list:\n",
    "    none_tweet_concat += tweet\n",
    "\n",
    "for tweet in apple_tweet_list:\n",
    "    apple_tweet_concat += tweet\n",
    "for tweet in apple_pos_tweet_list:\n",
    "    apple_pos_tweet_concat += tweet\n",
    "for tweet in apple_neg_tweet_list:\n",
    "    apple_neg_tweet_concat += tweet  \n",
    "for tweet in apple_none_tweet_list:\n",
    "    apple_none_tweet_concat += tweet\n",
    "\n",
    "for tweet in google_tweet_list:\n",
    "    google_tweet_concat += tweet\n",
    "for tweet in google_pos_tweet_list:\n",
    "    google_pos_tweet_concat += tweet\n",
    "for tweet in google_neg_tweet_list:\n",
    "    google_neg_tweet_concat += tweet  \n",
    "for tweet in google_none_tweet_list:\n",
    "    google_none_tweet_concat += tweet"
   ]
  },
  {
   "cell_type": "code",
   "execution_count": 43,
   "metadata": {
    "ExecuteTime": {
     "end_time": "2020-06-30T20:48:45.089638Z",
     "start_time": "2020-06-30T20:48:45.086067Z"
    }
   },
   "outputs": [],
   "source": [
    "concat_list=[tweet_concat,\n",
    "pos_tweet_concat,\n",
    "neg_tweet_concat,\n",
    "none_tweet_concat,\n",
    "apple_tweet_concat,\n",
    "apple_pos_tweet_concat,\n",
    "apple_neg_tweet_concat,\n",
    "apple_none_tweet_concat,\n",
    "google_tweet_concat,\n",
    "google_pos_tweet_concat,\n",
    "google_neg_tweet_concat,\n",
    "google_none_tweet_concat]"
   ]
  },
  {
   "cell_type": "markdown",
   "metadata": {},
   "source": [
    "Used a for loop to collect Raw Frequency Scores for each subset of the data"
   ]
  },
  {
   "cell_type": "code",
   "execution_count": 44,
   "metadata": {
    "ExecuteTime": {
     "end_time": "2020-06-30T20:48:46.402440Z",
     "start_time": "2020-06-30T20:48:45.092277Z"
    }
   },
   "outputs": [],
   "source": [
    "tweets_scored_list = []\n",
    "for list in concat_list:\n",
    "    bigram_measures = nltk.collocations.BigramAssocMeasures()\n",
    "    tweet_finder = BigramCollocationFinder.from_words(list)\n",
    "    tweets_scored = tweet_finder.score_ngrams(bigram_measures.raw_freq)\n",
    "    tweets_scored_list.append(tweets_scored)"
   ]
  },
  {
   "cell_type": "markdown",
   "metadata": {},
   "source": [
    "Plotted the All Tweets Bigrams"
   ]
  },
  {
   "cell_type": "code",
   "execution_count": 45,
   "metadata": {
    "ExecuteTime": {
     "end_time": "2020-06-30T20:48:47.463990Z",
     "start_time": "2020-06-30T20:48:46.404613Z"
    }
   },
   "outputs": [
    {
     "data": {
      "image/png": "[encoded data removed]",
      "text/plain": [
       "<Figure size 1656x1224 with 4 Axes>"
      ]
     },
     "metadata": {
      "needs_background": "light"
     },
     "output_type": "display_data"
    }
   ],
   "source": [
    "df_graph1 = pd.DataFrame(tweets_scored_list[0][:10], columns = ['Bigram','Mutual Information Score'])\n",
    "df_graph2 = pd.DataFrame(tweets_scored_list[1][:10], columns = ['Bigram','Mutual Information Score'])\n",
    "df_graph3 = pd.DataFrame(tweets_scored_list[2][:10], columns = ['Bigram','Mutual Information Score'])\n",
    "df_graph4 = pd.DataFrame(tweets_scored_list[3][:10], columns = ['Bigram','Mutual Information Score'])\n",
    "fig, axs = plt.subplots(2,2)\n",
    "fig.set_figheight(17)\n",
    "fig.set_figwidth(23)\n",
    "axs[0,0].title.set_text('All Tweets Bigrams')\n",
    "axs[0,1].title.set_text('All Positive Tweets Bigrams')\n",
    "axs[1,0].title.set_text('All Negative Tweets Bigrams')\n",
    "axs[1,1].title.set_text('All No Emotion Tweets Bigrams')\n",
    "sns.barplot(data=df_graph1, y='Bigram',x='Mutual Information Score', orient='h', ax = axs[0,0])\n",
    "sns.barplot(data=df_graph2, y='Bigram',x='Mutual Information Score', orient='h', ax = axs[0,1])\n",
    "sns.barplot(data=df_graph3, y='Bigram',x='Mutual Information Score', orient='h', ax = axs[1,0])\n",
    "sns.barplot(data=df_graph4, y='Bigram',x='Mutual Information Score', orient='h', ax = axs[1,1])\n",
    "plt.show()"
   ]
  },
  {
   "cell_type": "markdown",
   "metadata": {},
   "source": [
    "Plotted the Apple Tweets Bigrams"
   ]
  },
  {
   "cell_type": "code",
   "execution_count": 48,
   "metadata": {
    "ExecuteTime": {
     "end_time": "2020-06-30T20:48:48.517290Z",
     "start_time": "2020-06-30T20:48:47.466210Z"
    }
   },
   "outputs": [
    {
     "data": {
      "image/png": "[encoded data removed]",
      "text/plain": [
       "<Figure size 1656x1224 with 4 Axes>"
      ]
     },
     "metadata": {
      "needs_background": "light"
     },
     "output_type": "display_data"
    }
   ],
   "source": [
    "df_graph5 = pd.DataFrame(tweets_scored_list[4][:10], columns = ['Bigram','Mutual Information Score'])\n",
    "df_graph6 = pd.DataFrame(tweets_scored_list[5][:10], columns = ['Bigram','Mutual Information Score'])\n",
    "df_graph7 = pd.DataFrame(tweets_scored_list[6][:10], columns = ['Bigram','Mutual Information Score'])\n",
    "df_graph8 = pd.DataFrame(tweets_scored_list[7][:10], columns = ['Bigram','Mutual Information Score'])\n",
    "fig, axs = plt.subplots(2,2)\n",
    "fig.set_figheight(17)\n",
    "fig.set_figwidth(23)\n",
    "axs[0,0].title.set_text('All Apple Tweets Bigrams')\n",
    "axs[0,1].title.set_text('All Positive Apple Tweets Bigrams')\n",
    "axs[1,0].title.set_text('All Negative Apple Tweets Bigrams')\n",
    "axs[1,1].title.set_text('All No Emotion Apple Tweets Bigrams')\n",
    "sns.barplot(data=df_graph5, y='Bigram',x='Mutual Information Score', orient='h', ax = axs[0,0])\n",
    "sns.barplot(data=df_graph6, y='Bigram',x='Mutual Information Score', orient='h', ax = axs[0,1])\n",
    "sns.barplot(data=df_graph7, y='Bigram',x='Mutual Information Score', orient='h', ax = axs[1,0])\n",
    "sns.barplot(data=df_graph8, y='Bigram',x='Mutual Information Score', orient='h', ax = axs[1,1])\n",
    "plt.savefig('figures/apple_bigrams_pmi.png')\n",
    "plt.show()"
   ]
  },
  {
   "cell_type": "markdown",
   "metadata": {},
   "source": [
    "Plotted the Google Tweets Bigrams"
   ]
  },
  {
   "cell_type": "code",
   "execution_count": 49,
   "metadata": {
    "ExecuteTime": {
     "end_time": "2020-06-30T20:48:49.760996Z",
     "start_time": "2020-06-30T20:48:48.519242Z"
    },
    "scrolled": false
   },
   "outputs": [
    {
     "data": {
      "image/png": "[encoded data removed]",
      "text/plain": [
       "<Figure size 1656x1224 with 4 Axes>"
      ]
     },
     "metadata": {
      "needs_background": "light"
     },
     "output_type": "display_data"
    }
   ],
   "source": [
    "df_graph9 = pd.DataFrame(tweets_scored_list[8][:10], columns = ['Bigram','Mutual Information Score'])\n",
    "df_graph10 = pd.DataFrame(tweets_scored_list[9][:10], columns = ['Bigram','Mutual Information Score'])\n",
    "df_graph11 = pd.DataFrame(tweets_scored_list[10][:10], columns = ['Bigram','Mutual Information Score'])\n",
    "df_graph12 = pd.DataFrame(tweets_scored_list[11][:10], columns = ['Bigram','Mutual Information Score'])\n",
    "fig, axs = plt.subplots(2,2)\n",
    "fig.set_figheight(17)\n",
    "fig.set_figwidth(23)\n",
    "axs[0,0].title.set_text('All Google Tweets Bigrams')\n",
    "axs[0,1].title.set_text('All Positive Google Tweets Bigrams')\n",
    "axs[1,0].title.set_text('All Negative Google Tweets Bigrams')\n",
    "axs[1,1].title.set_text('All No Emotion Google Tweets Bigrams')\n",
    "sns.barplot(data=df_graph9, y='Bigram',x='Mutual Information Score', orient='h', ax = axs[0,0])\n",
    "sns.barplot(data=df_graph10, y='Bigram',x='Mutual Information Score', orient='h', ax = axs[0,1])\n",
    "sns.barplot(data=df_graph11, y='Bigram',x='Mutual Information Score', orient='h', ax = axs[1,0])\n",
    "sns.barplot(data=df_graph12, y='Bigram',x='Mutual Information Score', orient='h', ax = axs[1,1])\n",
    "plt.savefig('figures/google_bigrams_pmi.png')\n",
    "plt.show()"
   ]
  },
  {
   "cell_type": "markdown",
   "metadata": {},
   "source": [
    "### Preprocessing Tweets\n",
    "Clean, lemmatize, and format data for vectorization and modeling"
   ]
  },
  {
   "cell_type": "code",
   "execution_count": null,
   "metadata": {
    "ExecuteTime": {
     "end_time": "2020-06-30T20:48:49.776334Z",
     "start_time": "2020-06-30T20:48:49.763744Z"
    }
   },
   "outputs": [],
   "source": [
    "df['tweet_text'] = df_eda['tweet_text'].map(lambda x: ' '.join(x))"
   ]
  },
  {
   "cell_type": "markdown",
   "metadata": {},
   "source": [
    "### binary classification model\n",
    "Split the DataFrame to take only binary options "
   ]
  },
  {
   "cell_type": "code",
   "execution_count": null,
   "metadata": {
    "ExecuteTime": {
     "end_time": "2020-06-30T20:48:49.791276Z",
     "start_time": "2020-06-30T20:48:49.779088Z"
    }
   },
   "outputs": [],
   "source": [
    "binary = df[(df['sentiment'] == 'Negative emotion')|\n",
    "            (df['sentiment'] == 'Positive emotion')]"
   ]
  },
  {
   "cell_type": "markdown",
   "metadata": {},
   "source": [
    "vectorize the data"
   ]
  },
  {
   "cell_type": "code",
   "execution_count": null,
   "metadata": {
    "ExecuteTime": {
     "end_time": "2020-06-30T20:48:49.868197Z",
     "start_time": "2020-06-30T20:48:49.794396Z"
    }
   },
   "outputs": [],
   "source": [
    "vectorizer = CountVectorizer()\n",
    "X = vectorizer.fit_transform(binary['tweet_text'])\n",
    "Y = binary['sentiment']\n",
    "X_train, X_test, y_train, y_test = train_test_split(\n",
    "    X, Y, test_size=0.2)"
   ]
  },
  {
   "cell_type": "markdown",
   "metadata": {},
   "source": [
    "Created empty DataFrame to track results of the model"
   ]
  },
  {
   "cell_type": "code",
   "execution_count": null,
   "metadata": {
    "ExecuteTime": {
     "end_time": "2020-06-30T20:48:49.877867Z",
     "start_time": "2020-06-30T20:48:49.870475Z"
    }
   },
   "outputs": [],
   "source": [
    "model_results = pd.DataFrame()\n",
    "model_results.head()"
   ]
  },
  {
   "cell_type": "markdown",
   "metadata": {},
   "source": [
    "### Logistic Regression"
   ]
  },
  {
   "cell_type": "markdown",
   "metadata": {},
   "source": [
    "Ran vanilla Logistic Regression and Random Forest Classifier models with CountVectorizer and added results to DataFrame"
   ]
  },
  {
   "cell_type": "code",
   "execution_count": null,
   "metadata": {
    "ExecuteTime": {
     "end_time": "2020-06-30T20:49:45.536560Z",
     "start_time": "2020-06-30T20:49:44.943233Z"
    },
    "scrolled": false
   },
   "outputs": [],
   "source": [
    "logreg = LogisticRegression(solver= 'lbfgs', \n",
    "                            multi_class = 'auto', \n",
    "                            max_iter = 400, \n",
    "                            class_weight = 'balanced')\n",
    "report(logreg)"
   ]
  },
  {
   "cell_type": "code",
   "execution_count": null,
   "metadata": {
    "ExecuteTime": {
     "end_time": "2020-06-30T20:49:50.356919Z",
     "start_time": "2020-06-30T20:49:50.353835Z"
    }
   },
   "outputs": [],
   "source": [
    "column_names = ['model_#', 'model_type', 'train_accuracy', 'test_accuracy', 'train_test_diff' ,'negative_recall', \n",
    "                'positive_recall', 'negative_f_1', 'positive_f-1', 'notes']"
   ]
  },
  {
   "cell_type": "code",
   "execution_count": null,
   "metadata": {
    "ExecuteTime": {
     "end_time": "2020-06-30T20:49:52.038607Z",
     "start_time": "2020-06-30T20:49:52.030221Z"
    }
   },
   "outputs": [],
   "source": [
    "column_names = ['model_#', 'model_type', 'train_accuracy', 'test_accuracy', 'train_test_diff' ,'negative_recall', \n",
    "                'positive_recall', 'negative_f_1', 'positive_f-1', 'notes']\n",
    "results = [1, 'Vanilla Logistic Regression', 0.0,0.0,0.0,50.0,92.0,53.0,91.0, 'Vanilla model very basic, needs tuning']\n",
    "results_dict = dict(zip(column_names,results))\n",
    "model_results1=pd.DataFrame(results_dict, index = range(1))\n",
    "model_results=model_results.append(model_results1)"
   ]
  },
  {
   "cell_type": "code",
   "execution_count": null,
   "metadata": {
    "ExecuteTime": {
     "end_time": "2020-06-30T20:50:00.568107Z",
     "start_time": "2020-06-30T20:50:00.553542Z"
    }
   },
   "outputs": [],
   "source": [
    "model_results"
   ]
  },
  {
   "cell_type": "code",
   "execution_count": null,
   "metadata": {
    "ExecuteTime": {
     "end_time": "2020-06-30T20:50:01.292770Z",
     "start_time": "2020-06-30T20:50:00.571311Z"
    }
   },
   "outputs": [],
   "source": [
    "rand_tree = RandomForestClassifier()\n",
    "report(rand_tree)"
   ]
  },
  {
   "cell_type": "code",
   "execution_count": null,
   "metadata": {
    "ExecuteTime": {
     "end_time": "2020-06-30T20:50:12.007648Z",
     "start_time": "2020-06-30T20:50:11.988615Z"
    }
   },
   "outputs": [],
   "source": [
    "column_names = ['model_#', 'model_type', 'train_accuracy', 'test_accuracy', 'train_test_diff' ,'negative_recall', \n",
    "                'positive_recall', 'negative_f_1', 'positive_f-1', 'notes']\n",
    "results = [2, 'Vanilla Random Forest Classifier', 0.0,0.0,0.0,38.0,97.0,51.0,93.0, 'Vanilla model very basic, needs tuning']\n",
    "results_dict = dict(zip(column_names,results))\n",
    "model_results2=pd.DataFrame(results_dict, index = range(1))\n",
    "model_results=model_results.append(model_results2)\n",
    "model_results"
   ]
  },
  {
   "cell_type": "markdown",
   "metadata": {},
   "source": [
    "# SMOTE"
   ]
  },
  {
   "cell_type": "markdown",
   "metadata": {},
   "source": [
    "Created SMOTE train/test data split to explore answers to class imbalance"
   ]
  },
  {
   "cell_type": "code",
   "execution_count": null,
   "metadata": {
    "ExecuteTime": {
     "end_time": "2020-06-30T20:50:18.476977Z",
     "start_time": "2020-06-30T20:50:16.646696Z"
    }
   },
   "outputs": [],
   "source": [
    "smote = SMOTE()\n",
    "X_res, y_res = smote.fit_resample(X,Y)"
   ]
  },
  {
   "cell_type": "code",
   "execution_count": null,
   "metadata": {
    "ExecuteTime": {
     "end_time": "2020-06-30T20:50:18.484167Z",
     "start_time": "2020-06-30T20:50:18.479355Z"
    }
   },
   "outputs": [],
   "source": [
    "X_train_SMOTE, X_test_SMOTE, y_train_SMOTE, y_test_SMOTE = train_test_split(X_res, y_res, test_size = 0.25, \n",
    "                                                                            random_state=42)"
   ]
  },
  {
   "cell_type": "markdown",
   "metadata": {},
   "source": [
    "# Binary Support Vector Machine Modeling"
   ]
  },
  {
   "cell_type": "markdown",
   "metadata": {},
   "source": [
    "Created binary modeling data set and assigned Sentiment Values either 0 (Negative) or 1 (Positive)"
   ]
  },
  {
   "cell_type": "code",
   "execution_count": null,
   "metadata": {
    "ExecuteTime": {
     "end_time": "2020-06-30T20:50:18.498791Z",
     "start_time": "2020-06-30T20:50:18.487055Z"
    }
   },
   "outputs": [],
   "source": [
    "df_modeling = df_eda.loc[(df_eda['sentiment'] == 'Positive emotion') | \n",
    "                         (df_eda['sentiment'] == 'Negative emotion')]\n",
    "df_modeling['sentiment'] = df_modeling['sentiment'].replace({'Positive emotion':1,'Negative emotion':0})"
   ]
  },
  {
   "cell_type": "code",
   "execution_count": null,
   "metadata": {
    "ExecuteTime": {
     "end_time": "2020-06-30T20:50:18.512146Z",
     "start_time": "2020-06-30T20:50:18.502050Z"
    }
   },
   "outputs": [],
   "source": [
    "df_modeling['tweet_text'] = df_modeling['tweet_text']\n",
    "df_modeling.head()"
   ]
  },
  {
   "cell_type": "markdown",
   "metadata": {},
   "source": [
    "Vectorized tweet_text data and split data set into train and test sets"
   ]
  },
  {
   "cell_type": "code",
   "execution_count": null,
   "metadata": {
    "ExecuteTime": {
     "end_time": "2020-06-30T20:50:18.518487Z",
     "start_time": "2020-06-30T20:50:18.515309Z"
    }
   },
   "outputs": [],
   "source": [
    "tf_idfvectorizer = TfidfVectorizer(max_features = 400)"
   ]
  },
  {
   "cell_type": "code",
   "execution_count": null,
   "metadata": {
    "ExecuteTime": {
     "end_time": "2020-06-30T20:50:18.524467Z",
     "start_time": "2020-06-30T20:50:18.521209Z"
    }
   },
   "outputs": [],
   "source": [
    "X = df_modeling['tweet_text']\n",
    "y = df_modeling['sentiment']"
   ]
  },
  {
   "cell_type": "code",
   "execution_count": null,
   "metadata": {
    "ExecuteTime": {
     "end_time": "2020-06-30T20:50:18.531530Z",
     "start_time": "2020-06-30T20:50:18.526484Z"
    }
   },
   "outputs": [],
   "source": [
    "X_train, X_test, y_train, y_test = train_test_split(X,y,test_size = 0.25, random_state=42)"
   ]
  },
  {
   "cell_type": "code",
   "execution_count": null,
   "metadata": {
    "ExecuteTime": {
     "end_time": "2020-06-30T20:50:18.661421Z",
     "start_time": "2020-06-30T20:50:18.535246Z"
    }
   },
   "outputs": [],
   "source": [
    "tf_idfvectorizer.fit(X)\n",
    "X_train_tfidf = tf_idfvectorizer.transform(X_train)\n",
    "X_test_tfidf = tf_idfvectorizer.transform(X_test)"
   ]
  },
  {
   "cell_type": "markdown",
   "metadata": {},
   "source": [
    "Fit Vectorizer to tweet data and transformed using TfIDF Vectorizer. Ran first Support Vector Machine Model using Linear kernel and balanced data set"
   ]
  },
  {
   "cell_type": "code",
   "execution_count": null,
   "metadata": {
    "ExecuteTime": {
     "end_time": "2020-06-30T20:50:19.290367Z",
     "start_time": "2020-06-30T20:50:18.665409Z"
    }
   },
   "outputs": [],
   "source": [
    "svm_clf = SVC(kernel='linear', class_weight='balanced')\n",
    "svm_clf.fit(X_train_tfidf,y_train)\n",
    "y_test_preds = svm_clf.predict(X_test_tfidf)\n",
    "y_train_preds = svm_clf.predict(X_train_tfidf)\n",
    "print(classification_report(y_test, y_test_preds))\n",
    "print(confusion_matrix(y_test, y_test_preds))\n",
    "print(\"Test SVM Accuracy Score -> \",accuracy_score(y_test, y_test_preds)*100)\n",
    "print(\"Training SVM Accuracy Score -> \",accuracy_score(y_train, y_train_preds)*100)"
   ]
  },
  {
   "cell_type": "code",
   "execution_count": null,
   "metadata": {
    "ExecuteTime": {
     "end_time": "2020-06-30T20:50:19.314979Z",
     "start_time": "2020-06-30T20:50:19.293824Z"
    }
   },
   "outputs": [],
   "source": [
    "column_names = ['model_#', 'model_type', 'train_accuracy', 'test_accuracy', 'train_test_diff' ,'negative_recall', \n",
    "                'positive_recall', 'negative_f_1', 'positive_f-1', 'notes']\n",
    "results = [3, 'SVM: Balanced Class Weights, Linear Kernel', 81.3,76.4,4.9,67.0,78.0,47.0,85.0, 'Model overfits and class imbalance still causing issues with model']\n",
    "results_dict = dict(zip(column_names,results))\n",
    "model_results3=pd.DataFrame(results_dict, index = range(1))\n",
    "model_results=model_results.append(model_results3)\n",
    "model_results"
   ]
  },
  {
   "cell_type": "markdown",
   "metadata": {},
   "source": [
    "Model overfit. Performed GridSearch to find optimal parameters for model"
   ]
  },
  {
   "cell_type": "code",
   "execution_count": null,
   "metadata": {
    "ExecuteTime": {
     "end_time": "2020-06-30T20:50:19.328486Z",
     "start_time": "2020-06-30T20:50:19.322454Z"
    }
   },
   "outputs": [],
   "source": [
    "params_svc = {'C': [0.1, 1, 10, 100], 'gamma':[1,0.1,0.01,0.001]}\n",
    "estimator_svc = SVC(kernel='linear',\n",
    "                    class_weight='balanced')\n",
    "grid_search_svc = GridSearchCV(estimator=estimator_svc, \n",
    "                              param_grid=params_svc,\n",
    "                              scoring = 'accuracy',\n",
    "                              n_jobs = -1,\n",
    "                              cv = 10,\n",
    "                              verbose = True)"
   ]
  },
  {
   "cell_type": "code",
   "execution_count": null,
   "metadata": {
    "ExecuteTime": {
     "end_time": "2020-06-30T20:50:19.335388Z",
     "start_time": "2020-06-30T20:50:19.330935Z"
    }
   },
   "outputs": [],
   "source": [
    "grid_search_svc.fit(X_train_tfidf, y_train)"
   ]
  },
  {
   "cell_type": "code",
   "execution_count": null,
   "metadata": {
    "ExecuteTime": {
     "end_time": "2020-06-30T20:50:19.341824Z",
     "start_time": "2020-06-30T20:50:19.338444Z"
    }
   },
   "outputs": [],
   "source": [
    "grid_search_svc.best_params_"
   ]
  },
  {
   "cell_type": "code",
   "execution_count": null,
   "metadata": {
    "ExecuteTime": {
     "end_time": "2020-06-30T20:50:20.067326Z",
     "start_time": "2020-06-30T20:50:19.345130Z"
    }
   },
   "outputs": [],
   "source": [
    "svm_clf = SVC(kernel='linear', class_weight='balanced', C = 10, gamma= 1)\n",
    "svm_clf.fit(X_train_tfidf,y_train)\n",
    "y_test_preds = svm_clf.predict(X_test_tfidf)\n",
    "y_train_preds = svm_clf.predict(X_train_tfidf)\n",
    "print(classification_report(y_test, y_test_preds))\n",
    "print(confusion_matrix(y_test, y_test_preds))\n",
    "print(\"Test SVM Accuracy Score -> \",accuracy_score(y_test, y_test_preds)*100)\n",
    "print(\"Training SVM Accuracy Score -> \",accuracy_score(y_train, y_train_preds)*100)"
   ]
  },
  {
   "cell_type": "code",
   "execution_count": null,
   "metadata": {
    "ExecuteTime": {
     "end_time": "2020-06-30T20:50:20.098051Z",
     "start_time": "2020-06-30T20:50:20.069623Z"
    }
   },
   "outputs": [],
   "source": [
    "column_names = ['model_#', 'model_type', 'train_accuracy', 'test_accuracy', 'train_test_diff' ,'negative_recall', \n",
    "                'positive_recall', 'negative_f_1', 'positive_f-1', 'notes']\n",
    "results = [4, 'SVM: Balanced Class Weights, Linear Kernel, GridSearch Params', \n",
    "           84.5,75.6,8.9,64.0,78.0,45.0,84.0, 'Model still overfits and less predictive for both classes']\n",
    "results_dict = dict(zip(column_names,results))\n",
    "model_results4=pd.DataFrame(results_dict, index = range(1))\n",
    "model_results=model_results.append(model_results4)\n",
    "model_results"
   ]
  },
  {
   "cell_type": "markdown",
   "metadata": {},
   "source": [
    "Tried best performing SVC model with the SMOTE data to see the effect"
   ]
  },
  {
   "cell_type": "code",
   "execution_count": null,
   "metadata": {
    "ExecuteTime": {
     "end_time": "2020-06-30T20:50:21.845953Z",
     "start_time": "2020-06-30T20:50:20.100095Z"
    }
   },
   "outputs": [],
   "source": [
    "svm_clf = SVC(kernel='linear')\n",
    "svm_clf.fit(X_train_SMOTE,y_train_SMOTE)\n",
    "y_test_preds = svm_clf.predict(X_test_SMOTE)\n",
    "y_train_preds = svm_clf.predict(X_train_SMOTE)\n",
    "print(classification_report(y_test_SMOTE, y_test_preds))\n",
    "print(confusion_matrix(y_test_SMOTE, y_test_preds))\n",
    "print(\"Test SVM Accuracy Score -> \",accuracy_score(y_test_SMOTE, y_test_preds)*100)\n",
    "print(\"Training SVM Accuracy Score -> \",accuracy_score(y_train_SMOTE, y_train_preds)*100)"
   ]
  },
  {
   "cell_type": "code",
   "execution_count": null,
   "metadata": {
    "ExecuteTime": {
     "end_time": "2020-06-30T20:50:21.875665Z",
     "start_time": "2020-06-30T20:50:21.848023Z"
    }
   },
   "outputs": [],
   "source": [
    "column_names = ['model_#', 'model_type', 'train_accuracy', 'test_accuracy', 'train_test_diff' ,'negative_recall', \n",
    "                'positive_recall', 'negative_f_1', 'positive_f-1', 'notes']\n",
    "results = [5, 'SVM: SMOTE', 99.2,88.9,10.3,93.0,85.0,89.0,89.0, 'Model overfits but SMOTE has solved class imbalance issues']\n",
    "results_dict = dict(zip(column_names,results))\n",
    "model_results5=pd.DataFrame(results_dict, index = range(1))\n",
    "model_results=model_results.append(model_results5)\n",
    "model_results"
   ]
  },
  {
   "cell_type": "markdown",
   "metadata": {},
   "source": [
    "Model continues to overfit. Moving to XGBoosted Model to see if that works better"
   ]
  },
  {
   "cell_type": "markdown",
   "metadata": {},
   "source": [
    "# Binary XGBoost Model"
   ]
  },
  {
   "cell_type": "markdown",
   "metadata": {},
   "source": [
    "Fit vanilla XGBoosted RFC on TfIdf Vectorized Data"
   ]
  },
  {
   "cell_type": "code",
   "execution_count": null,
   "metadata": {
    "ExecuteTime": {
     "end_time": "2020-06-30T20:50:22.376612Z",
     "start_time": "2020-06-30T20:50:21.878968Z"
    }
   },
   "outputs": [],
   "source": [
    "xgbc_clf = XGBClassifier()\n",
    "xgbc_clf.fit(X_train_tfidf, y_train)\n",
    "y_test_preds = xgbc_clf.predict(X_test_tfidf)\n",
    "y_train_preds = xgbc_clf.predict(X_train_tfidf)\n",
    "print(classification_report(y_test, y_test_preds))\n",
    "print(confusion_matrix(y_test, y_test_preds))\n",
    "print(\"Test XGBoosted Accuracy Score -> \",accuracy_score(y_test, y_test_preds)*100)\n",
    "print(\"Training XGBoosted Accuracy Score -> \",accuracy_score(y_train, y_train_preds)*100)"
   ]
  },
  {
   "cell_type": "markdown",
   "metadata": {},
   "source": [
    "Model performed much better than Support Vector Machine. Pos_scale_weight is a parameter that can weight the data set towards the minority class. Used a for loop to test 100 different models with a pos_scale_weight from 0.01 to 1.0 to see which combo has smallest difference in train/test accuracy scores and highest test accuracy score. "
   ]
  },
  {
   "cell_type": "code",
   "execution_count": null,
   "metadata": {
    "ExecuteTime": {
     "end_time": "2020-06-30T20:50:22.399073Z",
     "start_time": "2020-06-30T20:50:22.378645Z"
    }
   },
   "outputs": [],
   "source": [
    "column_names = ['model_#', 'model_type', 'train_accuracy', 'test_accuracy', 'train_test_diff' ,'negative_recall', \n",
    "                'positive_recall', 'negative_f_1', 'positive_f-1', 'notes']\n",
    "results = [6, 'XGBoost RFC Vanilla', 85.8,85.1,0.7,9.0,99.0,15.0,92.0, 'Model is basically guessing 1 every time']\n",
    "results_dict = dict(zip(column_names,results))\n",
    "model_results6=pd.DataFrame(results_dict, index = range(1))\n",
    "model_results=model_results.append(model_results6)\n",
    "model_results"
   ]
  },
  {
   "cell_type": "code",
   "execution_count": null,
   "metadata": {
    "ExecuteTime": {
     "end_time": "2020-06-30T20:51:04.191943Z",
     "start_time": "2020-06-30T20:50:22.403537Z"
    }
   },
   "outputs": [],
   "source": [
    "train_test_difference = []\n",
    "train_score = []\n",
    "test_score = []\n",
    "for i in np.arange(0.01, 1.01, 0.01):\n",
    "    xgbc_clf = XGBClassifier(scale_pos_weight=i)\n",
    "    xgbc_clf.fit(X_train_tfidf, y_train)\n",
    "    y_test_preds = xgbc_clf.predict(X_test_tfidf)\n",
    "    y_train_preds = xgbc_clf.predict(X_train_tfidf)\n",
    "    train_test_difference.append((accuracy_score(y_train, y_train_preds) * 100) - \n",
    "                                 (accuracy_score(y_test, y_test_preds)*100))\n",
    "    train_score.append(accuracy_score(y_train, y_train_preds) * 100)\n",
    "    test_score.append(accuracy_score(y_test, y_test_preds)*100)"
   ]
  },
  {
   "cell_type": "code",
   "execution_count": null,
   "metadata": {
    "ExecuteTime": {
     "end_time": "2020-06-30T20:51:04.218364Z",
     "start_time": "2020-06-30T20:51:04.194403Z"
    }
   },
   "outputs": [],
   "source": [
    "df_results=pd.DataFrame([np.arange(0.01, 1.01, 0.01), train_test_difference, train_score, test_score]).T\n",
    "df_results=df_results.rename(columns = {0:'pos_scale_weight',1:'train_test_difference', 2:'train_score', 3:'test_score'})\n",
    "df_results.sort_values(['train_test_difference','test_score'])"
   ]
  },
  {
   "cell_type": "markdown",
   "metadata": {},
   "source": [
    "Re ran model with optimal pos_scale_weight value"
   ]
  },
  {
   "cell_type": "code",
   "execution_count": null,
   "metadata": {
    "ExecuteTime": {
     "end_time": "2020-06-30T20:51:04.676888Z",
     "start_time": "2020-06-30T20:51:04.220149Z"
    }
   },
   "outputs": [],
   "source": [
    "xgbc_clf = XGBClassifier(scale_pos_weight=.96)\n",
    "xgbc_clf.fit(X_train_tfidf, y_train)\n",
    "y_test_preds = xgbc_clf.predict(X_test_tfidf)\n",
    "y_train_preds = xgbc_clf.predict(X_train_tfidf)\n",
    "print(classification_report(y_test, y_test_preds))\n",
    "print(confusion_matrix(y_test, y_test_preds))\n",
    "print(\"Test SVM Accuracy Score -> \",accuracy_score(y_test, y_test_preds)*100)\n",
    "print(\"Training SVM Accuracy Score -> \",accuracy_score(y_train, y_train_preds)*100)"
   ]
  },
  {
   "cell_type": "code",
   "execution_count": null,
   "metadata": {
    "ExecuteTime": {
     "end_time": "2020-06-30T20:51:04.704932Z",
     "start_time": "2020-06-30T20:51:04.684479Z"
    }
   },
   "outputs": [],
   "source": [
    "column_names = ['model_#', 'model_type', 'train_accuracy', 'test_accuracy', 'train_test_diff' ,'negative_recall', \n",
    "                'positive_recall', 'negative_f_1', 'positive_f-1', 'notes']\n",
    "results = [7, 'XGBoost, pos_scale_weight', 86.1,85.4,0.7,11.0,99.0,47.0,92.0, 'Class imbalance still causing issues with model']\n",
    "results_dict = dict(zip(column_names,results))\n",
    "model_results7=pd.DataFrame(results_dict, index = range(1))\n",
    "model_results=model_results.append(model_results7)\n",
    "model_results"
   ]
  },
  {
   "cell_type": "markdown",
   "metadata": {},
   "source": [
    "Slightly increased overfit. Running GridSearch to see if I can optimize model further"
   ]
  },
  {
   "cell_type": "code",
   "execution_count": null,
   "metadata": {
    "ExecuteTime": {
     "end_time": "2020-06-30T20:51:04.714487Z",
     "start_time": "2020-06-30T20:51:04.710365Z"
    }
   },
   "outputs": [],
   "source": [
    "params_xgboost = {'max_depth': range(2,10,1),\n",
    "         'n_estimators': range(60,220,40),\n",
    "         'learning_rate': [0.1, 0.01, 0.05]}\n",
    "estimator_xgboost = XGBClassifier(\n",
    "    objective= 'binary:logistic',\n",
    "    n_jobs=-1,\n",
    "    seed=42, \n",
    "    pos_scale_weight = .96\n",
    ")\n",
    "grid_search_xgboost = GridSearchCV(\n",
    "    estimator=estimator_xgboost,\n",
    "    param_grid=params_xgboost,\n",
    "    scoring = 'roc_auc',\n",
    "    n_jobs = -1,\n",
    "    cv = 10,\n",
    "    verbose=True)"
   ]
  },
  {
   "cell_type": "code",
   "execution_count": null,
   "metadata": {
    "ExecuteTime": {
     "end_time": "2020-06-30T20:51:04.718996Z",
     "start_time": "2020-06-30T20:51:04.716468Z"
    }
   },
   "outputs": [],
   "source": [
    "grid_search_xgboost.fit(X_train_tfidf, y_train)"
   ]
  },
  {
   "cell_type": "code",
   "execution_count": null,
   "metadata": {
    "ExecuteTime": {
     "end_time": "2020-06-30T20:51:04.728229Z",
     "start_time": "2020-06-30T20:51:04.724826Z"
    }
   },
   "outputs": [],
   "source": [
    "grid_search_xgboost.best_params_"
   ]
  },
  {
   "cell_type": "markdown",
   "metadata": {},
   "source": [
    "Ran new model with optimal parameters. Reduced max_depth manually to avoid overfitting"
   ]
  },
  {
   "cell_type": "code",
   "execution_count": null,
   "metadata": {
    "ExecuteTime": {
     "end_time": "2020-06-30T20:51:05.517866Z",
     "start_time": "2020-06-30T20:51:04.730717Z"
    }
   },
   "outputs": [],
   "source": [
    "xgbc_clf = XGBClassifier(scale_pos_weight=.96, learning_rate = 0.1, max_depth = 3, n_estimators = 180)\n",
    "xgbc_clf.fit(X_train_tfidf, y_train)\n",
    "y_test_preds = xgbc_clf.predict(X_test_tfidf)\n",
    "y_train_preds = xgbc_clf.predict(X_train_tfidf)\n",
    "print(classification_report(y_test, y_test_preds))\n",
    "print(confusion_matrix(y_test, y_test_preds))\n",
    "print(\"Test SVM Accuracy Score -> \",accuracy_score(y_test, y_test_preds)*100)\n",
    "print(\"Training SVM Accuracy Score -> \",accuracy_score(y_train, y_train_preds)*100)"
   ]
  },
  {
   "cell_type": "code",
   "execution_count": null,
   "metadata": {
    "ExecuteTime": {
     "end_time": "2020-06-30T20:51:05.543824Z",
     "start_time": "2020-06-30T20:51:05.519863Z"
    }
   },
   "outputs": [],
   "source": [
    "column_names = ['model_#', 'model_type', 'train_accuracy', 'test_accuracy', 'train_test_diff' ,'negative_recall', \n",
    "                'positive_recall', 'negative_f_1', 'positive_f-1', 'notes']\n",
    "results = [8, 'XGBoost GridSearch', 87.7,85.1,2.6,12.0,99.0,20.0,92.0, 'Class imbalance still causing issues with model']\n",
    "results_dict = dict(zip(column_names,results))\n",
    "model_results8=pd.DataFrame(results_dict, index = range(1))\n",
    "model_results=model_results.append(model_results8)\n",
    "model_results"
   ]
  },
  {
   "cell_type": "markdown",
   "metadata": {},
   "source": [
    "Ran best fit model with SMOTE data to help with poor recall and precision scores for the 0 class"
   ]
  },
  {
   "cell_type": "code",
   "execution_count": null,
   "metadata": {
    "ExecuteTime": {
     "end_time": "2020-06-30T20:51:09.697307Z",
     "start_time": "2020-06-30T20:51:05.547230Z"
    }
   },
   "outputs": [],
   "source": [
    "xgbc_clf_final = XGBClassifier(scale_pos_weight=.96, learning_rate = 0.1, max_depth = 3, n_estimators = 180)\n",
    "xgbc_clf_final.fit(X_train_SMOTE, y_train_SMOTE)\n",
    "y_test_preds = xgbc_clf_final.predict(X_test_SMOTE)\n",
    "y_train_preds = xgbc_clf_final.predict(X_train_SMOTE)\n",
    "print(classification_report(y_test_SMOTE, y_test_preds))\n",
    "print(confusion_matrix(y_test_SMOTE, y_test_preds))\n",
    "print(\"Test XGBoosted Accuracy Score -> \",accuracy_score(y_test_SMOTE, y_test_preds)*100)\n",
    "print(\"Training XGBoosted Accuracy Score -> \",accuracy_score(y_train_SMOTE, y_train_preds)*100)"
   ]
  },
  {
   "cell_type": "code",
   "execution_count": null,
   "metadata": {
    "ExecuteTime": {
     "end_time": "2020-06-30T20:51:09.722066Z",
     "start_time": "2020-06-30T20:51:09.699547Z"
    }
   },
   "outputs": [],
   "source": [
    "column_names = ['model_#', 'model_type', 'train_accuracy', 'test_accuracy', 'train_test_diff' ,'negative_recall', \n",
    "                'positive_recall', 'negative_f_1', 'positive_f-1', 'notes']\n",
    "results = [9, 'XGBoost SMOTE', 89.8,89.2,0.6,80.0,98.0,88.0,90.0, \n",
    "           'SMOTE fixed class imbalance. Best performing binary model']\n",
    "results_dict = dict(zip(column_names,results))\n",
    "model_results9=pd.DataFrame(results_dict, index = range(1))\n",
    "model_results=model_results.append(model_results9)\n",
    "model_results"
   ]
  },
  {
   "cell_type": "code",
   "execution_count": null,
   "metadata": {
    "ExecuteTime": {
     "end_time": "2020-06-30T20:51:10.026744Z",
     "start_time": "2020-06-30T20:51:09.724579Z"
    }
   },
   "outputs": [],
   "source": [
    "feature_important = xgbc_clf.get_booster().get_score(importance_type='weight')\n",
    "keys = feature_important.keys()\n",
    "values = feature_important.values()\n",
    "data = pd.DataFrame(data=values, index=keys, columns=[\"score\"]).sort_values(by = \"score\", ascending=False)\n",
    "data20=data.head(20)\n",
    "data20.plot(kind='barh')\n",
    "data20.head()"
   ]
  },
  {
   "cell_type": "code",
   "execution_count": null,
   "metadata": {
    "ExecuteTime": {
     "end_time": "2020-06-30T20:51:10.034594Z",
     "start_time": "2020-06-30T20:51:10.029177Z"
    }
   },
   "outputs": [],
   "source": [
    "def predict_sentiment(model):\n",
    "    data = input(str('Enter a test tweet...'))\n",
    "    cleaned_data = clean_lemmatize_token(data)\n",
    "    next_step = [cleaned_data, '']\n",
    "    vect_data = tf_idfvectorizer.transform(next_step)\n",
    "    model = XGBClassifier(scale_pos_weight=.96, learning_rate = 0.1, \n",
    "                          max_depth = 3, n_estimators = 180)\n",
    "    model.fit(X_train_SMOTE, y_train_SMOTE)\n",
    "    pred = model.predict(vect_data)\n",
    "    return pred"
   ]
  },
  {
   "cell_type": "markdown",
   "metadata": {},
   "source": [
    "# Non-Binary Models"
   ]
  },
  {
   "cell_type": "markdown",
   "metadata": {},
   "source": [
    "XGBoosted Random Forest Classifier showed that it was the best model for binary classification. So now we can move on to Non-Binary Classifications"
   ]
  },
  {
   "cell_type": "code",
   "execution_count": null,
   "metadata": {
    "ExecuteTime": {
     "end_time": "2020-06-30T20:51:10.043187Z",
     "start_time": "2020-06-30T20:51:10.036800Z"
    }
   },
   "outputs": [],
   "source": [
    "df_modeling3 = df_eda.loc[df_eda['sentiment'] != \"I can't tell\"]"
   ]
  },
  {
   "cell_type": "code",
   "execution_count": null,
   "metadata": {
    "ExecuteTime": {
     "end_time": "2020-06-30T20:51:10.054012Z",
     "start_time": "2020-06-30T20:51:10.050666Z"
    }
   },
   "outputs": [],
   "source": [
    "X = df_modeling3['tweet_text']\n",
    "y = df_modeling3['sentiment']"
   ]
  },
  {
   "cell_type": "code",
   "execution_count": null,
   "metadata": {
    "ExecuteTime": {
     "end_time": "2020-06-30T20:51:10.068596Z",
     "start_time": "2020-06-30T20:51:10.056130Z"
    }
   },
   "outputs": [],
   "source": [
    "X_train, X_test, y_train, y_test = train_test_split(X, y, test_size=0.25, random_state=42)"
   ]
  },
  {
   "cell_type": "code",
   "execution_count": null,
   "metadata": {
    "ExecuteTime": {
     "end_time": "2020-06-30T20:51:10.306878Z",
     "start_time": "2020-06-30T20:51:10.077213Z"
    }
   },
   "outputs": [],
   "source": [
    "tfidf_vectorizer = TfidfVectorizer()\n",
    "X = tfidf_vectorizer.fit_transform(X)\n",
    "X_train_tfidf=tfidf_vectorizer.transform(X_train)\n",
    "X_test_tfidf = tfidf_vectorizer.transform(X_test)"
   ]
  },
  {
   "cell_type": "markdown",
   "metadata": {},
   "source": [
    "Created empty data frame to track non-binary results"
   ]
  },
  {
   "cell_type": "code",
   "execution_count": null,
   "metadata": {
    "ExecuteTime": {
     "end_time": "2020-06-30T20:51:10.315730Z",
     "start_time": "2020-06-30T20:51:10.309132Z"
    }
   },
   "outputs": [],
   "source": [
    "model_results_nonbinary = pd.DataFrame()\n",
    "model_results_nonbinary"
   ]
  },
  {
   "cell_type": "markdown",
   "metadata": {},
   "source": [
    "Created SMOTE sample to test for class imbalance"
   ]
  },
  {
   "cell_type": "code",
   "execution_count": null,
   "metadata": {
    "ExecuteTime": {
     "end_time": "2020-06-30T20:51:15.497149Z",
     "start_time": "2020-06-30T20:51:10.318772Z"
    }
   },
   "outputs": [],
   "source": [
    "smote = SMOTE()\n",
    "X_res, y_res = smote.fit_resample(X,y)\n",
    "X_train_SMOTE, X_test_SMOTE, y_train_SMOTE, y_test_SMOTE = train_test_split(X_res, y_res, test_size=0.25,\n",
    "                                                                           random_state=42)"
   ]
  },
  {
   "cell_type": "markdown",
   "metadata": {},
   "source": [
    "# Support Vector Machines"
   ]
  },
  {
   "cell_type": "markdown",
   "metadata": {},
   "source": [
    "Explored SVM with Linear kernel and balanced class weights first. Used params from best performing binary SVM model"
   ]
  },
  {
   "cell_type": "code",
   "execution_count": null,
   "metadata": {
    "ExecuteTime": {
     "end_time": "2020-06-30T20:51:23.288933Z",
     "start_time": "2020-06-30T20:51:15.499679Z"
    }
   },
   "outputs": [],
   "source": [
    "svm_clf = SVC(kernel='linear', class_weight='balanced', C = 10, gamma=1)\n",
    "svm_clf.fit(X_train_tfidf, y_train)\n",
    "y_test_preds = svm_clf.predict(X_test_tfidf)\n",
    "y_train_preds = svm_clf.predict(X_train_tfidf)\n",
    "print(classification_report(y_test, y_test_preds))\n",
    "print(confusion_matrix(y_test, y_test_preds))\n",
    "print(\"Test SVM Accuracy Score -> \",accuracy_score(y_test, y_test_preds)*100)\n",
    "print(\"Training SVM Accuracy Score -> \",accuracy_score(y_train, y_train_preds)*100)"
   ]
  },
  {
   "cell_type": "code",
   "execution_count": null,
   "metadata": {
    "ExecuteTime": {
     "end_time": "2020-06-30T20:51:23.310935Z",
     "start_time": "2020-06-30T20:51:23.291388Z"
    }
   },
   "outputs": [],
   "source": [
    "column_names = ['model_#', 'model_type', 'train_accuracy', 'test_accuracy', 'train_test_diff' ,'negative_recall', \n",
    "                'positive_recall', 'no_emotion_recall', 'negative_f_1', 'positive_f-1','no_emotion_f-1', 'notes']\n",
    "results = [1, 'SVM: Vanilla Linear Kernel Class Weight Balanced', 93.0,66.6,26.4,34.0,58.0,75.0,38.0, 57.0, 75.0, \n",
    "           'Model overfits, and class imbalance is an issue']\n",
    "results_dict = dict(zip(column_names,results))\n",
    "model_results1=pd.DataFrame(results_dict, index = range(1))\n",
    "model_results_nonbinary=model_results_nonbinary.append(model_results1)\n",
    "model_results_nonbinary"
   ]
  },
  {
   "cell_type": "markdown",
   "metadata": {},
   "source": [
    "Performed GridSearch on new non-binary model"
   ]
  },
  {
   "cell_type": "code",
   "execution_count": null,
   "metadata": {
    "ExecuteTime": {
     "end_time": "2020-06-30T20:51:23.317541Z",
     "start_time": "2020-06-30T20:51:23.313147Z"
    }
   },
   "outputs": [],
   "source": [
    "params_svc = {'C': [0.1, 1, 10, 100], 'gamma':[1,0.1,0.01,0.001]}\n",
    "estimator_svc = SVC(kernel='linear',\n",
    "                    class_weight='balanced')\n",
    "grid_search_svc = GridSearchCV(estimator=estimator_svc, \n",
    "                              param_grid=params_svc,\n",
    "                              scoring = 'accuracy',\n",
    "                              n_jobs = -1,\n",
    "                              cv = 10,\n",
    "                              verbose = True)"
   ]
  },
  {
   "cell_type": "code",
   "execution_count": null,
   "metadata": {
    "ExecuteTime": {
     "end_time": "2020-06-30T20:51:23.323439Z",
     "start_time": "2020-06-30T20:51:23.320591Z"
    }
   },
   "outputs": [],
   "source": [
    "grid_search_svc.fit(X_train_tfidf, y_train)"
   ]
  },
  {
   "cell_type": "code",
   "execution_count": null,
   "metadata": {
    "ExecuteTime": {
     "end_time": "2020-06-30T20:51:23.327773Z",
     "start_time": "2020-06-30T20:51:23.325391Z"
    }
   },
   "outputs": [],
   "source": [
    "grid_search_svc.best_params_"
   ]
  },
  {
   "cell_type": "markdown",
   "metadata": {},
   "source": [
    "Fit new model with ideal params. Still overfit so we manually adjusted params "
   ]
  },
  {
   "cell_type": "code",
   "execution_count": null,
   "metadata": {
    "ExecuteTime": {
     "end_time": "2020-06-30T20:51:32.776812Z",
     "start_time": "2020-06-30T20:51:23.329633Z"
    }
   },
   "outputs": [],
   "source": [
    "svm_clf = SVC(kernel='linear', class_weight='balanced', C = 0.25, gamma='auto')\n",
    "svm_clf.fit(X_train_tfidf, y_train)\n",
    "y_test_preds = svm_clf.predict(X_test_tfidf)\n",
    "y_train_preds = svm_clf.predict(X_train_tfidf)\n",
    "print(classification_report(y_test, y_test_preds))\n",
    "print(confusion_matrix(y_test, y_test_preds))\n",
    "print(\"Test SVM Accuracy Score -> \",accuracy_score(y_test, y_test_preds)*100)\n",
    "print(\"Training SVM Accuracy Score -> \",accuracy_score(y_train, y_train_preds)*100)"
   ]
  },
  {
   "cell_type": "code",
   "execution_count": null,
   "metadata": {
    "ExecuteTime": {
     "end_time": "2020-06-30T20:51:32.800680Z",
     "start_time": "2020-06-30T20:51:32.779453Z"
    },
    "scrolled": true
   },
   "outputs": [],
   "source": [
    "column_names = ['model_#', 'model_type', 'train_accuracy', 'test_accuracy', 'train_test_diff' ,'negative_recall', \n",
    "                'positive_recall', 'no_emotion_recall', 'negative_f_1', 'positive_f-1','no_emotion_f-1', 'notes']\n",
    "results = [2, 'SVM: GridSearch Balanced Class Weights', 75.0,61.8,13.2,49.0,55.0,67.0,38.0, 53.0, 71.0, \n",
    "           'Model still overfits, and class imbalance is still an issue']\n",
    "results_dict = dict(zip(column_names,results))\n",
    "model_results2=pd.DataFrame(results_dict, index = range(1))\n",
    "model_results_nonbinary=model_results_nonbinary.append(model_results2)\n",
    "model_results_nonbinary"
   ]
  },
  {
   "cell_type": "code",
   "execution_count": null,
   "metadata": {
    "ExecuteTime": {
     "end_time": "2020-06-30T20:51:51.258642Z",
     "start_time": "2020-06-30T20:51:32.802708Z"
    }
   },
   "outputs": [],
   "source": [
    "svm_clf = SVC(kernel='linear', C = 5, gamma=1)\n",
    "svm_clf.fit(X_train_SMOTE, y_train_SMOTE)\n",
    "y_test_preds = svm_clf.predict(X_test_SMOTE)\n",
    "y_train_preds = svm_clf.predict(X_train_SMOTE)\n",
    "print(classification_report(y_test_SMOTE, y_test_preds))\n",
    "print(confusion_matrix(y_test_SMOTE, y_test_preds))\n",
    "print(\"Test SVM Accuracy Score -> \",accuracy_score(y_test_SMOTE, y_test_preds)*100)\n",
    "print(\"Training SVM Accuracy Score -> \",accuracy_score(y_train_SMOTE, y_train_preds)*100)"
   ]
  },
  {
   "cell_type": "code",
   "execution_count": null,
   "metadata": {
    "ExecuteTime": {
     "end_time": "2020-06-30T20:51:51.281564Z",
     "start_time": "2020-06-30T20:51:51.260996Z"
    }
   },
   "outputs": [],
   "source": [
    "column_names = ['model_#', 'model_type', 'train_accuracy', 'test_accuracy', 'train_test_diff' ,'negative_recall', \n",
    "                'positive_recall', 'no_emotion_recall', 'negative_f_1', 'positive_f-1','no_emotion_f-1', 'notes']\n",
    "results = [3, 'SVM: SMOTE', 94.7,83.6,11.1,100.0,82.0,70.0,96.0, 75.0, 79.0, \n",
    "           'Model still overfits, and class imbalance less an issue']\n",
    "results_dict = dict(zip(column_names,results))\n",
    "model_results3=pd.DataFrame(results_dict, index = range(1))\n",
    "model_results_nonbinary=model_results_nonbinary.append(model_results3)\n",
    "model_results_nonbinary"
   ]
  },
  {
   "cell_type": "markdown",
   "metadata": {},
   "source": [
    "Running additional GridSearch fit on SMOTE Data"
   ]
  },
  {
   "cell_type": "code",
   "execution_count": null,
   "metadata": {
    "ExecuteTime": {
     "end_time": "2020-06-30T20:51:51.288615Z",
     "start_time": "2020-06-30T20:51:51.283818Z"
    }
   },
   "outputs": [],
   "source": [
    "params_svc = {'C': [0.1, 1, 10, 100], 'gamma':[1,0.1,0.01,0.001]}\n",
    "estimator_svc = SVC(kernel='linear')\n",
    "grid_search_svc = GridSearchCV(estimator=estimator_svc, \n",
    "                              param_grid=params_svc,\n",
    "                              scoring = 'accuracy',\n",
    "                              n_jobs = -1,\n",
    "                              cv = 15,\n",
    "                              verbose = True)"
   ]
  },
  {
   "cell_type": "code",
   "execution_count": null,
   "metadata": {
    "ExecuteTime": {
     "end_time": "2020-06-30T20:51:51.294946Z",
     "start_time": "2020-06-30T20:51:51.291035Z"
    }
   },
   "outputs": [],
   "source": [
    "grid_search_svc.fit(X_train_SMOTE, y_train_SMOTE)"
   ]
  },
  {
   "cell_type": "code",
   "execution_count": null,
   "metadata": {
    "ExecuteTime": {
     "end_time": "2020-06-30T20:51:51.299150Z",
     "start_time": "2020-06-30T20:51:51.296797Z"
    }
   },
   "outputs": [],
   "source": [
    "grid_search_svc.best_params_"
   ]
  },
  {
   "cell_type": "markdown",
   "metadata": {},
   "source": [
    "# XGBoosted Model"
   ]
  },
  {
   "cell_type": "markdown",
   "metadata": {},
   "source": [
    "Moving on to XGBoosted modeling. Change objective to multi:logistic to account for multi class target"
   ]
  },
  {
   "cell_type": "code",
   "execution_count": null,
   "metadata": {
    "ExecuteTime": {
     "end_time": "2020-06-30T20:52:03.367281Z",
     "start_time": "2020-06-30T20:51:51.301082Z"
    }
   },
   "outputs": [],
   "source": [
    "xgbc_clf = XGBClassifier(objective='multi:logistic')\n",
    "xgbc_clf.fit(X_train_tfidf, y_train)\n",
    "y_test_preds = xgbc_clf.predict(X_test_tfidf)\n",
    "y_train_preds = xgbc_clf.predict(X_train_tfidf)\n",
    "print(classification_report(y_test, y_test_preds))\n",
    "print(confusion_matrix(y_test, y_test_preds))\n",
    "print(\"Test SVM Accuracy Score -> \",accuracy_score(y_test, y_test_preds)*100)\n",
    "print(\"Training SVM Accuracy Score -> \",accuracy_score(y_train, y_train_preds)*100)"
   ]
  },
  {
   "cell_type": "code",
   "execution_count": null,
   "metadata": {
    "ExecuteTime": {
     "end_time": "2020-06-30T20:52:03.391395Z",
     "start_time": "2020-06-30T20:52:03.369493Z"
    }
   },
   "outputs": [],
   "source": [
    "column_names = ['model_#', 'model_type', 'train_accuracy', 'test_accuracy', 'train_test_diff' ,'negative_recall', \n",
    "                'positive_recall', 'no_emotion_recall', 'negative_f_1', 'positive_f-1','no_emotion_f-1', 'notes']\n",
    "results = [4, 'XGBoost multi:logistic', 69.4,65.2,4.2,4.0,95.0,22.0,8.0, 77.0, 33.0, \n",
    "           'Model still overfits, and class imbalance less an issue']\n",
    "results_dict = dict(zip(column_names,results))\n",
    "model_results4=pd.DataFrame(results_dict, index = range(1))\n",
    "model_results_nonbinary=model_results_nonbinary.append(model_results4)\n",
    "model_results_nonbinary"
   ]
  },
  {
   "cell_type": "markdown",
   "metadata": {},
   "source": [
    "Model slightly overfit and class imbalance is still an issue. Moving on to GridSearch"
   ]
  },
  {
   "cell_type": "code",
   "execution_count": null,
   "metadata": {
    "ExecuteTime": {
     "end_time": "2020-06-30T20:52:03.398813Z",
     "start_time": "2020-06-30T20:52:03.393409Z"
    }
   },
   "outputs": [],
   "source": [
    "params_xgboost = {'max_depth': range(2,10,1),\n",
    "         'n_estimators': range(60,220,40),\n",
    "         'learning_rate': [0.1, 0.01, 0.05]}\n",
    "\n",
    "estimator_xgboost = XGBClassifier(\n",
    "    objective= 'multi:logistic',\n",
    "    n_jobs=-1,\n",
    "    seed=42\n",
    ")\n",
    "grid_search_xgboost = GridSearchCV(\n",
    "    estimator=estimator_xgboost,\n",
    "    param_grid=params_xgboost,\n",
    "    scoring = 'accuracy',\n",
    "    n_jobs = -1,\n",
    "    cv = 10,\n",
    "    verbose=True)"
   ]
  },
  {
   "cell_type": "code",
   "execution_count": null,
   "metadata": {
    "ExecuteTime": {
     "end_time": "2020-06-30T20:52:03.403596Z",
     "start_time": "2020-06-30T20:52:03.401076Z"
    }
   },
   "outputs": [],
   "source": [
    "grid_search_xgboost.fit(X_train_tfidf, y_train)"
   ]
  },
  {
   "cell_type": "code",
   "execution_count": null,
   "metadata": {
    "ExecuteTime": {
     "end_time": "2020-06-30T20:52:03.407921Z",
     "start_time": "2020-06-30T20:52:03.405406Z"
    }
   },
   "outputs": [],
   "source": [
    "grid_search_xgboost.best_params_"
   ]
  },
  {
   "cell_type": "markdown",
   "metadata": {},
   "source": [
    "Fit model to best GridSearch params"
   ]
  },
  {
   "cell_type": "code",
   "execution_count": null,
   "metadata": {
    "ExecuteTime": {
     "end_time": "2020-06-30T20:52:35.505142Z",
     "start_time": "2020-06-30T20:52:03.409915Z"
    }
   },
   "outputs": [],
   "source": [
    "xgbc_clf = XGBClassifier(objective='multi:logistic',learning_rate=0.1, max_depth=1, n_estimators=750)\n",
    "xgbc_clf.fit(X_train_tfidf, y_train)\n",
    "y_test_preds = xgbc_clf.predict(X_test_tfidf)\n",
    "y_train_preds = xgbc_clf.predict(X_train_tfidf)\n",
    "print(classification_report(y_test, y_test_preds))\n",
    "print(confusion_matrix(y_test, y_test_preds))\n",
    "print(\"Test SVM Accuracy Score -> \",accuracy_score(y_test, y_test_preds)*100)\n",
    "print(\"Training SVM Accuracy Score -> \",accuracy_score(y_train, y_train_preds)*100)"
   ]
  },
  {
   "cell_type": "code",
   "execution_count": null,
   "metadata": {
    "ExecuteTime": {
     "end_time": "2020-06-30T20:52:35.530080Z",
     "start_time": "2020-06-30T20:52:35.507622Z"
    }
   },
   "outputs": [],
   "source": [
    "column_names = ['model_#', 'model_type', 'train_accuracy', 'test_accuracy', 'train_test_diff' ,'negative_recall', \n",
    "                'positive_recall', 'no_emotion_recall', 'negative_f_1', 'positive_f-1','no_emotion_f-1', 'notes']\n",
    "results = [5, 'XGboost GridSearch', 71.1,65.9,5.2,8.0,29.0,92.0,14.0, 40.0, 77.0, \n",
    "           'Model still overfits, and class imbalance less an issue']\n",
    "results_dict = dict(zip(column_names,results))\n",
    "model_results5=pd.DataFrame(results_dict, index = range(1))\n",
    "model_results_nonbinary=model_results_nonbinary.append(model_results5)\n",
    "model_results_nonbinary"
   ]
  },
  {
   "cell_type": "code",
   "execution_count": null,
   "metadata": {
    "ExecuteTime": {
     "end_time": "2020-06-30T20:53:06.795770Z",
     "start_time": "2020-06-30T20:52:35.532269Z"
    }
   },
   "outputs": [],
   "source": [
    "xgbc_clf = XGBClassifier(objective='multi:logistic',learning_rate=0.1, max_depth=1, n_estimators=500)\n",
    "xgbc_clf.fit(X_train_SMOTE, y_train_SMOTE)\n",
    "y_test_preds = xgbc_clf.predict(X_test_SMOTE)\n",
    "y_train_preds = xgbc_clf.predict(X_train_SMOTE)\n",
    "print(classification_report(y_test_SMOTE, y_test_preds))\n",
    "print(confusion_matrix(y_test_SMOTE, y_test_preds))\n",
    "print(\"Test SVM Accuracy Score -> \",accuracy_score(y_test_SMOTE, y_test_preds)*100)\n",
    "print(\"Training SVM Accuracy Score -> \",accuracy_score(y_train_SMOTE, y_train_preds)*100)"
   ]
  },
  {
   "cell_type": "code",
   "execution_count": null,
   "metadata": {
    "ExecuteTime": {
     "end_time": "2020-06-30T20:53:06.820923Z",
     "start_time": "2020-06-30T20:53:06.797947Z"
    }
   },
   "outputs": [],
   "source": [
    "column_names = ['model_#', 'model_type', 'train_accuracy', 'test_accuracy', 'train_test_diff' ,'negative_recall', \n",
    "                'positive_recall', 'no_emotion_recall', 'negative_f_1', 'positive_f-1','no_emotion_f-1', 'notes']\n",
    "results = [6, 'XGboost SMOTE', 72.7,69.4,3.3,77.0,49.0,82.0,81.0, 57.0, 69.0, \n",
    "           'Model does not overfit and class imbalance no longer an issue']\n",
    "results_dict = dict(zip(column_names,results))\n",
    "model_results6=pd.DataFrame(results_dict, index = range(1))\n",
    "model_results_nonbinary=model_results_nonbinary.append(model_results6)\n",
    "model_results_nonbinary"
   ]
  },
  {
   "cell_type": "markdown",
   "metadata": {},
   "source": [
    "# Naive Bayes Multiclass Model"
   ]
  },
  {
   "cell_type": "markdown",
   "metadata": {},
   "source": [
    "After researching text classification methods I learned that Multinomial Naive Bayes models "
   ]
  },
  {
   "cell_type": "code",
   "execution_count": null,
   "metadata": {
    "ExecuteTime": {
     "end_time": "2020-06-30T20:53:06.828582Z",
     "start_time": "2020-06-30T20:53:06.822999Z"
    }
   },
   "outputs": [],
   "source": [
    "model = make_pipeline(TfidfVectorizer(ngram_range=(1,2), max_features=400), MultinomialNB(alpha = 0.001))"
   ]
  },
  {
   "cell_type": "code",
   "execution_count": null,
   "metadata": {
    "ExecuteTime": {
     "end_time": "2020-06-30T20:53:06.833289Z",
     "start_time": "2020-06-30T20:53:06.830545Z"
    }
   },
   "outputs": [],
   "source": [
    "le = preprocessing.LabelEncoder()"
   ]
  },
  {
   "cell_type": "code",
   "execution_count": null,
   "metadata": {
    "ExecuteTime": {
     "end_time": "2020-06-30T20:53:06.837917Z",
     "start_time": "2020-06-30T20:53:06.835235Z"
    }
   },
   "outputs": [],
   "source": [
    "X = df_modeling3['tweet_text']\n",
    "y = df_modeling3['sentiment']"
   ]
  },
  {
   "cell_type": "code",
   "execution_count": null,
   "metadata": {
    "ExecuteTime": {
     "end_time": "2020-06-30T20:53:06.843945Z",
     "start_time": "2020-06-30T20:53:06.839841Z"
    }
   },
   "outputs": [],
   "source": [
    "sentiment_encoded = le.fit_transform(y)"
   ]
  },
  {
   "cell_type": "code",
   "execution_count": null,
   "metadata": {
    "ExecuteTime": {
     "end_time": "2020-06-30T20:53:06.851599Z",
     "start_time": "2020-06-30T20:53:06.845842Z"
    }
   },
   "outputs": [],
   "source": [
    "X_train, X_test, y_train, y_test = train_test_split(X,sentiment_encoded, test_size=0.25, random_state=42)"
   ]
  },
  {
   "cell_type": "code",
   "execution_count": null,
   "metadata": {
    "ExecuteTime": {
     "end_time": "2020-06-30T20:53:07.576307Z",
     "start_time": "2020-06-30T20:53:06.853596Z"
    }
   },
   "outputs": [],
   "source": [
    "tf_idfvectorizer = TfidfVectorizer(ngram_range=(1,3),max_features=400)\n",
    "tf_idfvectorizer.fit(X)\n",
    "X_train_tfidf = tf_idfvectorizer.transform(X_train)\n",
    "X_test_tfidf = tf_idfvectorizer.transform(X_test)"
   ]
  },
  {
   "cell_type": "code",
   "execution_count": null,
   "metadata": {
    "ExecuteTime": {
     "end_time": "2020-06-30T20:53:07.985433Z",
     "start_time": "2020-06-30T20:53:07.578645Z"
    }
   },
   "outputs": [],
   "source": [
    "model.fit(X_train, y_train)\n",
    "y_test_preds = model.predict(X_test)\n",
    "y_train_preds = model.predict(X_train)\n",
    "print(classification_report(y_test, y_test_preds))\n",
    "print(confusion_matrix(y_test, y_test_preds))\n",
    "print(\"Test SVM Accuracy Score -> \",accuracy_score(y_test, y_test_preds)*100)\n",
    "print(\"Training SVM Accuracy Score -> \",accuracy_score(y_train, y_train_preds)*100)"
   ]
  },
  {
   "cell_type": "code",
   "execution_count": null,
   "metadata": {
    "ExecuteTime": {
     "end_time": "2020-06-30T20:53:08.014061Z",
     "start_time": "2020-06-30T20:53:07.987429Z"
    }
   },
   "outputs": [],
   "source": [
    "column_names = ['model_#', 'model_type', 'train_accuracy', 'test_accuracy', 'train_test_diff' ,'negative_recall', \n",
    "                'positive_recall', 'no_emotion_recall', 'negative_f_1', 'positive_f-1','no_emotion_f-1', 'notes']\n",
    "results = [7, 'Vanilla NB Model', 67.9,63.9,4.0,4.0,34.0,87.0,8.0, 42.0, 75.0, \n",
    "           'Naive Bayes has a lot of class imbalance issues']\n",
    "results_dict = dict(zip(column_names,results))\n",
    "model_results7=pd.DataFrame(results_dict, index = range(1))\n",
    "model_results_nonbinary=model_results_nonbinary.append(model_results7)\n",
    "model_results_nonbinary"
   ]
  },
  {
   "cell_type": "code",
   "execution_count": null,
   "metadata": {
    "ExecuteTime": {
     "end_time": "2020-06-30T20:53:08.190528Z",
     "start_time": "2020-06-30T20:53:08.033306Z"
    }
   },
   "outputs": [],
   "source": [
    "model = MultinomialNB(alpha = 1e-10, fit_prior=False)\n",
    "model.fit(X_train_SMOTE, y_train_SMOTE)\n",
    "y_test_preds = model.predict(X_test_SMOTE)\n",
    "y_train_preds = model.predict(X_train_SMOTE)\n",
    "print(classification_report(y_test_SMOTE, y_test_preds))\n",
    "print(confusion_matrix(y_test_SMOTE, y_test_preds))\n",
    "print(\"Test Accuracy Score -> \",accuracy_score(y_test_SMOTE, y_test_preds)*100)\n",
    "print(\"Training Accuracy Score -> \",accuracy_score(y_train_SMOTE, y_train_preds)*100)"
   ]
  },
  {
   "cell_type": "code",
   "execution_count": null,
   "metadata": {
    "ExecuteTime": {
     "end_time": "2020-06-30T20:53:08.230280Z",
     "start_time": "2020-06-30T20:53:08.199508Z"
    }
   },
   "outputs": [],
   "source": [
    "column_names = ['model_#', 'model_type', 'train_accuracy', 'test_accuracy', 'train_test_diff' ,'negative_recall', \n",
    "                'positive_recall', 'no_emotion_recall', 'negative_f_1', 'positive_f-1','no_emotion_f-1', 'notes']\n",
    "results = [8, 'SMOTE NB Model', 91.1,81.3,9.8,99.0,82.0,82.0,95.0, 70.0, 77.0, \n",
    "           'Naive Bayes has a lot of class imbalance issues']\n",
    "results_dict = dict(zip(column_names,results))\n",
    "model_results8=pd.DataFrame(results_dict, index = range(1))\n",
    "model_results_nonbinary=model_results_nonbinary.append(model_results8)\n",
    "model_results_nonbinary"
   ]
  },
  {
   "cell_type": "code",
   "execution_count": null,
   "metadata": {
    "ExecuteTime": {
     "end_time": "2020-06-30T20:53:08.254008Z",
     "start_time": "2020-06-30T20:53:08.233873Z"
    }
   },
   "outputs": [],
   "source": [
    "model_results"
   ]
  },
  {
   "cell_type": "code",
   "execution_count": null,
   "metadata": {
    "ExecuteTime": {
     "end_time": "2020-06-30T21:19:48.529810Z",
     "start_time": "2020-06-30T21:19:48.512060Z"
    }
   },
   "outputs": [],
   "source": [
    "model_results_fit=model_results.loc[model_results['train_test_diff'] < 3.0]\n",
    "model_results_fit=model_results_fit.drop(columns = 'train_test_diff')\n",
    "model_results_fit"
   ]
  },
  {
   "cell_type": "code",
   "execution_count": null,
   "metadata": {
    "ExecuteTime": {
     "end_time": "2020-06-30T21:50:35.808250Z",
     "start_time": "2020-06-30T21:50:35.496553Z"
    }
   },
   "outputs": [],
   "source": [
    "cols_to_plot=model_results_fit.columns[2:8]\n",
    "plt.figure(figsize=(18,5))\n",
    "for col in cols_to_plot:\n",
    "    #used a for loop to plot evaluation metrics data from model_results data frame\n",
    "    sns.scatterplot(data=model_results_fit, y=col, x='model_type', label = col,s=200)\n",
    "plt.title('Evaluation Metrics by Binary Model Type',size=20)\n",
    "plt.xlabel('Model Type',size=15)\n",
    "plt.ylabel('Score',size = 15)\n",
    "plt.xticks(size=12)\n",
    "plt.yticks(size=12)\n",
    "plt.legend(loc = 'lower left', fontsize='x-large')\n",
    "plt.show()"
   ]
  },
  {
   "cell_type": "code",
   "execution_count": null,
   "metadata": {
    "ExecuteTime": {
     "end_time": "2020-06-30T23:04:43.958662Z",
     "start_time": "2020-06-30T23:04:43.772027Z"
    }
   },
   "outputs": [
    {
     "ename": "NameError",
     "evalue": "name 'model_results_nonbinary' is not defined",
     "output_type": "error",
     "traceback": [
      "\u001b[0;31m---------------------------------------------------------------------------\u001b[0m",
      "\u001b[0;31mNameError\u001b[0m                                 Traceback (most recent call last)",
      "\u001b[0;32m<ipython-input-1-e809925e5cbb>\u001b[0m in \u001b[0;36m<module>\u001b[0;34m\u001b[0m\n\u001b[0;32m----> 1\u001b[0;31m model_results_nonbinary_fit = model_results_nonbinary.loc[model_results_nonbinary['train_test_diff']\n\u001b[0m\u001b[1;32m      2\u001b[0m                                                          <= 10.0]\n\u001b[1;32m      3\u001b[0m \u001b[0mmodel_results_nonbinary_fit\u001b[0m\u001b[0;34m=\u001b[0m\u001b[0mmodel_results_nonbinary_fit\u001b[0m\u001b[0;34m.\u001b[0m\u001b[0mdrop\u001b[0m\u001b[0;34m(\u001b[0m\u001b[0mcolumns\u001b[0m \u001b[0;34m=\u001b[0m \u001b[0;34m'train_test_diff'\u001b[0m\u001b[0;34m)\u001b[0m\u001b[0;34m\u001b[0m\u001b[0;34m\u001b[0m\u001b[0m\n\u001b[1;32m      4\u001b[0m \u001b[0mmodel_results_nonbinary_fit\u001b[0m\u001b[0;34m\u001b[0m\u001b[0;34m\u001b[0m\u001b[0m\n\u001b[1;32m      5\u001b[0m \u001b[0mmodel_results_nonbinary\u001b[0m\u001b[0;34m\u001b[0m\u001b[0;34m\u001b[0m\u001b[0m\n",
      "\u001b[0;31mNameError\u001b[0m: name 'model_results_nonbinary' is not defined"
     ]
    }
   ],
   "source": [
    "model_results_nonbinary_fit = model_results_nonbinary.loc[model_results_nonbinary['train_test_diff']\n",
    "                                                         <= 10.0]\n",
    "model_results_nonbinary_fit=model_results_nonbinary_fit.drop(columns = 'train_test_diff')\n",
    "model_results_nonbinary_fit"
   ]
  },
  {
   "cell_type": "code",
   "execution_count": null,
   "metadata": {
    "ExecuteTime": {
     "end_time": "2020-06-30T21:50:55.237474Z",
     "start_time": "2020-06-30T21:50:54.900865Z"
    }
   },
   "outputs": [],
   "source": [
    "cols_to_plot=model_results_nonbinary_fit.columns[2:10]\n",
    "plt.figure(figsize=(12,5))\n",
    "for col in cols_to_plot:\n",
    "    #used a for loop to plot evaluation metrics data from model_results data frame\n",
    "    sns.scatterplot(data=model_results_nonbinary_fit, y=col, x='model_type', label = col,s=200)\n",
    "plt.title('Evaluation Metrics by Multi-Class Model Type',size=20)\n",
    "plt.xlabel('Model Type',size=15)\n",
    "plt.ylabel('Score',size = 15)\n",
    "plt.xticks(size=12)\n",
    "plt.yticks(size=12)\n",
    "plt.legend(loc = 'lower right', fontsize='small')\n",
    "plt.show()"
   ]
  },
  {
   "cell_type": "markdown",
   "metadata": {},
   "source": [
    "# Conclusion"
   ]
  },
  {
   "cell_type": "markdown",
   "metadata": {},
   "source": [
    "After running our Twitter data through our binary and multiclass models, by far the most predictive models were identified. \n",
    "\n",
    "For the binary model, the tuned XGBoosted Random Forest Classifier trained on the SMOTE data was the most predictive with an F-1 Score for the Positive and Negative classes of around 90%. The SMOTE data was instrumental in achieving a predictive model for both classes, something that was impossible for passing a balanced class weight.\n",
    "\n",
    "For the multi-class model, the XGBoost Model performed very well, but not as well as it did in the case of the Binary model. A Naive Bayes model trained on the SMOTE data was able to more accurately predict the 3 classes in this instance, however the model overfit to the training data so much that we would not recommend it for deployment. In this instance, I would also recommmend the XGBoost Model for the multiclass problem as it was able to accurately predict the negative and no emotion classes around 80% of the time, while only predicting the positive class around 50% of the time. \n"
   ]
  },
  {
   "cell_type": "code",
   "execution_count": null,
   "metadata": {},
   "outputs": [],
   "source": []
  }
 ],
 "metadata": {
  "kernelspec": {
   "display_name": "learn-env",
   "language": "python",
   "name": "learn-env"
  },
  "language_info": {
   "codemirror_mode": {
    "name": "ipython",
    "version": 3
   },
   "file_extension": ".py",
   "mimetype": "text/x-python",
   "name": "python",
   "nbconvert_exporter": "python",
   "pygments_lexer": "ipython3",
   "version": "3.7.4"
  },
  "varInspector": {
   "cols": {
    "lenName": 16,
    "lenType": 16,
    "lenVar": 40
   },
   "kernels_config": {
    "python": {
     "delete_cmd_postfix": "",
     "delete_cmd_prefix": "del ",
     "library": "var_list.py",
     "varRefreshCmd": "print(var_dic_list())"
    },
    "r": {
     "delete_cmd_postfix": ") ",
     "delete_cmd_prefix": "rm(",
     "library": "var_list.r",
     "varRefreshCmd": "cat(var_dic_list()) "
    }
   },
   "types_to_exclude": [
    "module",
    "function",
    "builtin_function_or_method",
    "instance",
    "_Feature"
   ],
   "window_display": false
  }
 },
 "nbformat": 4,
 "nbformat_minor": 2
}
