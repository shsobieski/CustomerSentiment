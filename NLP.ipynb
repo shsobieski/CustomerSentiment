{
 "cells": [
  {
   "cell_type": "markdown",
   "metadata": {},
   "source": [
    "# Product Sentiment Classifier\n",
    "\n",
    "## Data Cleaning and EDA\n",
    "Import necessary libraries"
   ]
  },
  {
   "cell_type": "code",
   "execution_count": 1,
   "metadata": {
    "ExecuteTime": {
     "end_time": "2020-06-26T00:20:48.371904Z",
     "start_time": "2020-06-26T00:20:48.354720Z"
    }
   },
   "outputs": [
    {
     "ename": "XGBoostError",
     "evalue": "XGBoost Library (xgboost.dll) could not be loaded.\nLikely causes:\n  * OpenMP runtime is not installed (vcomp140.dll or libgomp-1.dll for Windows, libgomp.so for UNIX-like OSes)\n  * You are running 32-bit Python on a 64-bit OS\nError message(s): ['[WinError 127] The specified procedure could not be found']\n",
     "output_type": "error",
     "traceback": [
      "\u001b[1;31m---------------------------------------------------------------------------\u001b[0m",
      "\u001b[1;31mXGBoostError\u001b[0m                              Traceback (most recent call last)",
      "\u001b[1;32m<ipython-input-1-a0706295daaa>\u001b[0m in \u001b[0;36m<module>\u001b[1;34m\u001b[0m\n\u001b[0;32m     12\u001b[0m \u001b[1;32mfrom\u001b[0m \u001b[0msklearn\u001b[0m\u001b[1;33m.\u001b[0m\u001b[0msvm\u001b[0m \u001b[1;32mimport\u001b[0m \u001b[0mSVC\u001b[0m\u001b[1;33m\u001b[0m\u001b[1;33m\u001b[0m\u001b[0m\n\u001b[0;32m     13\u001b[0m \u001b[1;32mfrom\u001b[0m \u001b[0msklearn\u001b[0m\u001b[1;33m.\u001b[0m\u001b[0mmetrics\u001b[0m \u001b[1;32mimport\u001b[0m \u001b[0maccuracy_score\u001b[0m\u001b[1;33m,\u001b[0m \u001b[0mclassification_report\u001b[0m\u001b[1;33m,\u001b[0m \u001b[0mconfusion_matrix\u001b[0m\u001b[1;33m\u001b[0m\u001b[1;33m\u001b[0m\u001b[0m\n\u001b[1;32m---> 14\u001b[1;33m \u001b[1;32mfrom\u001b[0m \u001b[0mxgboost\u001b[0m \u001b[1;32mimport\u001b[0m \u001b[0mXGBClassifier\u001b[0m\u001b[1;33m\u001b[0m\u001b[1;33m\u001b[0m\u001b[0m\n\u001b[0m\u001b[0;32m     15\u001b[0m \u001b[1;31m#from sklearn.metrics import (classification_report,\u001b[0m\u001b[1;33m\u001b[0m\u001b[1;33m\u001b[0m\u001b[1;33m\u001b[0m\u001b[0m\n\u001b[0;32m     16\u001b[0m                              \u001b[1;31m#plot_confusion_matrix)\u001b[0m\u001b[1;33m\u001b[0m\u001b[1;33m\u001b[0m\u001b[1;33m\u001b[0m\u001b[0m\n",
      "\u001b[1;32m~\\Anaconda3\\lib\\site-packages\\xgboost\\__init__.py\u001b[0m in \u001b[0;36m<module>\u001b[1;34m\u001b[0m\n\u001b[0;32m      9\u001b[0m \u001b[1;32mimport\u001b[0m \u001b[0mos\u001b[0m\u001b[1;33m\u001b[0m\u001b[1;33m\u001b[0m\u001b[0m\n\u001b[0;32m     10\u001b[0m \u001b[1;33m\u001b[0m\u001b[0m\n\u001b[1;32m---> 11\u001b[1;33m \u001b[1;32mfrom\u001b[0m \u001b[1;33m.\u001b[0m\u001b[0mcore\u001b[0m \u001b[1;32mimport\u001b[0m \u001b[0mDMatrix\u001b[0m\u001b[1;33m,\u001b[0m \u001b[0mBooster\u001b[0m\u001b[1;33m\u001b[0m\u001b[1;33m\u001b[0m\u001b[0m\n\u001b[0m\u001b[0;32m     12\u001b[0m \u001b[1;32mfrom\u001b[0m \u001b[1;33m.\u001b[0m\u001b[0mtraining\u001b[0m \u001b[1;32mimport\u001b[0m \u001b[0mtrain\u001b[0m\u001b[1;33m,\u001b[0m \u001b[0mcv\u001b[0m\u001b[1;33m\u001b[0m\u001b[1;33m\u001b[0m\u001b[0m\n\u001b[0;32m     13\u001b[0m \u001b[1;32mfrom\u001b[0m \u001b[1;33m.\u001b[0m \u001b[1;32mimport\u001b[0m \u001b[0mrabit\u001b[0m                   \u001b[1;31m# noqa\u001b[0m\u001b[1;33m\u001b[0m\u001b[1;33m\u001b[0m\u001b[0m\n",
      "\u001b[1;32m~\\Anaconda3\\lib\\site-packages\\xgboost\\core.py\u001b[0m in \u001b[0;36m<module>\u001b[1;34m\u001b[0m\n\u001b[0;32m    159\u001b[0m \u001b[1;33m\u001b[0m\u001b[0m\n\u001b[0;32m    160\u001b[0m \u001b[1;31m# load the XGBoost library globally\u001b[0m\u001b[1;33m\u001b[0m\u001b[1;33m\u001b[0m\u001b[1;33m\u001b[0m\u001b[0m\n\u001b[1;32m--> 161\u001b[1;33m \u001b[0m_LIB\u001b[0m \u001b[1;33m=\u001b[0m \u001b[0m_load_lib\u001b[0m\u001b[1;33m(\u001b[0m\u001b[1;33m)\u001b[0m\u001b[1;33m\u001b[0m\u001b[1;33m\u001b[0m\u001b[0m\n\u001b[0m\u001b[0;32m    162\u001b[0m \u001b[1;33m\u001b[0m\u001b[0m\n\u001b[0;32m    163\u001b[0m \u001b[1;33m\u001b[0m\u001b[0m\n",
      "\u001b[1;32m~\\Anaconda3\\lib\\site-packages\\xgboost\\core.py\u001b[0m in \u001b[0;36m_load_lib\u001b[1;34m()\u001b[0m\n\u001b[0;32m    150\u001b[0m             \u001b[1;34m'libgomp.so for UNIX-like OSes)\\n'\u001b[0m \u001b[1;33m+\u001b[0m\u001b[1;33m\u001b[0m\u001b[1;33m\u001b[0m\u001b[0m\n\u001b[0;32m    151\u001b[0m             \u001b[1;34m'  * You are running 32-bit Python on a 64-bit OS\\n'\u001b[0m \u001b[1;33m+\u001b[0m\u001b[1;33m\u001b[0m\u001b[1;33m\u001b[0m\u001b[0m\n\u001b[1;32m--> 152\u001b[1;33m             'Error message(s): {}\\n'.format(os_error_list))\n\u001b[0m\u001b[0;32m    153\u001b[0m     \u001b[0mlib\u001b[0m\u001b[1;33m.\u001b[0m\u001b[0mXGBGetLastError\u001b[0m\u001b[1;33m.\u001b[0m\u001b[0mrestype\u001b[0m \u001b[1;33m=\u001b[0m \u001b[0mctypes\u001b[0m\u001b[1;33m.\u001b[0m\u001b[0mc_char_p\u001b[0m\u001b[1;33m\u001b[0m\u001b[1;33m\u001b[0m\u001b[0m\n\u001b[0;32m    154\u001b[0m     \u001b[0mlib\u001b[0m\u001b[1;33m.\u001b[0m\u001b[0mcallback\u001b[0m \u001b[1;33m=\u001b[0m \u001b[0m_get_log_callback_func\u001b[0m\u001b[1;33m(\u001b[0m\u001b[1;33m)\u001b[0m\u001b[1;33m\u001b[0m\u001b[1;33m\u001b[0m\u001b[0m\n",
      "\u001b[1;31mXGBoostError\u001b[0m: XGBoost Library (xgboost.dll) could not be loaded.\nLikely causes:\n  * OpenMP runtime is not installed (vcomp140.dll or libgomp-1.dll for Windows, libgomp.so for UNIX-like OSes)\n  * You are running 32-bit Python on a 64-bit OS\nError message(s): ['[WinError 127] The specified procedure could not be found']\n"
     ]
    }
   ],
   "source": [
    "import pandas as pd\n",
    "import re\n",
    "import numpy as np\n",
    "import nltk\n",
    "from nltk import word_tokenize\n",
    "from nltk.stem.wordnet import WordNetLemmatizer\n",
    "from nltk import FreqDist\n",
    "from nltk.corpus import stopwords\n",
    "from nltk.collocations import *\n",
    "from sklearn.model_selection import train_test_split, GridSearchCV\n",
    "from sklearn.linear_model import LogisticRegression\n",
    "from sklearn.svm import SVC\n",
    "from sklearn.metrics import accuracy_score, classification_report, confusion_matrix\n",
    "from xgboost import XGBClassifier\n",
    "#from sklearn.metrics import (classification_report, \n",
    "                             #plot_confusion_matrix)\n",
    "from sklearn.feature_extraction.text import CountVectorizer, TfidfVectorizer\n",
    "from sklearn.ensemble import RandomForestClassifier\n",
    "import matplotlib.pyplot as plt\n",
    "import seaborn as sns\n",
    "import string\n",
    "%matplotlib inline\n",
    "\n",
    "import tensorflow as tf\n",
    "import keras\n",
    "from keras import models\n",
    "from keras import layers\n",
    "from keras import optimizers\n",
    "\n",
    "from imblearn.over_sampling import SMOTE\n",
    "\n",
     "%run -i \"clean_lemmatize_token.py\"\n",
     "%run -i \"report.py\""
   ]
  },
  {
   "cell_type": "markdown",
   "metadata": {},
   "source": [
    "Import data from data.world."
   ]
  },
  {
   "cell_type": "code",
   "execution_count": null,
   "metadata": {
    "ExecuteTime": {
     "end_time": "2020-06-26T00:20:49.195119Z",
     "start_time": "2020-06-26T00:20:48.374482Z"
    },
    "scrolled": true
   },
   "outputs": [
    {
     "ename": "URLError",
     "evalue": "<urlopen error [Errno 11001] getaddrinfo failed>",
     "output_type": "error",
     "traceback": [
      "\u001b[1;31m---------------------------------------------------------------------------\u001b[0m",
      "\u001b[1;31mgaierror\u001b[0m                                  Traceback (most recent call last)",
      "\u001b[1;32m~\\Anaconda3\\lib\\urllib\\request.py\u001b[0m in \u001b[0;36mdo_open\u001b[1;34m(self, http_class, req, **http_conn_args)\u001b[0m\n\u001b[0;32m   1316\u001b[0m                 h.request(req.get_method(), req.selector, req.data, headers,\n\u001b[1;32m-> 1317\u001b[1;33m                           encode_chunked=req.has_header('Transfer-encoding'))\n\u001b[0m\u001b[0;32m   1318\u001b[0m             \u001b[1;32mexcept\u001b[0m \u001b[0mOSError\u001b[0m \u001b[1;32mas\u001b[0m \u001b[0merr\u001b[0m\u001b[1;33m:\u001b[0m \u001b[1;31m# timeout error\u001b[0m\u001b[1;33m\u001b[0m\u001b[1;33m\u001b[0m\u001b[0m\n",
      "\u001b[1;32m~\\Anaconda3\\lib\\http\\client.py\u001b[0m in \u001b[0;36mrequest\u001b[1;34m(self, method, url, body, headers, encode_chunked)\u001b[0m\n\u001b[0;32m   1243\u001b[0m         \u001b[1;34m\"\"\"Send a complete request to the server.\"\"\"\u001b[0m\u001b[1;33m\u001b[0m\u001b[1;33m\u001b[0m\u001b[0m\n\u001b[1;32m-> 1244\u001b[1;33m         \u001b[0mself\u001b[0m\u001b[1;33m.\u001b[0m\u001b[0m_send_request\u001b[0m\u001b[1;33m(\u001b[0m\u001b[0mmethod\u001b[0m\u001b[1;33m,\u001b[0m \u001b[0murl\u001b[0m\u001b[1;33m,\u001b[0m \u001b[0mbody\u001b[0m\u001b[1;33m,\u001b[0m \u001b[0mheaders\u001b[0m\u001b[1;33m,\u001b[0m \u001b[0mencode_chunked\u001b[0m\u001b[1;33m)\u001b[0m\u001b[1;33m\u001b[0m\u001b[1;33m\u001b[0m\u001b[0m\n\u001b[0m\u001b[0;32m   1245\u001b[0m \u001b[1;33m\u001b[0m\u001b[0m\n",
      "\u001b[1;32m~\\Anaconda3\\lib\\http\\client.py\u001b[0m in \u001b[0;36m_send_request\u001b[1;34m(self, method, url, body, headers, encode_chunked)\u001b[0m\n\u001b[0;32m   1289\u001b[0m             \u001b[0mbody\u001b[0m \u001b[1;33m=\u001b[0m \u001b[0m_encode\u001b[0m\u001b[1;33m(\u001b[0m\u001b[0mbody\u001b[0m\u001b[1;33m,\u001b[0m \u001b[1;34m'body'\u001b[0m\u001b[1;33m)\u001b[0m\u001b[1;33m\u001b[0m\u001b[1;33m\u001b[0m\u001b[0m\n\u001b[1;32m-> 1290\u001b[1;33m         \u001b[0mself\u001b[0m\u001b[1;33m.\u001b[0m\u001b[0mendheaders\u001b[0m\u001b[1;33m(\u001b[0m\u001b[0mbody\u001b[0m\u001b[1;33m,\u001b[0m \u001b[0mencode_chunked\u001b[0m\u001b[1;33m=\u001b[0m\u001b[0mencode_chunked\u001b[0m\u001b[1;33m)\u001b[0m\u001b[1;33m\u001b[0m\u001b[1;33m\u001b[0m\u001b[0m\n\u001b[0m\u001b[0;32m   1291\u001b[0m \u001b[1;33m\u001b[0m\u001b[0m\n",
      "\u001b[1;32m~\\Anaconda3\\lib\\http\\client.py\u001b[0m in \u001b[0;36mendheaders\u001b[1;34m(self, message_body, encode_chunked)\u001b[0m\n\u001b[0;32m   1238\u001b[0m             \u001b[1;32mraise\u001b[0m \u001b[0mCannotSendHeader\u001b[0m\u001b[1;33m(\u001b[0m\u001b[1;33m)\u001b[0m\u001b[1;33m\u001b[0m\u001b[1;33m\u001b[0m\u001b[0m\n\u001b[1;32m-> 1239\u001b[1;33m         \u001b[0mself\u001b[0m\u001b[1;33m.\u001b[0m\u001b[0m_send_output\u001b[0m\u001b[1;33m(\u001b[0m\u001b[0mmessage_body\u001b[0m\u001b[1;33m,\u001b[0m \u001b[0mencode_chunked\u001b[0m\u001b[1;33m=\u001b[0m\u001b[0mencode_chunked\u001b[0m\u001b[1;33m)\u001b[0m\u001b[1;33m\u001b[0m\u001b[1;33m\u001b[0m\u001b[0m\n\u001b[0m\u001b[0;32m   1240\u001b[0m \u001b[1;33m\u001b[0m\u001b[0m\n",
      "\u001b[1;32m~\\Anaconda3\\lib\\http\\client.py\u001b[0m in \u001b[0;36m_send_output\u001b[1;34m(self, message_body, encode_chunked)\u001b[0m\n\u001b[0;32m   1025\u001b[0m         \u001b[1;32mdel\u001b[0m \u001b[0mself\u001b[0m\u001b[1;33m.\u001b[0m\u001b[0m_buffer\u001b[0m\u001b[1;33m[\u001b[0m\u001b[1;33m:\u001b[0m\u001b[1;33m]\u001b[0m\u001b[1;33m\u001b[0m\u001b[1;33m\u001b[0m\u001b[0m\n\u001b[1;32m-> 1026\u001b[1;33m         \u001b[0mself\u001b[0m\u001b[1;33m.\u001b[0m\u001b[0msend\u001b[0m\u001b[1;33m(\u001b[0m\u001b[0mmsg\u001b[0m\u001b[1;33m)\u001b[0m\u001b[1;33m\u001b[0m\u001b[1;33m\u001b[0m\u001b[0m\n\u001b[0m\u001b[0;32m   1027\u001b[0m \u001b[1;33m\u001b[0m\u001b[0m\n",
      "\u001b[1;32m~\\Anaconda3\\lib\\http\\client.py\u001b[0m in \u001b[0;36msend\u001b[1;34m(self, data)\u001b[0m\n\u001b[0;32m    965\u001b[0m             \u001b[1;32mif\u001b[0m \u001b[0mself\u001b[0m\u001b[1;33m.\u001b[0m\u001b[0mauto_open\u001b[0m\u001b[1;33m:\u001b[0m\u001b[1;33m\u001b[0m\u001b[1;33m\u001b[0m\u001b[0m\n\u001b[1;32m--> 966\u001b[1;33m                 \u001b[0mself\u001b[0m\u001b[1;33m.\u001b[0m\u001b[0mconnect\u001b[0m\u001b[1;33m(\u001b[0m\u001b[1;33m)\u001b[0m\u001b[1;33m\u001b[0m\u001b[1;33m\u001b[0m\u001b[0m\n\u001b[0m\u001b[0;32m    967\u001b[0m             \u001b[1;32melse\u001b[0m\u001b[1;33m:\u001b[0m\u001b[1;33m\u001b[0m\u001b[1;33m\u001b[0m\u001b[0m\n",
      "\u001b[1;32m~\\Anaconda3\\lib\\http\\client.py\u001b[0m in \u001b[0;36mconnect\u001b[1;34m(self)\u001b[0m\n\u001b[0;32m   1405\u001b[0m \u001b[1;33m\u001b[0m\u001b[0m\n\u001b[1;32m-> 1406\u001b[1;33m             \u001b[0msuper\u001b[0m\u001b[1;33m(\u001b[0m\u001b[1;33m)\u001b[0m\u001b[1;33m.\u001b[0m\u001b[0mconnect\u001b[0m\u001b[1;33m(\u001b[0m\u001b[1;33m)\u001b[0m\u001b[1;33m\u001b[0m\u001b[1;33m\u001b[0m\u001b[0m\n\u001b[0m\u001b[0;32m   1407\u001b[0m \u001b[1;33m\u001b[0m\u001b[0m\n",
      "\u001b[1;32m~\\Anaconda3\\lib\\http\\client.py\u001b[0m in \u001b[0;36mconnect\u001b[1;34m(self)\u001b[0m\n\u001b[0;32m    937\u001b[0m         self.sock = self._create_connection(\n\u001b[1;32m--> 938\u001b[1;33m             (self.host,self.port), self.timeout, self.source_address)\n\u001b[0m\u001b[0;32m    939\u001b[0m         \u001b[0mself\u001b[0m\u001b[1;33m.\u001b[0m\u001b[0msock\u001b[0m\u001b[1;33m.\u001b[0m\u001b[0msetsockopt\u001b[0m\u001b[1;33m(\u001b[0m\u001b[0msocket\u001b[0m\u001b[1;33m.\u001b[0m\u001b[0mIPPROTO_TCP\u001b[0m\u001b[1;33m,\u001b[0m \u001b[0msocket\u001b[0m\u001b[1;33m.\u001b[0m\u001b[0mTCP_NODELAY\u001b[0m\u001b[1;33m,\u001b[0m \u001b[1;36m1\u001b[0m\u001b[1;33m)\u001b[0m\u001b[1;33m\u001b[0m\u001b[1;33m\u001b[0m\u001b[0m\n",
      "\u001b[1;32m~\\Anaconda3\\lib\\socket.py\u001b[0m in \u001b[0;36mcreate_connection\u001b[1;34m(address, timeout, source_address)\u001b[0m\n\u001b[0;32m    706\u001b[0m     \u001b[0merr\u001b[0m \u001b[1;33m=\u001b[0m \u001b[1;32mNone\u001b[0m\u001b[1;33m\u001b[0m\u001b[1;33m\u001b[0m\u001b[0m\n\u001b[1;32m--> 707\u001b[1;33m     \u001b[1;32mfor\u001b[0m \u001b[0mres\u001b[0m \u001b[1;32min\u001b[0m \u001b[0mgetaddrinfo\u001b[0m\u001b[1;33m(\u001b[0m\u001b[0mhost\u001b[0m\u001b[1;33m,\u001b[0m \u001b[0mport\u001b[0m\u001b[1;33m,\u001b[0m \u001b[1;36m0\u001b[0m\u001b[1;33m,\u001b[0m \u001b[0mSOCK_STREAM\u001b[0m\u001b[1;33m)\u001b[0m\u001b[1;33m:\u001b[0m\u001b[1;33m\u001b[0m\u001b[1;33m\u001b[0m\u001b[0m\n\u001b[0m\u001b[0;32m    708\u001b[0m         \u001b[0maf\u001b[0m\u001b[1;33m,\u001b[0m \u001b[0msocktype\u001b[0m\u001b[1;33m,\u001b[0m \u001b[0mproto\u001b[0m\u001b[1;33m,\u001b[0m \u001b[0mcanonname\u001b[0m\u001b[1;33m,\u001b[0m \u001b[0msa\u001b[0m \u001b[1;33m=\u001b[0m \u001b[0mres\u001b[0m\u001b[1;33m\u001b[0m\u001b[1;33m\u001b[0m\u001b[0m\n",
      "\u001b[1;32m~\\Anaconda3\\lib\\socket.py\u001b[0m in \u001b[0;36mgetaddrinfo\u001b[1;34m(host, port, family, type, proto, flags)\u001b[0m\n\u001b[0;32m    747\u001b[0m     \u001b[0maddrlist\u001b[0m \u001b[1;33m=\u001b[0m \u001b[1;33m[\u001b[0m\u001b[1;33m]\u001b[0m\u001b[1;33m\u001b[0m\u001b[1;33m\u001b[0m\u001b[0m\n\u001b[1;32m--> 748\u001b[1;33m     \u001b[1;32mfor\u001b[0m \u001b[0mres\u001b[0m \u001b[1;32min\u001b[0m \u001b[0m_socket\u001b[0m\u001b[1;33m.\u001b[0m\u001b[0mgetaddrinfo\u001b[0m\u001b[1;33m(\u001b[0m\u001b[0mhost\u001b[0m\u001b[1;33m,\u001b[0m \u001b[0mport\u001b[0m\u001b[1;33m,\u001b[0m \u001b[0mfamily\u001b[0m\u001b[1;33m,\u001b[0m \u001b[0mtype\u001b[0m\u001b[1;33m,\u001b[0m \u001b[0mproto\u001b[0m\u001b[1;33m,\u001b[0m \u001b[0mflags\u001b[0m\u001b[1;33m)\u001b[0m\u001b[1;33m:\u001b[0m\u001b[1;33m\u001b[0m\u001b[1;33m\u001b[0m\u001b[0m\n\u001b[0m\u001b[0;32m    749\u001b[0m         \u001b[0maf\u001b[0m\u001b[1;33m,\u001b[0m \u001b[0msocktype\u001b[0m\u001b[1;33m,\u001b[0m \u001b[0mproto\u001b[0m\u001b[1;33m,\u001b[0m \u001b[0mcanonname\u001b[0m\u001b[1;33m,\u001b[0m \u001b[0msa\u001b[0m \u001b[1;33m=\u001b[0m \u001b[0mres\u001b[0m\u001b[1;33m\u001b[0m\u001b[1;33m\u001b[0m\u001b[0m\n",
      "\u001b[1;31mgaierror\u001b[0m: [Errno 11001] getaddrinfo failed",
      "\nDuring handling of the above exception, another exception occurred:\n",
      "\u001b[1;31mURLError\u001b[0m                                  Traceback (most recent call last)",
      "\u001b[1;32m~\\Documents\\labs\\Module4Project\\CustomerReviewSentiment\\report.py\u001b[0m in \u001b[0;36m<module>\u001b[1;34m\u001b[0m\n\u001b[0;32m      1\u001b[0m df = pd.read_csv('https://query.data.world/s/zbehvjkmiewbkln44rae6iphum4v3g', \n\u001b[1;32m----> 2\u001b[1;33m                  encoding = \"ISO-8859-1\")\n\u001b[0m\u001b[0;32m      3\u001b[0m \u001b[0mdf\u001b[0m\u001b[1;33m.\u001b[0m\u001b[0mhead\u001b[0m\u001b[1;33m(\u001b[0m\u001b[1;33m)\u001b[0m\u001b[1;33m\u001b[0m\u001b[1;33m\u001b[0m\u001b[0m\n",
      "\u001b[1;32m~\\Anaconda3\\lib\\site-packages\\pandas\\io\\parsers.py\u001b[0m in \u001b[0;36mparser_f\u001b[1;34m(filepath_or_buffer, sep, delimiter, header, names, index_col, usecols, squeeze, prefix, mangle_dupe_cols, dtype, engine, converters, true_values, false_values, skipinitialspace, skiprows, skipfooter, nrows, na_values, keep_default_na, na_filter, verbose, skip_blank_lines, parse_dates, infer_datetime_format, keep_date_col, date_parser, dayfirst, cache_dates, iterator, chunksize, compression, thousands, decimal, lineterminator, quotechar, quoting, doublequote, escapechar, comment, encoding, dialect, error_bad_lines, warn_bad_lines, delim_whitespace, low_memory, memory_map, float_precision)\u001b[0m\n\u001b[0;32m    683\u001b[0m         )\n\u001b[0;32m    684\u001b[0m \u001b[1;33m\u001b[0m\u001b[0m\n\u001b[1;32m--> 685\u001b[1;33m         \u001b[1;32mreturn\u001b[0m \u001b[0m_read\u001b[0m\u001b[1;33m(\u001b[0m\u001b[0mfilepath_or_buffer\u001b[0m\u001b[1;33m,\u001b[0m \u001b[0mkwds\u001b[0m\u001b[1;33m)\u001b[0m\u001b[1;33m\u001b[0m\u001b[1;33m\u001b[0m\u001b[0m\n\u001b[0m\u001b[0;32m    686\u001b[0m \u001b[1;33m\u001b[0m\u001b[0m\n\u001b[0;32m    687\u001b[0m     \u001b[0mparser_f\u001b[0m\u001b[1;33m.\u001b[0m\u001b[0m__name__\u001b[0m \u001b[1;33m=\u001b[0m \u001b[0mname\u001b[0m\u001b[1;33m\u001b[0m\u001b[1;33m\u001b[0m\u001b[0m\n",
      "\u001b[1;32m~\\Anaconda3\\lib\\site-packages\\pandas\\io\\parsers.py\u001b[0m in \u001b[0;36m_read\u001b[1;34m(filepath_or_buffer, kwds)\u001b[0m\n\u001b[0;32m    438\u001b[0m     \u001b[1;31m# See https://github.com/python/mypy/issues/1297\u001b[0m\u001b[1;33m\u001b[0m\u001b[1;33m\u001b[0m\u001b[1;33m\u001b[0m\u001b[0m\n\u001b[0;32m    439\u001b[0m     fp_or_buf, _, compression, should_close = get_filepath_or_buffer(\n\u001b[1;32m--> 440\u001b[1;33m         \u001b[0mfilepath_or_buffer\u001b[0m\u001b[1;33m,\u001b[0m \u001b[0mencoding\u001b[0m\u001b[1;33m,\u001b[0m \u001b[0mcompression\u001b[0m\u001b[1;33m\u001b[0m\u001b[1;33m\u001b[0m\u001b[0m\n\u001b[0m\u001b[0;32m    441\u001b[0m     )\n\u001b[0;32m    442\u001b[0m     \u001b[0mkwds\u001b[0m\u001b[1;33m[\u001b[0m\u001b[1;34m\"compression\"\u001b[0m\u001b[1;33m]\u001b[0m \u001b[1;33m=\u001b[0m \u001b[0mcompression\u001b[0m\u001b[1;33m\u001b[0m\u001b[1;33m\u001b[0m\u001b[0m\n",
      "\u001b[1;32m~\\Anaconda3\\lib\\site-packages\\pandas\\io\\common.py\u001b[0m in \u001b[0;36mget_filepath_or_buffer\u001b[1;34m(filepath_or_buffer, encoding, compression, mode)\u001b[0m\n\u001b[0;32m    194\u001b[0m \u001b[1;33m\u001b[0m\u001b[0m\n\u001b[0;32m    195\u001b[0m     \u001b[1;32mif\u001b[0m \u001b[0m_is_url\u001b[0m\u001b[1;33m(\u001b[0m\u001b[0mfilepath_or_buffer\u001b[0m\u001b[1;33m)\u001b[0m\u001b[1;33m:\u001b[0m\u001b[1;33m\u001b[0m\u001b[1;33m\u001b[0m\u001b[0m\n\u001b[1;32m--> 196\u001b[1;33m         \u001b[0mreq\u001b[0m \u001b[1;33m=\u001b[0m \u001b[0murlopen\u001b[0m\u001b[1;33m(\u001b[0m\u001b[0mfilepath_or_buffer\u001b[0m\u001b[1;33m)\u001b[0m\u001b[1;33m\u001b[0m\u001b[1;33m\u001b[0m\u001b[0m\n\u001b[0m\u001b[0;32m    197\u001b[0m         \u001b[0mcontent_encoding\u001b[0m \u001b[1;33m=\u001b[0m \u001b[0mreq\u001b[0m\u001b[1;33m.\u001b[0m\u001b[0mheaders\u001b[0m\u001b[1;33m.\u001b[0m\u001b[0mget\u001b[0m\u001b[1;33m(\u001b[0m\u001b[1;34m\"Content-Encoding\"\u001b[0m\u001b[1;33m,\u001b[0m \u001b[1;32mNone\u001b[0m\u001b[1;33m)\u001b[0m\u001b[1;33m\u001b[0m\u001b[1;33m\u001b[0m\u001b[0m\n\u001b[0;32m    198\u001b[0m         \u001b[1;32mif\u001b[0m \u001b[0mcontent_encoding\u001b[0m \u001b[1;33m==\u001b[0m \u001b[1;34m\"gzip\"\u001b[0m\u001b[1;33m:\u001b[0m\u001b[1;33m\u001b[0m\u001b[1;33m\u001b[0m\u001b[0m\n",
      "\u001b[1;32m~\\Anaconda3\\lib\\urllib\\request.py\u001b[0m in \u001b[0;36murlopen\u001b[1;34m(url, data, timeout, cafile, capath, cadefault, context)\u001b[0m\n\u001b[0;32m    220\u001b[0m     \u001b[1;32melse\u001b[0m\u001b[1;33m:\u001b[0m\u001b[1;33m\u001b[0m\u001b[1;33m\u001b[0m\u001b[0m\n\u001b[0;32m    221\u001b[0m         \u001b[0mopener\u001b[0m \u001b[1;33m=\u001b[0m \u001b[0m_opener\u001b[0m\u001b[1;33m\u001b[0m\u001b[1;33m\u001b[0m\u001b[0m\n\u001b[1;32m--> 222\u001b[1;33m     \u001b[1;32mreturn\u001b[0m \u001b[0mopener\u001b[0m\u001b[1;33m.\u001b[0m\u001b[0mopen\u001b[0m\u001b[1;33m(\u001b[0m\u001b[0murl\u001b[0m\u001b[1;33m,\u001b[0m \u001b[0mdata\u001b[0m\u001b[1;33m,\u001b[0m \u001b[0mtimeout\u001b[0m\u001b[1;33m)\u001b[0m\u001b[1;33m\u001b[0m\u001b[1;33m\u001b[0m\u001b[0m\n\u001b[0m\u001b[0;32m    223\u001b[0m \u001b[1;33m\u001b[0m\u001b[0m\n\u001b[0;32m    224\u001b[0m \u001b[1;32mdef\u001b[0m \u001b[0minstall_opener\u001b[0m\u001b[1;33m(\u001b[0m\u001b[0mopener\u001b[0m\u001b[1;33m)\u001b[0m\u001b[1;33m:\u001b[0m\u001b[1;33m\u001b[0m\u001b[1;33m\u001b[0m\u001b[0m\n",
      "\u001b[1;32m~\\Anaconda3\\lib\\urllib\\request.py\u001b[0m in \u001b[0;36mopen\u001b[1;34m(self, fullurl, data, timeout)\u001b[0m\n\u001b[0;32m    523\u001b[0m             \u001b[0mreq\u001b[0m \u001b[1;33m=\u001b[0m \u001b[0mmeth\u001b[0m\u001b[1;33m(\u001b[0m\u001b[0mreq\u001b[0m\u001b[1;33m)\u001b[0m\u001b[1;33m\u001b[0m\u001b[1;33m\u001b[0m\u001b[0m\n\u001b[0;32m    524\u001b[0m \u001b[1;33m\u001b[0m\u001b[0m\n\u001b[1;32m--> 525\u001b[1;33m         \u001b[0mresponse\u001b[0m \u001b[1;33m=\u001b[0m \u001b[0mself\u001b[0m\u001b[1;33m.\u001b[0m\u001b[0m_open\u001b[0m\u001b[1;33m(\u001b[0m\u001b[0mreq\u001b[0m\u001b[1;33m,\u001b[0m \u001b[0mdata\u001b[0m\u001b[1;33m)\u001b[0m\u001b[1;33m\u001b[0m\u001b[1;33m\u001b[0m\u001b[0m\n\u001b[0m\u001b[0;32m    526\u001b[0m \u001b[1;33m\u001b[0m\u001b[0m\n\u001b[0;32m    527\u001b[0m         \u001b[1;31m# post-process response\u001b[0m\u001b[1;33m\u001b[0m\u001b[1;33m\u001b[0m\u001b[1;33m\u001b[0m\u001b[0m\n",
      "\u001b[1;32m~\\Anaconda3\\lib\\urllib\\request.py\u001b[0m in \u001b[0;36m_open\u001b[1;34m(self, req, data)\u001b[0m\n\u001b[0;32m    541\u001b[0m         \u001b[0mprotocol\u001b[0m \u001b[1;33m=\u001b[0m \u001b[0mreq\u001b[0m\u001b[1;33m.\u001b[0m\u001b[0mtype\u001b[0m\u001b[1;33m\u001b[0m\u001b[1;33m\u001b[0m\u001b[0m\n\u001b[0;32m    542\u001b[0m         result = self._call_chain(self.handle_open, protocol, protocol +\n\u001b[1;32m--> 543\u001b[1;33m                                   '_open', req)\n\u001b[0m\u001b[0;32m    544\u001b[0m         \u001b[1;32mif\u001b[0m \u001b[0mresult\u001b[0m\u001b[1;33m:\u001b[0m\u001b[1;33m\u001b[0m\u001b[1;33m\u001b[0m\u001b[0m\n\u001b[0;32m    545\u001b[0m             \u001b[1;32mreturn\u001b[0m \u001b[0mresult\u001b[0m\u001b[1;33m\u001b[0m\u001b[1;33m\u001b[0m\u001b[0m\n",
      "\u001b[1;32m~\\Anaconda3\\lib\\urllib\\request.py\u001b[0m in \u001b[0;36m_call_chain\u001b[1;34m(self, chain, kind, meth_name, *args)\u001b[0m\n\u001b[0;32m    501\u001b[0m         \u001b[1;32mfor\u001b[0m \u001b[0mhandler\u001b[0m \u001b[1;32min\u001b[0m \u001b[0mhandlers\u001b[0m\u001b[1;33m:\u001b[0m\u001b[1;33m\u001b[0m\u001b[1;33m\u001b[0m\u001b[0m\n\u001b[0;32m    502\u001b[0m             \u001b[0mfunc\u001b[0m \u001b[1;33m=\u001b[0m \u001b[0mgetattr\u001b[0m\u001b[1;33m(\u001b[0m\u001b[0mhandler\u001b[0m\u001b[1;33m,\u001b[0m \u001b[0mmeth_name\u001b[0m\u001b[1;33m)\u001b[0m\u001b[1;33m\u001b[0m\u001b[1;33m\u001b[0m\u001b[0m\n\u001b[1;32m--> 503\u001b[1;33m             \u001b[0mresult\u001b[0m \u001b[1;33m=\u001b[0m \u001b[0mfunc\u001b[0m\u001b[1;33m(\u001b[0m\u001b[1;33m*\u001b[0m\u001b[0margs\u001b[0m\u001b[1;33m)\u001b[0m\u001b[1;33m\u001b[0m\u001b[1;33m\u001b[0m\u001b[0m\n\u001b[0m\u001b[0;32m    504\u001b[0m             \u001b[1;32mif\u001b[0m \u001b[0mresult\u001b[0m \u001b[1;32mis\u001b[0m \u001b[1;32mnot\u001b[0m \u001b[1;32mNone\u001b[0m\u001b[1;33m:\u001b[0m\u001b[1;33m\u001b[0m\u001b[1;33m\u001b[0m\u001b[0m\n\u001b[0;32m    505\u001b[0m                 \u001b[1;32mreturn\u001b[0m \u001b[0mresult\u001b[0m\u001b[1;33m\u001b[0m\u001b[1;33m\u001b[0m\u001b[0m\n",
      "\u001b[1;32m~\\Anaconda3\\lib\\urllib\\request.py\u001b[0m in \u001b[0;36mhttps_open\u001b[1;34m(self, req)\u001b[0m\n\u001b[0;32m   1358\u001b[0m         \u001b[1;32mdef\u001b[0m \u001b[0mhttps_open\u001b[0m\u001b[1;33m(\u001b[0m\u001b[0mself\u001b[0m\u001b[1;33m,\u001b[0m \u001b[0mreq\u001b[0m\u001b[1;33m)\u001b[0m\u001b[1;33m:\u001b[0m\u001b[1;33m\u001b[0m\u001b[1;33m\u001b[0m\u001b[0m\n\u001b[0;32m   1359\u001b[0m             return self.do_open(http.client.HTTPSConnection, req,\n\u001b[1;32m-> 1360\u001b[1;33m                 context=self._context, check_hostname=self._check_hostname)\n\u001b[0m\u001b[0;32m   1361\u001b[0m \u001b[1;33m\u001b[0m\u001b[0m\n\u001b[0;32m   1362\u001b[0m         \u001b[0mhttps_request\u001b[0m \u001b[1;33m=\u001b[0m \u001b[0mAbstractHTTPHandler\u001b[0m\u001b[1;33m.\u001b[0m\u001b[0mdo_request_\u001b[0m\u001b[1;33m\u001b[0m\u001b[1;33m\u001b[0m\u001b[0m\n",
      "\u001b[1;32m~\\Anaconda3\\lib\\urllib\\request.py\u001b[0m in \u001b[0;36mdo_open\u001b[1;34m(self, http_class, req, **http_conn_args)\u001b[0m\n\u001b[0;32m   1317\u001b[0m                           encode_chunked=req.has_header('Transfer-encoding'))\n\u001b[0;32m   1318\u001b[0m             \u001b[1;32mexcept\u001b[0m \u001b[0mOSError\u001b[0m \u001b[1;32mas\u001b[0m \u001b[0merr\u001b[0m\u001b[1;33m:\u001b[0m \u001b[1;31m# timeout error\u001b[0m\u001b[1;33m\u001b[0m\u001b[1;33m\u001b[0m\u001b[0m\n\u001b[1;32m-> 1319\u001b[1;33m                 \u001b[1;32mraise\u001b[0m \u001b[0mURLError\u001b[0m\u001b[1;33m(\u001b[0m\u001b[0merr\u001b[0m\u001b[1;33m)\u001b[0m\u001b[1;33m\u001b[0m\u001b[1;33m\u001b[0m\u001b[0m\n\u001b[0m\u001b[0;32m   1320\u001b[0m             \u001b[0mr\u001b[0m \u001b[1;33m=\u001b[0m \u001b[0mh\u001b[0m\u001b[1;33m.\u001b[0m\u001b[0mgetresponse\u001b[0m\u001b[1;33m(\u001b[0m\u001b[1;33m)\u001b[0m\u001b[1;33m\u001b[0m\u001b[1;33m\u001b[0m\u001b[0m\n\u001b[0;32m   1321\u001b[0m         \u001b[1;32mexcept\u001b[0m\u001b[1;33m:\u001b[0m\u001b[1;33m\u001b[0m\u001b[1;33m\u001b[0m\u001b[0m\n",
      "\u001b[1;31mURLError\u001b[0m: <urlopen error [Errno 11001] getaddrinfo failed>"
     ]
     "data": {
      "text/html": [
       "<div>\n",
       "<style scoped>\n",
       "    .dataframe tbody tr th:only-of-type {\n",
       "        vertical-align: middle;\n",
       "    }\n",
       "\n",
       "    .dataframe tbody tr th {\n",
       "        vertical-align: top;\n",
       "    }\n",
       "\n",
       "    .dataframe thead th {\n",
       "        text-align: right;\n",
       "    }\n",
       "</style>\n",
       "<table border=\"1\" class=\"dataframe\">\n",
       "  <thead>\n",
       "    <tr style=\"text-align: right;\">\n",
       "      <th></th>\n",
       "      <th>tweet_text</th>\n",
       "      <th>emotion_in_tweet_is_directed_at</th>\n",
       "      <th>is_there_an_emotion_directed_at_a_brand_or_product</th>\n",
       "    </tr>\n",
       "  </thead>\n",
       "  <tbody>\n",
       "    <tr>\n",
       "      <td>0</td>\n",
       "      <td>.@wesley83 I have a 3G iPhone. After 3 hrs twe...</td>\n",
       "      <td>iPhone</td>\n",
       "      <td>Negative emotion</td>\n",
       "    </tr>\n",
       "    <tr>\n",
       "      <td>1</td>\n",
       "      <td>@jessedee Know about @fludapp ? Awesome iPad/i...</td>\n",
       "      <td>iPad or iPhone App</td>\n",
       "      <td>Positive emotion</td>\n",
       "    </tr>\n",
       "    <tr>\n",
       "      <td>2</td>\n",
       "      <td>@swonderlin Can not wait for #iPad 2 also. The...</td>\n",
       "      <td>iPad</td>\n",
       "      <td>Positive emotion</td>\n",
       "    </tr>\n",
       "    <tr>\n",
       "      <td>3</td>\n",
       "      <td>@sxsw I hope this year's festival isn't as cra...</td>\n",
       "      <td>iPad or iPhone App</td>\n",
       "      <td>Negative emotion</td>\n",
       "    </tr>\n",
       "    <tr>\n",
       "      <td>4</td>\n",
       "      <td>@sxtxstate great stuff on Fri #SXSW: Marissa M...</td>\n",
       "      <td>Google</td>\n",
       "      <td>Positive emotion</td>\n",
       "    </tr>\n",
       "  </tbody>\n",
       "</table>\n",
       "</div>"
      ],
      "text/plain": [
       "                                          tweet_text  \\\n",
       "0  .@wesley83 I have a 3G iPhone. After 3 hrs twe...   \n",
       "1  @jessedee Know about @fludapp ? Awesome iPad/i...   \n",
       "2  @swonderlin Can not wait for #iPad 2 also. The...   \n",
       "3  @sxsw I hope this year's festival isn't as cra...   \n",
       "4  @sxtxstate great stuff on Fri #SXSW: Marissa M...   \n",
       "\n",
       "  emotion_in_tweet_is_directed_at  \\\n",
       "0                          iPhone   \n",
       "1              iPad or iPhone App   \n",
       "2                            iPad   \n",
       "3              iPad or iPhone App   \n",
       "4                          Google   \n",
       "\n",
       "  is_there_an_emotion_directed_at_a_brand_or_product  \n",
       "0                                   Negative emotion  \n",
       "1                                   Positive emotion  \n",
       "2                                   Positive emotion  \n",
       "3                                   Negative emotion  \n",
       "4                                   Positive emotion  "
      ]
     },
     "execution_count": 310,
     "metadata": {},
     "output_type": "execute_result"
   "source": [
    "df = pd.read_csv('https://query.data.world/s/zbehvjkmiewbkln44rae6iphum4v3g', \n",
    "                 encoding = \"ISO-8859-1\")\n",
    "df.head()"
   ]
  },
  {
   "cell_type": "markdown",
   "metadata": {},
   "source": [
    "Rename columns"
   ]
  },
  {
   "cell_type": "code",
   "execution_count": 311,
   "metadata": {
    "ExecuteTime": {
     "end_time": "2020-06-26T00:20:49.209930Z",
     "start_time": "2020-06-26T00:20:49.198395Z"
    }
   },
   "outputs": [
    {
     "data": {
      "text/html": [
       "<div>\n",
       "<style scoped>\n",
       "    .dataframe tbody tr th:only-of-type {\n",
       "        vertical-align: middle;\n",
       "    }\n",
       "\n",
       "    .dataframe tbody tr th {\n",
       "        vertical-align: top;\n",
       "    }\n",
       "\n",
       "    .dataframe thead th {\n",
       "        text-align: right;\n",
       "    }\n",
       "</style>\n",
       "<table border=\"1\" class=\"dataframe\">\n",
       "  <thead>\n",
       "    <tr style=\"text-align: right;\">\n",
       "      <th></th>\n",
       "      <th>tweet_text</th>\n",
       "      <th>brand_product</th>\n",
       "      <th>sentiment</th>\n",
       "    </tr>\n",
       "  </thead>\n",
       "  <tbody>\n",
       "    <tr>\n",
       "      <td>0</td>\n",
       "      <td>.@wesley83 I have a 3G iPhone. After 3 hrs twe...</td>\n",
       "      <td>iPhone</td>\n",
       "      <td>Negative emotion</td>\n",
       "    </tr>\n",
       "    <tr>\n",
       "      <td>1</td>\n",
       "      <td>@jessedee Know about @fludapp ? Awesome iPad/i...</td>\n",
       "      <td>iPad or iPhone App</td>\n",
       "      <td>Positive emotion</td>\n",
       "    </tr>\n",
       "    <tr>\n",
       "      <td>2</td>\n",
       "      <td>@swonderlin Can not wait for #iPad 2 also. The...</td>\n",
       "      <td>iPad</td>\n",
       "      <td>Positive emotion</td>\n",
       "    </tr>\n",
       "    <tr>\n",
       "      <td>3</td>\n",
       "      <td>@sxsw I hope this year's festival isn't as cra...</td>\n",
       "      <td>iPad or iPhone App</td>\n",
       "      <td>Negative emotion</td>\n",
       "    </tr>\n",
       "    <tr>\n",
       "      <td>4</td>\n",
       "      <td>@sxtxstate great stuff on Fri #SXSW: Marissa M...</td>\n",
       "      <td>Google</td>\n",
       "      <td>Positive emotion</td>\n",
       "    </tr>\n",
       "  </tbody>\n",
       "</table>\n",
       "</div>"
      ],
      "text/plain": [
       "                                          tweet_text       brand_product  \\\n",
       "0  .@wesley83 I have a 3G iPhone. After 3 hrs twe...              iPhone   \n",
       "1  @jessedee Know about @fludapp ? Awesome iPad/i...  iPad or iPhone App   \n",
       "2  @swonderlin Can not wait for #iPad 2 also. The...                iPad   \n",
       "3  @sxsw I hope this year's festival isn't as cra...  iPad or iPhone App   \n",
       "4  @sxtxstate great stuff on Fri #SXSW: Marissa M...              Google   \n",
       "\n",
       "          sentiment  \n",
       "0  Negative emotion  \n",
       "1  Positive emotion  \n",
       "2  Positive emotion  \n",
       "3  Negative emotion  \n",
       "4  Positive emotion  "
      ]
     },
     "execution_count": 311,
     "metadata": {},
     "output_type": "execute_result"
    }
   ],
   "source": [
    "df=df.rename(columns = {'emotion_in_tweet_is_directed_at':\n",
    "                        'brand_product',\n",
    "                        'is_there_an_emotion_directed_at_a_brand_or_product':\n",
    "                        'sentiment'})\n",
    "df.head()"
   ]
  },
  {
   "cell_type": "markdown",
   "metadata": {},
   "source": [
    "Explored data set with info() method. 1 NaN value present in tweet_text column and ~6,000 in brand_product column. Will need to address prior to modeling"
   ]
  },
  {
   "cell_type": "code",
   "execution_count": 312,
   "metadata": {
    "ExecuteTime": {
     "end_time": "2020-06-26T00:20:49.220436Z",
     "start_time": "2020-06-26T00:20:49.212597Z"
    }
   },
   "outputs": [
    {
     "name": "stdout",
     "output_type": "stream",
     "text": [
      "<class 'pandas.core.frame.DataFrame'>\n",
      "RangeIndex: 9093 entries, 0 to 9092\n",
      "Data columns (total 3 columns):\n",
      "tweet_text       9092 non-null object\n",
      "brand_product    3291 non-null object\n",
      "sentiment        9093 non-null object\n",
      "dtypes: object(3)\n",
      "memory usage: 213.2+ KB\n"
     ]
    }
   ],
   "source": [
    "df.info()"
   ]
  },
  {
   "cell_type": "markdown",
   "metadata": {},
   "source": [
    "Remove NaN tweet_text from DataFrame"
   ]
  },
  {
   "cell_type": "code",
   "execution_count": 313,
   "metadata": {
    "ExecuteTime": {
     "end_time": "2020-06-26T00:20:49.241004Z",
     "start_time": "2020-06-26T00:20:49.222923Z"
    }
   },
   "outputs": [
    {
     "data": {
      "text/html": [
       "<div>\n",
       "<style scoped>\n",
       "    .dataframe tbody tr th:only-of-type {\n",
       "        vertical-align: middle;\n",
       "    }\n",
       "\n",
       "    .dataframe tbody tr th {\n",
       "        vertical-align: top;\n",
       "    }\n",
       "\n",
       "    .dataframe thead th {\n",
       "        text-align: right;\n",
       "    }\n",
       "</style>\n",
       "<table border=\"1\" class=\"dataframe\">\n",
       "  <thead>\n",
       "    <tr style=\"text-align: right;\">\n",
       "      <th></th>\n",
       "      <th>tweet_text</th>\n",
       "      <th>brand_product</th>\n",
       "      <th>sentiment</th>\n",
       "    </tr>\n",
       "  </thead>\n",
       "  <tbody>\n",
       "    <tr>\n",
       "      <td>6</td>\n",
       "      <td>NaN</td>\n",
       "      <td>NaN</td>\n",
       "      <td>No emotion toward brand or product</td>\n",
       "    </tr>\n",
       "  </tbody>\n",
       "</table>\n",
       "</div>"
      ],
      "text/plain": [
       "  tweet_text brand_product                           sentiment\n",
       "6        NaN           NaN  No emotion toward brand or product"
      ]
     },
     "execution_count": 313,
     "metadata": {},
     "output_type": "execute_result"
    }
   ],
   "source": [
    "df[df['tweet_text'].isna()]"
   ]
  },
  {
   "cell_type": "code",
   "execution_count": 314,
   "metadata": {
    "ExecuteTime": {
     "end_time": "2020-06-26T00:20:49.252465Z",
     "start_time": "2020-06-26T00:20:49.245882Z"
    }
   },
   "outputs": [],
   "source": [
    "df.drop(inplace= True, index=6)"
   ]
  },
  {
   "cell_type": "markdown",
   "metadata": {},
   "source": [
    "### Exploration\n",
    "Explored Sentiment category. Most tweets are marked as having No emotion which will not help initial binary classification model. Most data in data set will only be usuable when model is built to take into account neutral sentiment"
   ]
  },
  {
   "cell_type": "code",
   "execution_count": 315,
   "metadata": {
    "ExecuteTime": {
     "end_time": "2020-06-26T00:20:49.269991Z",
     "start_time": "2020-06-26T00:20:49.255207Z"
    }
   },
   "outputs": [
    {
     "data": {
      "text/html": [
       "<div>\n",
       "<style scoped>\n",
       "    .dataframe tbody tr th:only-of-type {\n",
       "        vertical-align: middle;\n",
       "    }\n",
       "\n",
       "    .dataframe tbody tr th {\n",
       "        vertical-align: top;\n",
       "    }\n",
       "\n",
       "    .dataframe thead th {\n",
       "        text-align: right;\n",
       "    }\n",
       "</style>\n",
       "<table border=\"1\" class=\"dataframe\">\n",
       "  <thead>\n",
       "    <tr style=\"text-align: right;\">\n",
       "      <th></th>\n",
       "      <th>tweet_text</th>\n",
       "      <th>brand_product</th>\n",
       "    </tr>\n",
       "    <tr>\n",
       "      <th>sentiment</th>\n",
       "      <th></th>\n",
       "      <th></th>\n",
       "    </tr>\n",
       "  </thead>\n",
       "  <tbody>\n",
       "    <tr>\n",
       "      <td>I can't tell</td>\n",
       "      <td>156</td>\n",
       "      <td>9</td>\n",
       "    </tr>\n",
       "    <tr>\n",
       "      <td>Negative emotion</td>\n",
       "      <td>570</td>\n",
       "      <td>519</td>\n",
       "    </tr>\n",
       "    <tr>\n",
       "      <td>No emotion toward brand or product</td>\n",
       "      <td>5388</td>\n",
       "      <td>91</td>\n",
       "    </tr>\n",
       "    <tr>\n",
       "      <td>Positive emotion</td>\n",
       "      <td>2978</td>\n",
       "      <td>2672</td>\n",
       "    </tr>\n",
       "  </tbody>\n",
       "</table>\n",
       "</div>"
      ],
      "text/plain": [
       "                                    tweet_text  brand_product\n",
       "sentiment                                                    \n",
       "I can't tell                               156              9\n",
       "Negative emotion                           570            519\n",
       "No emotion toward brand or product        5388             91\n",
       "Positive emotion                          2978           2672"
      ]
     },
     "execution_count": 315,
     "metadata": {},
     "output_type": "execute_result"
    }
   ],
   "source": [
    "df.groupby('sentiment').count()"
   ]
  },
  {
   "cell_type": "code",
   "execution_count": 316,
   "metadata": {
    "ExecuteTime": {
     "end_time": "2020-06-26T00:20:49.292120Z",
     "start_time": "2020-06-26T00:20:49.275962Z"
    }
   },
   "outputs": [
    {
     "data": {
      "text/html": [
       "<div>\n",
       "<style scoped>\n",
       "    .dataframe tbody tr th:only-of-type {\n",
       "        vertical-align: middle;\n",
       "    }\n",
       "\n",
       "    .dataframe tbody tr th {\n",
       "        vertical-align: top;\n",
       "    }\n",
       "\n",
       "    .dataframe thead th {\n",
       "        text-align: right;\n",
       "    }\n",
       "</style>\n",
       "<table border=\"1\" class=\"dataframe\">\n",
       "  <thead>\n",
       "    <tr style=\"text-align: right;\">\n",
       "      <th></th>\n",
       "      <th>tweet_text</th>\n",
       "      <th>brand_product</th>\n",
       "      <th>sentiment</th>\n",
       "    </tr>\n",
       "  </thead>\n",
       "  <tbody>\n",
       "    <tr>\n",
       "      <td>90</td>\n",
       "      <td>Thanks to @mention for publishing the news of ...</td>\n",
       "      <td>NaN</td>\n",
       "      <td>I can't tell</td>\n",
       "    </tr>\n",
       "    <tr>\n",
       "      <td>102</td>\n",
       "      <td>ÛÏ@mention &amp;quot;Apple has opened a pop-up st...</td>\n",
       "      <td>NaN</td>\n",
       "      <td>I can't tell</td>\n",
       "    </tr>\n",
       "    <tr>\n",
       "      <td>237</td>\n",
       "      <td>Just what America needs. RT @mention Google to...</td>\n",
       "      <td>NaN</td>\n",
       "      <td>I can't tell</td>\n",
       "    </tr>\n",
       "    <tr>\n",
       "      <td>341</td>\n",
       "      <td>The queue at the Apple Store in Austin is FOUR...</td>\n",
       "      <td>NaN</td>\n",
       "      <td>I can't tell</td>\n",
       "    </tr>\n",
       "    <tr>\n",
       "      <td>368</td>\n",
       "      <td>Hope it's better than wave RT @mention Buzz is...</td>\n",
       "      <td>NaN</td>\n",
       "      <td>I can't tell</td>\n",
       "    </tr>\n",
       "    <tr>\n",
       "      <td>...</td>\n",
       "      <td>...</td>\n",
       "      <td>...</td>\n",
       "      <td>...</td>\n",
       "    </tr>\n",
       "    <tr>\n",
       "      <td>9020</td>\n",
       "      <td>It's funny watching a room full of people hold...</td>\n",
       "      <td>NaN</td>\n",
       "      <td>I can't tell</td>\n",
       "    </tr>\n",
       "    <tr>\n",
       "      <td>9032</td>\n",
       "      <td>@mention yeah, we have @mention , Google has n...</td>\n",
       "      <td>NaN</td>\n",
       "      <td>I can't tell</td>\n",
       "    </tr>\n",
       "    <tr>\n",
       "      <td>9037</td>\n",
       "      <td>@mention Yes, the Google presentation was not ...</td>\n",
       "      <td>NaN</td>\n",
       "      <td>I can't tell</td>\n",
       "    </tr>\n",
       "    <tr>\n",
       "      <td>9058</td>\n",
       "      <td>&amp;quot;Do you know what Apple is really good at...</td>\n",
       "      <td>NaN</td>\n",
       "      <td>I can't tell</td>\n",
       "    </tr>\n",
       "    <tr>\n",
       "      <td>9066</td>\n",
       "      <td>How much you want to bet Apple is disproportio...</td>\n",
       "      <td>Apple</td>\n",
       "      <td>I can't tell</td>\n",
       "    </tr>\n",
       "  </tbody>\n",
       "</table>\n",
       "<p>156 rows × 3 columns</p>\n",
       "</div>"
      ],
      "text/plain": [
       "                                             tweet_text brand_product  \\\n",
       "90    Thanks to @mention for publishing the news of ...           NaN   \n",
       "102   ÛÏ@mention &quot;Apple has opened a pop-up st...           NaN   \n",
       "237   Just what America needs. RT @mention Google to...           NaN   \n",
       "341   The queue at the Apple Store in Austin is FOUR...           NaN   \n",
       "368   Hope it's better than wave RT @mention Buzz is...           NaN   \n",
       "...                                                 ...           ...   \n",
       "9020  It's funny watching a room full of people hold...           NaN   \n",
       "9032  @mention yeah, we have @mention , Google has n...           NaN   \n",
       "9037  @mention Yes, the Google presentation was not ...           NaN   \n",
       "9058  &quot;Do you know what Apple is really good at...           NaN   \n",
       "9066  How much you want to bet Apple is disproportio...         Apple   \n",
       "\n",
       "         sentiment  \n",
       "90    I can't tell  \n",
       "102   I can't tell  \n",
       "237   I can't tell  \n",
       "341   I can't tell  \n",
       "368   I can't tell  \n",
       "...            ...  \n",
       "9020  I can't tell  \n",
       "9032  I can't tell  \n",
       "9037  I can't tell  \n",
       "9058  I can't tell  \n",
       "9066  I can't tell  \n",
       "\n",
       "[156 rows x 3 columns]"
      ]
     },
     "execution_count": 316,
     "metadata": {},
     "output_type": "execute_result"
    }
   ],
   "source": [
    "df.loc[df['sentiment'] == \"I can't tell\"]"
   ]
  },
  {
   "cell_type": "code",
   "execution_count": 317,
   "metadata": {
    "ExecuteTime": {
     "end_time": "2020-06-26T00:20:49.304462Z",
     "start_time": "2020-06-26T00:20:49.297163Z"
    }
   },
   "outputs": [
    {
     "data": {
      "text/plain": [
       "No emotion toward brand or product    5388\n",
       "Positive emotion                      2978\n",
       "Negative emotion                       570\n",
       "I can't tell                           156\n",
       "Name: sentiment, dtype: int64"
      ]
     },
     "execution_count": 317,
     "metadata": {},
     "output_type": "execute_result"
    }
   ],
   "source": [
    "df['sentiment'].value_counts()"
   ]
  },
  {
   "cell_type": "markdown",
   "metadata": {},
   "source": [
    "Dummied Sentiment Column to help with visulizations to compare sentiment across brands"
   ]
  },
  {
   "cell_type": "code",
   "execution_count": 318,
   "metadata": {
    "ExecuteTime": {
     "end_time": "2020-06-26T00:20:49.322018Z",
     "start_time": "2020-06-26T00:20:49.306854Z"
    }
   },
   "outputs": [
    {
     "data": {
      "text/html": [
       "<div>\n",
       "<style scoped>\n",
       "    .dataframe tbody tr th:only-of-type {\n",
       "        vertical-align: middle;\n",
       "    }\n",
       "\n",
       "    .dataframe tbody tr th {\n",
       "        vertical-align: top;\n",
       "    }\n",
       "\n",
       "    .dataframe thead th {\n",
       "        text-align: right;\n",
       "    }\n",
       "</style>\n",
       "<table border=\"1\" class=\"dataframe\">\n",
       "  <thead>\n",
       "    <tr style=\"text-align: right;\">\n",
       "      <th></th>\n",
       "      <th>I can't tell</th>\n",
       "      <th>Negative emotion</th>\n",
       "      <th>No emotion toward brand or product</th>\n",
       "      <th>Positive emotion</th>\n",
       "    </tr>\n",
       "  </thead>\n",
       "  <tbody>\n",
       "    <tr>\n",
       "      <td>0</td>\n",
       "      <td>0</td>\n",
       "      <td>1</td>\n",
       "      <td>0</td>\n",
       "      <td>0</td>\n",
       "    </tr>\n",
       "    <tr>\n",
       "      <td>1</td>\n",
       "      <td>0</td>\n",
       "      <td>0</td>\n",
       "      <td>0</td>\n",
       "      <td>1</td>\n",
       "    </tr>\n",
       "    <tr>\n",
       "      <td>2</td>\n",
       "      <td>0</td>\n",
       "      <td>0</td>\n",
       "      <td>0</td>\n",
       "      <td>1</td>\n",
       "    </tr>\n",
       "    <tr>\n",
       "      <td>3</td>\n",
       "      <td>0</td>\n",
       "      <td>1</td>\n",
       "      <td>0</td>\n",
       "      <td>0</td>\n",
       "    </tr>\n",
       "    <tr>\n",
       "      <td>4</td>\n",
       "      <td>0</td>\n",
       "      <td>0</td>\n",
       "      <td>0</td>\n",
       "      <td>1</td>\n",
       "    </tr>\n",
       "  </tbody>\n",
       "</table>\n",
       "</div>"
      ],
      "text/plain": [
       "   I can't tell  Negative emotion  No emotion toward brand or product  \\\n",
       "0             0                 1                                   0   \n",
       "1             0                 0                                   0   \n",
       "2             0                 0                                   0   \n",
       "3             0                 1                                   0   \n",
       "4             0                 0                                   0   \n",
       "\n",
       "   Positive emotion  \n",
       "0                 0  \n",
       "1                 1  \n",
       "2                 1  \n",
       "3                 0  \n",
       "4                 1  "
      ]
     },
     "execution_count": 318,
     "metadata": {},
     "output_type": "execute_result"
    }
   ],
   "source": [
    "df1=pd.get_dummies(df['sentiment'])\n",
    "df1.head()"
   ]
  },
  {
   "cell_type": "code",
   "execution_count": 319,
   "metadata": {
    "ExecuteTime": {
     "end_time": "2020-06-26T00:20:49.342671Z",
     "start_time": "2020-06-26T00:20:49.325013Z"
    }
   },
   "outputs": [
    {
     "data": {
      "text/html": [
       "<div>\n",
       "<style scoped>\n",
       "    .dataframe tbody tr th:only-of-type {\n",
       "        vertical-align: middle;\n",
       "    }\n",
       "\n",
       "    .dataframe tbody tr th {\n",
       "        vertical-align: top;\n",
       "    }\n",
       "\n",
       "    .dataframe thead th {\n",
       "        text-align: right;\n",
       "    }\n",
       "</style>\n",
       "<table border=\"1\" class=\"dataframe\">\n",
       "  <thead>\n",
       "    <tr style=\"text-align: right;\">\n",
       "      <th></th>\n",
       "      <th>tweet_text</th>\n",
       "      <th>brand_product</th>\n",
       "      <th>I can't tell</th>\n",
       "      <th>Negative emotion</th>\n",
       "      <th>No emotion toward brand or product</th>\n",
       "      <th>Positive emotion</th>\n",
       "    </tr>\n",
       "  </thead>\n",
       "  <tbody>\n",
       "    <tr>\n",
       "      <td>0</td>\n",
       "      <td>.@wesley83 I have a 3G iPhone. After 3 hrs twe...</td>\n",
       "      <td>iPhone</td>\n",
       "      <td>0</td>\n",
       "      <td>1</td>\n",
       "      <td>0</td>\n",
       "      <td>0</td>\n",
       "    </tr>\n",
       "    <tr>\n",
       "      <td>1</td>\n",
       "      <td>@jessedee Know about @fludapp ? Awesome iPad/i...</td>\n",
       "      <td>iPad or iPhone App</td>\n",
       "      <td>0</td>\n",
       "      <td>0</td>\n",
       "      <td>0</td>\n",
       "      <td>1</td>\n",
       "    </tr>\n",
       "    <tr>\n",
       "      <td>2</td>\n",
       "      <td>@swonderlin Can not wait for #iPad 2 also. The...</td>\n",
       "      <td>iPad</td>\n",
       "      <td>0</td>\n",
       "      <td>0</td>\n",
       "      <td>0</td>\n",
       "      <td>1</td>\n",
       "    </tr>\n",
       "    <tr>\n",
       "      <td>3</td>\n",
       "      <td>@sxsw I hope this year's festival isn't as cra...</td>\n",
       "      <td>iPad or iPhone App</td>\n",
       "      <td>0</td>\n",
       "      <td>1</td>\n",
       "      <td>0</td>\n",
       "      <td>0</td>\n",
       "    </tr>\n",
       "    <tr>\n",
       "      <td>4</td>\n",
       "      <td>@sxtxstate great stuff on Fri #SXSW: Marissa M...</td>\n",
       "      <td>Google</td>\n",
       "      <td>0</td>\n",
       "      <td>0</td>\n",
       "      <td>0</td>\n",
       "      <td>1</td>\n",
       "    </tr>\n",
       "  </tbody>\n",
       "</table>\n",
       "</div>"
      ],
      "text/plain": [
       "                                          tweet_text       brand_product  \\\n",
       "0  .@wesley83 I have a 3G iPhone. After 3 hrs twe...              iPhone   \n",
       "1  @jessedee Know about @fludapp ? Awesome iPad/i...  iPad or iPhone App   \n",
       "2  @swonderlin Can not wait for #iPad 2 also. The...                iPad   \n",
       "3  @sxsw I hope this year's festival isn't as cra...  iPad or iPhone App   \n",
       "4  @sxtxstate great stuff on Fri #SXSW: Marissa M...              Google   \n",
       "\n",
       "   I can't tell  Negative emotion  No emotion toward brand or product  \\\n",
       "0             0                 1                                   0   \n",
       "1             0                 0                                   0   \n",
       "2             0                 0                                   0   \n",
       "3             0                 1                                   0   \n",
       "4             0                 0                                   0   \n",
       "\n",
       "   Positive emotion  \n",
       "0                 0  \n",
       "1                 1  \n",
       "2                 1  \n",
       "3                 0  \n",
       "4                 1  "
      ]
     },
     "execution_count": 319,
     "metadata": {},
     "output_type": "execute_result"
    }
   ],
   "source": [
    "df_dummied=df.join(df1).drop(columns='sentiment')\n",
    "df_dummied.head()"
   ]
  },
  {
   "cell_type": "markdown",
   "metadata": {},
   "source": [
    "Made visualization to explore distribution of sentiment across brand/product. Will combine Apple and Google products to further explore distribution. Sentiment is overwhelmingly positive across all products and most sentiment data is logged for Apple products"
   ]
  },
  {
   "cell_type": "code",
   "execution_count": 320,
   "metadata": {
    "ExecuteTime": {
     "end_time": "2020-06-26T00:20:49.696179Z",
     "start_time": "2020-06-26T00:20:49.345503Z"
    }
   },
   "outputs": [
    {
     "data": {
      "image/png": "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\n",
      "text/plain": [
       "<Figure size 720x504 with 1 Axes>"
      ]
     },
     "metadata": {
      "needs_background": "light"
     },
     "output_type": "display_data"
    }
   ],
   "source": [
    "df_dummied.groupby('brand_product').sum().plot(kind='barh', \n",
    "                                               figsize=(10,7))\n",
    "plt.title('Sentiment Analysis by Brand/Product', size=20)\n",
    "plt.ylabel('Brand/Product', size=15)\n",
    "plt.xlabel('# of Instances', size=15)\n",
    "plt.show()"
   ]
  },
  {
   "cell_type": "markdown",
   "metadata": {},
   "source": [
    "Made below visualization to explore the missing brand_product classifications for each sentiment"
   ]
  },
  {
   "cell_type": "code",
   "execution_count": 321,
   "metadata": {
    "ExecuteTime": {
     "end_time": "2020-06-26T00:20:49.890636Z",
     "start_time": "2020-06-26T00:20:49.698365Z"
    },
    "scrolled": true
   },
   "outputs": [
    {
     "data": {
      "image/png": "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\n",
      "text/plain": [
       "<Figure size 720x360 with 1 Axes>"
      ]
     },
     "metadata": {
      "needs_background": "light"
     },
     "output_type": "display_data"
    }
   ],
   "source": [
    "df.groupby('sentiment').count().plot(kind='barh',\n",
    "                                     figsize=(10,5))\n",
    "plt.title('Sentiment Distribution', size=20)\n",
    "plt.ylabel('Sentiment', size=15)\n",
    "plt.xlabel('# of Instances',size=15)\n",
    "plt.show()"
   ]
  },
  {
   "cell_type": "markdown",
   "metadata": {},
   "source": [
    "Usable data (Positive or Negative sentiment) for baseline first model is 39.02%. Will be necessary to eventually build a multiclass classifier with No Emotion classification"
   ]
  },
  {
   "cell_type": "code",
   "execution_count": 322,
   "metadata": {
    "ExecuteTime": {
     "end_time": "2020-06-26T00:20:49.900977Z",
     "start_time": "2020-06-26T00:20:49.892684Z"
    },
    "scrolled": true
   },
   "outputs": [],
   "source": [
    "usable_data=round(len(df.loc[(df['sentiment'] == 'Positive emotion') | \n",
    "                             (df['sentiment'] == 'Negative emotion')])/len(df) * 100,2)\n",
    "print('Percentage of Data with either Positive or Negative Sentiment: {}%'.format(usable_data))"
   ]
  },
  {
   "cell_type": "markdown",
   "metadata": {},
   "source": [
    "Combined Apple and Google product names together to explore further visualizations"
   ]
  },
  {
   "cell_type": "code",
   "execution_count": 323,

   "metadata": {
    "ExecuteTime": {
     "end_time": "2020-06-26T00:20:49.921590Z",
     "start_time": "2020-06-26T00:20:49.903028Z"
    },
    "scrolled": true
   },
   "outputs": [
    {
     "data": {
      "text/plain": [
       "apple_product      2409\n",
       "android_product     882\n",
       "Name: brand_product, dtype: int64"
      ]
     },
     "execution_count": 323,
     "metadata": {},
     "output_type": "execute_result"
    }
   ],
   "source": [
    "df_dummied['brand_product']=df_dummied['brand_product'].replace(to_replace = ['iPad','Apple',\n",
    "                                                                                    'iPad or iPhone App','iPhone',\n",
    "                                                                                    'Other Apple product or service'],value='apple_product')\n",
    "df_dummied['brand_product'] = df_dummied['brand_product'].replace(['Google',\n",
    "                                                                        'Other Google product or service',\n",
    "                                                                        'Android App', 'Android'],'android_product')\n",
    "df_dummied['brand_product'].value_counts()"
   ]
  },
  {
   "cell_type": "markdown",
   "metadata": {},
   "source": [
    "Combined Brand_product columns to show difference in amount of information for each product"
   ]
  },
  {
   "cell_type": "code",
   "execution_count": 324,
   "metadata": {
    "ExecuteTime": {
     "end_time": "2020-06-26T00:20:50.151425Z",
     "start_time": "2020-06-26T00:20:49.924286Z"
    }
   },
   "outputs": [
    {
     "data": {
      "image/png": "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\n",
      "text/plain": [
       "<Figure size 720x288 with 1 Axes>"
      ]
     },
     "metadata": {
      "needs_background": "light"
     },
     "output_type": "display_data"
    }
   ],
   "source": [
    "df_dummied.groupby('brand_product').sum().plot(kind='barh', figsize=(10,4))\n",
    "plt.title('Sentiment Analysis by Brand/Product Combined', size=20)\n",
    "plt.ylabel('Brand/Product', size=15)\n",
    "plt.xlabel('# of Instances', size=15)\n",
    "plt.yticks(np.arange(2),['Google Product','Apple Product'])\n",
    "plt.show()"
   ]
  },
  {
   "cell_type": "markdown",
   "metadata": {},
   "source": [
    "### Preprocessing Tweets\n",
    "Clean, lemmatize, and format data for vectorization and modeling"
   ]
  },
  {
   "cell_type": "code",
   "execution_count": null,
   "metadata": {},
   "outputs": [],
   "source": [
    "df['tweet_text'] = df['tweet_text'].map(clean_lemmatize_token)"
   ]
  },
  {
   "cell_type": "markdown",
   "metadata": {},
   "source": [
    "### binary classification model\n",
    "Split the DataFrame to take only binary options "
   ]
  },
  {
   "cell_type": "code",
   "execution_count": null,
   "metadata": {},
   "outputs": [],
   "source": [
    "binary = df[(df['sentiment'] == 'Negative emotion')|\n",
    "            (df['sentiment'] == 'Positive emotion')]"
   ]
  },
  {
   "cell_type": "markdown",
   "metadata": {},
   "source": [
    "vectorize the data"
   ]
  },
  {
   "cell_type": "code",
   "execution_count": null,
   "metadata": {},
   "outputs": [],
   "source": [
    "vectorizer = CountVectorizer()\n",
    "X = vectorizer.fit_transform(binary['tweet_text'])\n",
    "Y = binary['sentiment']\n",
    "X_train, X_test, y_train, y_test = train_test_split(\n",
    "    X, Y, test_size=0.2)"
   ]
  },
  {
   "cell_type": "markdown",
   "metadata": {},
   "source": [
    "### Logistic Regression"
   ]
  },
  {
   "cell_type": "code",
   "execution_count": 325,
   "metadata": {
    "ExecuteTime": {
     "end_time": "2020-06-26T00:20:50.162524Z",
     "start_time": "2020-06-26T00:20:50.153597Z"
    }
   },
   "outputs": [],
   "source": [
    "params= {'solver': ['lbfgs', 'liblinear', 'sag', 'saga'], \n",
    "         'max_iter': [2000, 2200],\n",
    "         'C': [.2, .4, .6, .8, 1], \n",
    "         'tol': [.0001, .001, .01],\n",
    "         'class_weight': ['balanced', None]}\n",
    "log_grid = GridSearchCV(LogisticRegression(), \n",
    "                        param_grid= params)\n",
    "report(log_grid)"
   "source": [
    "df_eda = df\n",
    "df_eda.head()"
   ]
  },
  {
   "cell_type": "markdown",
   "metadata": {},
   "source": [
    "Used an alternative version of our clean_lemmatize_token function to preprocess data for additional EDA"
   ]
  },
  {
   "cell_type": "code",
   "execution_count": 326,
   "metadata": {
    "ExecuteTime": {
     "end_time": "2020-06-26T00:20:50.170752Z",
     "start_time": "2020-06-26T00:20:50.164701Z"
    }
   },
   "outputs": [],
   "source": [
    "def clean_lemmatize_token_alt(tweet):\n",
    "    stop_words = set(stopwords.words('english'))\n",
    "    cleaned = tweet.translate(str.maketrans('', '', string.punctuation)).lower()\n",
    "    tokenized = word_tokenize(cleaned)\n",
    "    filtered = [w for w in tokenized if not w in stop_words]\n",
    "    lemmatizer = WordNetLemmatizer()\n",
    "    lemmatized = []\n",
    "    for word in filtered:\n",
    "        lemmatized.append(lemmatizer.lemmatize(word))\n",
    "    to_remove = ['rt','mention','sxsw','link']\n",
    "    lemmatized = [w for w in lemmatized if w not in to_remove]\n",
    "    #lemmatized = ' '.join(lemmatized)\n",
    "    return lemmatized"
   ]
  },
  {
   "cell_type": "code",
   "execution_count": null,
   "metadata": {
    "ExecuteTime": {
     "end_time": "2020-06-26T00:20:54.213668Z",
     "start_time": "2020-06-26T00:20:50.172835Z"
    }
   },
   "outputs": [],
   "source": [
    "df_eda['tweet_text'] = df_eda['tweet_text'].map(lambda x: clean_lemmatize_token_alt(x))\n",
    "df_eda.head()"
   ]
  },
  {
   "cell_type": "code",
   "execution_count": 332,
   "metadata": {
    "ExecuteTime": {
     "end_time": "2020-06-26T00:22:06.117300Z",
     "start_time": "2020-06-26T00:22:06.110737Z"
    }
   },
   "outputs": [],
   "source": [
    "df_eda['brand_product'].value_counts()"
   ]
  },
  {
   "cell_type": "code",
   "execution_count": null,
   "metadata": {
    "ExecuteTime": {
     "end_time": "2020-06-26T00:33:41.111343Z",
     "start_time": "2020-06-26T00:33:41.083219Z"
    }
   },
   "outputs": [],
   "source": [
    "df_pos_apple_mobile = df_eda.loc[(df_eda['sentiment'] == 'Positive emotion') & (df_eda['brand_product'] == 'iPad') \n",
    "                                 | (df_eda['brand_product'] == 'iPhone') | (df_eda['brand_product'] == 'iPad or iPhone App')]\n",
    "df_neg_apple_mobile = df_eda.loc[(df_eda['sentiment'] == 'Negative emotion') & (df_eda['brand_product'] == 'iPad') \n",
    "                                 | (df_eda['brand_product'] == 'iPhone') | (df_eda['brand_product'] == 'iPad or iPhone App')]\n",
    "df_pos_android_mobile = df_eda.loc[(df_eda['sentiment'] == 'Positive emotion') & (df_eda['brand_product'] == 'Other Google Product or Service') \n",
    "                                 | (df_eda['brand_product'] == 'Android App') | (df_eda['brand_product'] == 'Android')]\n",
    "df_neg_android_mobile = df_eda.loc[(df_eda['sentiment'] == 'Negative emotion') & (df_eda['brand_product'] == 'Other Google Product or Service') \n",
    "                                 | (df_eda['brand_product'] == 'Android App') | (df_eda['brand_product'] == 'Android')]"
   ]
  },
  {
   "cell_type": "code",
   "execution_count": 338,
   "metadata": {
    "ExecuteTime": {
     "end_time": "2020-06-26T00:35:36.730342Z",
     "start_time": "2020-06-26T00:35:36.726388Z"
    }
   },
   "outputs": [],
   "source": [
    "pos_apple_mobile_tweet_list = df_pos_apple_mobile['tweet_text']\n",
    "neg_apple_mobile_tweet_list = df_neg_apple_mobile['tweet_text']\n",
    "pos_android_mobile_list = df_pos_android_mobile['tweet_text']\n",
    "neg_android_mobile_list = df_neg_android_mobile['tweet_text']"
   ]
  },
  {
   "cell_type": "code",
   "execution_count": null,
   "metadata": {
    "ExecuteTime": {
     "end_time": "2020-06-26T00:37:24.618913Z",
     "start_time": "2020-06-26T00:37:24.613081Z"
    }
   },
   "outputs": [],
   "source": [
    "pos_apple_mobile_concat = []\n",
    "neg_apple_mobile_concat = []\n",
    "pos_android_mobile_concat = []\n",
    "neg_android_mobile_concat = []\n",
    "\n",
    "for tweet in pos_apple_mobile_tweet_list:\n",
    "    pos_apple_mobile_concat += tweet\n",
    "for tweet in neg_apple_mobile_tweet_list:\n",
    "    neg_apple_mobile_concat += tweet\n",
    "for tweet in pos_android_mobile_list:\n",
    "    pos_android_mobile_concat += tweet  \n",
    "for tweet in neg_android_mobile_list:\n",
    "    neg_android_mobile_concat += tweet"
   ]
  },
  {
   "cell_type": "code",
   "execution_count": null,
   "metadata": {
    "ExecuteTime": {
     "end_time": "2020-06-26T00:44:36.248140Z",
     "start_time": "2020-06-26T00:44:36.244232Z"
    }
   },
   "outputs": [
    {
     "data": {
      "text/plain": [
       "15438"
      ]
     },
     "execution_count": 349,
     "metadata": {},
     "output_type": "execute_result"
    }
   ],
   "source": [
    "len(pos_apple_mobile_concat)"
   ]
  },
  {
   "cell_type": "code",
   "execution_count": null,
   "metadata": {
    "ExecuteTime": {
     "end_time": "2020-06-26T00:38:42.597188Z",
     "start_time": "2020-06-26T00:38:42.593960Z"
    }
   },
   "outputs": [],
   "source": [
    "mobile_concat_list = [pos_apple_mobile_concat, neg_apple_mobile_concat, pos_android_mobile_concat,\n",
    "                      neg_android_mobile_concat]"
   ]
  },
  {
   "cell_type": "code",
   "execution_count": null,
   "metadata": {
    "ExecuteTime": {
     "end_time": "2020-06-26T00:45:17.024984Z",
     "start_time": "2020-06-26T00:45:16.875636Z"
    }
   },
   "outputs": [],
   "source": [
    "mobile_tweets_scored_list = []\n",
    "for mobile_list in mobile_concat_list:\n",
    "    bigram_measures = nltk.collocations.BigramAssocMeasures()\n",
    "    tweet_finder = BigramCollocationFinder.from_words(mobile_list)\n",
    "    tweets_scored = tweet_finder.score_ngrams(bigram_measures.raw_freq)\n",
    "    mobile_tweets_scored_list.append(tweets_scored)"
   ]
  },
  {
   "cell_type": "code",
   "execution_count": null,
   "metadata": {
    "ExecuteTime": {
     "end_time": "2020-06-26T00:46:02.573868Z",
     "start_time": "2020-06-26T00:46:01.595110Z"
    }
   },
   "outputs": [],
   "source": [
    "df_mobile_graph1 = pd.DataFrame(mobile_tweets_scored_list[0][:10], columns = ['Bigram','Raw_Frequency_Score'])\n",
    "df_mobile_graph2 = pd.DataFrame(mobile_tweets_scored_list[1][:10], columns = ['Bigram','Raw_Frequency_Score'])\n",
    "df_mobile_graph3 = pd.DataFrame(mobile_tweets_scored_list[2][:10], columns = ['Bigram','Raw_Frequency_Score'])\n",
    "df_mobile_graph4 = pd.DataFrame(mobile_tweets_scored_list[3][:10], columns = ['Bigram','Raw_Frequency_Score'])\n",
    "fig, axs = plt.subplots(2,2)\n",
    "fig.set_figheight(17)\n",
    "fig.set_figwidth(23)\n",
    "axs[0,0].title.set_text('Positive Apple Mobile Tweets Bigrams')\n",
    "axs[0,1].title.set_text('Negative Apple Mobile Tweets Bigrams')\n",
    "axs[1,0].title.set_text('Positive Android Mobile Tweets Bigrams')\n",
    "axs[1,1].title.set_text('Negative Android Mobile Tweets Bigrams')\n",
    "sns.barplot(data=df_mobile_graph1, y='Bigram',x='Raw_Frequency_Score', orient='h', ax = axs[0,0])\n",
    "sns.barplot(data=df_mobile_graph2, y='Bigram',x='Raw_Frequency_Score', orient='h', ax = axs[0,1])\n",
    "sns.barplot(data=df_mobile_graph3, y='Bigram',x='Raw_Frequency_Score', orient='h', ax = axs[1,0])\n",
    "sns.barplot(data=df_mobile_graph4, y='Bigram',x='Raw_Frequency_Score', orient='h', ax = axs[1,1])\n",
    "plt.show()"
   ]
  },
  {
   "cell_type": "markdown",
   "metadata": {},
   "source": [
    "Combined all Apple products and all Google products together"
   ]
  },
  {
   "cell_type": "code",
   "execution_count": null,
   "metadata": {
    "ExecuteTime": {
     "end_time": "2020-06-25T20:51:22.215610Z",
     "start_time": "2020-06-25T20:51:22.201706Z"
    }
   },
   "outputs": [],
   "source": [
    "df_eda['brand_product']=df_eda['brand_product'].replace(to_replace = ['iPad','Apple',\n",
    "                                                                                    'iPad or iPhone App','iPhone',\n",
    "                                                                                    'Other Apple product or service'],value='apple_product')\n",
    "df_eda['brand_product'] = df_eda['brand_product'].replace(['Google',\n",
    "                                                                        'Other Google product or service',\n",
    "                                                                        'Android App', 'Android'],'android_product')\n",
    "df_eda['brand_product'].value_counts(\n",
    ")"
   ]
  },
  {
   "cell_type": "markdown",
   "metadata": {},
   "source": [
    "Created new data frames based on different brands and sentiments to plot bigrams of most common word pairs"
   ]
  },
  {
   "cell_type": "code",
   "execution_count": null,
   "metadata": {
    "ExecuteTime": {
     "end_time": "2020-06-25T20:53:13.010120Z",
     "start_time": "2020-06-25T20:53:12.977825Z"
    }
   },
   "outputs": [],
   "source": [
    "df_pos = df_eda.loc[df_eda['sentiment'] == 'Positive emotion']\n",
    "df_neg = df_eda.loc[df_eda['sentiment'] == 'Negative emotion']\n",
    "df_none = df_eda.loc[df_eda['sentiment'] == 'No emotion toward brand or product']\n",
    "df_apple = df_eda.loc[df_eda['brand_product'] == 'apple_product']\n",
    "df_google = df_eda.loc[df_eda['brand_product'] == 'android_product']\n",
    "df_pos_apple = df_eda.loc[(df_eda['brand_product'] == 'apple_product') & (df_eda['sentiment'] == 'Positive emotion')]\n",
    "df_neg_apple = df_eda.loc[(df_eda['brand_product'] == 'apple_product') & (df_eda['sentiment'] == 'Negative emotion')]\n",
    "df_none_apple = df_eda.loc[(df_eda['brand_product'] == 'apple_product') & (df_eda['sentiment'] == 'No emotion toward brand or product')]\n",
    "df_pos_google = df_eda.loc[(df_eda['brand_product'] == 'android_product') & (df_eda['sentiment'] == 'Positive emotion')]\n",
    "df_neg_google = df_eda.loc[(df_eda['brand_product'] == 'android_product') & (df_eda['sentiment'] == 'Negative emotion')]\n",
    "df_none_google = df_eda.loc[(df_eda['brand_product'] == 'android_product') & (df_eda['sentiment'] == 'No emotion toward brand or product')]"
   ]
  },
  {
   "cell_type": "code",
   "execution_count": null,
   "metadata": {
    "ExecuteTime": {
     "end_time": "2020-06-25T20:55:13.081523Z",
     "start_time": "2020-06-25T20:55:13.076280Z"
    }
   },
   "outputs": [],
   "source": [
    "tweet_list = df_eda['tweet_text']\n",
    "pos_tweet_list = df_pos['tweet_text']\n",
    "neg_tweet_list = df_neg['tweet_text']\n",
    "none_tweet_list = df_none['tweet_text']\n",
    "apple_tweet_list = df_apple['tweet_text']\n",
    "apple_pos_tweet_list = df_pos_apple['tweet_text']\n",
    "apple_neg_tweet_list = df_neg_apple['tweet_text']\n",
    "apple_none_tweet_list = df_none_apple['tweet_text']\n",
    "google_tweet_list = df_google['tweet_text']\n",
    "google_pos_tweet_list = df_pos_google['tweet_text']\n",
    "google_neg_tweet_list = df_neg_google['tweet_text']\n",
    "google_none_tweet_list = df_none_google['tweet_text']"
   ]
  },
  {
   "cell_type": "code",
   "execution_count": null,
   "metadata": {
    "ExecuteTime": {
     "end_time": "2020-06-25T20:55:36.436864Z",
     "start_time": "2020-06-25T20:55:36.420016Z"
    }
   },
   "outputs": [],
   "source": [
    "tweet_concat = []\n",
    "pos_tweet_concat = []\n",
    "neg_tweet_concat = []\n",
    "none_tweet_concat = []\n",
    "apple_tweet_concat = []\n",
    "apple_pos_tweet_concat = []\n",
    "apple_neg_tweet_concat = []\n",
    "apple_none_tweet_concat = []\n",
    "google_tweet_concat = []\n",
    "google_pos_tweet_concat = []\n",
    "google_neg_tweet_concat = []\n",
    "google_none_tweet_concat = []\n",
    "\n",
    "for tweet in tweet_list:\n",
    "    tweet_concat += tweet\n",
    "for tweet in pos_tweet_list:\n",
    "    pos_tweet_concat += tweet\n",
    "for tweet in neg_tweet_list:\n",
    "    neg_tweet_concat += tweet  \n",
    "for tweet in none_tweet_list:\n",
    "    none_tweet_concat += tweet\n",
    "\n",
    "for tweet in apple_tweet_list:\n",
    "    apple_tweet_concat += tweet\n",
    "for tweet in apple_pos_tweet_list:\n",
    "    apple_pos_tweet_concat += tweet\n",
    "for tweet in apple_neg_tweet_list:\n",
    "    apple_neg_tweet_concat += tweet  \n",
    "for tweet in apple_none_tweet_list:\n",
    "    apple_none_tweet_concat += tweet\n",
    "\n",
    "for tweet in google_tweet_list:\n",
    "    google_tweet_concat += tweet\n",
    "for tweet in google_pos_tweet_list:\n",
    "    google_pos_tweet_concat += tweet\n",
    "for tweet in google_neg_tweet_list:\n",
    "    google_neg_tweet_concat += tweet  \n",
    "for tweet in google_none_tweet_list:\n",
    "    google_none_tweet_concat += tweet"
   ]
  },
  {
   "cell_type": "code",
   "execution_count": null,
   "metadata": {
    "ExecuteTime": {
     "end_time": "2020-06-25T20:55:55.426810Z",
     "start_time": "2020-06-25T20:55:55.423621Z"
    }
   },
   "outputs": [],
   "source": [
    "concat_list=[tweet_concat,\n",
    "pos_tweet_concat,\n",
    "neg_tweet_concat,\n",
    "none_tweet_concat,\n",
    "apple_tweet_concat,\n",
    "apple_pos_tweet_concat,\n",
    "apple_neg_tweet_concat,\n",
    "apple_none_tweet_concat,\n",
    "google_tweet_concat,\n",
    "google_pos_tweet_concat,\n",
    "google_neg_tweet_concat,\n",
    "google_none_tweet_concat]"
   ]
  },
  {
   "cell_type": "markdown",
   "metadata": {},
   "source": [
    "Used a for loop to collect Raw Frequency Scores for each subset of the data"
   ]
  },
  {
   "cell_type": "code",
   "execution_count": null,
   "metadata": {
    "ExecuteTime": {
     "end_time": "2020-06-25T20:56:40.555357Z",
     "start_time": "2020-06-25T20:56:39.278994Z"
    }
   },
   "outputs": [],
   "source": [
    "tweets_scored_list = []\n",
    "for list in concat_list:\n",
    "    bigram_measures = nltk.collocations.BigramAssocMeasures()\n",
    "    tweet_finder = BigramCollocationFinder.from_words(list)\n",
    "    tweets_scored = tweet_finder.score_ngrams(bigram_measures.raw_freq)\n",
    "    tweets_scored_list.append(tweets_scored)"
   ]
  },
  {
   "cell_type": "markdown",
   "metadata": {},
   "source": [
    "Plotted the All Tweets Bigrams"
   ]
  },
  {
   "cell_type": "code",
   "execution_count": null,
   "metadata": {
    "ExecuteTime": {
     "end_time": "2020-06-25T21:42:02.468864Z",
     "start_time": "2020-06-25T21:42:01.470933Z"
    }
   },
   "outputs": [],
   "source": [
    "df_graph1 = pd.DataFrame(tweets_scored_list[0][:10], columns = ['Bigram','Raw_Frequency_Score'])\n",
    "df_graph2 = pd.DataFrame(tweets_scored_list[1][:10], columns = ['Bigram','Raw_Frequency_Score'])\n",
    "df_graph3 = pd.DataFrame(tweets_scored_list[2][:10], columns = ['Bigram','Raw_Frequency_Score'])\n",
    "df_graph4 = pd.DataFrame(tweets_scored_list[3][:10], columns = ['Bigram','Raw_Frequency_Score'])\n",
    "fig, axs = plt.subplots(2,2)\n",
    "fig.set_figheight(17)\n",
    "fig.set_figwidth(23)\n",
    "axs[0,0].title.set_text('All Tweets Bigrams')\n",
    "axs[0,1].title.set_text('All Positive Tweets Bigrams')\n",
    "axs[1,0].title.set_text('All Negative Tweets Bigrams')\n",
    "axs[1,1].title.set_text('All No Emotion Tweets Bigrams')\n",
    "sns.barplot(data=df_graph1, y='Bigram',x='Raw_Frequency_Score', orient='h', ax = axs[0,0])\n",
    "sns.barplot(data=df_graph2, y='Bigram',x='Raw_Frequency_Score', orient='h', ax = axs[0,1])\n",
    "sns.barplot(data=df_graph3, y='Bigram',x='Raw_Frequency_Score', orient='h', ax = axs[1,0])\n",
    "sns.barplot(data=df_graph4, y='Bigram',x='Raw_Frequency_Score', orient='h', ax = axs[1,1])\n",
    "plt.show()"
   ]
  },
  {
   "cell_type": "markdown",
   "metadata": {},
   "source": [
    "Plotted the Apple Tweets Bigrams"
   ]
  },
  {
   "cell_type": "code",
   "execution_count": null,
   "metadata": {
    "ExecuteTime": {
     "end_time": "2020-06-25T21:44:01.262840Z",
     "start_time": "2020-06-25T21:44:00.242030Z"
    }
   },
   "outputs": [],
   "source": [
    "df_graph5 = pd.DataFrame(tweets_scored_list[4][:10], columns = ['Bigram','Raw_Frequency_Score'])\n",
    "df_graph6 = pd.DataFrame(tweets_scored_list[5][:10], columns = ['Bigram','Raw_Frequency_Score'])\n",
    "df_graph7 = pd.DataFrame(tweets_scored_list[6][:10], columns = ['Bigram','Raw_Frequency_Score'])\n",
    "df_graph8 = pd.DataFrame(tweets_scored_list[7][:10], columns = ['Bigram','Raw_Frequency_Score'])\n",
    "fig, axs = plt.subplots(2,2)\n",
    "fig.set_figheight(17)\n",
    "fig.set_figwidth(23)\n",
    "axs[0,0].title.set_text('All Apple Tweets Bigrams')\n",
    "axs[0,1].title.set_text('All Positive Apple Tweets Bigrams')\n",
    "axs[1,0].title.set_text('All Negative Apple Tweets Bigrams')\n",
    "axs[1,1].title.set_text('All No Emotion Apple Tweets Bigrams')\n",
    "sns.barplot(data=df_graph5, y='Bigram',x='Raw_Frequency_Score', orient='h', ax = axs[0,0])\n",
    "sns.barplot(data=df_graph6, y='Bigram',x='Raw_Frequency_Score', orient='h', ax = axs[0,1])\n",
    "sns.barplot(data=df_graph7, y='Bigram',x='Raw_Frequency_Score', orient='h', ax = axs[1,0])\n",
    "sns.barplot(data=df_graph8, y='Bigram',x='Raw_Frequency_Score', orient='h', ax = axs[1,1])\n",
    "plt.show()"
   ]
  },
  {
   "cell_type": "markdown",
   "metadata": {},
   "source": [
    "Plotted the Google Tweets Bigrams"
   ]
  },
  {
   "cell_type": "code",
   "execution_count": null,
   "metadata": {
    "ExecuteTime": {
     "end_time": "2020-06-25T21:44:37.033902Z",
     "start_time": "2020-06-25T21:44:36.048862Z"
    }
   },
   "outputs": [],
   "source": [
    "df_graph9 = pd.DataFrame(tweets_scored_list[8][:10], columns = ['Bigram','Raw_Frequency_Score'])\n",
    "df_graph10 = pd.DataFrame(tweets_scored_list[9][:10], columns = ['Bigram','Raw_Frequency_Score'])\n",
    "df_graph11 = pd.DataFrame(tweets_scored_list[10][:10], columns = ['Bigram','Raw_Frequency_Score'])\n",
    "df_graph12 = pd.DataFrame(tweets_scored_list[11][:10], columns = ['Bigram','Raw_Frequency_Score'])\n",
    "fig, axs = plt.subplots(2,2)\n",
    "fig.set_figheight(17)\n",
    "fig.set_figwidth(23)\n",
    "axs[0,0].title.set_text('All Google Tweets Bigrams')\n",
    "axs[0,1].title.set_text('All Positive Google Tweets Bigrams')\n",
    "axs[1,0].title.set_text('All Negative Google Tweets Bigrams')\n",
    "axs[1,1].title.set_text('All No Emotion Google Tweets Bigrams')\n",
    "sns.barplot(data=df_graph9, y='Bigram',x='Raw_Frequency_Score', orient='h', ax = axs[0,0])\n",
    "sns.barplot(data=df_graph10, y='Bigram',x='Raw_Frequency_Score', orient='h', ax = axs[0,1])\n",
    "sns.barplot(data=df_graph11, y='Bigram',x='Raw_Frequency_Score', orient='h', ax = axs[1,0])\n",
    "sns.barplot(data=df_graph12, y='Bigram',x='Raw_Frequency_Score', orient='h', ax = axs[1,1])\n",
    "plt.show()"
   ]
  },
  {
   "cell_type": "markdown",
   "metadata": {},
   "source": [
    "### Preprocessing Tweets\n",
    "Clean, lemmatize, and format data for vectorization and modeling"
   ]
  },
  {
   "cell_type": "code",
   "execution_count": null,
   "metadata": {},
   "outputs": [],
   "source": [
    "df['tweet_text'] = df['tweet_text'].map(clean_lemmatize_token)"
   ]
  },
  {
   "cell_type": "markdown",
   "metadata": {},
   "source": [
    "### binary classification model\n",
    "Split the DataFrame to take only binary options "
   ]
  },
  {
   "cell_type": "code",
   "execution_count": null,
   "metadata": {},
   "outputs": [],
   "source": [
    "binary = df[(df['sentiment'] == 'Negative emotion')|\n",
    "            (df['sentiment'] == 'Positive emotion')]"
   ]
  },
  {
   "cell_type": "markdown",
   "metadata": {},
   "source": [
    "vectorize the data"
   ]
  },
  {
   "cell_type": "code",
   "execution_count": null,
   "metadata": {},
   "outputs": [],
   "source": [
    "vectorizer = CountVectorizer()\n",
    "X = vectorizer.fit_transform(binary['tweet_text'])\n",
    "Y = binary['sentiment']\n",
    "X_train, X_test, y_train, y_test = train_test_split(\n",
    "    X, Y, test_size=0.2)"
   ]
  },
  {
   "cell_type": "markdown",
   "metadata": {},
   "source": [
    "### Logistic Regression"
   ]
  },
  {
   "cell_type": "code",
   "execution_count": null,
   "metadata": {
    "scrolled": false
   },
   "outputs": [],
   "source": [
    "logreg = LogisticRegression(solver= 'lbfgs', \n",
    "                            multi_class = 'auto', \n",
    "                            max_iter = 400, \n",
    "                            class_weight = 'balanced')\n",
    "report(logreg)"
   ]
  },
  {
   "cell_type": "code",
   "execution_count": null,
   "metadata": {},
   "outputs": [],
   "source": [
    "rand_tree = RandomForestClassifier()\n",
    "report(rand_tree)"
   ]
  },
  {
   "cell_type": "markdown",
   "metadata": {},
   "source": [
    "# Binary Support Vector Machine Modeling"
   ]
  },
  {
   "cell_type": "markdown",
   "metadata": {},
   "source": [
    "Created binary modeling data set and assigned Sentiment Values either 0 (Negative) or 1 (Positive)"
   ]
  },
  {
   "cell_type": "code",
   "execution_count": null,
   "metadata": {
    "ExecuteTime": {
     "end_time": "2020-06-25T23:11:51.997337Z",
     "start_time": "2020-06-25T23:11:51.987157Z"
    }
   },
   "outputs": [],
   "source": [
    "df_modeling = df_eda.loc[(df_eda['sentiment'] == 'Positive emotion') | \n",
    "                         (df_eda['sentiment'] == 'Negative emotion')]\n",
    "df_modeling['sentiment'] = df_modeling['sentiment'].replace({'Positive emotion':1,'Negative emotion':0})"
   ]
  },
  {
   "cell_type": "code",
   "execution_count": null,
   "metadata": {
    "ExecuteTime": {
     "end_time": "2020-06-25T23:15:31.434125Z",
     "start_time": "2020-06-25T23:15:31.420027Z"
    }
   },
   "outputs": [],
   "source": [
    "df_modeling['tweet_text'] = df_modeling['tweet_text'].map(lambda x: ' '.join(x))\n",
    "df_modeling.head()"
   ]
  },
  {
   "cell_type": "markdown",
   "metadata": {},
   "source": [
    "Vectorized tweet_text data and split data set into train and test sets"
   ]
  },
  {
   "cell_type": "code",
   "execution_count": null,
   "metadata": {
    "ExecuteTime": {
     "end_time": "2020-06-25T23:17:37.324290Z",
     "start_time": "2020-06-25T23:17:37.321172Z"
    }
   },
   "outputs": [],
   "source": [
    "tf_idfvectorizer = TfidfVectorizer(max_features = 400)"
   ]
  },
  {
   "cell_type": "code",
   "execution_count": null,
   "metadata": {
    "ExecuteTime": {
     "end_time": "2020-06-25T23:17:58.930380Z",
     "start_time": "2020-06-25T23:17:58.927466Z"
    }
   },
   "outputs": [],
   "source": [
    "X = df_modeling['tweet_text']\n",
    "y = df_modeling['sentiment']"
   ]
  },
  {
   "cell_type": "code",
   "execution_count": null,
   "metadata": {
    "ExecuteTime": {
     "end_time": "2020-06-25T23:18:09.718327Z",
     "start_time": "2020-06-25T23:18:09.712334Z"
    }
   },
   "outputs": [],
   "source": [
    "X_train, X_test, y_train, y_test = train_test_split(X,y,test_size = 0.25, random_state=42)"
   ]
  },
  {
   "cell_type": "code",
   "execution_count": null,
   "metadata": {
    "ExecuteTime": {
     "end_time": "2020-06-25T23:18:26.679376Z",
     "start_time": "2020-06-25T23:18:26.574374Z"
    }
   },
   "outputs": [],
   "source": [
    "tf_idfvectorizer.fit(X)\n",
    "X_train_tfidf = tf_idfvectorizer.transform(X_train)\n",
    "X_test_tfidf = tf_idfvectorizer.transform(X_test)"
   ]
  },
  {
   "cell_type": "markdown",
   "metadata": {},
   "source": [
    "Fit Vectorizer to tweet data and transformed using TfIDF Vectorizer. Ran first Support Vector Machine Model using Linear kernel and balanced data set"
   ]
  },
  {
   "cell_type": "code",
   "execution_count": null,
   "metadata": {
    "ExecuteTime": {
     "end_time": "2020-06-25T23:24:36.369519Z",
     "start_time": "2020-06-25T23:24:35.773969Z"
    }
   },
   "outputs": [],
   "source": [
    "svm_clf = SVC(kernel='linear', class_weight='balanced')\n",
    "svm_clf.fit(X_train_tfidf,y_train)\n",
    "y_test_preds = svm_clf.predict(X_test_tfidf)\n",
    "y_train_preds = svm_clf.predict(X_train_tfidf)\n",
    "print(classification_report(y_test, y_test_preds))\n",
    "print(confusion_matrix(y_test, y_test_preds))\n",
    "print(\"Test SVM Accuracy Score -> \",accuracy_score(y_test, y_test_preds)*100)\n",
    "print(\"Training SVM Accuracy Score -> \",accuracy_score(y_train, y_train_preds)*100)"
   ]
  },
  {
   "cell_type": "markdown",
   "metadata": {},
   "source": [
    "Model overfit. Performed GridSearch to find optimal parameters for model"
   ]
  },
  {
   "cell_type": "code",
   "execution_count": null,
   "metadata": {
    "ExecuteTime": {
     "end_time": "2020-06-25T23:27:13.036668Z",
     "start_time": "2020-06-25T23:27:13.032369Z"
    }
   },
   "outputs": [],
   "source": [
    "params_svc = {'C': [0.1, 1, 10, 100], 'gamma':[1,0.1,0.01,0.001]}\n",
    "estimator_svc = SVC(kernel='linear',\n",
    "                    class_weight='balanced')\n",
    "grid_search_svc = GridSearchCV(estimator=estimator_svc, \n",
    "                              param_grid=params_svc,\n",
    "                              scoring = 'accuracy',\n",
    "                              n_jobs = -1,\n",
    "                              cv = 10,\n",
    "                              verbose = True)"
   ]
  },
  {
   "cell_type": "code",
   "execution_count": null,
   "metadata": {
    "ExecuteTime": {
     "end_time": "2020-06-25T23:28:25.276030Z",
     "start_time": "2020-06-25T23:27:48.470525Z"
    }
   },
   "outputs": [],
   "source": [
    "grid_search_svc.fit(X_train_tfidf, y_train)"
   ]
  },
  {
   "cell_type": "code",
   "execution_count": null,
   "metadata": {
    "ExecuteTime": {
     "end_time": "2020-06-25T23:28:25.861394Z",
     "start_time": "2020-06-25T23:28:25.856942Z"
    }
   },
   "outputs": [],
   "source": [
    "grid_search_svc.best_params_"
   ]
  },
  {
   "cell_type": "code",
   "execution_count": null,
   "metadata": {
    "ExecuteTime": {
     "end_time": "2020-06-25T23:30:21.286532Z",
     "start_time": "2020-06-25T23:30:20.570897Z"
    }
   },
   "outputs": [],
   "source": [
    "svm_clf = SVC(kernel='linear', class_weight='balanced', C = 10, gamma= 1)\n",
    "svm_clf.fit(X_train_tfidf,y_train)\n",
    "y_test_preds = svm_clf.predict(X_test_tfidf)\n",
    "y_train_preds = svm_clf.predict(X_train_tfidf)\n",
    "print(classification_report(y_test, y_test_preds))\n",
    "print(confusion_matrix(y_test, y_test_preds))\n",
    "print(\"Test SVM Accuracy Score -> \",accuracy_score(y_test, y_test_preds)*100)\n",
    "print(\"Training SVM Accuracy Score -> \",accuracy_score(y_train, y_train_preds)*100)"
   ]
  },
  {
   "cell_type": "markdown",
   "metadata": {},
   "source": [
    "Model continues to overfit. Moving to XGBoosted Model to see if that works better"
   ]
  },
  {
   "cell_type": "markdown",
   "metadata": {},
   "source": [
    "# Binary XGBoost Model"
   ]
  },
  {
   "cell_type": "markdown",
   "metadata": {},
   "source": [
    "Fit vanialla XGBoosted RFC on TfIdf Vectorized Data"
   ]
  },
  {
   "cell_type": "code",
   "execution_count": null,
   "metadata": {
    "ExecuteTime": {
     "end_time": "2020-06-25T23:32:35.817105Z",
     "start_time": "2020-06-25T23:32:35.318813Z"
    }
   },
   "outputs": [],
   "source": [
    "xgbc_clf = XGBClassifier()\n",
    "xgbc_clf.fit(X_train_tfidf, y_train)\n",
    "y_test_preds = xgbc_clf.predict(X_test_tfidf)\n",
    "y_train_preds = xgbc_clf.predict(X_train_tfidf)\n",
    "print(classification_report(y_test, y_test_preds))\n",
    "print(confusion_matrix(y_test, y_test_preds))\n",
    "print(\"Test XGBoosted Accuracy Score -> \",accuracy_score(y_test, y_test_preds)*100)\n",
    "print(\"Training XGBoosted Accuracy Score -> \",accuracy_score(y_train, y_train_preds)*100)"
   ]
  },
  {
   "cell_type": "markdown",
   "metadata": {},
   "source": [
    "Model performed much better than Support Vector Machine. Pos_scale_weight is a parameter that can weight the data set towards the minority class. Used a for loop to test 100 different models with a pos_scale_weight from 0.01 to 1.0 to see which combo has smallest difference in train/test accuracy scores and highest test accuracy score. "
   ]
  },
  {
   "cell_type": "code",
   "execution_count": null,
   "metadata": {
    "ExecuteTime": {
     "end_time": "2020-06-25T23:49:46.792256Z",
     "start_time": "2020-06-25T23:48:59.357543Z"
    }
   },
   "outputs": [],
   "source": [
    "train_test_difference = []\n",
    "train_score = []\n",
    "test_score = []\n",
    "for i in np.arange(0.01, 1.01, 0.01):\n",
    "    xgbc_clf = XGBClassifier(scale_pos_weight=i)\n",
    "    xgbc_clf.fit(X_train_tfidf, y_train)\n",
    "    y_test_preds = xgbc_clf.predict(X_test_tfidf)\n",
    "    y_train_preds = xgbc_clf.predict(X_train_tfidf)\n",
    "    train_test_difference.append((accuracy_score(y_train, y_train_preds) * 100) - \n",
    "                                 (accuracy_score(y_test, y_test_preds)*100))\n",
    "    train_score.append(accuracy_score(y_train, y_train_preds) * 100)\n",
    "    test_score.append(accuracy_score(y_test, y_test_preds)*100)"
   ]
  },
  {
   "cell_type": "code",
   "execution_count": null,
   "metadata": {
    "ExecuteTime": {
     "end_time": "2020-06-26T00:00:56.143961Z",
     "start_time": "2020-06-26T00:00:56.118315Z"
    }
   },
   "outputs": [],
   "source": [
    "df_results=pd.DataFrame([np.arange(0.01, 1.01, 0.01), train_test_difference, train_score, test_score]).T\n",
    "df_results=df_results.rename(columns = {0:'pos_scale_weight',1:'train_test_difference', 2:'train_score', 3:'test_score'})\n",
    "df_results.sort_values(['train_test_difference','test_score'])"
   ]
  },
  {
   "cell_type": "markdown",
   "metadata": {},
   "source": [
    "Re ran model with optimal pos_scale_weight value"
   ]
  },
  {
   "cell_type": "code",
   "execution_count": null,
   "metadata": {
    "ExecuteTime": {
     "end_time": "2020-06-26T00:01:22.886240Z",
     "start_time": "2020-06-26T00:01:22.388340Z"
    }
   },
   "outputs": [],
   "source": [
    "xgbc_clf = XGBClassifier(scale_pos_weight=.96)\n",
    "xgbc_clf.fit(X_train_tfidf, y_train)\n",
    "y_test_preds = xgbc_clf.predict(X_test_tfidf)\n",
    "y_train_preds = xgbc_clf.predict(X_train_tfidf)\n",
    "print(classification_report(y_test, y_test_preds))\n",
    "print(confusion_matrix(y_test, y_test_preds))\n",
    "print(\"Test SVM Accuracy Score -> \",accuracy_score(y_test, y_test_preds)*100)\n",
    "print(\"Training SVM Accuracy Score -> \",accuracy_score(y_train, y_train_preds)*100)"
   ]
  },
  {
   "cell_type": "markdown",
   "metadata": {},
   "source": [
    "Slightly increased overfit. Running GridSearch to see if I can optimize model further"
   ]
  },
  {
   "cell_type": "code",
   "execution_count": null,
   "metadata": {
    "ExecuteTime": {
     "end_time": "2020-06-26T00:10:27.912947Z",
     "start_time": "2020-06-26T00:10:27.908329Z"
    }
   },
   "outputs": [],
   "source": [
    "params_xgboost = {'max_depth': range(2,10,1),\n",
    "         'n_estimators': range(60,220,40),\n",
    "         'learning_rate': [0.1, 0.01, 0.05]}\n",
    "estimator_xgboost = XGBClassifier(\n",
    "    objective= 'binary:logistic',\n",
    "    n_jobs=-1,\n",
    "    seed=42, \n",
    "    pos_scale_weight = .96\n",
    ")\n",
    "grid_search_xgboost = GridSearchCV(\n",
    "    estimator=estimator_xgboost,\n",
    "    param_grid=params_xgboost,\n",
    "    scoring = 'roc_auc',\n",
    "    n_jobs = -1,\n",
    "    cv = 10,\n",
    "    verbose=True)"
   ]
  },
  {
   "cell_type": "code",
   "execution_count": null,
   "metadata": {
    "ExecuteTime": {
     "end_time": "2020-06-26T00:14:09.969944Z",
     "start_time": "2020-06-26T00:10:28.571852Z"
    }
   },
   "outputs": [],
   "source": [
    "grid_search_xgboost.fit(X_train_tfidf, y_train)"
   ]
  },
  {
   "cell_type": "code",
   "execution_count": null,
   "metadata": {
    "ExecuteTime": {
     "end_time": "2020-06-26T00:14:13.298092Z",
     "start_time": "2020-06-26T00:14:13.293652Z"
    }
   },
   "outputs": [],
   "source": [
    "grid_search_xgboost.best_params_"
   ]
  },
  {
   "cell_type": "markdown",
   "metadata": {},
   "source": [
    "Ran new model with optimal parameters. Reduced max_depth manually to avoid overfitting"
   ]
  },
  {
   "cell_type": "code",
   "execution_count": null,
   "metadata": {
    "ExecuteTime": {
     "end_time": "2020-06-26T00:14:52.670690Z",
     "start_time": "2020-06-26T00:14:51.780647Z"
    }
   },
   "outputs": [],
   "source": [
    "xgbc_clf = XGBClassifier(scale_pos_weight=.96, learning_rate = 0.1, max_depth = 3, n_estimators = 180)\n",
    "xgbc_clf.fit(X_train_tfidf, y_train)\n",
    "y_test_preds = xgbc_clf.predict(X_test_tfidf)\n",
    "y_train_preds = xgbc_clf.predict(X_train_tfidf)\n",
    "print(classification_report(y_test, y_test_preds))\n",
    "print(confusion_matrix(y_test, y_test_preds))\n",
    "print(\"Test SVM Accuracy Score -> \",accuracy_score(y_test, y_test_preds)*100)\n",
    "print(\"Training SVM Accuracy Score -> \",accuracy_score(y_train, y_train_preds)*100)"
   ]
  },
  {
   "cell_type": "code",
   "execution_count": null,
   "metadata": {},
   "outputs": [],
   "source": []
  }
 ],
 "metadata": {
  "kernelspec": {
   "display_name": "learn-env",
   "language": "python",
   "name": "learn-env"
  },
  "language_info": {
   "codemirror_mode": {
    "name": "ipython",
    "version": 3
   },
   "file_extension": ".py",
   "mimetype": "text/x-python",
   "name": "python",
   "nbconvert_exporter": "python",
   "pygments_lexer": "ipython3",
   "version": "3.7.4"
  },
  "varInspector": {
   "cols": {
    "lenName": 16,
    "lenType": 16,
    "lenVar": 40
   },
   "kernels_config": {
    "python": {
     "delete_cmd_postfix": "",
     "delete_cmd_prefix": "del ",
     "library": "var_list.py",
     "varRefreshCmd": "print(var_dic_list())"
    },
    "r": {
     "delete_cmd_postfix": ") ",
     "delete_cmd_prefix": "rm(",
     "library": "var_list.r",
     "varRefreshCmd": "cat(var_dic_list()) "
    }
   },
   "types_to_exclude": [
    "module",
    "function",
    "builtin_function_or_method",
    "instance",
    "_Feature"
   ],
   "window_display": false
  }
 },
 "nbformat": 4,
 "nbformat_minor": 2
}
